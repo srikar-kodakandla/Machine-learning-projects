{
 "cells": [
  {
   "cell_type": "code",
   "execution_count": 28,
   "id": "0e8b38a3-29e0-46b3-bb42-b5a0a9994bc3",
   "metadata": {
    "execution": {
     "iopub.execute_input": "2022-09-15T07:43:21.599844Z",
     "iopub.status.busy": "2022-09-15T07:43:21.599349Z",
     "iopub.status.idle": "2022-09-15T07:43:21.977197Z",
     "shell.execute_reply": "2022-09-15T07:43:21.976450Z",
     "shell.execute_reply.started": "2022-09-15T07:43:21.599807Z"
    },
    "tags": []
   },
   "outputs": [],
   "source": [
    "import pandas as pd\n",
    "import matplotlib.pyplot as plt\n",
    "import seaborn as sns"
   ]
  },
  {
   "cell_type": "code",
   "execution_count": 4,
   "id": "d74b2128-7469-44cc-809d-ed2ca2e303f5",
   "metadata": {
    "execution": {
     "iopub.execute_input": "2022-09-14T17:11:57.255954Z",
     "iopub.status.busy": "2022-09-14T17:11:57.255366Z",
     "iopub.status.idle": "2022-09-14T17:11:57.292312Z",
     "shell.execute_reply": "2022-09-14T17:11:57.291620Z",
     "shell.execute_reply.started": "2022-09-14T17:11:57.255925Z"
    },
    "tags": []
   },
   "outputs": [],
   "source": [
    "data=pd.read_csv('Salary_Dataset_with_Extra_Features.csv')"
   ]
  },
  {
   "cell_type": "code",
   "execution_count": 16,
   "id": "8a8d0d49-d53f-4af4-b45f-de5788390b2f",
   "metadata": {
    "execution": {
     "iopub.execute_input": "2022-09-15T07:38:11.559303Z",
     "iopub.status.busy": "2022-09-15T07:38:11.559064Z",
     "iopub.status.idle": "2022-09-15T07:38:11.573702Z",
     "shell.execute_reply": "2022-09-15T07:38:11.572864Z",
     "shell.execute_reply.started": "2022-09-15T07:38:11.559279Z"
    }
   },
   "outputs": [
    {
     "data": {
      "text/html": [
       "<div>\n",
       "<style scoped>\n",
       "    .dataframe tbody tr th:only-of-type {\n",
       "        vertical-align: middle;\n",
       "    }\n",
       "\n",
       "    .dataframe tbody tr th {\n",
       "        vertical-align: top;\n",
       "    }\n",
       "\n",
       "    .dataframe thead th {\n",
       "        text-align: right;\n",
       "    }\n",
       "</style>\n",
       "<table border=\"1\" class=\"dataframe\">\n",
       "  <thead>\n",
       "    <tr style=\"text-align: right;\">\n",
       "      <th></th>\n",
       "      <th>Rating</th>\n",
       "      <th>Company Name</th>\n",
       "      <th>Job Title</th>\n",
       "      <th>Salary</th>\n",
       "      <th>Salaries Reported</th>\n",
       "      <th>Location</th>\n",
       "      <th>Employment Status</th>\n",
       "      <th>Job Roles</th>\n",
       "    </tr>\n",
       "  </thead>\n",
       "  <tbody>\n",
       "    <tr>\n",
       "      <th>0</th>\n",
       "      <td>3.8</td>\n",
       "      <td>Sasken</td>\n",
       "      <td>Android Developer</td>\n",
       "      <td>400000</td>\n",
       "      <td>3</td>\n",
       "      <td>Bangalore</td>\n",
       "      <td>Full Time</td>\n",
       "      <td>Android</td>\n",
       "    </tr>\n",
       "    <tr>\n",
       "      <th>1</th>\n",
       "      <td>4.5</td>\n",
       "      <td>Advanced Millennium Technologies</td>\n",
       "      <td>Android Developer</td>\n",
       "      <td>400000</td>\n",
       "      <td>3</td>\n",
       "      <td>Bangalore</td>\n",
       "      <td>Full Time</td>\n",
       "      <td>Android</td>\n",
       "    </tr>\n",
       "    <tr>\n",
       "      <th>2</th>\n",
       "      <td>4.0</td>\n",
       "      <td>Unacademy</td>\n",
       "      <td>Android Developer</td>\n",
       "      <td>1000000</td>\n",
       "      <td>3</td>\n",
       "      <td>Bangalore</td>\n",
       "      <td>Full Time</td>\n",
       "      <td>Android</td>\n",
       "    </tr>\n",
       "    <tr>\n",
       "      <th>3</th>\n",
       "      <td>3.8</td>\n",
       "      <td>SnapBizz Cloudtech</td>\n",
       "      <td>Android Developer</td>\n",
       "      <td>300000</td>\n",
       "      <td>3</td>\n",
       "      <td>Bangalore</td>\n",
       "      <td>Full Time</td>\n",
       "      <td>Android</td>\n",
       "    </tr>\n",
       "    <tr>\n",
       "      <th>4</th>\n",
       "      <td>4.4</td>\n",
       "      <td>Appoids Tech Solutions</td>\n",
       "      <td>Android Developer</td>\n",
       "      <td>600000</td>\n",
       "      <td>3</td>\n",
       "      <td>Bangalore</td>\n",
       "      <td>Full Time</td>\n",
       "      <td>Android</td>\n",
       "    </tr>\n",
       "    <tr>\n",
       "      <th>...</th>\n",
       "      <td>...</td>\n",
       "      <td>...</td>\n",
       "      <td>...</td>\n",
       "      <td>...</td>\n",
       "      <td>...</td>\n",
       "      <td>...</td>\n",
       "      <td>...</td>\n",
       "      <td>...</td>\n",
       "    </tr>\n",
       "    <tr>\n",
       "      <th>22765</th>\n",
       "      <td>4.7</td>\n",
       "      <td>Expert Solutions</td>\n",
       "      <td>Web Developer</td>\n",
       "      <td>200000</td>\n",
       "      <td>1</td>\n",
       "      <td>Bangalore</td>\n",
       "      <td>Full Time</td>\n",
       "      <td>Web</td>\n",
       "    </tr>\n",
       "    <tr>\n",
       "      <th>22766</th>\n",
       "      <td>4.0</td>\n",
       "      <td>Nextgen Innovation Labs</td>\n",
       "      <td>Web Developer</td>\n",
       "      <td>300000</td>\n",
       "      <td>1</td>\n",
       "      <td>Bangalore</td>\n",
       "      <td>Full Time</td>\n",
       "      <td>Web</td>\n",
       "    </tr>\n",
       "    <tr>\n",
       "      <th>22767</th>\n",
       "      <td>4.1</td>\n",
       "      <td>Fresher</td>\n",
       "      <td>Full Stack Web Developer</td>\n",
       "      <td>192000</td>\n",
       "      <td>13</td>\n",
       "      <td>Bangalore</td>\n",
       "      <td>Full Time</td>\n",
       "      <td>Web</td>\n",
       "    </tr>\n",
       "    <tr>\n",
       "      <th>22768</th>\n",
       "      <td>4.1</td>\n",
       "      <td>Accenture</td>\n",
       "      <td>Full Stack Web Developer</td>\n",
       "      <td>300000</td>\n",
       "      <td>7</td>\n",
       "      <td>Bangalore</td>\n",
       "      <td>Full Time</td>\n",
       "      <td>Web</td>\n",
       "    </tr>\n",
       "    <tr>\n",
       "      <th>22769</th>\n",
       "      <td>3.8</td>\n",
       "      <td>Thomson Reuters</td>\n",
       "      <td>Associate Web Developer</td>\n",
       "      <td>300000</td>\n",
       "      <td>7</td>\n",
       "      <td>Bangalore</td>\n",
       "      <td>Full Time</td>\n",
       "      <td>Web</td>\n",
       "    </tr>\n",
       "  </tbody>\n",
       "</table>\n",
       "<p>22770 rows × 8 columns</p>\n",
       "</div>"
      ],
      "text/plain": [
       "       Rating                      Company Name                 Job Title  \\\n",
       "0         3.8                            Sasken         Android Developer   \n",
       "1         4.5  Advanced Millennium Technologies         Android Developer   \n",
       "2         4.0                         Unacademy         Android Developer   \n",
       "3         3.8                SnapBizz Cloudtech         Android Developer   \n",
       "4         4.4            Appoids Tech Solutions         Android Developer   \n",
       "...       ...                               ...                       ...   \n",
       "22765     4.7                  Expert Solutions             Web Developer   \n",
       "22766     4.0           Nextgen Innovation Labs             Web Developer   \n",
       "22767     4.1                           Fresher  Full Stack Web Developer   \n",
       "22768     4.1                         Accenture  Full Stack Web Developer   \n",
       "22769     3.8                   Thomson Reuters   Associate Web Developer   \n",
       "\n",
       "        Salary  Salaries Reported   Location Employment Status Job Roles  \n",
       "0       400000                  3  Bangalore         Full Time   Android  \n",
       "1       400000                  3  Bangalore         Full Time   Android  \n",
       "2      1000000                  3  Bangalore         Full Time   Android  \n",
       "3       300000                  3  Bangalore         Full Time   Android  \n",
       "4       600000                  3  Bangalore         Full Time   Android  \n",
       "...        ...                ...        ...               ...       ...  \n",
       "22765   200000                  1  Bangalore         Full Time       Web  \n",
       "22766   300000                  1  Bangalore         Full Time       Web  \n",
       "22767   192000                 13  Bangalore         Full Time       Web  \n",
       "22768   300000                  7  Bangalore         Full Time       Web  \n",
       "22769   300000                  7  Bangalore         Full Time       Web  \n",
       "\n",
       "[22770 rows x 8 columns]"
      ]
     },
     "execution_count": 16,
     "metadata": {},
     "output_type": "execute_result"
    }
   ],
   "source": [
    "data"
   ]
  },
  {
   "cell_type": "code",
   "execution_count": 46,
   "id": "60959511-4d9f-462a-bda6-a7e5522c873c",
   "metadata": {
    "execution": {
     "iopub.execute_input": "2022-09-15T07:56:40.603360Z",
     "iopub.status.busy": "2022-09-15T07:56:40.602678Z",
     "iopub.status.idle": "2022-09-15T07:56:40.631403Z",
     "shell.execute_reply": "2022-09-15T07:56:40.630732Z",
     "shell.execute_reply.started": "2022-09-15T07:56:40.603331Z"
    },
    "tags": []
   },
   "outputs": [
    {
     "data": {
      "text/plain": [
       "Rating               False\n",
       "Company Name         False\n",
       "Job Title            False\n",
       "Salary               False\n",
       "Salaries Reported    False\n",
       "Location             False\n",
       "Employment Status    False\n",
       "Job Roles            False\n",
       "dtype: bool"
      ]
     },
     "execution_count": 46,
     "metadata": {},
     "output_type": "execute_result"
    }
   ],
   "source": [
    "data.isna().any() "
   ]
  },
  {
   "cell_type": "markdown",
   "id": "aa2c4bbd-0a2e-4d82-aa6b-e4f1cfae21ce",
   "metadata": {},
   "source": [
    "There are no missing (NaN) values in the dataset"
   ]
  },
  {
   "cell_type": "code",
   "execution_count": 112,
   "id": "4abcf86f-76d4-4681-a88b-95f764feee7f",
   "metadata": {
    "execution": {
     "iopub.execute_input": "2022-09-15T09:34:43.570210Z",
     "iopub.status.busy": "2022-09-15T09:34:43.569531Z",
     "iopub.status.idle": "2022-09-15T09:34:43.581571Z",
     "shell.execute_reply": "2022-09-15T09:34:43.579708Z",
     "shell.execute_reply.started": "2022-09-15T09:34:43.570181Z"
    },
    "tags": []
   },
   "outputs": [],
   "source": [
    "def distribution(feature):\n",
    "    plt.figure(figsize=(20,6))\n",
    "    plt.subplot(1,4,1)\n",
    "    sns.histplot(data,x=feature,kde=True,element='step',stat='density')\n",
    "    plt.title(\"PDF\")\n",
    "    plt.subplot(1,4,2)\n",
    "    sns.histplot(data,x=feature,kde=True,element='step',cumulative=True,stat='density')\n",
    "    plt.title(\"CDF\")\n",
    "    plt.subplot(1,4,3)\n",
    "    sns.boxplot(x=feature,data=data)\n",
    "    plt.title(\"BOX plot\")\n",
    "    plt.subplot(1,4,4)\n",
    "    sns.violinplot(x=feature,data=data)\n",
    "    plt.title('Violin plot')\n",
    "def count_plot(feature,width=8,height=5,font=10):   \n",
    "    cat_count=[]\n",
    "    plt.figure(figsize=(width,height))    \n",
    "    cat_unique=data[feature].unique()\n",
    "    for i in (cat_unique):\n",
    "        if str(i)=='nan':\n",
    "            cat_count.append(data[feature].isna().sum())\n",
    "        else:\n",
    "            cat_count.append(len(data[data[feature]==i]))\n",
    "    cat_unique=list(map(lambda x: str(x),cat_unique))\n",
    "    a=sns.barplot(y=cat_count,x=cat_unique)\n",
    "    plt.bar_label(a.containers[0])\n",
    "    plt.ylabel(\"Count\")\n",
    "    plt.xlabel(feature)\n",
    "    plt.title(f\"{feature} plot\")"
   ]
  },
  {
   "cell_type": "markdown",
   "id": "71c04048-27f6-45a5-93f1-058d544e1367",
   "metadata": {
    "tags": []
   },
   "source": [
    "## Ratings Feature"
   ]
  },
  {
   "cell_type": "code",
   "execution_count": 23,
   "id": "67653dd9-c8d2-477f-8437-ef7b1e423e51",
   "metadata": {
    "execution": {
     "iopub.execute_input": "2022-09-15T07:39:17.240499Z",
     "iopub.status.busy": "2022-09-15T07:39:17.240033Z",
     "iopub.status.idle": "2022-09-15T07:39:17.246725Z",
     "shell.execute_reply": "2022-09-15T07:39:17.245648Z",
     "shell.execute_reply.started": "2022-09-15T07:39:17.240469Z"
    },
    "tags": []
   },
   "outputs": [
    {
     "name": "stdout",
     "output_type": "stream",
     "text": [
      "Minimum rating is 1.0 and maximum rating is 5.0\n"
     ]
    }
   ],
   "source": [
    "print(f\"Minimum rating is {data['Rating'].min()} and maximum rating is {data['Rating'].max()}\")"
   ]
  },
  {
   "cell_type": "code",
   "execution_count": 26,
   "id": "8352689c-9201-4796-95b3-39c11c971c66",
   "metadata": {
    "execution": {
     "iopub.execute_input": "2022-09-15T07:40:11.556108Z",
     "iopub.status.busy": "2022-09-15T07:40:11.555922Z",
     "iopub.status.idle": "2022-09-15T07:40:11.566729Z",
     "shell.execute_reply": "2022-09-15T07:40:11.566100Z",
     "shell.execute_reply.started": "2022-09-15T07:40:11.556085Z"
    },
    "tags": []
   },
   "outputs": [
    {
     "data": {
      "text/plain": [
       "count    22770.000000\n",
       "mean         3.918213\n",
       "std          0.519675\n",
       "min          1.000000\n",
       "25%          3.700000\n",
       "50%          3.900000\n",
       "75%          4.200000\n",
       "max          5.000000\n",
       "Name: Rating, dtype: float64"
      ]
     },
     "execution_count": 26,
     "metadata": {},
     "output_type": "execute_result"
    }
   ],
   "source": [
    "data['Rating'].describe()"
   ]
  },
  {
   "cell_type": "markdown",
   "id": "dd1fbc34-eba5-4c3c-a714-714be0daf962",
   "metadata": {},
   "source": [
    "Most of the ratings are inbetween 3.7 (25th percentile) to 4.2 (75th percentile)"
   ]
  },
  {
   "cell_type": "code",
   "execution_count": 44,
   "id": "f0898cc5-be32-47ca-9606-6e39de530fab",
   "metadata": {
    "execution": {
     "iopub.execute_input": "2022-09-15T07:50:45.612362Z",
     "iopub.status.busy": "2022-09-15T07:50:45.611943Z",
     "iopub.status.idle": "2022-09-15T07:50:46.341320Z",
     "shell.execute_reply": "2022-09-15T07:50:46.340176Z",
     "shell.execute_reply.started": "2022-09-15T07:50:45.612337Z"
    },
    "tags": []
   },
   "outputs": [
    {
     "data": {
      "image/png": "[encoded data removed]",
      "text/plain": [
       "<Figure size 1440x432 with 4 Axes>"
      ]
     },
     "metadata": {
      "needs_background": "light"
     },
     "output_type": "display_data"
    }
   ],
   "source": [
    "distribution('Rating')"
   ]
  },
  {
   "cell_type": "markdown",
   "id": "7bab7176-ad3a-45db-bf1e-5712cf67d801",
   "metadata": {},
   "source": [
    "* More number of ratings lies near 4 rating.\n",
    "* Most of the reviews are biased towards positive side "
   ]
  },
  {
   "cell_type": "markdown",
   "id": "a2eb453a-c278-48b1-a8f8-be44bd333450",
   "metadata": {},
   "source": [
    "## Company Name feature"
   ]
  },
  {
   "cell_type": "code",
   "execution_count": 61,
   "id": "6c9151fd-2474-4233-a24c-c1b7ac4c5212",
   "metadata": {
    "execution": {
     "iopub.execute_input": "2022-09-15T08:12:44.359867Z",
     "iopub.status.busy": "2022-09-15T08:12:44.359389Z",
     "iopub.status.idle": "2022-09-15T08:12:44.374013Z",
     "shell.execute_reply": "2022-09-15T08:12:44.373381Z",
     "shell.execute_reply.started": "2022-09-15T08:12:44.359837Z"
    }
   },
   "outputs": [
    {
     "data": {
      "text/plain": [
       "count                         22770\n",
       "unique                        11261\n",
       "top       Tata Consultancy Services\n",
       "freq                            271\n",
       "Name: Company Name, dtype: object"
      ]
     },
     "execution_count": 61,
     "metadata": {},
     "output_type": "execute_result"
    }
   ],
   "source": [
    "data['Company Name'].describe()"
   ]
  },
  {
   "cell_type": "code",
   "execution_count": 71,
   "id": "4ea6299f-53d2-418b-9857-6525d2a2620a",
   "metadata": {
    "execution": {
     "iopub.execute_input": "2022-09-15T08:37:29.213087Z",
     "iopub.status.busy": "2022-09-15T08:37:29.212850Z",
     "iopub.status.idle": "2022-09-15T08:37:29.225971Z",
     "shell.execute_reply": "2022-09-15T08:37:29.225292Z",
     "shell.execute_reply.started": "2022-09-15T08:37:29.213063Z"
    },
    "tags": []
   },
   "outputs": [
    {
     "data": {
      "text/plain": [
       "Tata Consultancy Services         271\n",
       "Amazon                            184\n",
       "Infosys                           169\n",
       "Accenture                         150\n",
       "Cognizant Technology Solutions    144\n",
       "                                 ... \n",
       "Talent Anywhere                     1\n",
       "WisdmLabs                           1\n",
       "Softdel                             1\n",
       "Dentsu                              1\n",
       "Nextgen Innovation Labs             1\n",
       "Name: Company Name, Length: 11261, dtype: int64"
      ]
     },
     "execution_count": 71,
     "metadata": {},
     "output_type": "execute_result"
    }
   ],
   "source": [
    "data['Company Name'].value_counts()Job"
   ]
  },
  {
   "cell_type": "code",
   "execution_count": 87,
   "id": "f5e3dafe-e864-492c-86bb-fac59c0f2189",
   "metadata": {
    "execution": {
     "iopub.execute_input": "2022-09-15T09:10:50.064319Z",
     "iopub.status.busy": "2022-09-15T09:10:50.063678Z",
     "iopub.status.idle": "2022-09-15T09:10:50.653772Z",
     "shell.execute_reply": "2022-09-15T09:10:50.652998Z",
     "shell.execute_reply.started": "2022-09-15T09:10:50.064291Z"
    },
    "tags": []
   },
   "outputs": [
    {
     "data": {
      "text/plain": [
       "Text(0.5, 0, 'no of employes in a company')"
      ]
     },
     "execution_count": 87,
     "metadata": {},
     "output_type": "execute_result"
    },
    {
     "data": {
      "image/png": "[encoded data removed]",
      "text/plain": [
       "<Figure size 1440x432 with 4 Axes>"
      ]
     },
     "metadata": {
      "needs_background": "light"
     },
     "output_type": "display_data"
    }
   ],
   "source": [
    "no_of_employees=data['Company Name'].value_counts().to_numpy()\n",
    "feature=no_of_employees\n",
    "plt.figure(figsize=(20,6))\n",
    "plt.subplot(1,4,1)\n",
    "sns.histplot(x=feature,kde=True,element='step',stat='density')\n",
    "plt.title(\"PDF\")\n",
    "plt.xlabel(\"no of employes in a company\")\n",
    "plt.subplot(1,4,2)\n",
    "sns.histplot(x=feature,kde=True,element='step',cumulative=True,stat='density')\n",
    "plt.title(\"CDF\")\n",
    "plt.xlabel(\"no of employes in a company\")\n",
    "\n",
    "plt.subplot(1,4,3)\n",
    "plt.xlabel(\"no of employes in a company\")\n",
    "\n",
    "sns.boxplot(x=feature)\n",
    "plt.title(\"BOX plot\")\n",
    "plt.xlabel(\"no of employes in a company\")\n",
    "\n",
    "plt.subplot(1,4,4)\n",
    "\n",
    "sns.violinplot(x=feature)\n",
    "plt.title('Violin plot')\n",
    "plt.xlabel(\"no of employes in a company\")\n"
   ]
  },
  {
   "cell_type": "markdown",
   "id": "00d704ad-2234-4c9b-9080-8686ee085adf",
   "metadata": {},
   "source": [
    "Zooming in the above plot "
   ]
  },
  {
   "cell_type": "code",
   "execution_count": 88,
   "id": "297e74ce-7a78-45d0-aa98-a823419f8ad6",
   "metadata": {
    "execution": {
     "iopub.execute_input": "2022-09-15T09:11:02.450699Z",
     "iopub.status.busy": "2022-09-15T09:11:02.450003Z",
     "iopub.status.idle": "2022-09-15T09:11:02.894074Z",
     "shell.execute_reply": "2022-09-15T09:11:02.893310Z",
     "shell.execute_reply.started": "2022-09-15T09:11:02.450662Z"
    },
    "tags": []
   },
   "outputs": [
    {
     "data": {
      "text/plain": [
       "Text(0.5, 0, 'no of employes in a company')"
      ]
     },
     "execution_count": 88,
     "metadata": {},
     "output_type": "execute_result"
    },
    {
     "data": {
      "image/png": "[encoded data removed]",
      "text/plain": [
       "<Figure size 1440x432 with 4 Axes>"
      ]
     },
     "metadata": {
      "needs_background": "light"
     },
     "output_type": "display_data"
    }
   ],
   "source": [
    "no_of_employees=data['Company Name'].value_counts().to_numpy()\n",
    "feature=no_of_employees[:30]\n",
    "plt.figure(figsize=(20,6))\n",
    "plt.subplot(1,4,1)\n",
    "sns.histplot(x=feature,kde=True,element='step',stat='density')\n",
    "plt.title(\"PDF\")\n",
    "plt.xlabel(\"no of employes in a company\")\n",
    "plt.subplot(1,4,2)\n",
    "sns.histplot(x=feature,kde=True,element='step',cumulative=True,stat='density')\n",
    "plt.title(\"CDF\")\n",
    "plt.xlabel(\"no of employes in a company\")\n",
    "\n",
    "plt.subplot(1,4,3)\n",
    "plt.xlabel(\"no of employes in a company\")\n",
    "\n",
    "sns.boxplot(x=feature)\n",
    "plt.title(\"BOX plot\")\n",
    "plt.xlabel(\"no of employes in a company\")\n",
    "\n",
    "plt.subplot(1,4,4)\n",
    "\n",
    "sns.violinplot(x=feature)\n",
    "plt.title('Violin plot')\n",
    "plt.xlabel(\"no of employes in a company\")\n"
   ]
  },
  {
   "cell_type": "markdown",
   "id": "0ed0448e-83e7-4130-bae0-3b65c4d3edd9",
   "metadata": {},
   "source": [
    "Most of the employees are only in top few companies "
   ]
  },
  {
   "cell_type": "markdown",
   "id": "f409babc-1334-46ab-bff6-828d473fad8b",
   "metadata": {},
   "source": [
    "## Job title feature "
   ]
  },
  {
   "cell_type": "code",
   "execution_count": 80,
   "id": "0d3c4be2-9412-424e-b08d-2ab20fc00981",
   "metadata": {
    "execution": {
     "iopub.execute_input": "2022-09-15T08:41:30.339818Z",
     "iopub.status.busy": "2022-09-15T08:41:30.339329Z",
     "iopub.status.idle": "2022-09-15T08:41:30.352373Z",
     "shell.execute_reply": "2022-09-15T08:41:30.350440Z",
     "shell.execute_reply.started": "2022-09-15T08:41:30.339790Z"
    },
    "tags": []
   },
   "outputs": [
    {
     "data": {
      "text/plain": [
       "Software Development Engineer          2351\n",
       "Android Developer                      2029\n",
       "Software Development Engineer (SDE)    1614\n",
       "Front End Developer                    1412\n",
       "Test Engineer                          1314\n",
       "                                       ... \n",
       "Java Andriod Developer                    1\n",
       "Java Deceloper                            1\n",
       "Java/J2EE Programmer                      1\n",
       "Java SOA Developer                        1\n",
       "Associate Web Developer                   1\n",
       "Name: Job Title, Length: 1080, dtype: int64"
      ]
     },
     "execution_count": 80,
     "metadata": {},
     "output_type": "execute_result"
    }
   ],
   "source": [
    "data['Job Title'].value_counts()"
   ]
  },
  {
   "cell_type": "code",
   "execution_count": 107,
   "id": "200a12ff-c98d-436a-b8b2-75c9481598e8",
   "metadata": {
    "execution": {
     "iopub.execute_input": "2022-09-15T09:31:32.042474Z",
     "iopub.status.busy": "2022-09-15T09:31:32.042227Z",
     "iopub.status.idle": "2022-09-15T09:31:32.053728Z",
     "shell.execute_reply": "2022-09-15T09:31:32.053058Z",
     "shell.execute_reply.started": "2022-09-15T09:31:32.042450Z"
    }
   },
   "outputs": [
    {
     "data": {
      "text/plain": [
       "count                             22770\n",
       "unique                             1080\n",
       "top       Software Development Engineer\n",
       "freq                               2351\n",
       "Name: Job Title, dtype: object"
      ]
     },
     "execution_count": 107,
     "metadata": {},
     "output_type": "execute_result"
    }
   ],
   "source": [
    "data['Job Title'].describe()"
   ]
  },
  {
   "cell_type": "code",
   "execution_count": 82,
   "id": "ddbc5959-a0a4-453f-a903-eb9e9cb4ccb1",
   "metadata": {
    "execution": {
     "iopub.execute_input": "2022-09-15T08:41:51.748662Z",
     "iopub.status.busy": "2022-09-15T08:41:51.748191Z",
     "iopub.status.idle": "2022-09-15T08:41:52.207288Z",
     "shell.execute_reply": "2022-09-15T08:41:52.206530Z",
     "shell.execute_reply.started": "2022-09-15T08:41:51.748630Z"
    },
    "tags": []
   },
   "outputs": [
    {
     "data": {
      "text/plain": [
       "Text(0.5, 1.0, 'Violin plot')"
      ]
     },
     "execution_count": 82,
     "metadata": {},
     "output_type": "execute_result"
    },
    {
     "data": {
      "image/png": "[encoded data removed]",
      "text/plain": [
       "<Figure size 1440x432 with 4 Axes>"
      ]
     },
     "metadata": {
      "needs_background": "light"
     },
     "output_type": "display_data"
    }
   ],
   "source": [
    "job_titles=data['Job Title'].value_counts()\n",
    "no_of_employees=data['Company Name'].value_counts().to_numpy()\n",
    "feature=job_titles\n",
    "plt.figure(figsize=(20,6))\n",
    "plt.subplot(1,4,1)\n",
    "sns.histplot(x=feature,kde=True,element='step',stat='density')\n",
    "plt.title(\"PDF\")\n",
    "plt.subplot(1,4,2)\n",
    "sns.histplot(x=feature,kde=True,element='step',cumulative=True,stat='density')\n",
    "plt.title(\"CDF\")\n",
    "plt.subplot(1,4,3)\n",
    "sns.boxplot(x=feature)\n",
    "plt.title(\"BOX plot\")\n",
    "plt.subplot(1,4,4)\n",
    "sns.violinplot(x=feature)\n",
    "plt.title('Violin plot')"
   ]
  },
  {
   "cell_type": "markdown",
   "id": "c35338db-abd6-44dd-828f-64a9ea03fcfd",
   "metadata": {},
   "source": [
    "Zooming in the above plot "
   ]
  },
  {
   "cell_type": "code",
   "execution_count": 84,
   "id": "3af3a095-96db-4019-baa9-72a36bf8e721",
   "metadata": {
    "execution": {
     "iopub.execute_input": "2022-09-15T08:42:39.073969Z",
     "iopub.status.busy": "2022-09-15T08:42:39.073743Z",
     "iopub.status.idle": "2022-09-15T08:42:39.512403Z",
     "shell.execute_reply": "2022-09-15T08:42:39.511420Z",
     "shell.execute_reply.started": "2022-09-15T08:42:39.073946Z"
    },
    "tags": []
   },
   "outputs": [
    {
     "data": {
      "text/plain": [
       "Text(0.5, 1.0, 'Violin plot')"
      ]
     },
     "execution_count": 84,
     "metadata": {},
     "output_type": "execute_result"
    },
    {
     "data": {
      "image/png": "[encoded data removed]",
      "text/plain": [
       "<Figure size 1440x432 with 4 Axes>"
      ]
     },
     "metadata": {
      "needs_background": "light"
     },
     "output_type": "display_data"
    }
   ],
   "source": [
    "job_titles=data['Job Title'].value_counts()\n",
    "no_of_employees=data['Company Name'].value_counts().to_numpy()\n",
    "feature=job_titles[:30]\n",
    "plt.figure(figsize=(20,6))\n",
    "plt.subplot(1,4,1)\n",
    "sns.histplot(x=feature,kde=True,element='step',stat='density')\n",
    "plt.title(\"PDF\")\n",
    "plt.subplot(1,4,2)\n",
    "sns.histplot(x=feature,kde=True,element='step',cumulative=True,stat='density')\n",
    "plt.title(\"CDF\")\n",
    "plt.subplot(1,4,3)\n",
    "sns.boxplot(x=feature)\n",
    "plt.title(\"BOX plot\")\n",
    "plt.subplot(1,4,4)\n",
    "sns.violinplot(x=feature)\n",
    "plt.title('Violin plot')"
   ]
  },
  {
   "cell_type": "markdown",
   "id": "84d166e9-bf65-4b83-bf6e-37cf53d92d22",
   "metadata": {},
   "source": [
    "Most of the employee's role is of top few roles only "
   ]
  },
  {
   "cell_type": "markdown",
   "id": "286cf97b-88b7-438a-ac1f-9e948c8fb6c9",
   "metadata": {
    "execution": {
     "iopub.execute_input": "2022-09-15T09:13:04.543852Z",
     "iopub.status.busy": "2022-09-15T09:13:04.543245Z",
     "iopub.status.idle": "2022-09-15T09:13:04.558423Z",
     "shell.execute_reply": "2022-09-15T09:13:04.557649Z",
     "shell.execute_reply.started": "2022-09-15T09:13:04.543817Z"
    }
   },
   "source": [
    "## Salary feature "
   ]
  },
  {
   "cell_type": "code",
   "execution_count": 91,
   "id": "70a09ca5-d8f5-4d18-a5fe-dbdd1302ee76",
   "metadata": {
    "execution": {
     "iopub.execute_input": "2022-09-15T09:13:30.390371Z",
     "iopub.status.busy": "2022-09-15T09:13:30.390048Z",
     "iopub.status.idle": "2022-09-15T09:13:30.401849Z",
     "shell.execute_reply": "2022-09-15T09:13:30.400956Z",
     "shell.execute_reply.started": "2022-09-15T09:13:30.390334Z"
    },
    "tags": []
   },
   "outputs": [
    {
     "data": {
      "text/plain": [
       "count    2.277000e+04\n",
       "mean     6.953872e+05\n",
       "std      8.843990e+05\n",
       "min      2.112000e+03\n",
       "25%      3.000000e+05\n",
       "50%      5.000000e+05\n",
       "75%      9.000000e+05\n",
       "max      9.000000e+07\n",
       "Name: Salary, dtype: float64"
      ]
     },
     "execution_count": 91,
     "metadata": {},
     "output_type": "execute_result"
    }
   ],
   "source": [
    "data['Salary'].describe()"
   ]
  },
  {
   "cell_type": "code",
   "execution_count": 92,
   "id": "ca3734fc-f345-42c4-8027-747b5c234b1d",
   "metadata": {
    "execution": {
     "iopub.execute_input": "2022-09-15T09:14:34.007382Z",
     "iopub.status.busy": "2022-09-15T09:14:34.006671Z",
     "iopub.status.idle": "2022-09-15T09:14:34.743151Z",
     "shell.execute_reply": "2022-09-15T09:14:34.742401Z",
     "shell.execute_reply.started": "2022-09-15T09:14:34.007352Z"
    }
   },
   "outputs": [
    {
     "data": {
      "image/png": "[encoded data removed]",
      "text/plain": [
       "<Figure size 1440x432 with 4 Axes>"
      ]
     },
     "metadata": {
      "needs_background": "light"
     },
     "output_type": "display_data"
    }
   ],
   "source": [
    "distribution('Salary')"
   ]
  },
  {
   "cell_type": "markdown",
   "id": "c72be1fd-bd27-455e-9775-91e33c8b674d",
   "metadata": {},
   "source": [
    "Most of the employee's salary ranging between 3.000000e+05 (25th percentile) and 9.000000e+05 (75th percentile )"
   ]
  },
  {
   "cell_type": "code",
   "execution_count": 106,
   "id": "3f07b838-7f0e-46c0-b55b-fb60f6ad6c43",
   "metadata": {
    "execution": {
     "iopub.execute_input": "2022-09-15T09:30:47.710941Z",
     "iopub.status.busy": "2022-09-15T09:30:47.710265Z",
     "iopub.status.idle": "2022-09-15T09:30:47.720168Z",
     "shell.execute_reply": "2022-09-15T09:30:47.718845Z",
     "shell.execute_reply.started": "2022-09-15T09:30:47.710908Z"
    },
    "tags": []
   },
   "outputs": [
    {
     "data": {
      "text/plain": [
       "1      18206\n",
       "2       2401\n",
       "3        789\n",
       "4        382\n",
       "5        228\n",
       "       ...  \n",
       "39         1\n",
       "162        1\n",
       "361        1\n",
       "135        1\n",
       "100        1\n",
       "Name: Salaries Reported, Length: 82, dtype: int64"
      ]
     },
     "execution_count": 106,
     "metadata": {},
     "output_type": "execute_result"
    }
   ],
   "source": [
    "data['Salaries Reported'].value_counts()"
   ]
  },
  {
   "cell_type": "code",
   "execution_count": 100,
   "id": "e04508e7-8262-472e-b185-b1d2d2dfd7d5",
   "metadata": {
    "execution": {
     "iopub.execute_input": "2022-09-15T09:26:13.350643Z",
     "iopub.status.busy": "2022-09-15T09:26:13.349988Z",
     "iopub.status.idle": "2022-09-15T09:26:13.362113Z",
     "shell.execute_reply": "2022-09-15T09:26:13.361465Z",
     "shell.execute_reply.started": "2022-09-15T09:26:13.350614Z"
    },
    "tags": []
   },
   "outputs": [
    {
     "data": {
      "text/plain": [
       "count    22770.000000\n",
       "mean         1.855775\n",
       "std          6.823668\n",
       "min          1.000000\n",
       "25%          1.000000\n",
       "50%          1.000000\n",
       "75%          1.000000\n",
       "max        361.000000\n",
       "Name: Salaries Reported, dtype: float64"
      ]
     },
     "execution_count": 100,
     "metadata": {},
     "output_type": "execute_result"
    }
   ],
   "source": [
    "data['Salaries Reported'].describe()"
   ]
  },
  {
   "cell_type": "markdown",
   "id": "f0840895-af15-4665-adbb-fc1215a64d5b",
   "metadata": {
    "execution": {
     "iopub.execute_input": "2022-09-15T09:25:41.526238Z",
     "iopub.status.busy": "2022-09-15T09:25:41.526008Z",
     "iopub.status.idle": "2022-09-15T09:25:42.239236Z",
     "shell.execute_reply": "2022-09-15T09:25:42.238517Z",
     "shell.execute_reply.started": "2022-09-15T09:25:41.526215Z"
    },
    "tags": []
   },
   "source": [
    "Top companies are reported salaries most of the times"
   ]
  },
  {
   "cell_type": "markdown",
   "id": "d84f215e-356d-44bc-98c7-805cfd499cfe",
   "metadata": {},
   "source": [
    "## Employment Status feature"
   ]
  },
  {
   "cell_type": "code",
   "execution_count": 105,
   "id": "77309db3-7baf-44a6-a94d-8f559be86a8e",
   "metadata": {
    "execution": {
     "iopub.execute_input": "2022-09-15T09:29:21.862580Z",
     "iopub.status.busy": "2022-09-15T09:29:21.862398Z",
     "iopub.status.idle": "2022-09-15T09:29:21.870724Z",
     "shell.execute_reply": "2022-09-15T09:29:21.870059Z",
     "shell.execute_reply.started": "2022-09-15T09:29:21.862558Z"
    },
    "tags": []
   },
   "outputs": [
    {
     "data": {
      "text/plain": [
       "Full Time     20083\n",
       "Intern         2106\n",
       "Contractor      548\n",
       "Trainee          33\n",
       "Name: Employment Status, dtype: int64"
      ]
     },
     "execution_count": 105,
     "metadata": {},
     "output_type": "execute_result"
    }
   ],
   "source": [
    "data['Employment Status'].value_counts()"
   ]
  },
  {
   "cell_type": "code",
   "execution_count": 113,
   "id": "d5462e71-8f69-4604-abc4-d0e26111ae92",
   "metadata": {
    "execution": {
     "iopub.execute_input": "2022-09-15T09:34:49.153725Z",
     "iopub.status.busy": "2022-09-15T09:34:49.152932Z",
     "iopub.status.idle": "2022-09-15T09:34:49.309791Z",
     "shell.execute_reply": "2022-09-15T09:34:49.309107Z",
     "shell.execute_reply.started": "2022-09-15T09:34:49.153694Z"
    },
    "tags": []
   },
   "outputs": [
    {
     "data": {
      "image/png": "[encoded data removed]",
      "text/plain": [
       "<Figure size 576x360 with 1 Axes>"
      ]
     },
     "metadata": {
      "needs_background": "light"
     },
     "output_type": "display_data"
    }
   ],
   "source": [
    "count_plot('Employment Status')"
   ]
  },
  {
   "cell_type": "markdown",
   "id": "6931872b-cc59-4826-9859-e7e772669dd6",
   "metadata": {
    "execution": {
     "iopub.execute_input": "2022-09-15T09:32:38.455546Z",
     "iopub.status.busy": "2022-09-15T09:32:38.454977Z",
     "iopub.status.idle": "2022-09-15T09:32:38.468437Z",
     "shell.execute_reply": "2022-09-15T09:32:38.466920Z",
     "shell.execute_reply.started": "2022-09-15T09:32:38.455515Z"
    },
    "tags": []
   },
   "source": [
    "Most of the employment status is full time employment"
   ]
  },
  {
   "cell_type": "code",
   "execution_count": 114,
   "id": "7e4a085f-8afb-49d0-8118-cb9bb5b04ae9",
   "metadata": {
    "execution": {
     "iopub.execute_input": "2022-09-15T09:38:23.423689Z",
     "iopub.status.busy": "2022-09-15T09:38:23.422982Z",
     "iopub.status.idle": "2022-09-15T09:38:23.438947Z",
     "shell.execute_reply": "2022-09-15T09:38:23.438249Z",
     "shell.execute_reply.started": "2022-09-15T09:38:23.423658Z"
    }
   },
   "outputs": [
    {
     "data": {
      "text/html": [
       "<div>\n",
       "<style scoped>\n",
       "    .dataframe tbody tr th:only-of-type {\n",
       "        vertical-align: middle;\n",
       "    }\n",
       "\n",
       "    .dataframe tbody tr th {\n",
       "        vertical-align: top;\n",
       "    }\n",
       "\n",
       "    .dataframe thead th {\n",
       "        text-align: right;\n",
       "    }\n",
       "</style>\n",
       "<table border=\"1\" class=\"dataframe\">\n",
       "  <thead>\n",
       "    <tr style=\"text-align: right;\">\n",
       "      <th></th>\n",
       "      <th>Rating</th>\n",
       "      <th>Company Name</th>\n",
       "      <th>Job Title</th>\n",
       "      <th>Salary</th>\n",
       "      <th>Salaries Reported</th>\n",
       "      <th>Location</th>\n",
       "      <th>Employment Status</th>\n",
       "      <th>Job Roles</th>\n",
       "    </tr>\n",
       "  </thead>\n",
       "  <tbody>\n",
       "    <tr>\n",
       "      <th>0</th>\n",
       "      <td>3.8</td>\n",
       "      <td>Sasken</td>\n",
       "      <td>Android Developer</td>\n",
       "      <td>400000</td>\n",
       "      <td>3</td>\n",
       "      <td>Bangalore</td>\n",
       "      <td>Full Time</td>\n",
       "      <td>Android</td>\n",
       "    </tr>\n",
       "    <tr>\n",
       "      <th>1</th>\n",
       "      <td>4.5</td>\n",
       "      <td>Advanced Millennium Technologies</td>\n",
       "      <td>Android Developer</td>\n",
       "      <td>400000</td>\n",
       "      <td>3</td>\n",
       "      <td>Bangalore</td>\n",
       "      <td>Full Time</td>\n",
       "      <td>Android</td>\n",
       "    </tr>\n",
       "    <tr>\n",
       "      <th>2</th>\n",
       "      <td>4.0</td>\n",
       "      <td>Unacademy</td>\n",
       "      <td>Android Developer</td>\n",
       "      <td>1000000</td>\n",
       "      <td>3</td>\n",
       "      <td>Bangalore</td>\n",
       "      <td>Full Time</td>\n",
       "      <td>Android</td>\n",
       "    </tr>\n",
       "    <tr>\n",
       "      <th>3</th>\n",
       "      <td>3.8</td>\n",
       "      <td>SnapBizz Cloudtech</td>\n",
       "      <td>Android Developer</td>\n",
       "      <td>300000</td>\n",
       "      <td>3</td>\n",
       "      <td>Bangalore</td>\n",
       "      <td>Full Time</td>\n",
       "      <td>Android</td>\n",
       "    </tr>\n",
       "    <tr>\n",
       "      <th>4</th>\n",
       "      <td>4.4</td>\n",
       "      <td>Appoids Tech Solutions</td>\n",
       "      <td>Android Developer</td>\n",
       "      <td>600000</td>\n",
       "      <td>3</td>\n",
       "      <td>Bangalore</td>\n",
       "      <td>Full Time</td>\n",
       "      <td>Android</td>\n",
       "    </tr>\n",
       "    <tr>\n",
       "      <th>...</th>\n",
       "      <td>...</td>\n",
       "      <td>...</td>\n",
       "      <td>...</td>\n",
       "      <td>...</td>\n",
       "      <td>...</td>\n",
       "      <td>...</td>\n",
       "      <td>...</td>\n",
       "      <td>...</td>\n",
       "    </tr>\n",
       "    <tr>\n",
       "      <th>22765</th>\n",
       "      <td>4.7</td>\n",
       "      <td>Expert Solutions</td>\n",
       "      <td>Web Developer</td>\n",
       "      <td>200000</td>\n",
       "      <td>1</td>\n",
       "      <td>Bangalore</td>\n",
       "      <td>Full Time</td>\n",
       "      <td>Web</td>\n",
       "    </tr>\n",
       "    <tr>\n",
       "      <th>22766</th>\n",
       "      <td>4.0</td>\n",
       "      <td>Nextgen Innovation Labs</td>\n",
       "      <td>Web Developer</td>\n",
       "      <td>300000</td>\n",
       "      <td>1</td>\n",
       "      <td>Bangalore</td>\n",
       "      <td>Full Time</td>\n",
       "      <td>Web</td>\n",
       "    </tr>\n",
       "    <tr>\n",
       "      <th>22767</th>\n",
       "      <td>4.1</td>\n",
       "      <td>Fresher</td>\n",
       "      <td>Full Stack Web Developer</td>\n",
       "      <td>192000</td>\n",
       "      <td>13</td>\n",
       "      <td>Bangalore</td>\n",
       "      <td>Full Time</td>\n",
       "      <td>Web</td>\n",
       "    </tr>\n",
       "    <tr>\n",
       "      <th>22768</th>\n",
       "      <td>4.1</td>\n",
       "      <td>Accenture</td>\n",
       "      <td>Full Stack Web Developer</td>\n",
       "      <td>300000</td>\n",
       "      <td>7</td>\n",
       "      <td>Bangalore</td>\n",
       "      <td>Full Time</td>\n",
       "      <td>Web</td>\n",
       "    </tr>\n",
       "    <tr>\n",
       "      <th>22769</th>\n",
       "      <td>3.8</td>\n",
       "      <td>Thomson Reuters</td>\n",
       "      <td>Associate Web Developer</td>\n",
       "      <td>300000</td>\n",
       "      <td>7</td>\n",
       "      <td>Bangalore</td>\n",
       "      <td>Full Time</td>\n",
       "      <td>Web</td>\n",
       "    </tr>\n",
       "  </tbody>\n",
       "</table>\n",
       "<p>22770 rows × 8 columns</p>\n",
       "</div>"
      ],
      "text/plain": [
       "       Rating                      Company Name                 Job Title  \\\n",
       "0         3.8                            Sasken         Android Developer   \n",
       "1         4.5  Advanced Millennium Technologies         Android Developer   \n",
       "2         4.0                         Unacademy         Android Developer   \n",
       "3         3.8                SnapBizz Cloudtech         Android Developer   \n",
       "4         4.4            Appoids Tech Solutions         Android Developer   \n",
       "...       ...                               ...                       ...   \n",
       "22765     4.7                  Expert Solutions             Web Developer   \n",
       "22766     4.0           Nextgen Innovation Labs             Web Developer   \n",
       "22767     4.1                           Fresher  Full Stack Web Developer   \n",
       "22768     4.1                         Accenture  Full Stack Web Developer   \n",
       "22769     3.8                   Thomson Reuters   Associate Web Developer   \n",
       "\n",
       "        Salary  Salaries Reported   Location Employment Status Job Roles  \n",
       "0       400000                  3  Bangalore         Full Time   Android  \n",
       "1       400000                  3  Bangalore         Full Time   Android  \n",
       "2      1000000                  3  Bangalore         Full Time   Android  \n",
       "3       300000                  3  Bangalore         Full Time   Android  \n",
       "4       600000                  3  Bangalore         Full Time   Android  \n",
       "...        ...                ...        ...               ...       ...  \n",
       "22765   200000                  1  Bangalore         Full Time       Web  \n",
       "22766   300000                  1  Bangalore         Full Time       Web  \n",
       "22767   192000                 13  Bangalore         Full Time       Web  \n",
       "22768   300000                  7  Bangalore         Full Time       Web  \n",
       "22769   300000                  7  Bangalore         Full Time       Web  \n",
       "\n",
       "[22770 rows x 8 columns]"
      ]
     },
     "execution_count": 114,
     "metadata": {},
     "output_type": "execute_result"
    }
   ],
   "source": [
    "data\n"
   ]
  },
  {
   "cell_type": "markdown",
   "id": "747f5856-df60-44ac-8114-770ec4c90b97",
   "metadata": {},
   "source": [
    "## Location feature"
   ]
  },
  {
   "cell_type": "code",
   "execution_count": 119,
   "id": "af1c5011-adf6-41d7-88ca-5323dae2c840",
   "metadata": {
    "execution": {
     "iopub.execute_input": "2022-09-15T09:39:22.474861Z",
     "iopub.status.busy": "2022-09-15T09:39:22.474344Z",
     "iopub.status.idle": "2022-09-15T09:39:22.484257Z",
     "shell.execute_reply": "2022-09-15T09:39:22.483584Z",
     "shell.execute_reply.started": "2022-09-15T09:39:22.474833Z"
    },
    "tags": []
   },
   "outputs": [
    {
     "data": {
      "text/plain": [
       "Bangalore         8264\n",
       "Hyderabad         4467\n",
       "New Delhi         4176\n",
       "Chennai           2458\n",
       "Pune              2134\n",
       "Mumbai             749\n",
       "Kolkata            178\n",
       "Madhya Pradesh     155\n",
       "Kerala             108\n",
       "Jaipur              81\n",
       "Name: Location, dtype: int64"
      ]
     },
     "execution_count": 119,
     "metadata": {},
     "output_type": "execute_result"
    }
   ],
   "source": [
    "data['Location'].value_counts()"
   ]
  },
  {
   "cell_type": "code",
   "execution_count": 131,
   "id": "2793599f-5b06-4cc5-b3cb-3b643bf57bcc",
   "metadata": {
    "execution": {
     "iopub.execute_input": "2022-09-15T09:43:40.588935Z",
     "iopub.status.busy": "2022-09-15T09:43:40.588691Z",
     "iopub.status.idle": "2022-09-15T09:43:40.826957Z",
     "shell.execute_reply": "2022-09-15T09:43:40.826163Z",
     "shell.execute_reply.started": "2022-09-15T09:43:40.588910Z"
    },
    "tags": []
   },
   "outputs": [
    {
     "data": {
      "image/png": "[encoded data removed]",
      "text/plain": [
       "<Figure size 864x360 with 1 Axes>"
      ]
     },
     "metadata": {
      "needs_background": "light"
     },
     "output_type": "display_data"
    }
   ],
   "source": [
    "count_plot('Location',width=12)"
   ]
  },
  {
   "cell_type": "markdown",
   "id": "1cd3c411-faff-4251-a57c-ae7d872d3705",
   "metadata": {
    "execution": {
     "iopub.execute_input": "2022-09-15T09:33:59.309406Z",
     "iopub.status.busy": "2022-09-15T09:33:59.308849Z",
     "iopub.status.idle": "2022-09-15T09:33:59.316489Z",
     "shell.execute_reply": "2022-09-15T09:33:59.314930Z",
     "shell.execute_reply.started": "2022-09-15T09:33:59.309376Z"
    },
    "tags": []
   },
   "source": [
    "Most of the employees are in bangalore followed by hyderabad and new delhi"
   ]
  },
  {
   "cell_type": "code",
   "execution_count": 123,
   "id": "3f41b406-6a5c-4f17-8e6f-13febe75f65a",
   "metadata": {
    "execution": {
     "iopub.execute_input": "2022-09-15T09:40:24.002381Z",
     "iopub.status.busy": "2022-09-15T09:40:24.002182Z",
     "iopub.status.idle": "2022-09-15T09:40:24.011169Z",
     "shell.execute_reply": "2022-09-15T09:40:24.010427Z",
     "shell.execute_reply.started": "2022-09-15T09:40:24.002358Z"
    },
    "tags": []
   },
   "outputs": [
    {
     "data": {
      "text/plain": [
       "Software Development Engineer          2351\n",
       "Android Developer                      2029\n",
       "Software Development Engineer (SDE)    1614\n",
       "Front End Developer                    1412\n",
       "Test Engineer                          1314\n",
       "                                       ... \n",
       "Java Andriod Developer                    1\n",
       "Java Deceloper                            1\n",
       "Java/J2EE Programmer                      1\n",
       "Java SOA Developer                        1\n",
       "Associate Web Developer                   1\n",
       "Name: Job Title, Length: 1080, dtype: int64"
      ]
     },
     "execution_count": 123,
     "metadata": {},
     "output_type": "execute_result"
    }
   ],
   "source": [
    "data['Job Title'].value_counts()"
   ]
  },
  {
   "cell_type": "code",
   "execution_count": 125,
   "id": "e5867e47-e3fc-40cb-b670-896bee708b40",
   "metadata": {
    "execution": {
     "iopub.execute_input": "2022-09-15T09:42:01.602581Z",
     "iopub.status.busy": "2022-09-15T09:42:01.602390Z",
     "iopub.status.idle": "2022-09-15T09:42:01.614955Z",
     "shell.execute_reply": "2022-09-15T09:42:01.614337Z",
     "shell.execute_reply.started": "2022-09-15T09:42:01.602557Z"
    },
    "tags": []
   },
   "outputs": [
    {
     "data": {
      "text/plain": [
       "count                             22770\n",
       "unique                             1080\n",
       "top       Software Development Engineer\n",
       "freq                               2351\n",
       "Name: Job Title, dtype: object"
      ]
     },
     "execution_count": 125,
     "metadata": {},
     "output_type": "execute_result"
    }
   ],
   "source": [
    "data['Job Title'].describe()"
   ]
  },
  {
   "cell_type": "markdown",
   "id": "00de6187-be7b-45c1-8231-47b3932d388b",
   "metadata": {},
   "source": [
    "Most of the employee job title are of few top job titles only"
   ]
  },
  {
   "cell_type": "markdown",
   "id": "c31c811c-fa87-46ac-a3ff-71a9c7757d32",
   "metadata": {},
   "source": [
    "## Job Roles feature"
   ]
  },
  {
   "cell_type": "code",
   "execution_count": 128,
   "id": "1b66287a-1926-44ed-85b1-d5adbd84a699",
   "metadata": {
    "execution": {
     "iopub.execute_input": "2022-09-15T09:42:58.161550Z",
     "iopub.status.busy": "2022-09-15T09:42:58.159412Z",
     "iopub.status.idle": "2022-09-15T09:42:58.171160Z",
     "shell.execute_reply": "2022-09-15T09:42:58.170473Z",
     "shell.execute_reply.started": "2022-09-15T09:42:58.161522Z"
    },
    "tags": []
   },
   "outputs": [
    {
     "data": {
      "text/plain": [
       "SDE         8183\n",
       "Android     2945\n",
       "Frontend    2163\n",
       "Java        1858\n",
       "Testing     1740\n",
       "IOS         1631\n",
       "Backend     1194\n",
       "Web          999\n",
       "Python       947\n",
       "Database     865\n",
       "Mobile       245\n",
       "Name: Job Roles, dtype: int64"
      ]
     },
     "execution_count": 128,
     "metadata": {},
     "output_type": "execute_result"
    }
   ],
   "source": [
    "data['Job Roles'].value_counts()"
   ]
  },
  {
   "cell_type": "code",
   "execution_count": 130,
   "id": "813f140f-a403-46ad-8d76-79dd8b9b1314",
   "metadata": {
    "execution": {
     "iopub.execute_input": "2022-09-15T09:43:35.502298Z",
     "iopub.status.busy": "2022-09-15T09:43:35.501725Z",
     "iopub.status.idle": "2022-09-15T09:43:35.752815Z",
     "shell.execute_reply": "2022-09-15T09:43:35.752010Z",
     "shell.execute_reply.started": "2022-09-15T09:43:35.502267Z"
    },
    "tags": []
   },
   "outputs": [
    {
     "data": {
      "image/png": "[encoded data removed]",
      "text/plain": [
       "<Figure size 864x360 with 1 Axes>"
      ]
     },
     "metadata": {
      "needs_background": "light"
     },
     "output_type": "display_data"
    }
   ],
   "source": [
    "count_plot('Job Roles',width=12)"
   ]
  },
  {
   "cell_type": "markdown",
   "id": "bb7e85e9-b502-41a9-a487-8b620abc7ed8",
   "metadata": {},
   "source": [
    "Most of the employees are of SDE job role"
   ]
  },
  {
   "cell_type": "code",
   "execution_count": null,
   "id": "6616081b-481f-4eaa-80df-c606b2fde3a5",
   "metadata": {},
   "outputs": [],
   "source": []
  },
  {
   "cell_type": "code",
   "execution_count": null,
   "id": "e9a63758-c823-456a-bd67-89029c5860d6",
   "metadata": {},
   "outputs": [],
   "source": []
  },
  {
   "cell_type": "code",
   "execution_count": null,
   "id": "6b64531e-7e09-482a-8d76-9d47bd1859d0",
   "metadata": {},
   "outputs": [],
   "source": []
  },
  {
   "cell_type": "code",
   "execution_count": null,
   "id": "a5c4e614-fb06-414d-8409-453d0a16da23",
   "metadata": {},
   "outputs": [],
   "source": []
  }
 ],
 "metadata": {
  "kernelspec": {
   "display_name": "Python 3 (ipykernel)",
   "language": "python",
   "name": "python3"
  },
  "language_info": {
   "codemirror_mode": {
    "name": "ipython",
    "version": 3
   },
   "file_extension": ".py",
   "mimetype": "text/x-python",
   "name": "python",
   "nbconvert_exporter": "python",
   "pygments_lexer": "ipython3",
   "version": "3.10.6"
  }
 },
 "nbformat": 4,
 "nbformat_minor": 5
}
