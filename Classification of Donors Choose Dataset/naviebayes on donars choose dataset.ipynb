{
 "cells": [
  {
   "cell_type": "code",
   "execution_count": 1,
   "metadata": {
    "colab": {
     "base_uri": "https://localhost:8080/"
    },
    "id": "YXsgPeCppo7_",
    "outputId": "e168dab2-f9b3-4979-b810-104b95b67ec9"
   },
   "outputs": [
    {
     "name": "stdout",
     "output_type": "stream",
     "text": [
      "Drive already mounted at /content/drive; to attempt to forcibly remount, call drive.mount(\"/content/drive\", force_remount=True).\n"
     ]
    }
   ],
   "source": [
    "from google.colab import drive\n",
    "drive.mount('/content/drive')"
   ]
  },
  {
   "cell_type": "markdown",
   "metadata": {
    "id": "FYqCIxzFb3c5"
   },
   "source": [
    "## 1.1 Loading Data"
   ]
  },
  {
   "cell_type": "code",
   "execution_count": 2,
   "metadata": {
    "id": "dA1jknyqb3c_"
   },
   "outputs": [],
   "source": [
    "import pandas\n",
    "import pandas as pd\n",
    "data = pandas.read_csv('/content/drive/MyDrive/aaic/preprocessed_data.csv')"
   ]
  },
  {
   "cell_type": "code",
   "execution_count": 3,
   "metadata": {
    "colab": {
     "base_uri": "https://localhost:8080/",
     "height": 1000
    },
    "id": "mIAgFY2ir2v6",
    "outputId": "f8116a18-3bd7-4980-aca5-c0ff95c29d81"
   },
   "outputs": [
    {
     "data": {
      "text/html": [
       "\n",
       "  <div id=\"df-2beca8ef-ceb9-41c7-b193-ee9062396144\">\n",
       "    <div class=\"colab-df-container\">\n",
       "      <div>\n",
       "<style scoped>\n",
       "    .dataframe tbody tr th:only-of-type {\n",
       "        vertical-align: middle;\n",
       "    }\n",
       "\n",
       "    .dataframe tbody tr th {\n",
       "        vertical-align: top;\n",
       "    }\n",
       "\n",
       "    .dataframe thead th {\n",
       "        text-align: right;\n",
       "    }\n",
       "</style>\n",
       "<table border=\"1\" class=\"dataframe\">\n",
       "  <thead>\n",
       "    <tr style=\"text-align: right;\">\n",
       "      <th></th>\n",
       "      <th>school_state</th>\n",
       "      <th>teacher_prefix</th>\n",
       "      <th>project_grade_category</th>\n",
       "      <th>teacher_number_of_previously_posted_projects</th>\n",
       "      <th>project_is_approved</th>\n",
       "      <th>clean_categories</th>\n",
       "      <th>clean_subcategories</th>\n",
       "      <th>essay</th>\n",
       "      <th>price</th>\n",
       "    </tr>\n",
       "  </thead>\n",
       "  <tbody>\n",
       "    <tr>\n",
       "      <th>0</th>\n",
       "      <td>ca</td>\n",
       "      <td>mrs</td>\n",
       "      <td>grades_prek_2</td>\n",
       "      <td>53</td>\n",
       "      <td>1</td>\n",
       "      <td>math_science</td>\n",
       "      <td>appliedsciences health_lifescience</td>\n",
       "      <td>i fortunate enough use fairy tale stem kits cl...</td>\n",
       "      <td>725.05</td>\n",
       "    </tr>\n",
       "    <tr>\n",
       "      <th>1</th>\n",
       "      <td>ut</td>\n",
       "      <td>ms</td>\n",
       "      <td>grades_3_5</td>\n",
       "      <td>4</td>\n",
       "      <td>1</td>\n",
       "      <td>specialneeds</td>\n",
       "      <td>specialneeds</td>\n",
       "      <td>imagine 8 9 years old you third grade classroo...</td>\n",
       "      <td>213.03</td>\n",
       "    </tr>\n",
       "    <tr>\n",
       "      <th>2</th>\n",
       "      <td>ca</td>\n",
       "      <td>mrs</td>\n",
       "      <td>grades_prek_2</td>\n",
       "      <td>10</td>\n",
       "      <td>1</td>\n",
       "      <td>literacy_language</td>\n",
       "      <td>literacy</td>\n",
       "      <td>having class 24 students comes diverse learner...</td>\n",
       "      <td>329.00</td>\n",
       "    </tr>\n",
       "    <tr>\n",
       "      <th>3</th>\n",
       "      <td>ga</td>\n",
       "      <td>mrs</td>\n",
       "      <td>grades_prek_2</td>\n",
       "      <td>2</td>\n",
       "      <td>1</td>\n",
       "      <td>appliedlearning</td>\n",
       "      <td>earlydevelopment</td>\n",
       "      <td>i recently read article giving students choice...</td>\n",
       "      <td>481.04</td>\n",
       "    </tr>\n",
       "    <tr>\n",
       "      <th>4</th>\n",
       "      <td>wa</td>\n",
       "      <td>mrs</td>\n",
       "      <td>grades_3_5</td>\n",
       "      <td>2</td>\n",
       "      <td>1</td>\n",
       "      <td>literacy_language</td>\n",
       "      <td>literacy</td>\n",
       "      <td>my students crave challenge eat obstacles brea...</td>\n",
       "      <td>17.74</td>\n",
       "    </tr>\n",
       "    <tr>\n",
       "      <th>...</th>\n",
       "      <td>...</td>\n",
       "      <td>...</td>\n",
       "      <td>...</td>\n",
       "      <td>...</td>\n",
       "      <td>...</td>\n",
       "      <td>...</td>\n",
       "      <td>...</td>\n",
       "      <td>...</td>\n",
       "      <td>...</td>\n",
       "    </tr>\n",
       "    <tr>\n",
       "      <th>109243</th>\n",
       "      <td>hi</td>\n",
       "      <td>mrs</td>\n",
       "      <td>grades_9_12</td>\n",
       "      <td>5</td>\n",
       "      <td>1</td>\n",
       "      <td>health_sports</td>\n",
       "      <td>teamsports</td>\n",
       "      <td>our day starts 100 students athletes low incom...</td>\n",
       "      <td>143.36</td>\n",
       "    </tr>\n",
       "    <tr>\n",
       "      <th>109244</th>\n",
       "      <td>nm</td>\n",
       "      <td>ms</td>\n",
       "      <td>grades_prek_2</td>\n",
       "      <td>3</td>\n",
       "      <td>1</td>\n",
       "      <td>appliedlearning</td>\n",
       "      <td>earlydevelopment other</td>\n",
       "      <td>my students range age four five years old atte...</td>\n",
       "      <td>268.57</td>\n",
       "    </tr>\n",
       "    <tr>\n",
       "      <th>109245</th>\n",
       "      <td>il</td>\n",
       "      <td>mrs</td>\n",
       "      <td>grades_3_5</td>\n",
       "      <td>0</td>\n",
       "      <td>1</td>\n",
       "      <td>math_science</td>\n",
       "      <td>appliedsciences environmentalscience</td>\n",
       "      <td>we title 1 school 650 total students our eleme...</td>\n",
       "      <td>399.00</td>\n",
       "    </tr>\n",
       "    <tr>\n",
       "      <th>109246</th>\n",
       "      <td>hi</td>\n",
       "      <td>mrs</td>\n",
       "      <td>grades_9_12</td>\n",
       "      <td>1</td>\n",
       "      <td>1</td>\n",
       "      <td>math_science</td>\n",
       "      <td>health_lifescience</td>\n",
       "      <td>i teach many different types students my class...</td>\n",
       "      <td>287.73</td>\n",
       "    </tr>\n",
       "    <tr>\n",
       "      <th>109247</th>\n",
       "      <td>ca</td>\n",
       "      <td>mrs</td>\n",
       "      <td>grades_prek_2</td>\n",
       "      <td>2</td>\n",
       "      <td>1</td>\n",
       "      <td>literacy_language</td>\n",
       "      <td>literacy literature_writing</td>\n",
       "      <td>my first graders eager learn world around they...</td>\n",
       "      <td>5.50</td>\n",
       "    </tr>\n",
       "  </tbody>\n",
       "</table>\n",
       "<p>109248 rows × 9 columns</p>\n",
       "</div>\n",
       "      <button class=\"colab-df-convert\" onclick=\"convertToInteractive('df-2beca8ef-ceb9-41c7-b193-ee9062396144')\"\n",
       "              title=\"Convert this dataframe to an interactive table.\"\n",
       "              style=\"display:none;\">\n",
       "        \n",
       "  <svg xmlns=\"http://www.w3.org/2000/svg\" height=\"24px\"viewBox=\"0 0 24 24\"\n",
       "       width=\"24px\">\n",
       "    <path d=\"M0 0h24v24H0V0z\" fill=\"none\"/>\n",
       "    <path d=\"M18.56 5.44l.94 2.06.94-2.06 2.06-.94-2.06-.94-.94-2.06-.94 2.06-2.06.94zm-11 1L8.5 8.5l.94-2.06 2.06-.94-2.06-.94L8.5 2.5l-.94 2.06-2.06.94zm10 10l.94 2.06.94-2.06 2.06-.94-2.06-.94-.94-2.06-.94 2.06-2.06.94z\"/><path d=\"M17.41 7.96l-1.37-1.37c-.4-.4-.92-.59-1.43-.59-.52 0-1.04.2-1.43.59L10.3 9.45l-7.72 7.72c-.78.78-.78 2.05 0 2.83L4 21.41c.39.39.9.59 1.41.59.51 0 1.02-.2 1.41-.59l7.78-7.78 2.81-2.81c.8-.78.8-2.07 0-2.86zM5.41 20L4 18.59l7.72-7.72 1.47 1.35L5.41 20z\"/>\n",
       "  </svg>\n",
       "      </button>\n",
       "      \n",
       "  <style>\n",
       "    .colab-df-container {\n",
       "      display:flex;\n",
       "      flex-wrap:wrap;\n",
       "      gap: 12px;\n",
       "    }\n",
       "\n",
       "    .colab-df-convert {\n",
       "      background-color: #E8F0FE;\n",
       "      border: none;\n",
       "      border-radius: 50%;\n",
       "      cursor: pointer;\n",
       "      display: none;\n",
       "      fill: #1967D2;\n",
       "      height: 32px;\n",
       "      padding: 0 0 0 0;\n",
       "      width: 32px;\n",
       "    }\n",
       "\n",
       "    .colab-df-convert:hover {\n",
       "      background-color: #E2EBFA;\n",
       "      box-shadow: 0px 1px 2px rgba(60, 64, 67, 0.3), 0px 1px 3px 1px rgba(60, 64, 67, 0.15);\n",
       "      fill: #174EA6;\n",
       "    }\n",
       "\n",
       "    [theme=dark] .colab-df-convert {\n",
       "      background-color: #3B4455;\n",
       "      fill: #D2E3FC;\n",
       "    }\n",
       "\n",
       "    [theme=dark] .colab-df-convert:hover {\n",
       "      background-color: #434B5C;\n",
       "      box-shadow: 0px 1px 3px 1px rgba(0, 0, 0, 0.15);\n",
       "      filter: drop-shadow(0px 1px 2px rgba(0, 0, 0, 0.3));\n",
       "      fill: #FFFFFF;\n",
       "    }\n",
       "  </style>\n",
       "\n",
       "      <script>\n",
       "        const buttonEl =\n",
       "          document.querySelector('#df-2beca8ef-ceb9-41c7-b193-ee9062396144 button.colab-df-convert');\n",
       "        buttonEl.style.display =\n",
       "          google.colab.kernel.accessAllowed ? 'block' : 'none';\n",
       "\n",
       "        async function convertToInteractive(key) {\n",
       "          const element = document.querySelector('#df-2beca8ef-ceb9-41c7-b193-ee9062396144');\n",
       "          const dataTable =\n",
       "            await google.colab.kernel.invokeFunction('convertToInteractive',\n",
       "                                                     [key], {});\n",
       "          if (!dataTable) return;\n",
       "\n",
       "          const docLinkHtml = 'Like what you see? Visit the ' +\n",
       "            '<a target=\"_blank\" href=https://colab.research.google.com/notebooks/data_table.ipynb>data table notebook</a>'\n",
       "            + ' to learn more about interactive tables.';\n",
       "          element.innerHTML = '';\n",
       "          dataTable['output_type'] = 'display_data';\n",
       "          await google.colab.output.renderOutput(dataTable, element);\n",
       "          const docLink = document.createElement('div');\n",
       "          docLink.innerHTML = docLinkHtml;\n",
       "          element.appendChild(docLink);\n",
       "        }\n",
       "      </script>\n",
       "    </div>\n",
       "  </div>\n",
       "  "
      ],
      "text/plain": [
       "       school_state  ...   price\n",
       "0                ca  ...  725.05\n",
       "1                ut  ...  213.03\n",
       "2                ca  ...  329.00\n",
       "3                ga  ...  481.04\n",
       "4                wa  ...   17.74\n",
       "...             ...  ...     ...\n",
       "109243           hi  ...  143.36\n",
       "109244           nm  ...  268.57\n",
       "109245           il  ...  399.00\n",
       "109246           hi  ...  287.73\n",
       "109247           ca  ...    5.50\n",
       "\n",
       "[109248 rows x 9 columns]"
      ]
     },
     "execution_count": 3,
     "metadata": {},
     "output_type": "execute_result"
    }
   ],
   "source": [
    "data"
   ]
  },
  {
   "cell_type": "code",
   "execution_count": 4,
   "metadata": {
    "id": "t4n1NakVs6w0"
   },
   "outputs": [],
   "source": [
    "y=data['project_is_approved']"
   ]
  },
  {
   "cell_type": "code",
   "execution_count": 5,
   "metadata": {
    "id": "4qid_LlltIla"
   },
   "outputs": [],
   "source": [
    "del data['project_is_approved']"
   ]
  },
  {
   "cell_type": "code",
   "execution_count": 6,
   "metadata": {
    "id": "0Y_ZGO5UtNO3"
   },
   "outputs": [],
   "source": [
    "x=data"
   ]
  },
  {
   "cell_type": "markdown",
   "metadata": {
    "id": "WtVV13Fyb3dH"
   },
   "source": [
    "<h2>Splitting data into Train and cross validation(or test): Stratified Sampling</h2>"
   ]
  },
  {
   "cell_type": "code",
   "execution_count": 8,
   "metadata": {
    "id": "1z-C-Gs1xPIy"
   },
   "outputs": [],
   "source": [
    "import numpy as np"
   ]
  },
  {
   "cell_type": "code",
   "execution_count": 9,
   "metadata": {
    "id": "i-PyprDNb3dI"
   },
   "outputs": [],
   "source": [
    "from sklearn.model_selection import train_test_split\n",
    "x_train,x_test,y_train,y_test=train_test_split(x,y, test_size=None, train_size=None, random_state=42, shuffle=True, stratify=y)\n"
   ]
  },
  {
   "cell_type": "markdown",
   "metadata": {
    "id": "EnZwVNULb3dO"
   },
   "source": [
    "<h2> Making Data Model Ready: encoding essay, and project_title</h2>"
   ]
  },
  {
   "cell_type": "code",
   "execution_count": 10,
   "metadata": {
    "id": "RgTwDLmdpZ6v"
   },
   "outputs": [],
   "source": [
    "from sklearn.feature_extraction.text import CountVectorizer\n",
    "\n",
    "vectorizer = CountVectorizer()\n",
    "essay_bag_train = vectorizer.fit_transform(x_train['essay'])\n",
    "essay_bag_test=vectorizer.transform(x_test['essay'])"
   ]
  },
  {
   "cell_type": "code",
   "execution_count": 10,
   "metadata": {
    "id": "O7G1-47VfsPZ"
   },
   "outputs": [],
   "source": []
  },
  {
   "cell_type": "code",
   "execution_count": 11,
   "metadata": {
    "colab": {
     "base_uri": "https://localhost:8080/"
    },
    "id": "Fh0x7P_yyCZf",
    "outputId": "8996775b-4568-4b06-89e7-b54ce45b6a4f"
   },
   "outputs": [
    {
     "data": {
      "text/plain": [
       "(81936, 50440)"
      ]
     },
     "execution_count": 11,
     "metadata": {},
     "output_type": "execute_result"
    }
   ],
   "source": [
    "essay_bag_train.shape"
   ]
  },
  {
   "cell_type": "code",
   "execution_count": 12,
   "metadata": {
    "colab": {
     "base_uri": "https://localhost:8080/"
    },
    "id": "HxETdr8TfuQf",
    "outputId": "bb8768fa-2d59-4c66-92e6-3ae1dfa21c29"
   },
   "outputs": [
    {
     "data": {
      "text/plain": [
       "(27312, 50440)"
      ]
     },
     "execution_count": 12,
     "metadata": {},
     "output_type": "execute_result"
    }
   ],
   "source": [
    "essay_bag_test.shape"
   ]
  },
  {
   "cell_type": "code",
   "execution_count": 13,
   "metadata": {
    "id": "TZ8PdV4ZpZ6w"
   },
   "outputs": [],
   "source": [
    "from sklearn.feature_extraction.text import TfidfVectorizer\n",
    "vectorizer = TfidfVectorizer()\n",
    "essay_tfidf_train = vectorizer.fit_transform(x_train['essay'])\n",
    "essay_tfidf_test=vectorizer.transform(x_test['essay'])"
   ]
  },
  {
   "cell_type": "code",
   "execution_count": 14,
   "metadata": {
    "colab": {
     "base_uri": "https://localhost:8080/"
    },
    "id": "onKa9wvk0z_W",
    "outputId": "a0ac3313-037e-4c4e-98d0-da3f8e2582a6"
   },
   "outputs": [
    {
     "data": {
      "text/plain": [
       "(81936, 50440)"
      ]
     },
     "execution_count": 14,
     "metadata": {},
     "output_type": "execute_result"
    }
   ],
   "source": [
    "essay_tfidf_train.shape"
   ]
  },
  {
   "cell_type": "code",
   "execution_count": 14,
   "metadata": {
    "id": "tax9f4g0HNWf"
   },
   "outputs": [],
   "source": []
  },
  {
   "cell_type": "code",
   "execution_count": 15,
   "metadata": {
    "colab": {
     "base_uri": "https://localhost:8080/",
     "height": 225
    },
    "id": "T3WkVu-90OV2",
    "outputId": "5aa04c9e-0224-4ec8-de41-e72538ce63d5"
   },
   "outputs": [
    {
     "data": {
      "text/html": [
       "\n",
       "  <div id=\"df-9b03618f-7cc3-4129-b1c5-b4f1c0ee4516\">\n",
       "    <div class=\"colab-df-container\">\n",
       "      <div>\n",
       "<style scoped>\n",
       "    .dataframe tbody tr th:only-of-type {\n",
       "        vertical-align: middle;\n",
       "    }\n",
       "\n",
       "    .dataframe tbody tr th {\n",
       "        vertical-align: top;\n",
       "    }\n",
       "\n",
       "    .dataframe thead th {\n",
       "        text-align: right;\n",
       "    }\n",
       "</style>\n",
       "<table border=\"1\" class=\"dataframe\">\n",
       "  <thead>\n",
       "    <tr style=\"text-align: right;\">\n",
       "      <th></th>\n",
       "      <th>school_state</th>\n",
       "      <th>teacher_prefix</th>\n",
       "      <th>project_grade_category</th>\n",
       "      <th>teacher_number_of_previously_posted_projects</th>\n",
       "      <th>clean_categories</th>\n",
       "      <th>clean_subcategories</th>\n",
       "      <th>essay</th>\n",
       "      <th>price</th>\n",
       "    </tr>\n",
       "  </thead>\n",
       "  <tbody>\n",
       "    <tr>\n",
       "      <th>66441</th>\n",
       "      <td>ok</td>\n",
       "      <td>mr</td>\n",
       "      <td>grades_6_8</td>\n",
       "      <td>0</td>\n",
       "      <td>appliedlearning</td>\n",
       "      <td>charactereducation</td>\n",
       "      <td>my wonderful middle students active extremely ...</td>\n",
       "      <td>314.56</td>\n",
       "    </tr>\n",
       "    <tr>\n",
       "      <th>45954</th>\n",
       "      <td>ut</td>\n",
       "      <td>mrs</td>\n",
       "      <td>grades_prek_2</td>\n",
       "      <td>19</td>\n",
       "      <td>specialneeds</td>\n",
       "      <td>specialneeds</td>\n",
       "      <td>i teach special class children autism one stud...</td>\n",
       "      <td>33.28</td>\n",
       "    </tr>\n",
       "  </tbody>\n",
       "</table>\n",
       "</div>\n",
       "      <button class=\"colab-df-convert\" onclick=\"convertToInteractive('df-9b03618f-7cc3-4129-b1c5-b4f1c0ee4516')\"\n",
       "              title=\"Convert this dataframe to an interactive table.\"\n",
       "              style=\"display:none;\">\n",
       "        \n",
       "  <svg xmlns=\"http://www.w3.org/2000/svg\" height=\"24px\"viewBox=\"0 0 24 24\"\n",
       "       width=\"24px\">\n",
       "    <path d=\"M0 0h24v24H0V0z\" fill=\"none\"/>\n",
       "    <path d=\"M18.56 5.44l.94 2.06.94-2.06 2.06-.94-2.06-.94-.94-2.06-.94 2.06-2.06.94zm-11 1L8.5 8.5l.94-2.06 2.06-.94-2.06-.94L8.5 2.5l-.94 2.06-2.06.94zm10 10l.94 2.06.94-2.06 2.06-.94-2.06-.94-.94-2.06-.94 2.06-2.06.94z\"/><path d=\"M17.41 7.96l-1.37-1.37c-.4-.4-.92-.59-1.43-.59-.52 0-1.04.2-1.43.59L10.3 9.45l-7.72 7.72c-.78.78-.78 2.05 0 2.83L4 21.41c.39.39.9.59 1.41.59.51 0 1.02-.2 1.41-.59l7.78-7.78 2.81-2.81c.8-.78.8-2.07 0-2.86zM5.41 20L4 18.59l7.72-7.72 1.47 1.35L5.41 20z\"/>\n",
       "  </svg>\n",
       "      </button>\n",
       "      \n",
       "  <style>\n",
       "    .colab-df-container {\n",
       "      display:flex;\n",
       "      flex-wrap:wrap;\n",
       "      gap: 12px;\n",
       "    }\n",
       "\n",
       "    .colab-df-convert {\n",
       "      background-color: #E8F0FE;\n",
       "      border: none;\n",
       "      border-radius: 50%;\n",
       "      cursor: pointer;\n",
       "      display: none;\n",
       "      fill: #1967D2;\n",
       "      height: 32px;\n",
       "      padding: 0 0 0 0;\n",
       "      width: 32px;\n",
       "    }\n",
       "\n",
       "    .colab-df-convert:hover {\n",
       "      background-color: #E2EBFA;\n",
       "      box-shadow: 0px 1px 2px rgba(60, 64, 67, 0.3), 0px 1px 3px 1px rgba(60, 64, 67, 0.15);\n",
       "      fill: #174EA6;\n",
       "    }\n",
       "\n",
       "    [theme=dark] .colab-df-convert {\n",
       "      background-color: #3B4455;\n",
       "      fill: #D2E3FC;\n",
       "    }\n",
       "\n",
       "    [theme=dark] .colab-df-convert:hover {\n",
       "      background-color: #434B5C;\n",
       "      box-shadow: 0px 1px 3px 1px rgba(0, 0, 0, 0.15);\n",
       "      filter: drop-shadow(0px 1px 2px rgba(0, 0, 0, 0.3));\n",
       "      fill: #FFFFFF;\n",
       "    }\n",
       "  </style>\n",
       "\n",
       "      <script>\n",
       "        const buttonEl =\n",
       "          document.querySelector('#df-9b03618f-7cc3-4129-b1c5-b4f1c0ee4516 button.colab-df-convert');\n",
       "        buttonEl.style.display =\n",
       "          google.colab.kernel.accessAllowed ? 'block' : 'none';\n",
       "\n",
       "        async function convertToInteractive(key) {\n",
       "          const element = document.querySelector('#df-9b03618f-7cc3-4129-b1c5-b4f1c0ee4516');\n",
       "          const dataTable =\n",
       "            await google.colab.kernel.invokeFunction('convertToInteractive',\n",
       "                                                     [key], {});\n",
       "          if (!dataTable) return;\n",
       "\n",
       "          const docLinkHtml = 'Like what you see? Visit the ' +\n",
       "            '<a target=\"_blank\" href=https://colab.research.google.com/notebooks/data_table.ipynb>data table notebook</a>'\n",
       "            + ' to learn more about interactive tables.';\n",
       "          element.innerHTML = '';\n",
       "          dataTable['output_type'] = 'display_data';\n",
       "          await google.colab.output.renderOutput(dataTable, element);\n",
       "          const docLink = document.createElement('div');\n",
       "          docLink.innerHTML = docLinkHtml;\n",
       "          element.appendChild(docLink);\n",
       "        }\n",
       "      </script>\n",
       "    </div>\n",
       "  </div>\n",
       "  "
      ],
      "text/plain": [
       "      school_state  ...   price\n",
       "66441           ok  ...  314.56\n",
       "45954           ut  ...   33.28\n",
       "\n",
       "[2 rows x 8 columns]"
      ]
     },
     "execution_count": 15,
     "metadata": {},
     "output_type": "execute_result"
    }
   ],
   "source": [
    "x_train.head(2)"
   ]
  },
  {
   "cell_type": "markdown",
   "metadata": {
    "id": "bGy86kgHb3dX"
   },
   "source": [
    "<h2> Making Data Model Ready: encoding numerical, categorical features</h2>"
   ]
  },
  {
   "cell_type": "code",
   "execution_count": 16,
   "metadata": {
    "colab": {
     "base_uri": "https://localhost:8080/",
     "height": 48,
     "referenced_widgets": [
      "02a198e452a54a97a67438558b5d4da0",
      "7dafb48d328b4aa68745fe3754418053",
      "d220cd48f34d4e3e922738ecdcde51e6",
      "cd44acf056064d938eb6e42139638efe",
      "32b937c806eb4100a825174f15c088a8",
      "98a319e2823c4a689d75f80da6a89204",
      "6d2bcf5a731f43feb2b400f549b96cd1",
      "08d8cbe61d2c4973a82766157de8eb1f",
      "186cc76269ec47f58b8828de14bd0513",
      "6076fc9ce15c4d78816f44458b715d0f",
      "e9f61e61d0b549fa9d864e0fd8817b97"
     ]
    },
    "id": "EfXkofX1b3da",
    "outputId": "eb5d4b32-ffd9-492c-ef6c-358985406df2"
   },
   "outputs": [
    {
     "data": {
      "application/vnd.jupyter.widget-view+json": {
       "model_id": "02a198e452a54a97a67438558b5d4da0",
       "version_major": 2,
       "version_minor": 0
      },
      "text/plain": [
       "  0%|          | 0/5 [00:00<?, ?it/s]"
      ]
     },
     "metadata": {},
     "output_type": "display_data"
    }
   ],
   "source": [
    "\n",
    "from tqdm.notebook import tqdm\n",
    "categorical=['school_state','teacher_prefix','project_grade_category','clean_categories','clean_subcategories']\n",
    "from sklearn.feature_extraction.text import CountVectorizer\n",
    "vectorizer = CountVectorizer(binary=True)\n",
    "categorical_train=dict()\n",
    "categorical_test=dict()\n",
    "for i in tqdm(categorical):\n",
    "   categorical_train[i]= vectorizer.fit_transform(x_train[i])\n",
    "   categorical_test[i]=vectorizer.transform(x_test[i])"
   ]
  },
  {
   "cell_type": "code",
   "execution_count": 17,
   "metadata": {
    "colab": {
     "base_uri": "https://localhost:8080/",
     "height": 48,
     "referenced_widgets": [
      "4a3bf53d5a704d989230048a013ebbda",
      "9924113c73f8400492d00fd85f94da69",
      "294338fa4e8f49caa4bc08dc76611474",
      "9d49e2c4181d4c86a7b984d5dea8f3dc",
      "1d157cac443f410583274e0fb460b94d",
      "a205649a9c07408a9a932000ecf835aa",
      "c8ad9cbcb70549deac969641555506d6",
      "02a0a7b3a63e432f8697bc2954aa4b49",
      "517d21430c0f411d8356632f5f7be1df",
      "c0dde42096424c41a8113db45ab537c3",
      "d3cab7df7a824a7a95822974e869838b"
     ]
    },
    "id": "diMAd66l2bQY",
    "outputId": "2bc0834c-75c4-49bc-e29b-2029de610127"
   },
   "outputs": [
    {
     "data": {
      "application/vnd.jupyter.widget-view+json": {
       "model_id": "4a3bf53d5a704d989230048a013ebbda",
       "version_major": 2,
       "version_minor": 0
      },
      "text/plain": [
       "  0%|          | 0/2 [00:00<?, ?it/s]"
      ]
     },
     "metadata": {},
     "output_type": "display_data"
    }
   ],
   "source": [
    "from sklearn.preprocessing import Normalizer\n",
    "transformer = Normalizer()\n",
    "numerical_test=dict()\n",
    "numerical_train=dict()\n",
    "numerical=['teacher_number_of_previously_posted_projects','price']\n",
    "for i in tqdm(numerical):\n",
    "  numerical_train[i]=transformer.fit_transform(np.array(x_train[i]).reshape(1,-1))#.reshape(-1,1)\n",
    "  numerical_test[i]=transformer.fit_transform(np.array(x_test[i]).reshape(1,-1))#.reshape(-1,1)"
   ]
  },
  {
   "cell_type": "code",
   "execution_count": 18,
   "metadata": {
    "colab": {
     "base_uri": "https://localhost:8080/"
    },
    "id": "x_yvyfaLYV0l",
    "outputId": "adc41614-e625-44f9-e2f6-5e926ac9f555"
   },
   "outputs": [
    {
     "data": {
      "text/plain": [
       "[<81936x51 sparse matrix of type '<class 'numpy.int64'>'\n",
       " \twith 81936 stored elements in Compressed Sparse Row format>,\n",
       " <81936x5 sparse matrix of type '<class 'numpy.int64'>'\n",
       " \twith 81936 stored elements in Compressed Sparse Row format>,\n",
       " <81936x4 sparse matrix of type '<class 'numpy.int64'>'\n",
       " \twith 81936 stored elements in Compressed Sparse Row format>,\n",
       " <81936x9 sparse matrix of type '<class 'numpy.int64'>'\n",
       " \twith 114564 stored elements in Compressed Sparse Row format>,\n",
       " <81936x30 sparse matrix of type '<class 'numpy.int64'>'\n",
       " \twith 132002 stored elements in Compressed Sparse Row format>,\n",
       " <81936x50440 sparse matrix of type '<class 'numpy.int64'>'\n",
       " \twith 8848847 stored elements in Compressed Sparse Row format>]"
      ]
     },
     "execution_count": 18,
     "metadata": {},
     "output_type": "execute_result"
    }
   ],
   "source": [
    "list(categorical_train.values())+[essay_bag_train]"
   ]
  },
  {
   "cell_type": "code",
   "execution_count": 19,
   "metadata": {
    "id": "9oC6ygoQWjym"
   },
   "outputs": [],
   "source": [
    "from scipy.sparse import  hstack\n",
    "u=hstack(list(categorical_train.values())+[essay_bag_train])"
   ]
  },
  {
   "cell_type": "code",
   "execution_count": 20,
   "metadata": {
    "id": "2Y5X33XlYthM"
   },
   "outputs": [],
   "source": [
    "X=hstack([u,list(numerical_train.values())[0].reshape(-1,1),list(numerical_train.values())[1].reshape(-1,1)])"
   ]
  },
  {
   "cell_type": "code",
   "execution_count": 21,
   "metadata": {
    "id": "ceXgJxiBd9Ym"
   },
   "outputs": [],
   "source": [
    "from scipy.sparse import  hstack\n",
    "v=hstack(list(categorical_test.values())+[essay_bag_test])\n",
    "X_test=hstack([v,list(numerical_test.values())[0].reshape(-1,1),list(numerical_test.values())[1].reshape(-1,1)])"
   ]
  },
  {
   "cell_type": "code",
   "execution_count": 22,
   "metadata": {
    "colab": {
     "base_uri": "https://localhost:8080/"
    },
    "id": "cin6MMsPd9eN",
    "outputId": "352a57c1-6766-4fbc-bfa1-e136fc1822d8"
   },
   "outputs": [
    {
     "data": {
      "text/plain": [
       "(27312, 50440)"
      ]
     },
     "execution_count": 22,
     "metadata": {},
     "output_type": "execute_result"
    }
   ],
   "source": [
    "essay_bag_test.shape"
   ]
  },
  {
   "cell_type": "code",
   "execution_count": 23,
   "metadata": {
    "colab": {
     "base_uri": "https://localhost:8080/"
    },
    "id": "fY_khnAid-PB",
    "outputId": "7d224229-d63f-4b81-e007-f512f4174608"
   },
   "outputs": [
    {
     "data": {
      "text/plain": [
       "(81936, 50440)"
      ]
     },
     "execution_count": 23,
     "metadata": {},
     "output_type": "execute_result"
    }
   ],
   "source": [
    "essay_bag_train.shape"
   ]
  },
  {
   "cell_type": "code",
   "execution_count": 24,
   "metadata": {
    "colab": {
     "base_uri": "https://localhost:8080/"
    },
    "id": "cq7I9yqSY0U3",
    "outputId": "dd5c9114-c351-400e-8447-616004ef97bf"
   },
   "outputs": [
    {
     "data": {
      "text/plain": [
       "(81936, 50541)"
      ]
     },
     "execution_count": 24,
     "metadata": {},
     "output_type": "execute_result"
    }
   ],
   "source": [
    "X.shape"
   ]
  },
  {
   "cell_type": "code",
   "execution_count": 25,
   "metadata": {
    "id": "hwKGIwJ_VP6i"
   },
   "outputs": [],
   "source": [
    "y_train=np.array(y_train)"
   ]
  },
  {
   "cell_type": "markdown",
   "metadata": {
    "id": "yYHPYadYb3dh"
   },
   "source": [
    "<h2>Appling NB</h2>"
   ]
  },
  {
   "cell_type": "code",
   "execution_count": 26,
   "metadata": {
    "id": "xZYdGGzc6irc"
   },
   "outputs": [],
   "source": [
    "from sklearn.naive_bayes import MultinomialNB"
   ]
  },
  {
   "cell_type": "code",
   "execution_count": 27,
   "metadata": {
    "colab": {
     "base_uri": "https://localhost:8080/"
    },
    "id": "Bi2hWhKPrWRf",
    "outputId": "b45a869d-b4f8-4731-c460-317a70aee31e"
   },
   "outputs": [
    {
     "data": {
      "text/plain": [
       "(81936, 50541)"
      ]
     },
     "execution_count": 27,
     "metadata": {},
     "output_type": "execute_result"
    }
   ],
   "source": [
    "X.shape"
   ]
  },
  {
   "cell_type": "code",
   "execution_count": 28,
   "metadata": {
    "colab": {
     "base_uri": "https://localhost:8080/"
    },
    "id": "9R2cWfvjrYiK",
    "outputId": "f5fc4d88-25f3-4d31-c9d8-d1f0f7b8f2b7"
   },
   "outputs": [
    {
     "data": {
      "text/plain": [
       "(81936,)"
      ]
     },
     "execution_count": 28,
     "metadata": {},
     "output_type": "execute_result"
    }
   ],
   "source": [
    "y_train.shape"
   ]
  },
  {
   "cell_type": "code",
   "execution_count": 29,
   "metadata": {
    "id": "vXvlA1txVJFs"
   },
   "outputs": [],
   "source": [
    "clf = MultinomialNB(class_prior=[0.5,0.5])\n",
    "model=clf.fit(X,y_train)"
   ]
  },
  {
   "cell_type": "code",
   "execution_count": 30,
   "metadata": {
    "id": "foMIDr4Mgh_C"
   },
   "outputs": [],
   "source": [
    "bbb=model.predict(X_test)"
   ]
  },
  {
   "cell_type": "code",
   "execution_count": 31,
   "metadata": {
    "colab": {
     "base_uri": "https://localhost:8080/"
    },
    "id": "_epZmM_sIkNc",
    "outputId": "820540a9-95c0-4b24-d1ef-98b76e6d7be5"
   },
   "outputs": [
    {
     "data": {
      "text/plain": [
       "0.6469449320279967"
      ]
     },
     "execution_count": 31,
     "metadata": {},
     "output_type": "execute_result"
    }
   ],
   "source": [
    "from sklearn.metrics import roc_auc_score,auc\n",
    "roc_auc_score(y_test,bbb)"
   ]
  },
  {
   "cell_type": "code",
   "execution_count": 32,
   "metadata": {
    "id": "y5Vlq3XIgyAV"
   },
   "outputs": [],
   "source": [
    "from sklearn.metrics import accuracy_score"
   ]
  },
  {
   "cell_type": "code",
   "execution_count": 33,
   "metadata": {
    "colab": {
     "base_uri": "https://localhost:8080/"
    },
    "id": "DutU6uF1gyHr",
    "outputId": "5c6068ed-bc87-4ef9-dbaf-57d27b217547"
   },
   "outputs": [
    {
     "data": {
      "text/plain": [
       "0.7401142355008787"
      ]
     },
     "execution_count": 33,
     "metadata": {},
     "output_type": "execute_result"
    }
   ],
   "source": [
    "accuracy_score(bbb,y_test)"
   ]
  },
  {
   "cell_type": "code",
   "execution_count": 35,
   "metadata": {
    "colab": {
     "base_uri": "https://localhost:8080/"
    },
    "id": "BynFS2pMhmBp",
    "outputId": "fbb35812-0c2c-4ae2-d27d-b8c7d2c5017f"
   },
   "outputs": [
    {
     "data": {
      "text/plain": [
       "GridSearchCV(estimator=MultinomialNB(class_prior=[0.5, 0.5]), n_jobs=-1,\n",
       "             param_grid={'alpha': [1e-05, 0.0005, 0.0001, 0.005, 0.001, 0.05,\n",
       "                                   0.01, 0.1, 0.5, 1, 5, 10, 50, 100]},\n",
       "             return_train_score=True, scoring='roc_auc')"
      ]
     },
     "execution_count": 35,
     "metadata": {},
     "output_type": "execute_result"
    }
   ],
   "source": [
    "#hyper paramater tuning \n",
    "from sklearn.model_selection import GridSearchCV\n",
    "paramaters={'alpha':[0.00001,0.0005, 0.0001,0.005,0.001,0.05,0.01,0.1,0.5,1,5,10,50,100]}\n",
    "model = MultinomialNB(class_prior=[0.5,0.5])\n",
    "model_grid=GridSearchCV(model,paramaters,scoring='roc_auc',n_jobs=-1,return_train_score=True)\n",
    "model_grid.fit(X,y_train)"
   ]
  },
  {
   "cell_type": "code",
   "execution_count": 36,
   "metadata": {
    "id": "eNaaowGskyif"
   },
   "outputs": [],
   "source": [
    "auc_scores_train=model_grid.cv_results_['mean_train_score']\n",
    "auc_scores_test=model_grid.cv_results_['mean_test_score']\n",
    "params=model_grid.cv_results_['params']"
   ]
  },
  {
   "cell_type": "code",
   "execution_count": 37,
   "metadata": {
    "colab": {
     "base_uri": "https://localhost:8080/"
    },
    "id": "2XeHJAvGmBpD",
    "outputId": "16ba989b-0dd2-40f7-8f64-65ce802f7b66"
   },
   "outputs": [
    {
     "data": {
      "text/plain": [
       "array([0.90761128, 0.89921858, 0.90372343, 0.88812622, 0.89659429,\n",
       "       0.86586894, 0.88304347, 0.8551026 , 0.81808353, 0.79632864,\n",
       "       0.73248508, 0.68350302, 0.50004176, 0.5       ])"
      ]
     },
     "execution_count": 37,
     "metadata": {},
     "output_type": "execute_result"
    }
   ],
   "source": [
    "auc_scores_train"
   ]
  },
  {
   "cell_type": "code",
   "execution_count": 38,
   "metadata": {
    "colab": {
     "base_uri": "https://localhost:8080/"
    },
    "id": "fRTm1c4Nmf_W",
    "outputId": "cd6cbeb2-04ca-4579-ba7d-d7613b7b25da"
   },
   "outputs": [
    {
     "data": {
      "text/plain": [
       "array([0.64142966, 0.66218815, 0.65272439, 0.67783257, 0.66668039,\n",
       "       0.69334856, 0.68271642, 0.69698865, 0.69975413, 0.69755477,\n",
       "       0.6779572 , 0.64758128, 0.50001154, 0.5       ])"
      ]
     },
     "execution_count": 38,
     "metadata": {},
     "output_type": "execute_result"
    }
   ],
   "source": [
    "auc_scores_test"
   ]
  },
  {
   "cell_type": "code",
   "execution_count": 39,
   "metadata": {
    "id": "jnXkkw24nFVv"
   },
   "outputs": [],
   "source": [
    "paramaters_list=[]\n",
    "from math import log\n",
    "for i in params:\n",
    "  paramaters_list.append(log(i['alpha']))"
   ]
  },
  {
   "cell_type": "code",
   "execution_count": 40,
   "metadata": {
    "id": "55U0lkx-lqoc"
   },
   "outputs": [],
   "source": [
    "import  matplotlib.pyplot as plt"
   ]
  },
  {
   "cell_type": "code",
   "execution_count": 41,
   "metadata": {
    "colab": {
     "base_uri": "https://localhost:8080/"
    },
    "id": "9iSUlu6Mn_V4",
    "outputId": "ff6a6372-4f2c-45a8-9417-60d68bdd7ae9"
   },
   "outputs": [
    {
     "data": {
      "text/plain": [
       "array([0.90761128, 0.89921858, 0.90372343, 0.88812622, 0.89659429,\n",
       "       0.86586894, 0.88304347, 0.8551026 , 0.81808353, 0.79632864,\n",
       "       0.73248508, 0.68350302, 0.50004176, 0.5       ])"
      ]
     },
     "execution_count": 41,
     "metadata": {},
     "output_type": "execute_result"
    }
   ],
   "source": [
    "auc_scores_train"
   ]
  },
  {
   "cell_type": "code",
   "execution_count": 42,
   "metadata": {
    "colab": {
     "base_uri": "https://localhost:8080/"
    },
    "id": "pMvY9m_92_to",
    "outputId": "3823f152-dcf1-4b86-c11a-c0314c91a6af"
   },
   "outputs": [
    {
     "data": {
      "text/plain": [
       "[-11.512925464970229,\n",
       " -7.600902459542082,\n",
       " -9.210340371976182,\n",
       " -5.298317366548036,\n",
       " -6.907755278982137,\n",
       " -2.995732273553991,\n",
       " -4.605170185988091,\n",
       " -2.3025850929940455,\n",
       " -0.6931471805599453,\n",
       " 0.0,\n",
       " 1.6094379124341003,\n",
       " 2.302585092994046,\n",
       " 3.912023005428146,\n",
       " 4.605170185988092]"
      ]
     },
     "execution_count": 42,
     "metadata": {},
     "output_type": "execute_result"
    }
   ],
   "source": [
    "paramaters_list"
   ]
  },
  {
   "cell_type": "code",
   "execution_count": 43,
   "metadata": {
    "colab": {
     "base_uri": "https://localhost:8080/",
     "height": 313
    },
    "id": "a2weE-nQlw1t",
    "outputId": "635c577c-37d4-4c3e-d087-db869ce8ddc9"
   },
   "outputs": [
    {
     "data": {
      "text/plain": [
       "Text(0.5, 1.0, 'auc vs log(alpha)')"
      ]
     },
     "execution_count": 43,
     "metadata": {},
     "output_type": "execute_result"
    },
    {
     "data": {
      "image/png": "[encoded data removed]",
      "text/plain": [
       "<Figure size 432x288 with 1 Axes>"
      ]
     },
     "metadata": {
      "needs_background": "light"
     },
     "output_type": "display_data"
    }
   ],
   "source": [
    "plt.plot(paramaters_list,auc_scores_train,label='train')\n",
    "plt.plot(paramaters_list,auc_scores_test,label='test')\n",
    "plt.legend()\n",
    "plt.grid()\n",
    "plt.xlabel('log(alpha)')\n",
    "plt.ylabel('auc scores')\n",
    "plt.title('auc vs log(alpha)')"
   ]
  },
  {
   "cell_type": "code",
   "execution_count": 44,
   "metadata": {
    "id": "w6TCi88ahmEu"
   },
   "outputs": [],
   "source": [
    "optimal_alpha=pd.DataFrame(model_grid.cv_results_)[pd.DataFrame(model_grid.cv_results_)['mean_test_score']==pd.DataFrame(model_grid.cv_results_)['mean_test_score'].max()]['params'].iloc[0]['alpha']"
   ]
  },
  {
   "cell_type": "code",
   "execution_count": 45,
   "metadata": {
    "colab": {
     "base_uri": "https://localhost:8080/"
    },
    "id": "J7BTXiNCzrIQ",
    "outputId": "8422312f-3c64-417c-cb9d-748ddd703984"
   },
   "outputs": [
    {
     "data": {
      "text/plain": [
       "{'alpha': 0.5}"
      ]
     },
     "execution_count": 45,
     "metadata": {},
     "output_type": "execute_result"
    }
   ],
   "source": [
    "model_grid.best_params_"
   ]
  },
  {
   "cell_type": "code",
   "execution_count": 46,
   "metadata": {
    "colab": {
     "base_uri": "https://localhost:8080/"
    },
    "id": "a12wY882sygU",
    "outputId": "abd32458-9e7b-499d-9578-ce6c25ea3131"
   },
   "outputs": [
    {
     "name": "stdout",
     "output_type": "stream",
     "text": [
      "optimal alpha is  0.5\n"
     ]
    }
   ],
   "source": [
    "print('optimal alpha is ',optimal_alpha)"
   ]
  },
  {
   "cell_type": "code",
   "execution_count": 47,
   "metadata": {
    "id": "oqHDMf3Vsok0"
   },
   "outputs": [],
   "source": [
    "clf = MultinomialNB(class_prior=[0.5,0.5],alpha=optimal_alpha)\n",
    "model=clf.fit(X,y_train)"
   ]
  },
  {
   "cell_type": "code",
   "execution_count": 48,
   "metadata": {
    "colab": {
     "base_uri": "https://localhost:8080/"
    },
    "id": "w_zTAvussord",
    "outputId": "410f1944-8b34-42ea-bb8a-30347409c247"
   },
   "outputs": [
    {
     "data": {
      "text/plain": [
       "array([0, 1, 0, ..., 0, 1, 0])"
      ]
     },
     "execution_count": 48,
     "metadata": {},
     "output_type": "execute_result"
    }
   ],
   "source": [
    "model.predict(X)"
   ]
  },
  {
   "cell_type": "code",
   "execution_count": 49,
   "metadata": {
    "colab": {
     "base_uri": "https://localhost:8080/"
    },
    "id": "In23d4KXsouc",
    "outputId": "03933960-381a-462c-8ae2-6eb6ff0c7fd0"
   },
   "outputs": [
    {
     "data": {
      "text/plain": [
       "array([0, 1, 1, ..., 1, 1, 0])"
      ]
     },
     "execution_count": 49,
     "metadata": {},
     "output_type": "execute_result"
    }
   ],
   "source": [
    "model.predict(X_test)"
   ]
  },
  {
   "cell_type": "code",
   "execution_count": 50,
   "metadata": {
    "colab": {
     "base_uri": "https://localhost:8080/"
    },
    "id": "btmin4Fn2D1J",
    "outputId": "9661d09c-cf7e-458b-a64b-af60e7480610"
   },
   "outputs": [
    {
     "data": {
      "text/plain": [
       "array([[7.21774813e-01, 2.78225187e-01],\n",
       "       [3.74551543e-01, 6.25448457e-01],\n",
       "       [9.90399602e-01, 9.60039783e-03],\n",
       "       ...,\n",
       "       [7.70573228e-01, 2.29426772e-01],\n",
       "       [1.71754584e-04, 9.99828245e-01],\n",
       "       [9.89178358e-01, 1.08216415e-02]])"
      ]
     },
     "execution_count": 50,
     "metadata": {},
     "output_type": "execute_result"
    }
   ],
   "source": [
    "model.predict_proba(X)"
   ]
  },
  {
   "cell_type": "code",
   "execution_count": 52,
   "metadata": {
    "colab": {
     "base_uri": "https://localhost:8080/"
    },
    "id": "t_ZjtahvuTPh",
    "outputId": "2345fd78-f8c9-46ee-d4c4-cf32db5ff28e"
   },
   "outputs": [
    {
     "data": {
      "text/plain": [
       "array([1, 1, 1, ..., 0, 1, 1])"
      ]
     },
     "execution_count": 52,
     "metadata": {},
     "output_type": "execute_result"
    }
   ],
   "source": [
    "y_train"
   ]
  },
  {
   "cell_type": "code",
   "execution_count": 52,
   "metadata": {
    "id": "UGqHBf38uTUT"
   },
   "outputs": [],
   "source": []
  },
  {
   "cell_type": "code",
   "execution_count": 53,
   "metadata": {
    "id": "_-oStYLEuHFC"
   },
   "outputs": [],
   "source": [
    "probablities_model_test=model.predict_proba(X_test)\n",
    "probablities_model_train=model.predict_proba(X)"
   ]
  },
  {
   "cell_type": "code",
   "execution_count": 54,
   "metadata": {
    "colab": {
     "base_uri": "https://localhost:8080/"
    },
    "id": "Ixz7IVG138e2",
    "outputId": "1401fcfa-3c6a-4d19-8ce2-c1b66aaac838"
   },
   "outputs": [
    {
     "data": {
      "text/plain": [
       "array([[7.21774813e-01, 2.78225187e-01],\n",
       "       [3.74551543e-01, 6.25448457e-01],\n",
       "       [9.90399602e-01, 9.60039783e-03],\n",
       "       ...,\n",
       "       [7.70573228e-01, 2.29426772e-01],\n",
       "       [1.71754584e-04, 9.99828245e-01],\n",
       "       [9.89178358e-01, 1.08216415e-02]])"
      ]
     },
     "execution_count": 54,
     "metadata": {},
     "output_type": "execute_result"
    }
   ],
   "source": [
    "probablities_model_train"
   ]
  },
  {
   "cell_type": "code",
   "execution_count": 55,
   "metadata": {
    "colab": {
     "base_uri": "https://localhost:8080/"
    },
    "id": "lxtSpoum7dfd",
    "outputId": "d3264c98-1a71-4ce9-ac94-14fcd6e71d30"
   },
   "outputs": [
    {
     "data": {
      "text/plain": [
       "array([[9.82609506e-01, 1.73904942e-02],\n",
       "       [1.58503765e-01, 8.41496235e-01],\n",
       "       [1.32810026e-02, 9.86718997e-01],\n",
       "       ...,\n",
       "       [2.38584158e-01, 7.61415842e-01],\n",
       "       [2.22262387e-05, 9.99977774e-01],\n",
       "       [9.63911315e-01, 3.60886846e-02]])"
      ]
     },
     "execution_count": 55,
     "metadata": {},
     "output_type": "execute_result"
    }
   ],
   "source": [
    "probablities_model_test"
   ]
  },
  {
   "cell_type": "code",
   "execution_count": 57,
   "metadata": {
    "colab": {
     "base_uri": "https://localhost:8080/"
    },
    "id": "0e_Uvt3L4FK4",
    "outputId": "297a8eb8-0f3d-40bc-e35b-65b8ad751452"
   },
   "outputs": [
    {
     "data": {
      "text/plain": [
       "(81936, 1)"
      ]
     },
     "execution_count": 57,
     "metadata": {},
     "output_type": "execute_result"
    }
   ],
   "source": [
    "y_train.reshape(-1,1).shape"
   ]
  },
  {
   "cell_type": "code",
   "execution_count": 58,
   "metadata": {
    "colab": {
     "base_uri": "https://localhost:8080/"
    },
    "id": "owS-g7yF4-zJ",
    "outputId": "a85323eb-9a01-4782-a211-a4051fc2a570"
   },
   "outputs": [
    {
     "data": {
      "text/plain": [
       "array([[1],\n",
       "       [1],\n",
       "       [1],\n",
       "       ...,\n",
       "       [1],\n",
       "       [1],\n",
       "       [0]])"
      ]
     },
     "execution_count": 58,
     "metadata": {},
     "output_type": "execute_result"
    }
   ],
   "source": [
    "\n",
    "np.array(y_test).reshape(-1,1)"
   ]
  },
  {
   "cell_type": "code",
   "execution_count": 59,
   "metadata": {
    "id": "oHBvlJ8n5Ok8"
   },
   "outputs": [],
   "source": [
    "train_probablities_model=list(map(lambda x:x[1],probablities_model_train))\n",
    "test_probablities_model=list(map(lambda x:x[1],probablities_model_test))"
   ]
  },
  {
   "cell_type": "code",
   "execution_count": 60,
   "metadata": {
    "colab": {
     "base_uri": "https://localhost:8080/"
    },
    "id": "i41sN2k17g6u",
    "outputId": "2604ac4e-9d2b-48c7-b61c-b3c8008b8ab7"
   },
   "outputs": [
    {
     "data": {
      "text/plain": [
       "81936"
      ]
     },
     "execution_count": 60,
     "metadata": {},
     "output_type": "execute_result"
    }
   ],
   "source": [
    "len(y_train)"
   ]
  },
  {
   "cell_type": "code",
   "execution_count": 61,
   "metadata": {
    "colab": {
     "base_uri": "https://localhost:8080/"
    },
    "id": "j2qyc7cV8iyh",
    "outputId": "f83e99a0-f00b-4c1d-a943-8a34bc729208"
   },
   "outputs": [
    {
     "data": {
      "text/plain": [
       "81936"
      ]
     },
     "execution_count": 61,
     "metadata": {},
     "output_type": "execute_result"
    }
   ],
   "source": [
    "len(train_probablities_model)"
   ]
  },
  {
   "cell_type": "code",
   "execution_count": 62,
   "metadata": {
    "id": "wGTFVwsfpZ6y"
   },
   "outputs": [],
   "source": [
    "# Ploting the ROC-AUC curves using the probability predictions made on train and test data.\n",
    "from sklearn import metrics\n",
    "fpr_train, tpr_train, thresholds_train= metrics.roc_curve(y_train,train_probablities_model)\n",
    "fpr_test, tpr_test, thresholds_test = metrics.roc_curve(y_test,test_probablities_model)"
   ]
  },
  {
   "cell_type": "code",
   "execution_count": 63,
   "metadata": {
    "colab": {
     "base_uri": "https://localhost:8080/"
    },
    "id": "DavHPRPjN6y2",
    "outputId": "5d415479-2b74-4c02-9d6c-513bb173a678"
   },
   "outputs": [
    {
     "data": {
      "text/plain": [
       "0.7105888257144555"
      ]
     },
     "execution_count": 63,
     "metadata": {},
     "output_type": "execute_result"
    }
   ],
   "source": [
    "roc_auc_score(y_test,test_probablities_model)"
   ]
  },
  {
   "cell_type": "code",
   "execution_count": 64,
   "metadata": {
    "id": "6JSUUOnZClf1"
   },
   "outputs": [],
   "source": [
    "from sklearn.metrics import auc"
   ]
  },
  {
   "cell_type": "code",
   "execution_count": 65,
   "metadata": {
    "colab": {
     "base_uri": "https://localhost:8080/",
     "height": 313
    },
    "id": "ksn-5Nga8sj-",
    "outputId": "75572bbd-f3cd-4719-de42-b802d2af3fb8"
   },
   "outputs": [
    {
     "data": {
      "text/plain": [
       "Text(0.5, 1.0, 'tpr/fpr')"
      ]
     },
     "execution_count": 65,
     "metadata": {},
     "output_type": "execute_result"
    },
    {
     "data": {
      "image/png": "[encoded data removed]",
      "text/plain": [
       "<Figure size 432x288 with 1 Axes>"
      ]
     },
     "metadata": {
      "needs_background": "light"
     },
     "output_type": "display_data"
    }
   ],
   "source": [
    "plt.plot(fpr_train,tpr_train,label=f'train : {auc(fpr_train,tpr_train)}')\n",
    "plt.plot(fpr_test,tpr_test,label=f'test : {auc(fpr_test,tpr_test)}')\n",
    "plt.legend()\n",
    "plt.ylabel('tpr')\n",
    "plt.xlabel('fpr')\n",
    "plt.grid()\n",
    "plt.title('tpr/fpr')"
   ]
  },
  {
   "cell_type": "code",
   "execution_count": 67,
   "metadata": {
    "id": "Nn20vuCQ_Sfg"
   },
   "outputs": [],
   "source": [
    "count_train=0\n",
    "thres_train=0\n",
    "for i in range(len(fpr_train)):\n",
    "  if tpr_train[i]*(1-fpr_train[i])>count_train:\n",
    "    count_train=tpr_train[i]*(1-fpr_train[i])\n",
    "    thres_train=thresholds_train[i]\n",
    "count_test=0\n",
    "thres_test=0\n",
    "for i in range(len(fpr_test)):\n",
    "  if tpr_test[i]*(1-fpr_test[i])>count_test:\n",
    "    count_test=tpr_test[i]*(1-fpr_test[i])\n",
    "    thres_test=thresholds_test[i]"
   ]
  },
  {
   "cell_type": "code",
   "execution_count": 68,
   "metadata": {
    "colab": {
     "base_uri": "https://localhost:8080/"
    },
    "id": "9pIgocpn_tyL",
    "outputId": "6f7bdb4d-60d8-4e85-cb88-d9a8f3e3d2e7"
   },
   "outputs": [
    {
     "data": {
      "text/plain": [
       "0.5484401129171619"
      ]
     },
     "execution_count": 68,
     "metadata": {},
     "output_type": "execute_result"
    }
   ],
   "source": [
    "#best threshold according to TPR*(1-FPR) for train data\n",
    "thres_train"
   ]
  },
  {
   "cell_type": "code",
   "execution_count": 69,
   "metadata": {
    "colab": {
     "base_uri": "https://localhost:8080/"
    },
    "id": "XHMd3oAXCSZj",
    "outputId": "ac677e54-16e6-498c-cb47-ed070ec3208e"
   },
   "outputs": [
    {
     "data": {
      "text/plain": [
       "array([0.        , 0.0015389 , 0.00155329, ..., 0.99998562, 1.        ,\n",
       "       1.        ])"
      ]
     },
     "execution_count": 69,
     "metadata": {},
     "output_type": "execute_result"
    }
   ],
   "source": [
    "tpr_train"
   ]
  },
  {
   "cell_type": "code",
   "execution_count": 69,
   "metadata": {
    "id": "kvRhtMVzALJW"
   },
   "outputs": [],
   "source": []
  },
  {
   "cell_type": "code",
   "execution_count": 70,
   "metadata": {
    "id": "T3xXQUOBBrgx"
   },
   "outputs": [],
   "source": [
    "train_values_proba=[]\n",
    "\n",
    "for i in range(len(train_probablities_model)):\n",
    "  if train_probablities_model[i]>=thres_train:\n",
    "    train_values_proba.append(1)\n",
    "  else:\n",
    "    train_values_proba.append(0)\n",
    "\n",
    "test_values_proba=[]\n",
    "\n",
    "for i in range(len(test_probablities_model)):\n",
    "  if test_probablities_model[i]>=thres_train:\n",
    "    test_values_proba.append(1)\n",
    "  else:\n",
    "    test_values_proba.append(0)\n",
    "\n"
   ]
  },
  {
   "cell_type": "code",
   "execution_count": 71,
   "metadata": {
    "colab": {
     "base_uri": "https://localhost:8080/"
    },
    "id": "46Fhs1F_utUR",
    "outputId": "00f97251-5f0d-439e-d555-c103b50ba523"
   },
   "outputs": [
    {
     "data": {
      "text/plain": [
       "0.5484401129171619"
      ]
     },
     "execution_count": 71,
     "metadata": {},
     "output_type": "execute_result"
    }
   ],
   "source": [
    "thres_train"
   ]
  },
  {
   "cell_type": "code",
   "execution_count": 72,
   "metadata": {
    "id": "XXWqiWuL_y0n"
   },
   "outputs": [],
   "source": [
    "from sklearn.metrics import confusion_matrix\n",
    "cm_train=confusion_matrix(y_train,train_values_proba)\n",
    "cm_test=confusion_matrix(y_test,test_values_proba)"
   ]
  },
  {
   "cell_type": "code",
   "execution_count": 73,
   "metadata": {
    "colab": {
     "base_uri": "https://localhost:8080/"
    },
    "id": "-TUcQFupHvXL",
    "outputId": "30fa358b-4695-4113-e998-56ddecd8ab35"
   },
   "outputs": [
    {
     "data": {
      "text/plain": [
       "array([[ 8937,  3469],\n",
       "       [17510, 52020]])"
      ]
     },
     "execution_count": 73,
     "metadata": {},
     "output_type": "execute_result"
    }
   ],
   "source": [
    "cm_train"
   ]
  },
  {
   "cell_type": "code",
   "execution_count": 74,
   "metadata": {
    "colab": {
     "base_uri": "https://localhost:8080/"
    },
    "id": "UWt9bT9LIYHH",
    "outputId": "8d73d7fe-76ca-41ac-f075-7134ef7e0ee0"
   },
   "outputs": [
    {
     "data": {
      "text/plain": [
       "array([[ 2427,  1709],\n",
       "       [ 6302, 16874]])"
      ]
     },
     "execution_count": 74,
     "metadata": {},
     "output_type": "execute_result"
    }
   ],
   "source": [
    "cm_test"
   ]
  },
  {
   "cell_type": "code",
   "execution_count": 75,
   "metadata": {
    "colab": {
     "base_uri": "https://localhost:8080/",
     "height": 300
    },
    "id": "AjkoMlaTH1EG",
    "outputId": "0691da4d-d902-4eb5-c0ae-d1ea9d946f0d"
   },
   "outputs": [
    {
     "data": {
      "text/plain": [
       "Text(0.5, 1.0, 'confusion matrix for training data')"
      ]
     },
     "execution_count": 75,
     "metadata": {},
     "output_type": "execute_result"
    },
    {
     "data": {
      "image/png": "[encoded data removed]",
      "text/plain": [
       "<Figure size 432x288 with 2 Axes>"
      ]
     },
     "metadata": {
      "needs_background": "light"
     },
     "output_type": "display_data"
    }
   ],
   "source": [
    "# Ploting the confusion matrices(each for train and test data) afer encoding the predicted class labels, on the basis of the best threshod probability estimate.\n",
    "import seaborn as sns\n",
    "sns.heatmap(cm_train, annot=True,fmt=\"d\",center=True)\n",
    "plt.title('confusion matrix for training data')"
   ]
  },
  {
   "cell_type": "code",
   "execution_count": 76,
   "metadata": {
    "colab": {
     "base_uri": "https://localhost:8080/",
     "height": 300
    },
    "id": "paQI4_G_Ivyy",
    "outputId": "443dbb2e-5220-4939-8049-23bfce074a23"
   },
   "outputs": [
    {
     "data": {
      "text/plain": [
       "Text(0.5, 1.0, 'confusion matrix for test data')"
      ]
     },
     "execution_count": 76,
     "metadata": {},
     "output_type": "execute_result"
    },
    {
     "data": {
      "image/png": "[encoded data removed]",
      "text/plain": [
       "<Figure size 432x288 with 2 Axes>"
      ]
     },
     "metadata": {
      "needs_background": "light"
     },
     "output_type": "display_data"
    }
   ],
   "source": [
    "sns.heatmap(cm_test, annot=True,fmt=\"d\",center=True)\n",
    "plt.title('confusion matrix for test data')"
   ]
  },
  {
   "cell_type": "code",
   "execution_count": 76,
   "metadata": {
    "id": "BV1-0R4fpZ6y"
   },
   "outputs": [],
   "source": [
    "\n"
   ]
  },
  {
   "cell_type": "markdown",
   "metadata": {
    "id": "exLUcFJ3pZ6z"
   },
   "source": [
    "### Hstack TFIDF Vectorizer feature to the original dataset and checking if the model performance increases"
   ]
  },
  {
   "cell_type": "code",
   "execution_count": 78,
   "metadata": {
    "id": "Clv9GeAYLWrn"
   },
   "outputs": [],
   "source": [
    "from scipy.sparse import  hstack\n",
    "u=hstack(list(categorical_train.values())+[essay_tfidf_train])"
   ]
  },
  {
   "cell_type": "code",
   "execution_count": 79,
   "metadata": {
    "id": "wX8qHTacLWru"
   },
   "outputs": [],
   "source": [
    "X=hstack([u,list(numerical_train.values())[0].reshape(-1,1),list(numerical_train.values())[1].reshape(-1,1)])"
   ]
  },
  {
   "cell_type": "code",
   "execution_count": 80,
   "metadata": {
    "id": "VWYH49ZMLWru"
   },
   "outputs": [],
   "source": [
    "from scipy.sparse import  hstack\n",
    "v=hstack(list(categorical_test.values())+[essay_tfidf_test])\n",
    "X_test=hstack([v,list(numerical_test.values())[0].reshape(-1,1),list(numerical_test.values())[1].reshape(-1,1)])"
   ]
  },
  {
   "cell_type": "code",
   "execution_count": 81,
   "metadata": {
    "colab": {
     "base_uri": "https://localhost:8080/"
    },
    "id": "AjmQEluELWru",
    "outputId": "7e1762c1-292d-4996-aded-71ad3874f76e"
   },
   "outputs": [
    {
     "data": {
      "text/plain": [
       "(27312, 50541)"
      ]
     },
     "execution_count": 81,
     "metadata": {},
     "output_type": "execute_result"
    }
   ],
   "source": [
    "X_test.shape"
   ]
  },
  {
   "cell_type": "code",
   "execution_count": 82,
   "metadata": {
    "colab": {
     "base_uri": "https://localhost:8080/"
    },
    "id": "jUryaQTQLWrv",
    "outputId": "fb745cbc-b60e-42d2-f6bf-57a39f9ea311"
   },
   "outputs": [
    {
     "data": {
      "text/plain": [
       "(27312, 50440)"
      ]
     },
     "execution_count": 82,
     "metadata": {},
     "output_type": "execute_result"
    }
   ],
   "source": [
    "essay_tfidf_test.shape"
   ]
  },
  {
   "cell_type": "code",
   "execution_count": 83,
   "metadata": {
    "colab": {
     "base_uri": "https://localhost:8080/"
    },
    "id": "_ULXrYX4LWrv",
    "outputId": "782196a3-5fbe-4abf-d0ee-62cb56258ddc"
   },
   "outputs": [
    {
     "data": {
      "text/plain": [
       "(81936, 50541)"
      ]
     },
     "execution_count": 83,
     "metadata": {},
     "output_type": "execute_result"
    }
   ],
   "source": [
    "X.shape"
   ]
  },
  {
   "cell_type": "code",
   "execution_count": 84,
   "metadata": {
    "colab": {
     "base_uri": "https://localhost:8080/"
    },
    "id": "EqfyjvEWLWrv",
    "outputId": "7970bcd5-8ddb-4e5e-b4dc-2b6bb6bb0aec"
   },
   "outputs": [
    {
     "data": {
      "text/plain": [
       "(81936, 50541)"
      ]
     },
     "execution_count": 84,
     "metadata": {},
     "output_type": "execute_result"
    }
   ],
   "source": [
    "X.shape"
   ]
  },
  {
   "cell_type": "code",
   "execution_count": 85,
   "metadata": {
    "id": "7Qbw70UXLWrv"
   },
   "outputs": [],
   "source": [
    "y_train=np.array(y_train)"
   ]
  },
  {
   "cell_type": "code",
   "execution_count": 86,
   "metadata": {
    "id": "YQxmBzcTLWrv"
   },
   "outputs": [],
   "source": [
    "from sklearn.naive_bayes import MultinomialNB"
   ]
  },
  {
   "cell_type": "code",
   "execution_count": 87,
   "metadata": {
    "id": "XrldXBQCLWrv"
   },
   "outputs": [],
   "source": [
    "clf = MultinomialNB(class_prior=[0.5,0.5])\n",
    "model=clf.fit(X,y_train)"
   ]
  },
  {
   "cell_type": "code",
   "execution_count": 88,
   "metadata": {
    "id": "w205KWS6LWrv"
   },
   "outputs": [],
   "source": [
    "bbb=model.predict(X_test)"
   ]
  },
  {
   "cell_type": "code",
   "execution_count": 89,
   "metadata": {
    "id": "5U8TsfioLWrw"
   },
   "outputs": [],
   "source": [
    "from sklearn.metrics import accuracy_score"
   ]
  },
  {
   "cell_type": "code",
   "execution_count": 90,
   "metadata": {
    "colab": {
     "base_uri": "https://localhost:8080/"
    },
    "id": "fEy5V_4wLWrw",
    "outputId": "b2775fdd-ff89-43b5-d88c-527cfe90163b"
   },
   "outputs": [
    {
     "data": {
      "text/plain": [
       "0.8424502050380785"
      ]
     },
     "execution_count": 90,
     "metadata": {},
     "output_type": "execute_result"
    }
   ],
   "source": [
    "accuracy_score(bbb,y_test)"
   ]
  },
  {
   "cell_type": "code",
   "execution_count": 91,
   "metadata": {
    "colab": {
     "base_uri": "https://localhost:8080/"
    },
    "id": "9oB8xGLjLWrw",
    "outputId": "2546c263-e2de-4618-ff7e-78a01f4aec89"
   },
   "outputs": [
    {
     "data": {
      "text/plain": [
       "GridSearchCV(estimator=MultinomialNB(class_prior=[0.5, 0.5]), n_jobs=-1,\n",
       "             param_grid={'alpha': [1e-05, 0.0005, 0.0001, 0.005, 0.001, 0.05,\n",
       "                                   0.01, 0.1, 0.5, 1, 5, 10, 50, 100]},\n",
       "             return_train_score=True, scoring='roc_auc')"
      ]
     },
     "execution_count": 91,
     "metadata": {},
     "output_type": "execute_result"
    }
   ],
   "source": [
    "#hyper paramater tuning \n",
    "from sklearn.model_selection import GridSearchCV\n",
    "paramaters={'alpha':[0.00001,0.0005, 0.0001,0.005,0.001,0.05,0.01,0.1,0.5,1,5,10,50,100]}\n",
    "model = MultinomialNB(class_prior=[0.5,0.5])\n",
    "model_grid=GridSearchCV(model,paramaters,scoring='roc_auc',n_jobs=-1,return_train_score=True)\n",
    "model_grid.fit(X,y_train)"
   ]
  },
  {
   "cell_type": "code",
   "execution_count": 92,
   "metadata": {
    "id": "nY3liRAVLWrw"
   },
   "outputs": [],
   "source": [
    "auc_scores_train=model_grid.cv_results_['mean_train_score']\n",
    "auc_scores_test=model_grid.cv_results_['mean_test_score']\n",
    "params=model_grid.cv_results_['params']"
   ]
  },
  {
   "cell_type": "code",
   "execution_count": 93,
   "metadata": {
    "colab": {
     "base_uri": "https://localhost:8080/"
    },
    "id": "kq1vFX1SLWrw",
    "outputId": "a0205c4e-ae6a-43a0-a29a-ac09ab451585"
   },
   "outputs": [
    {
     "data": {
      "text/plain": [
       "array([0.90928349, 0.90051177, 0.90569314, 0.88378778, 0.89704779,\n",
       "       0.83461728, 0.87432105, 0.80621617, 0.71920635, 0.67795234,\n",
       "       0.59307882, 0.5701336 , 0.54137779, 0.53454649])"
      ]
     },
     "execution_count": 93,
     "metadata": {},
     "output_type": "execute_result"
    }
   ],
   "source": [
    "auc_scores_train"
   ]
  },
  {
   "cell_type": "code",
   "execution_count": 94,
   "metadata": {
    "colab": {
     "base_uri": "https://localhost:8080/"
    },
    "id": "xLEoXlaQLWrw",
    "outputId": "9b3fcbf7-4d76-46b9-9f6f-70c3d648dd27"
   },
   "outputs": [
    {
     "data": {
      "text/plain": [
       "array([0.61601785, 0.63843234, 0.62750379, 0.65701401, 0.64381052,\n",
       "       0.66827145, 0.66230588, 0.66566318, 0.64233266, 0.62439355,\n",
       "       0.57522447, 0.55954358, 0.53770209, 0.53204424])"
      ]
     },
     "execution_count": 94,
     "metadata": {},
     "output_type": "execute_result"
    }
   ],
   "source": [
    "auc_scores_test"
   ]
  },
  {
   "cell_type": "code",
   "execution_count": 95,
   "metadata": {
    "id": "TNnAfh3eLWrw"
   },
   "outputs": [],
   "source": [
    "paramaters_list=[]\n",
    "from math import log\n",
    "for i in params:\n",
    "  paramaters_list.append(log(i['alpha']))"
   ]
  },
  {
   "cell_type": "code",
   "execution_count": 96,
   "metadata": {
    "id": "tUGQeXqkLWrw"
   },
   "outputs": [],
   "source": [
    "import  matplotlib.pyplot as plt"
   ]
  },
  {
   "cell_type": "code",
   "execution_count": 97,
   "metadata": {
    "colab": {
     "base_uri": "https://localhost:8080/"
    },
    "id": "ixhVv-PGLWrw",
    "outputId": "cd4e1f37-3b5b-426c-a38b-f201392f88fa"
   },
   "outputs": [
    {
     "data": {
      "text/plain": [
       "array([0.90928349, 0.90051177, 0.90569314, 0.88378778, 0.89704779,\n",
       "       0.83461728, 0.87432105, 0.80621617, 0.71920635, 0.67795234,\n",
       "       0.59307882, 0.5701336 , 0.54137779, 0.53454649])"
      ]
     },
     "execution_count": 97,
     "metadata": {},
     "output_type": "execute_result"
    }
   ],
   "source": [
    "auc_scores_train"
   ]
  },
  {
   "cell_type": "code",
   "execution_count": 98,
   "metadata": {
    "colab": {
     "base_uri": "https://localhost:8080/"
    },
    "id": "yZteQ8eXLWrx",
    "outputId": "232f7fdd-180b-457e-aed3-d7e96a8873e8"
   },
   "outputs": [
    {
     "data": {
      "text/plain": [
       "[-11.512925464970229,\n",
       " -7.600902459542082,\n",
       " -9.210340371976182,\n",
       " -5.298317366548036,\n",
       " -6.907755278982137,\n",
       " -2.995732273553991,\n",
       " -4.605170185988091,\n",
       " -2.3025850929940455,\n",
       " -0.6931471805599453,\n",
       " 0.0,\n",
       " 1.6094379124341003,\n",
       " 2.302585092994046,\n",
       " 3.912023005428146,\n",
       " 4.605170185988092]"
      ]
     },
     "execution_count": 98,
     "metadata": {},
     "output_type": "execute_result"
    }
   ],
   "source": [
    "paramaters_list"
   ]
  },
  {
   "cell_type": "code",
   "execution_count": 99,
   "metadata": {
    "colab": {
     "base_uri": "https://localhost:8080/",
     "height": 313
    },
    "id": "76uFIF6OLWrx",
    "outputId": "f72da776-747e-4b92-e2fe-dc83d493fd13"
   },
   "outputs": [
    {
     "data": {
      "text/plain": [
       "Text(0.5, 1.0, 'auc vs log(alpha)')"
      ]
     },
     "execution_count": 99,
     "metadata": {},
     "output_type": "execute_result"
    },
    {
     "data": {
      "image/png": "[encoded data removed]",
      "text/plain": [
       "<Figure size 432x288 with 1 Axes>"
      ]
     },
     "metadata": {
      "needs_background": "light"
     },
     "output_type": "display_data"
    }
   ],
   "source": [
    "# Ploting the training and the CV AUC scores, for different values of 'alpha', using a 2D line plot\n",
    "\n",
    "plt.plot(paramaters_list,auc_scores_train,label='train')\n",
    "plt.plot(paramaters_list,auc_scores_test,label='test')\n",
    "plt.legend()\n",
    "plt.grid()\n",
    "plt.xlabel('log(alpha)')\n",
    "plt.ylabel('auc scores')\n",
    "plt.title('auc vs log(alpha)')"
   ]
  },
  {
   "cell_type": "code",
   "execution_count": 100,
   "metadata": {
    "id": "ebuxvSg3LWrx"
   },
   "outputs": [],
   "source": [
    "optimal_alpha=pd.DataFrame(model_grid.cv_results_)[pd.DataFrame(model_grid.cv_results_)['mean_test_score']==pd.DataFrame(model_grid.cv_results_)['mean_test_score'].max()]['params'].iloc[0]['alpha']"
   ]
  },
  {
   "cell_type": "code",
   "execution_count": 101,
   "metadata": {
    "colab": {
     "base_uri": "https://localhost:8080/"
    },
    "id": "cjigMNdoLWrx",
    "outputId": "a9e47422-c026-491e-8d0b-04c537565236"
   },
   "outputs": [
    {
     "data": {
      "text/plain": [
       "{'alpha': 0.05}"
      ]
     },
     "execution_count": 101,
     "metadata": {},
     "output_type": "execute_result"
    }
   ],
   "source": [
    "model_grid.best_params_"
   ]
  },
  {
   "cell_type": "code",
   "execution_count": 102,
   "metadata": {
    "colab": {
     "base_uri": "https://localhost:8080/"
    },
    "id": "-PyYRFE0LWrx",
    "outputId": "da267bdb-cd59-4d58-afb6-5b6cdd0664ef"
   },
   "outputs": [
    {
     "name": "stdout",
     "output_type": "stream",
     "text": [
      "optimal alpha is  0.05\n"
     ]
    }
   ],
   "source": [
    "print('optimal alpha is ',optimal_alpha)"
   ]
  },
  {
   "cell_type": "code",
   "execution_count": 103,
   "metadata": {
    "id": "cBLIhNXxLWrx"
   },
   "outputs": [],
   "source": [
    "clf = MultinomialNB(class_prior=[0.5,0.5],alpha=optimal_alpha)\n",
    "model=clf.fit(X,y_train)"
   ]
  },
  {
   "cell_type": "code",
   "execution_count": 104,
   "metadata": {
    "colab": {
     "base_uri": "https://localhost:8080/"
    },
    "id": "CBqdsxgOLWrx",
    "outputId": "51c78772-4aa5-49a2-8ff7-2628a5323350"
   },
   "outputs": [
    {
     "data": {
      "text/plain": [
       "array([0, 0, 0, ..., 0, 1, 0])"
      ]
     },
     "execution_count": 104,
     "metadata": {},
     "output_type": "execute_result"
    }
   ],
   "source": [
    "model.predict(X)"
   ]
  },
  {
   "cell_type": "code",
   "execution_count": 105,
   "metadata": {
    "colab": {
     "base_uri": "https://localhost:8080/"
    },
    "id": "Ih3cU3CkLWrx",
    "outputId": "67590e38-d82b-429c-dfab-9448eb1df475"
   },
   "outputs": [
    {
     "data": {
      "text/plain": [
       "array([0, 1, 1, ..., 0, 1, 0])"
      ]
     },
     "execution_count": 105,
     "metadata": {},
     "output_type": "execute_result"
    }
   ],
   "source": [
    "model.predict(X_test)"
   ]
  },
  {
   "cell_type": "code",
   "execution_count": 106,
   "metadata": {
    "colab": {
     "base_uri": "https://localhost:8080/"
    },
    "id": "OBl-JoGkLWry",
    "outputId": "57168af0-d972-486a-f74e-b8f053f553f6"
   },
   "outputs": [
    {
     "data": {
      "text/plain": [
       "array([[0.57102277, 0.42897723],\n",
       "       [0.51348906, 0.48651094],\n",
       "       [0.67926618, 0.32073382],\n",
       "       ...,\n",
       "       [0.65257507, 0.34742493],\n",
       "       [0.27426401, 0.72573599],\n",
       "       [0.52773323, 0.47226677]])"
      ]
     },
     "execution_count": 106,
     "metadata": {},
     "output_type": "execute_result"
    }
   ],
   "source": [
    "model.predict_proba(X)"
   ]
  },
  {
   "cell_type": "code",
   "execution_count": 107,
   "metadata": {
    "colab": {
     "base_uri": "https://localhost:8080/"
    },
    "id": "VuILI2uWLWry",
    "outputId": "4e34601e-8034-4e3c-81a2-6405071148ac"
   },
   "outputs": [
    {
     "data": {
      "text/plain": [
       "{'class label': array([1, 1, 1, ..., 0, 1, 1]),\n",
       " 'probablities given by model': array([[0.57102277, 0.42897723],\n",
       "        [0.51348906, 0.48651094],\n",
       "        [0.67926618, 0.32073382],\n",
       "        ...,\n",
       "        [0.65257507, 0.34742493],\n",
       "        [0.27426401, 0.72573599],\n",
       "        [0.52773323, 0.47226677]])}"
      ]
     },
     "execution_count": 107,
     "metadata": {},
     "output_type": "execute_result"
    }
   ],
   "source": [
    "({'probablities given by model':model.predict_proba(X),'class label':y_train})"
   ]
  },
  {
   "cell_type": "code",
   "execution_count": 108,
   "metadata": {
    "colab": {
     "base_uri": "https://localhost:8080/"
    },
    "id": "oai8hydyLWry",
    "outputId": "2a382f2d-75e5-47a9-a104-a9e25f796e3c"
   },
   "outputs": [
    {
     "data": {
      "text/plain": [
       "array([1, 1, 1, ..., 0, 1, 1])"
      ]
     },
     "execution_count": 108,
     "metadata": {},
     "output_type": "execute_result"
    }
   ],
   "source": [
    "y_train"
   ]
  },
  {
   "cell_type": "code",
   "execution_count": 108,
   "metadata": {
    "id": "oEj9zOjjLWrz"
   },
   "outputs": [],
   "source": []
  },
  {
   "cell_type": "code",
   "execution_count": 109,
   "metadata": {
    "id": "ScHW7dX5LWrz"
   },
   "outputs": [],
   "source": [
    "probablities_model_test=model.predict_proba(X_test)\n",
    "probablities_model_train=model.predict_proba(X)"
   ]
  },
  {
   "cell_type": "code",
   "execution_count": 110,
   "metadata": {
    "colab": {
     "base_uri": "https://localhost:8080/"
    },
    "id": "BYGSmy34LWrz",
    "outputId": "bd03a6bd-4cf8-410c-b975-7de961020d57"
   },
   "outputs": [
    {
     "data": {
      "text/plain": [
       "array([[0.57102277, 0.42897723],\n",
       "       [0.51348906, 0.48651094],\n",
       "       [0.67926618, 0.32073382],\n",
       "       ...,\n",
       "       [0.65257507, 0.34742493],\n",
       "       [0.27426401, 0.72573599],\n",
       "       [0.52773323, 0.47226677]])"
      ]
     },
     "execution_count": 110,
     "metadata": {},
     "output_type": "execute_result"
    }
   ],
   "source": [
    "probablities_model_train"
   ]
  },
  {
   "cell_type": "code",
   "execution_count": 111,
   "metadata": {
    "colab": {
     "base_uri": "https://localhost:8080/"
    },
    "id": "pt1Spr2YLWrz",
    "outputId": "4dac801d-6344-461c-cf89-cfef26a631f3"
   },
   "outputs": [
    {
     "data": {
      "text/plain": [
       "array([[0.6883992 , 0.3116008 ],\n",
       "       [0.37638354, 0.62361646],\n",
       "       [0.34917541, 0.65082459],\n",
       "       ...,\n",
       "       [0.55863973, 0.44136027],\n",
       "       [0.28649303, 0.71350697],\n",
       "       [0.59065654, 0.40934346]])"
      ]
     },
     "execution_count": 111,
     "metadata": {},
     "output_type": "execute_result"
    }
   ],
   "source": [
    "probablities_model_test"
   ]
  },
  {
   "cell_type": "code",
   "execution_count": 112,
   "metadata": {
    "colab": {
     "base_uri": "https://localhost:8080/"
    },
    "id": "u1-FdpapLWrz",
    "outputId": "aa4f88f1-e88e-4d3b-f09b-8197610ac0de"
   },
   "outputs": [
    {
     "data": {
      "text/plain": [
       "(81936, 1)"
      ]
     },
     "execution_count": 112,
     "metadata": {},
     "output_type": "execute_result"
    }
   ],
   "source": [
    "y_train.reshape(-1,1).shape"
   ]
  },
  {
   "cell_type": "code",
   "execution_count": 112,
   "metadata": {
    "id": "8patEKUqLWrz"
   },
   "outputs": [],
   "source": []
  },
  {
   "cell_type": "code",
   "execution_count": 113,
   "metadata": {
    "colab": {
     "base_uri": "https://localhost:8080/"
    },
    "id": "OaRDyckYLWrz",
    "outputId": "0e5b2d89-1724-4c40-aef5-d76fd227c66d"
   },
   "outputs": [
    {
     "data": {
      "text/plain": [
       "array([[1],\n",
       "       [1],\n",
       "       [1],\n",
       "       ...,\n",
       "       [1],\n",
       "       [1],\n",
       "       [0]])"
      ]
     },
     "execution_count": 113,
     "metadata": {},
     "output_type": "execute_result"
    }
   ],
   "source": [
    "np.array(y_test).reshape(-1,1)"
   ]
  },
  {
   "cell_type": "code",
   "execution_count": 114,
   "metadata": {
    "id": "Aa2B95ScLWr0"
   },
   "outputs": [],
   "source": [
    "train_probablities_model=list(map(lambda x:x[1],probablities_model_train))\n",
    "test_probablities_model=list(map(lambda x:x[1],probablities_model_test))"
   ]
  },
  {
   "cell_type": "code",
   "execution_count": 115,
   "metadata": {
    "colab": {
     "base_uri": "https://localhost:8080/"
    },
    "id": "RoU9dx4oLWr0",
    "outputId": "4c36e931-752e-4187-f8a5-446015032734"
   },
   "outputs": [
    {
     "data": {
      "text/plain": [
       "81936"
      ]
     },
     "execution_count": 115,
     "metadata": {},
     "output_type": "execute_result"
    }
   ],
   "source": [
    "len(y_train)"
   ]
  },
  {
   "cell_type": "code",
   "execution_count": 116,
   "metadata": {
    "colab": {
     "base_uri": "https://localhost:8080/"
    },
    "id": "XhQD9-1wLWr0",
    "outputId": "d160f3a3-5017-4636-e265-ba08c1ef80f1"
   },
   "outputs": [
    {
     "data": {
      "text/plain": [
       "81936"
      ]
     },
     "execution_count": 116,
     "metadata": {},
     "output_type": "execute_result"
    }
   ],
   "source": [
    "len(train_probablities_model)"
   ]
  },
  {
   "cell_type": "code",
   "execution_count": 117,
   "metadata": {
    "id": "Z_1qh8ASLWr0"
   },
   "outputs": [],
   "source": [
    "# Ploting the ROC-AUC curves using the probability predictions made on train and test data.\n",
    "from sklearn import metrics\n",
    "from sklearn.metrics import auc\n",
    "fpr_train, tpr_train, thresholds_train= metrics.roc_curve(y_train,train_probablities_model)\n",
    "fpr_test, tpr_test, thresholds_test = metrics.roc_curve(y_test,test_probablities_model)"
   ]
  },
  {
   "cell_type": "code",
   "execution_count": 118,
   "metadata": {
    "colab": {
     "base_uri": "https://localhost:8080/",
     "height": 313
    },
    "id": "78LU0vpkLWr0",
    "outputId": "15192b07-561b-4a4e-984c-f98b4271d3c1"
   },
   "outputs": [
    {
     "data": {
      "text/plain": [
       "Text(0.5, 1.0, 'tpr/fpr')"
      ]
     },
     "execution_count": 118,
     "metadata": {},
     "output_type": "execute_result"
    },
    {
     "data": {
      "image/png": "[encoded data removed]",
      "text/plain": [
       "<Figure size 432x288 with 1 Axes>"
      ]
     },
     "metadata": {
      "needs_background": "light"
     },
     "output_type": "display_data"
    }
   ],
   "source": [
    "plt.plot(fpr_train,tpr_train,label=f'train : {auc(fpr_train,tpr_train)}')\n",
    "plt.plot(fpr_test,tpr_test,label=f'test : {auc(fpr_test,tpr_test)}')\n",
    "plt.legend()\n",
    "plt.ylabel('tpr')\n",
    "plt.xlabel('fpr')\n",
    "plt.grid()\n",
    "plt.title('tpr/fpr')"
   ]
  },
  {
   "cell_type": "code",
   "execution_count": 119,
   "metadata": {
    "colab": {
     "base_uri": "https://localhost:8080/",
     "height": 36
    },
    "id": "mglt3rC_LWr0",
    "outputId": "b61c7f95-2ea1-4f29-9a19-92c0df37cfbe"
   },
   "outputs": [
    {
     "data": {
      "application/vnd.google.colaboratory.intrinsic+json": {
       "type": "string"
      },
      "text/plain": [
       "'train : 0.822243137225533'"
      ]
     },
     "execution_count": 119,
     "metadata": {},
     "output_type": "execute_result"
    }
   ],
   "source": [
    "f'train : {auc(fpr_train,tpr_train)}'"
   ]
  },
  {
   "cell_type": "code",
   "execution_count": 120,
   "metadata": {
    "id": "KJSLRtQALWr1"
   },
   "outputs": [],
   "source": [
    "count_train=0\n",
    "thres_train=0\n",
    "for i in range(len(fpr_train)):\n",
    "  if tpr_train[i]*(1-fpr_train[i])>count_train:\n",
    "    count_train=tpr_train[i]*(1-fpr_train[i])\n",
    "    thres_train=thresholds_train[i]\n",
    "count_test=0\n",
    "thres_test=0\n",
    "for i in range(len(fpr_test)):\n",
    "  if tpr_test[i]*(1-fpr_test[i])>count_test:\n",
    "    count_test=tpr_test[i]*(1-fpr_test[i])\n",
    "    thres_test=thresholds_test[i]"
   ]
  },
  {
   "cell_type": "code",
   "execution_count": 121,
   "metadata": {
    "colab": {
     "base_uri": "https://localhost:8080/"
    },
    "id": "NpF4ow5ZLWr1",
    "outputId": "ab390a32-155c-4349-a77b-fe558f792ef0"
   },
   "outputs": [
    {
     "data": {
      "text/plain": [
       "array([0.00000000e+00, 1.43822810e-05, 4.57356537e-03, ...,\n",
       "       9.99985618e-01, 1.00000000e+00, 1.00000000e+00])"
      ]
     },
     "execution_count": 121,
     "metadata": {},
     "output_type": "execute_result"
    }
   ],
   "source": [
    "tpr_train"
   ]
  },
  {
   "cell_type": "code",
   "execution_count": 122,
   "metadata": {
    "colab": {
     "base_uri": "https://localhost:8080/"
    },
    "id": "F_Jr6dx6LWr1",
    "outputId": "ef5972a2-bef1-4095-d126-b8cc136e4869"
   },
   "outputs": [
    {
     "data": {
      "text/plain": [
       "0.5111097900493313"
      ]
     },
     "execution_count": 122,
     "metadata": {},
     "output_type": "execute_result"
    }
   ],
   "source": [
    "#best threshold according to TPR*(1-FPR) for train data\n",
    "thres_train"
   ]
  },
  {
   "cell_type": "code",
   "execution_count": 123,
   "metadata": {
    "id": "m2nhSolrLWr1"
   },
   "outputs": [],
   "source": [
    "train_values_proba=[]\n",
    "\n",
    "for i in range(len(train_probablities_model)):\n",
    "  if train_probablities_model[i]>=thres_train:\n",
    "    train_values_proba.append(1)\n",
    "  else:\n",
    "    train_values_proba.append(0)\n",
    "\n",
    "test_values_proba=[]\n",
    "\n",
    "for i in range(len(test_probablities_model)):\n",
    "  if test_probablities_model[i]>=thres_train:\n",
    "    test_values_proba.append(1)\n",
    "  else:\n",
    "    test_values_proba.append(0)\n",
    "\n"
   ]
  },
  {
   "cell_type": "code",
   "execution_count": 124,
   "metadata": {
    "id": "hZ0JiTqiLWr1"
   },
   "outputs": [],
   "source": [
    "from sklearn.metrics import confusion_matrix\n",
    "cm_train=confusion_matrix(y_train,train_values_proba)\n",
    "cm_test=confusion_matrix(y_test,test_values_proba)"
   ]
  },
  {
   "cell_type": "code",
   "execution_count": 125,
   "metadata": {
    "colab": {
     "base_uri": "https://localhost:8080/"
    },
    "id": "vCMUImInLWr1",
    "outputId": "0e21ba10-b960-4970-8509-5bffc91f09e2"
   },
   "outputs": [
    {
     "data": {
      "text/plain": [
       "array([[ 9196,  3210],\n",
       "       [18055, 51475]])"
      ]
     },
     "execution_count": 125,
     "metadata": {},
     "output_type": "execute_result"
    }
   ],
   "source": [
    "cm_train"
   ]
  },
  {
   "cell_type": "code",
   "execution_count": 126,
   "metadata": {
    "colab": {
     "base_uri": "https://localhost:8080/"
    },
    "id": "3l8jxST9LWr1",
    "outputId": "57e91549-88bc-4580-b26e-000a22d0edf6"
   },
   "outputs": [
    {
     "data": {
      "text/plain": [
       "array([[ 2300,  1836],\n",
       "       [ 6798, 16378]])"
      ]
     },
     "execution_count": 126,
     "metadata": {},
     "output_type": "execute_result"
    }
   ],
   "source": [
    "cm_test"
   ]
  },
  {
   "cell_type": "code",
   "execution_count": 127,
   "metadata": {
    "colab": {
     "base_uri": "https://localhost:8080/",
     "height": 300
    },
    "id": "_HkJB8oOLWr1",
    "outputId": "688aeb53-dba6-426b-e99b-3c6091fd563b"
   },
   "outputs": [
    {
     "data": {
      "text/plain": [
       "Text(0.5, 1.0, 'confusion matrix for training data')"
      ]
     },
     "execution_count": 127,
     "metadata": {},
     "output_type": "execute_result"
    },
    {
     "data": {
      "image/png": "[encoded data removed]",
      "text/plain": [
       "<Figure size 432x288 with 2 Axes>"
      ]
     },
     "metadata": {
      "needs_background": "light"
     },
     "output_type": "display_data"
    }
   ],
   "source": [
    "import seaborn as sns\n",
    "sns.heatmap(cm_train, annot=True,fmt=\"d\",center=True)\n",
    "plt.title('confusion matrix for training data')"
   ]
  },
  {
   "cell_type": "code",
   "execution_count": 128,
   "metadata": {
    "colab": {
     "base_uri": "https://localhost:8080/",
     "height": 300
    },
    "id": "AdmuhEwcLWr2",
    "outputId": "b4db6b55-c882-49b4-bbdf-ea1346b0d42c"
   },
   "outputs": [
    {
     "data": {
      "text/plain": [
       "Text(0.5, 1.0, 'confusion matrix for test data')"
      ]
     },
     "execution_count": 128,
     "metadata": {},
     "output_type": "execute_result"
    },
    {
     "data": {
      "image/png": "[encoded data removed]",
      "text/plain": [
       "<Figure size 432x288 with 2 Axes>"
      ]
     },
     "metadata": {
      "needs_background": "light"
     },
     "output_type": "display_data"
    }
   ],
   "source": [
    "sns.heatmap(cm_test, annot=True,fmt=\"d\",center=True)\n",
    "plt.title('confusion matrix for test data')"
   ]
  },
  {
   "cell_type": "code",
   "execution_count": 133,
   "metadata": {
    "colab": {
     "base_uri": "https://localhost:8080/"
    },
    "id": "j2xJykaluubI",
    "outputId": "4108939b-6fe0-49de-e5ac-04a65d06f99c"
   },
   "outputs": [
    {
     "name": "stderr",
     "output_type": "stream",
     "text": [
      "/usr/local/lib/python3.7/dist-packages/sklearn/utils/deprecation.py:87: FutureWarning: Function get_feature_names is deprecated; get_feature_names is deprecated in 1.0 and will be removed in 1.2. Please use get_feature_names_out instead.\n",
      "  warnings.warn(msg, category=FutureWarning)\n"
     ]
    },
    {
     "name": "stdout",
     "output_type": "stream",
     "text": [
      "51\n",
      "5\n",
      "4\n",
      "9\n",
      "30\n",
      "50440\n"
     ]
    }
   ],
   "source": [
    "all_features=[]\n",
    "for i in (categorical+['essay']):\n",
    "  vectorizer = CountVectorizer(binary=True)\n",
    "  vectorizer.fit(x_train[i])\n",
    "  all_features.extend(list(vectorizer.get_feature_names()))\n",
    "  print(len(list(vectorizer.get_feature_names())))\n",
    "all_features.extend(numerical)"
   ]
  },
  {
   "cell_type": "code",
   "execution_count": 134,
   "metadata": {
    "colab": {
     "base_uri": "https://localhost:8080/"
    },
    "id": "thwCLgPy6EUu",
    "outputId": "86097847-6ccd-44c4-9da5-b60c1064358c"
   },
   "outputs": [
    {
     "name": "stdout",
     "output_type": "stream",
     "text": [
      "##################################TOP FEATURES FOR NEGATIVE CLASS###################################\n",
      "\n",
      "mrs\n",
      "literacy_language\n",
      "grades_prek_2\n",
      "math_science\n",
      "ms\n",
      "grades_3_5\n",
      "mathematics\n",
      "literacy\n",
      "literature_writing\n",
      "grades_6_8\n",
      "specialneeds\n",
      "specialneeds\n",
      "health_sports\n",
      "ca\n",
      "students\n",
      "appliedlearning\n",
      "appliedsciences\n",
      "grades_9_12\n",
      "mr\n"
     ]
    }
   ],
   "source": [
    "#top 20 features for negative class\n",
    "print(\"TOP FEATURES FOR NEGATIVE CLASS\".center(100,'#'),end='\\n\\n')\n",
    "for i in range(1,20):\n",
    "  print(np.array(all_features)[np.argsort(model.feature_log_prob_[0])[-i]])"
   ]
  },
  {
   "cell_type": "code",
   "execution_count": 135,
   "metadata": {
    "colab": {
     "base_uri": "https://localhost:8080/"
    },
    "id": "G7NO0_2h76ul",
    "outputId": "3b2b7c39-9e49-4d23-a759-2d61f5362fac"
   },
   "outputs": [
    {
     "name": "stdout",
     "output_type": "stream",
     "text": [
      "##################################TOP FEATURES FOR POSITIVE CLASS###################################\n",
      "\n",
      "mrs\n",
      "literacy_language\n",
      "grades_prek_2\n",
      "math_science\n",
      "ms\n",
      "grades_3_5\n",
      "literacy\n",
      "mathematics\n",
      "literature_writing\n",
      "grades_6_8\n",
      "ca\n",
      "health_sports\n",
      "students\n",
      "specialneeds\n",
      "specialneeds\n",
      "appliedlearning\n",
      "grades_9_12\n",
      "mr\n",
      "appliedsciences\n"
     ]
    }
   ],
   "source": [
    "#top 20 features for negative class\n",
    "print(\"TOP FEATURES FOR POSITIVE CLASS\".center(100,'#'),end='\\n\\n')\n",
    "for i in range(1,20):\n",
    "  print(np.array(all_features)[np.argsort(model.feature_log_prob_[1])[-i]])"
   ]
  },
  {
   "cell_type": "markdown",
   "metadata": {
    "id": "lS9hIHdib3dp"
   },
   "source": [
    "<h1>Summary</h1>"
   ]
  },
  {
   "cell_type": "code",
   "execution_count": 137,
   "metadata": {
    "colab": {
     "base_uri": "https://localhost:8080/"
    },
    "id": "GsJJulzh8jxJ",
    "outputId": "351d532e-c215-44ab-9d5d-306bed55706b"
   },
   "outputs": [
    {
     "name": "stdout",
     "output_type": "stream",
     "text": [
      "+------------+-----------------+------+\n",
      "| vectorizer | hyper parameter | AUC  |\n",
      "+------------+-----------------+------+\n",
      "|    bow     |       0.05      | 0.71 |\n",
      "|   Tfidf    |       0.05      | 0.68 |\n",
      "+------------+-----------------+------+\n"
     ]
    }
   ],
   "source": [
    "from prettytable import PrettyTable\n",
    "x = PrettyTable()\n",
    "x.field_names=['vectorizer','hyper parameter','AUC']\n",
    "x.add_row(['bow',0.05,0.71])\n",
    "x.add_row(['Tfidf',0.05,0.68])\n",
    "print(x)"
   ]
  },
  {
   "cell_type": "code",
   "execution_count": 137,
   "metadata": {
    "id": "8mvk06jN8jz8"
   },
   "outputs": [],
   "source": []
  },
  {
   "cell_type": "code",
   "execution_count": 137,
   "metadata": {
    "id": "jjwzOy4gmg0m"
   },
   "outputs": [],
   "source": []
  }
 ],
 "metadata": {
  "colab": {
   "collapsed_sections": [],
   "name": "Copy of NB_Assignment_instructions.ipynb",
   "provenance": []
  },
  "kernelspec": {
   "display_name": "Python 3 (ipykernel)",
   "language": "python",
   "name": "python3"
  },
  "language_info": {
   "codemirror_mode": {
    "name": "ipython",
    "version": 3
   },
   "file_extension": ".py",
   "mimetype": "text/x-python",
   "name": "python",
   "nbconvert_exporter": "python",
   "pygments_lexer": "ipython3",
   "version": "3.10.4"
  },
  "widgets": {
   "application/vnd.jupyter.widget-state+json": {
    "02a0a7b3a63e432f8697bc2954aa4b49": {
     "model_module": "@jupyter-widgets/controls",
     "model_module_version": "1.5.0",
     "model_name": "ProgressStyleModel",
     "state": {
      "_model_module": "@jupyter-widgets/controls",
      "_model_module_version": "1.5.0",
      "_model_name": "ProgressStyleModel",
      "_view_count": null,
      "_view_module": "@jupyter-widgets/base",
      "_view_module_version": "1.2.0",
      "_view_name": "StyleView",
      "bar_color": null,
      "description_width": ""
     }
    },
    "02a198e452a54a97a67438558b5d4da0": {
     "model_module": "@jupyter-widgets/controls",
     "model_module_version": "1.5.0",
     "model_name": "HBoxModel",
     "state": {
      "_dom_classes": [],
      "_model_module": "@jupyter-widgets/controls",
      "_model_module_version": "1.5.0",
      "_model_name": "HBoxModel",
      "_view_count": null,
      "_view_module": "@jupyter-widgets/controls",
      "_view_module_version": "1.5.0",
      "_view_name": "HBoxView",
      "box_style": "",
      "children": [
       "IPY_MODEL_d220cd48f34d4e3e922738ecdcde51e6",
       "IPY_MODEL_cd44acf056064d938eb6e42139638efe",
       "IPY_MODEL_32b937c806eb4100a825174f15c088a8"
      ],
      "layout": "IPY_MODEL_7dafb48d328b4aa68745fe3754418053"
     }
    },
    "08d8cbe61d2c4973a82766157de8eb1f": {
     "model_module": "@jupyter-widgets/controls",
     "model_module_version": "1.5.0",
     "model_name": "ProgressStyleModel",
     "state": {
      "_model_module": "@jupyter-widgets/controls",
      "_model_module_version": "1.5.0",
      "_model_name": "ProgressStyleModel",
      "_view_count": null,
      "_view_module": "@jupyter-widgets/base",
      "_view_module_version": "1.2.0",
      "_view_name": "StyleView",
      "bar_color": null,
      "description_width": ""
     }
    },
    "186cc76269ec47f58b8828de14bd0513": {
     "model_module": "@jupyter-widgets/base",
     "model_module_version": "1.2.0",
     "model_name": "LayoutModel",
     "state": {
      "_model_module": "@jupyter-widgets/base",
      "_model_module_version": "1.2.0",
      "_model_name": "LayoutModel",
      "_view_count": null,
      "_view_module": "@jupyter-widgets/base",
      "_view_module_version": "1.2.0",
      "_view_name": "LayoutView",
      "align_content": null,
      "align_items": null,
      "align_self": null,
      "border": null,
      "bottom": null,
      "display": null,
      "flex": null,
      "flex_flow": null,
      "grid_area": null,
      "grid_auto_columns": null,
      "grid_auto_flow": null,
      "grid_auto_rows": null,
      "grid_column": null,
      "grid_gap": null,
      "grid_row": null,
      "grid_template_areas": null,
      "grid_template_columns": null,
      "grid_template_rows": null,
      "height": null,
      "justify_content": null,
      "justify_items": null,
      "left": null,
      "margin": null,
      "max_height": null,
      "max_width": null,
      "min_height": null,
      "min_width": null,
      "object_fit": null,
      "object_position": null,
      "order": null,
      "overflow": null,
      "overflow_x": null,
      "overflow_y": null,
      "padding": null,
      "right": null,
      "top": null,
      "visibility": null,
      "width": null
     }
    },
    "1d157cac443f410583274e0fb460b94d": {
     "model_module": "@jupyter-widgets/controls",
     "model_module_version": "1.5.0",
     "model_name": "HTMLModel",
     "state": {
      "_dom_classes": [],
      "_model_module": "@jupyter-widgets/controls",
      "_model_module_version": "1.5.0",
      "_model_name": "HTMLModel",
      "_view_count": null,
      "_view_module": "@jupyter-widgets/controls",
      "_view_module_version": "1.5.0",
      "_view_name": "HTMLView",
      "description": "",
      "description_tooltip": null,
      "layout": "IPY_MODEL_d3cab7df7a824a7a95822974e869838b",
      "placeholder": "​",
      "style": "IPY_MODEL_c0dde42096424c41a8113db45ab537c3",
      "value": " 2/2 [00:00&lt;00:00, 55.20it/s]"
     }
    },
    "294338fa4e8f49caa4bc08dc76611474": {
     "model_module": "@jupyter-widgets/controls",
     "model_module_version": "1.5.0",
     "model_name": "HTMLModel",
     "state": {
      "_dom_classes": [],
      "_model_module": "@jupyter-widgets/controls",
      "_model_module_version": "1.5.0",
      "_model_name": "HTMLModel",
      "_view_count": null,
      "_view_module": "@jupyter-widgets/controls",
      "_view_module_version": "1.5.0",
      "_view_name": "HTMLView",
      "description": "",
      "description_tooltip": null,
      "layout": "IPY_MODEL_c8ad9cbcb70549deac969641555506d6",
      "placeholder": "​",
      "style": "IPY_MODEL_a205649a9c07408a9a932000ecf835aa",
      "value": "100%"
     }
    },
    "32b937c806eb4100a825174f15c088a8": {
     "model_module": "@jupyter-widgets/controls",
     "model_module_version": "1.5.0",
     "model_name": "HTMLModel",
     "state": {
      "_dom_classes": [],
      "_model_module": "@jupyter-widgets/controls",
      "_model_module_version": "1.5.0",
      "_model_name": "HTMLModel",
      "_view_count": null,
      "_view_module": "@jupyter-widgets/controls",
      "_view_module_version": "1.5.0",
      "_view_name": "HTMLView",
      "description": "",
      "description_tooltip": null,
      "layout": "IPY_MODEL_e9f61e61d0b549fa9d864e0fd8817b97",
      "placeholder": "​",
      "style": "IPY_MODEL_6076fc9ce15c4d78816f44458b715d0f",
      "value": " 5/5 [00:01&lt;00:00,  2.85it/s]"
     }
    },
    "4a3bf53d5a704d989230048a013ebbda": {
     "model_module": "@jupyter-widgets/controls",
     "model_module_version": "1.5.0",
     "model_name": "HBoxModel",
     "state": {
      "_dom_classes": [],
      "_model_module": "@jupyter-widgets/controls",
      "_model_module_version": "1.5.0",
      "_model_name": "HBoxModel",
      "_view_count": null,
      "_view_module": "@jupyter-widgets/controls",
      "_view_module_version": "1.5.0",
      "_view_name": "HBoxView",
      "box_style": "",
      "children": [
       "IPY_MODEL_294338fa4e8f49caa4bc08dc76611474",
       "IPY_MODEL_9d49e2c4181d4c86a7b984d5dea8f3dc",
       "IPY_MODEL_1d157cac443f410583274e0fb460b94d"
      ],
      "layout": "IPY_MODEL_9924113c73f8400492d00fd85f94da69"
     }
    },
    "517d21430c0f411d8356632f5f7be1df": {
     "model_module": "@jupyter-widgets/base",
     "model_module_version": "1.2.0",
     "model_name": "LayoutModel",
     "state": {
      "_model_module": "@jupyter-widgets/base",
      "_model_module_version": "1.2.0",
      "_model_name": "LayoutModel",
      "_view_count": null,
      "_view_module": "@jupyter-widgets/base",
      "_view_module_version": "1.2.0",
      "_view_name": "LayoutView",
      "align_content": null,
      "align_items": null,
      "align_self": null,
      "border": null,
      "bottom": null,
      "display": null,
      "flex": null,
      "flex_flow": null,
      "grid_area": null,
      "grid_auto_columns": null,
      "grid_auto_flow": null,
      "grid_auto_rows": null,
      "grid_column": null,
      "grid_gap": null,
      "grid_row": null,
      "grid_template_areas": null,
      "grid_template_columns": null,
      "grid_template_rows": null,
      "height": null,
      "justify_content": null,
      "justify_items": null,
      "left": null,
      "margin": null,
      "max_height": null,
      "max_width": null,
      "min_height": null,
      "min_width": null,
      "object_fit": null,
      "object_position": null,
      "order": null,
      "overflow": null,
      "overflow_x": null,
      "overflow_y": null,
      "padding": null,
      "right": null,
      "top": null,
      "visibility": null,
      "width": null
     }
    },
    "6076fc9ce15c4d78816f44458b715d0f": {
     "model_module": "@jupyter-widgets/controls",
     "model_module_version": "1.5.0",
     "model_name": "DescriptionStyleModel",
     "state": {
      "_model_module": "@jupyter-widgets/controls",
      "_model_module_version": "1.5.0",
      "_model_name": "DescriptionStyleModel",
      "_view_count": null,
      "_view_module": "@jupyter-widgets/base",
      "_view_module_version": "1.2.0",
      "_view_name": "StyleView",
      "description_width": ""
     }
    },
    "6d2bcf5a731f43feb2b400f549b96cd1": {
     "model_module": "@jupyter-widgets/base",
     "model_module_version": "1.2.0",
     "model_name": "LayoutModel",
     "state": {
      "_model_module": "@jupyter-widgets/base",
      "_model_module_version": "1.2.0",
      "_model_name": "LayoutModel",
      "_view_count": null,
      "_view_module": "@jupyter-widgets/base",
      "_view_module_version": "1.2.0",
      "_view_name": "LayoutView",
      "align_content": null,
      "align_items": null,
      "align_self": null,
      "border": null,
      "bottom": null,
      "display": null,
      "flex": null,
      "flex_flow": null,
      "grid_area": null,
      "grid_auto_columns": null,
      "grid_auto_flow": null,
      "grid_auto_rows": null,
      "grid_column": null,
      "grid_gap": null,
      "grid_row": null,
      "grid_template_areas": null,
      "grid_template_columns": null,
      "grid_template_rows": null,
      "height": null,
      "justify_content": null,
      "justify_items": null,
      "left": null,
      "margin": null,
      "max_height": null,
      "max_width": null,
      "min_height": null,
      "min_width": null,
      "object_fit": null,
      "object_position": null,
      "order": null,
      "overflow": null,
      "overflow_x": null,
      "overflow_y": null,
      "padding": null,
      "right": null,
      "top": null,
      "visibility": null,
      "width": null
     }
    },
    "7dafb48d328b4aa68745fe3754418053": {
     "model_module": "@jupyter-widgets/base",
     "model_module_version": "1.2.0",
     "model_name": "LayoutModel",
     "state": {
      "_model_module": "@jupyter-widgets/base",
      "_model_module_version": "1.2.0",
      "_model_name": "LayoutModel",
      "_view_count": null,
      "_view_module": "@jupyter-widgets/base",
      "_view_module_version": "1.2.0",
      "_view_name": "LayoutView",
      "align_content": null,
      "align_items": null,
      "align_self": null,
      "border": null,
      "bottom": null,
      "display": null,
      "flex": null,
      "flex_flow": null,
      "grid_area": null,
      "grid_auto_columns": null,
      "grid_auto_flow": null,
      "grid_auto_rows": null,
      "grid_column": null,
      "grid_gap": null,
      "grid_row": null,
      "grid_template_areas": null,
      "grid_template_columns": null,
      "grid_template_rows": null,
      "height": null,
      "justify_content": null,
      "justify_items": null,
      "left": null,
      "margin": null,
      "max_height": null,
      "max_width": null,
      "min_height": null,
      "min_width": null,
      "object_fit": null,
      "object_position": null,
      "order": null,
      "overflow": null,
      "overflow_x": null,
      "overflow_y": null,
      "padding": null,
      "right": null,
      "top": null,
      "visibility": null,
      "width": null
     }
    },
    "98a319e2823c4a689d75f80da6a89204": {
     "model_module": "@jupyter-widgets/controls",
     "model_module_version": "1.5.0",
     "model_name": "DescriptionStyleModel",
     "state": {
      "_model_module": "@jupyter-widgets/controls",
      "_model_module_version": "1.5.0",
      "_model_name": "DescriptionStyleModel",
      "_view_count": null,
      "_view_module": "@jupyter-widgets/base",
      "_view_module_version": "1.2.0",
      "_view_name": "StyleView",
      "description_width": ""
     }
    },
    "9924113c73f8400492d00fd85f94da69": {
     "model_module": "@jupyter-widgets/base",
     "model_module_version": "1.2.0",
     "model_name": "LayoutModel",
     "state": {
      "_model_module": "@jupyter-widgets/base",
      "_model_module_version": "1.2.0",
      "_model_name": "LayoutModel",
      "_view_count": null,
      "_view_module": "@jupyter-widgets/base",
      "_view_module_version": "1.2.0",
      "_view_name": "LayoutView",
      "align_content": null,
      "align_items": null,
      "align_self": null,
      "border": null,
      "bottom": null,
      "display": null,
      "flex": null,
      "flex_flow": null,
      "grid_area": null,
      "grid_auto_columns": null,
      "grid_auto_flow": null,
      "grid_auto_rows": null,
      "grid_column": null,
      "grid_gap": null,
      "grid_row": null,
      "grid_template_areas": null,
      "grid_template_columns": null,
      "grid_template_rows": null,
      "height": null,
      "justify_content": null,
      "justify_items": null,
      "left": null,
      "margin": null,
      "max_height": null,
      "max_width": null,
      "min_height": null,
      "min_width": null,
      "object_fit": null,
      "object_position": null,
      "order": null,
      "overflow": null,
      "overflow_x": null,
      "overflow_y": null,
      "padding": null,
      "right": null,
      "top": null,
      "visibility": null,
      "width": null
     }
    },
    "9d49e2c4181d4c86a7b984d5dea8f3dc": {
     "model_module": "@jupyter-widgets/controls",
     "model_module_version": "1.5.0",
     "model_name": "FloatProgressModel",
     "state": {
      "_dom_classes": [],
      "_model_module": "@jupyter-widgets/controls",
      "_model_module_version": "1.5.0",
      "_model_name": "FloatProgressModel",
      "_view_count": null,
      "_view_module": "@jupyter-widgets/controls",
      "_view_module_version": "1.5.0",
      "_view_name": "ProgressView",
      "bar_style": "success",
      "description": "",
      "description_tooltip": null,
      "layout": "IPY_MODEL_517d21430c0f411d8356632f5f7be1df",
      "max": 2,
      "min": 0,
      "orientation": "horizontal",
      "style": "IPY_MODEL_02a0a7b3a63e432f8697bc2954aa4b49",
      "value": 2
     }
    },
    "a205649a9c07408a9a932000ecf835aa": {
     "model_module": "@jupyter-widgets/controls",
     "model_module_version": "1.5.0",
     "model_name": "DescriptionStyleModel",
     "state": {
      "_model_module": "@jupyter-widgets/controls",
      "_model_module_version": "1.5.0",
      "_model_name": "DescriptionStyleModel",
      "_view_count": null,
      "_view_module": "@jupyter-widgets/base",
      "_view_module_version": "1.2.0",
      "_view_name": "StyleView",
      "description_width": ""
     }
    },
    "c0dde42096424c41a8113db45ab537c3": {
     "model_module": "@jupyter-widgets/controls",
     "model_module_version": "1.5.0",
     "model_name": "DescriptionStyleModel",
     "state": {
      "_model_module": "@jupyter-widgets/controls",
      "_model_module_version": "1.5.0",
      "_model_name": "DescriptionStyleModel",
      "_view_count": null,
      "_view_module": "@jupyter-widgets/base",
      "_view_module_version": "1.2.0",
      "_view_name": "StyleView",
      "description_width": ""
     }
    },
    "c8ad9cbcb70549deac969641555506d6": {
     "model_module": "@jupyter-widgets/base",
     "model_module_version": "1.2.0",
     "model_name": "LayoutModel",
     "state": {
      "_model_module": "@jupyter-widgets/base",
      "_model_module_version": "1.2.0",
      "_model_name": "LayoutModel",
      "_view_count": null,
      "_view_module": "@jupyter-widgets/base",
      "_view_module_version": "1.2.0",
      "_view_name": "LayoutView",
      "align_content": null,
      "align_items": null,
      "align_self": null,
      "border": null,
      "bottom": null,
      "display": null,
      "flex": null,
      "flex_flow": null,
      "grid_area": null,
      "grid_auto_columns": null,
      "grid_auto_flow": null,
      "grid_auto_rows": null,
      "grid_column": null,
      "grid_gap": null,
      "grid_row": null,
      "grid_template_areas": null,
      "grid_template_columns": null,
      "grid_template_rows": null,
      "height": null,
      "justify_content": null,
      "justify_items": null,
      "left": null,
      "margin": null,
      "max_height": null,
      "max_width": null,
      "min_height": null,
      "min_width": null,
      "object_fit": null,
      "object_position": null,
      "order": null,
      "overflow": null,
      "overflow_x": null,
      "overflow_y": null,
      "padding": null,
      "right": null,
      "top": null,
      "visibility": null,
      "width": null
     }
    },
    "cd44acf056064d938eb6e42139638efe": {
     "model_module": "@jupyter-widgets/controls",
     "model_module_version": "1.5.0",
     "model_name": "FloatProgressModel",
     "state": {
      "_dom_classes": [],
      "_model_module": "@jupyter-widgets/controls",
      "_model_module_version": "1.5.0",
      "_model_name": "FloatProgressModel",
      "_view_count": null,
      "_view_module": "@jupyter-widgets/controls",
      "_view_module_version": "1.5.0",
      "_view_name": "ProgressView",
      "bar_style": "success",
      "description": "",
      "description_tooltip": null,
      "layout": "IPY_MODEL_186cc76269ec47f58b8828de14bd0513",
      "max": 5,
      "min": 0,
      "orientation": "horizontal",
      "style": "IPY_MODEL_08d8cbe61d2c4973a82766157de8eb1f",
      "value": 5
     }
    },
    "d220cd48f34d4e3e922738ecdcde51e6": {
     "model_module": "@jupyter-widgets/controls",
     "model_module_version": "1.5.0",
     "model_name": "HTMLModel",
     "state": {
      "_dom_classes": [],
      "_model_module": "@jupyter-widgets/controls",
      "_model_module_version": "1.5.0",
      "_model_name": "HTMLModel",
      "_view_count": null,
      "_view_module": "@jupyter-widgets/controls",
      "_view_module_version": "1.5.0",
      "_view_name": "HTMLView",
      "description": "",
      "description_tooltip": null,
      "layout": "IPY_MODEL_6d2bcf5a731f43feb2b400f549b96cd1",
      "placeholder": "​",
      "style": "IPY_MODEL_98a319e2823c4a689d75f80da6a89204",
      "value": "100%"
     }
    },
    "d3cab7df7a824a7a95822974e869838b": {
     "model_module": "@jupyter-widgets/base",
     "model_module_version": "1.2.0",
     "model_name": "LayoutModel",
     "state": {
      "_model_module": "@jupyter-widgets/base",
      "_model_module_version": "1.2.0",
      "_model_name": "LayoutModel",
      "_view_count": null,
      "_view_module": "@jupyter-widgets/base",
      "_view_module_version": "1.2.0",
      "_view_name": "LayoutView",
      "align_content": null,
      "align_items": null,
      "align_self": null,
      "border": null,
      "bottom": null,
      "display": null,
      "flex": null,
      "flex_flow": null,
      "grid_area": null,
      "grid_auto_columns": null,
      "grid_auto_flow": null,
      "grid_auto_rows": null,
      "grid_column": null,
      "grid_gap": null,
      "grid_row": null,
      "grid_template_areas": null,
      "grid_template_columns": null,
      "grid_template_rows": null,
      "height": null,
      "justify_content": null,
      "justify_items": null,
      "left": null,
      "margin": null,
      "max_height": null,
      "max_width": null,
      "min_height": null,
      "min_width": null,
      "object_fit": null,
      "object_position": null,
      "order": null,
      "overflow": null,
      "overflow_x": null,
      "overflow_y": null,
      "padding": null,
      "right": null,
      "top": null,
      "visibility": null,
      "width": null
     }
    },
    "e9f61e61d0b549fa9d864e0fd8817b97": {
     "model_module": "@jupyter-widgets/base",
     "model_module_version": "1.2.0",
     "model_name": "LayoutModel",
     "state": {
      "_model_module": "@jupyter-widgets/base",
      "_model_module_version": "1.2.0",
      "_model_name": "LayoutModel",
      "_view_count": null,
      "_view_module": "@jupyter-widgets/base",
      "_view_module_version": "1.2.0",
      "_view_name": "LayoutView",
      "align_content": null,
      "align_items": null,
      "align_self": null,
      "border": null,
      "bottom": null,
      "display": null,
      "flex": null,
      "flex_flow": null,
      "grid_area": null,
      "grid_auto_columns": null,
      "grid_auto_flow": null,
      "grid_auto_rows": null,
      "grid_column": null,
      "grid_gap": null,
      "grid_row": null,
      "grid_template_areas": null,
      "grid_template_columns": null,
      "grid_template_rows": null,
      "height": null,
      "justify_content": null,
      "justify_items": null,
      "left": null,
      "margin": null,
      "max_height": null,
      "max_width": null,
      "min_height": null,
      "min_width": null,
      "object_fit": null,
      "object_position": null,
      "order": null,
      "overflow": null,
      "overflow_x": null,
      "overflow_y": null,
      "padding": null,
      "right": null,
      "top": null,
      "visibility": null,
      "width": null
     }
    }
   }
  }
 },
 "nbformat": 4,
 "nbformat_minor": 1
}
