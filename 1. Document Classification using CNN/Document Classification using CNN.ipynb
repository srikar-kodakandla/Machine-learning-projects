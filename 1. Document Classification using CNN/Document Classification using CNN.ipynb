{
 "cells": [
  {
   "cell_type": "markdown",
   "metadata": {
    "id": "mDMgSstPYv0P",
    "tags": []
   },
   "source": [
    "# Text Classification:\n",
    "\n",
    "## Data\n",
    "<pre>\n",
    "1. we have total of 20 types of documents(Text files) and total 18828 documents(text files).\n",
    "2. You can download data from this <a href='https://drive.google.com/open?id=1rxD15nyeIPIAZ-J2VYPrDRZI66-TBWvM'>link</a>, in that you will get documents.rar folder. <br>If you unzip that, you will get total of 18828 documnets. document name is defined as'ClassLabel_DocumentNumberInThatLabel'. \n",
    "so from document name, you can extract the label for that document.\n",
    "4. Now our problem is to classify all the documents into any one of the class.\n",
    "5. Below we provided count plot of all the labels in our data. \n",
    "</pre>"
   ]
  },
  {
   "cell_type": "code",
   "execution_count": null,
   "metadata": {
    "execution": {
     "iopub.execute_input": "2022-08-07T09:33:38.656082Z",
     "iopub.status.busy": "2022-08-07T09:33:38.655616Z",
     "iopub.status.idle": "2022-08-07T09:33:42.216044Z",
     "shell.execute_reply": "2022-08-07T09:33:42.215304Z",
     "shell.execute_reply.started": "2022-08-07T09:33:38.656009Z"
    },
    "id": "3jNMKaEZShm8",
    "tags": []
   },
   "outputs": [],
   "source": [
    "import sklearn\n",
    "import os\n",
    "import re\n",
    "import matplotlib.pyplot as plt\n",
    "import numpy as np\n",
    "import nltk\n",
    "import pandas as pd\n",
    "import seaborn as sns\n",
    "import tensorflow as tf\n",
    "from tqdm.notebook import tqdm\n",
    "from sklearn.model_selection import train_test_split\n",
    "import seaborn as sns\n",
    "from colorama import Fore, Back, Style\n",
    "from sklearn.preprocessing import OneHotEncoder, OrdinalEncoder\n",
    "from tensorflow.keras.preprocessing.text import Tokenizer\n",
    "from tensorflow.keras.utils import pad_sequences\n",
    "import keras_tuner\n",
    "from keras_tuner import *\n",
    "from tensorflow.keras import *\n",
    "from tensorflow.keras.layers import *\n",
    "from tensorflow.keras.utils import *\n",
    "from sklearn.metrics import f1_score\n",
    "from sklearn.metrics import accuracy_score\n",
    "from sklearn.metrics import confusion_matrix\n",
    "import os \n",
    "import background\n",
    "from time import sleep\n",
    "from sklearn.metrics import classification_report"
   ]
  },
  {
   "cell_type": "code",
   "execution_count": null,
   "metadata": {
    "execution": {
     "iopub.execute_input": "2022-08-07T09:33:42.217755Z",
     "iopub.status.busy": "2022-08-07T09:33:42.217460Z",
     "iopub.status.idle": "2022-08-07T09:33:42.221457Z",
     "shell.execute_reply": "2022-08-07T09:33:42.220707Z",
     "shell.execute_reply.started": "2022-08-07T09:33:42.217731Z"
    },
    "id": "GNVHNWIvShm-",
    "tags": []
   },
   "outputs": [],
   "source": [
    "os.chdir(\"/home/ubuntu/aaic/CNN_with_textdata/documents\")"
   ]
  },
  {
   "cell_type": "code",
   "execution_count": null,
   "metadata": {
    "execution": {
     "iopub.execute_input": "2022-08-07T09:33:42.222537Z",
     "iopub.status.busy": "2022-08-07T09:33:42.222351Z",
     "iopub.status.idle": "2022-08-07T09:33:42.236361Z",
     "shell.execute_reply": "2022-08-07T09:33:42.235736Z",
     "shell.execute_reply.started": "2022-08-07T09:33:42.222516Z"
    },
    "id": "XlGaU4axShm_",
    "tags": []
   },
   "outputs": [],
   "source": [
    "files=os.listdir()"
   ]
  },
  {
   "cell_type": "code",
   "execution_count": null,
   "metadata": {
    "execution": {
     "iopub.execute_input": "2022-08-07T09:33:42.237481Z",
     "iopub.status.busy": "2022-08-07T09:33:42.237192Z",
     "iopub.status.idle": "2022-08-07T09:33:42.245415Z",
     "shell.execute_reply": "2022-08-07T09:33:42.244179Z",
     "shell.execute_reply.started": "2022-08-07T09:33:42.237459Z"
    },
    "id": "mv2ogrMCShm_",
    "tags": []
   },
   "outputs": [],
   "source": [
    "files.sort()"
   ]
  },
  {
   "cell_type": "code",
   "execution_count": null,
   "metadata": {
    "execution": {
     "iopub.execute_input": "2022-08-07T09:33:42.247475Z",
     "iopub.status.busy": "2022-08-07T09:33:42.247318Z",
     "iopub.status.idle": "2022-08-07T09:33:42.258677Z",
     "shell.execute_reply": "2022-08-07T09:33:42.257625Z",
     "shell.execute_reply.started": "2022-08-07T09:33:42.247455Z"
    },
    "id": "wCnneH7aShnA",
    "tags": []
   },
   "outputs": [],
   "source": [
    "y = []\n",
    "for i in files:\n",
    "    y.append(i.split(\"_\")[0])"
   ]
  },
  {
   "cell_type": "code",
   "execution_count": null,
   "metadata": {
    "execution": {
     "iopub.execute_input": "2022-08-07T09:33:42.260437Z",
     "iopub.status.busy": "2022-08-07T09:33:42.260116Z",
     "iopub.status.idle": "2022-08-07T09:33:42.548414Z",
     "shell.execute_reply": "2022-08-07T09:33:42.547724Z",
     "shell.execute_reply.started": "2022-08-07T09:33:42.260415Z"
    },
    "id": "64U9NzWFYv0V",
    "outputId": "f3f19ed2-f637-4a8c-cff7-40a603025e96",
    "tags": []
   },
   "outputs": [
    {
     "data": {
      "text/plain": [
       "<AxesSubplot:xlabel='count'>"
      ]
     },
     "execution_count": 6,
     "metadata": {},
     "output_type": "execute_result"
    },
    {
     "data": {
      "image/png": "[encoded data removed]",
      "text/plain": [
       "<Figure size 1080x576 with 1 Axes>"
      ]
     },
     "metadata": {
      "needs_background": "light"
     },
     "output_type": "display_data"
    }
   ],
   "source": [
    "### count plot of all the class labels.\n",
    "plt.figure(figsize=(15, 8))\n",
    "sns.countplot(y=y)"
   ]
  },
  {
   "cell_type": "code",
   "execution_count": null,
   "metadata": {
    "colab": {
     "referenced_widgets": [
      "1b27cfd230284d509f0851cdb4690bad"
     ]
    },
    "execution": {
     "iopub.execute_input": "2022-08-07T09:33:42.549843Z",
     "iopub.status.busy": "2022-08-07T09:33:42.549408Z",
     "iopub.status.idle": "2022-08-07T09:33:43.038481Z",
     "shell.execute_reply": "2022-08-07T09:33:43.037711Z",
     "shell.execute_reply.started": "2022-08-07T09:33:42.549815Z"
    },
    "id": "VNhIO3q2ShnB",
    "outputId": "ae4d492b-f36e-49a4-cd71-8f28b4492a25",
    "tags": []
   },
   "outputs": [
    {
     "data": {
      "application/vnd.jupyter.widget-view+json": {
       "model_id": "1b27cfd230284d509f0851cdb4690bad",
       "version_major": 2,
       "version_minor": 0
      },
      "text/plain": [
       "  0%|          | 0/18828 [00:00<?, ?it/s]"
      ]
     },
     "metadata": {},
     "output_type": "display_data"
    }
   ],
   "source": [
    "#reading data from harddisk and storing as x labels \n",
    "x = []\n",
    "for i in tqdm(range(len(files))):\n",
    "    x.append(open(files[i], errors=\"ignore\").read())"
   ]
  },
  {
   "cell_type": "markdown",
   "metadata": {
    "id": "VlqYFVI3Yv0k",
    "tags": []
   },
   "source": [
    "#### sample document\n",
    "<pre>\n",
    "<font color='blue'>\n",
    "Subject: A word of advice\n",
    "From: jcopelan@nyx.cs.du.edu (The One and Only)\n",
    "\n",
    "In article < 65882@mimsy.umd.edu > mangoe@cs.umd.edu (Charley Wingate) writes:\n",
    ">\n",
    ">I've said 100 times that there is no \"alternative\" that should think you\n",
    ">might have caught on by now.  And there is no \"alternative\", but the point\n",
    ">is, \"rationality\" isn't an alternative either.  The problems of metaphysical\n",
    ">and religious knowledge are unsolvable-- or I should say, humans cannot\n",
    ">solve them.\n",
    "\n",
    "How does that saying go: Those who say it can't be done shouldn't interrupt\n",
    "those who are doing it.\n",
    "\n",
    "Jim\n",
    "--\n",
    "Have you washed your brain today?\n",
    "</font>\n",
    "</pre>"
   ]
  },
  {
   "cell_type": "markdown",
   "metadata": {
    "id": "KAR5HoR1Yv0m"
   },
   "source": [
    "### Preprocessing:\n",
    "<pre>\n",
    "useful links: <a href='http://www.pyregex.com/'>http://www.pyregex.com/</a>\n",
    "\n",
    "<font color='blue'><b>1.</b></font> Find all emails in the document and then get the text after the \"@\". and then split those texts by '.' \n",
    "after that remove the words whose length is less than or equal to 2 and also remove'com' word and then combine those words by space. \n",
    "In one doc, if we have 2 or more mails, get all.\n",
    "<b>Eg:[test@dm1.d.com, test2@dm2.dm3.com]-->[dm1.d.com, dm3.dm4.com]-->[dm1,d,com,dm2,dm3,com]-->[dm1,dm2,dm3]-->\"dm1 dm2 dm3\" </b> \n",
    "append all those into one list/array. ( This will give length of 18828 sentences i.e one list for each of the document). \n",
    "Some sample output was shown below. \n",
    "\n",
    "> In the above sample document there are emails [jcopelan@nyx.cs.du.edu, 65882@mimsy.umd.edu, mangoe@cs.umd.edu]\n",
    "\n",
    "preprocessing:\n",
    "[jcopelan@nyx.cs.du.edu, 65882@mimsy.umd.edu, mangoe@cs.umd.edu] ==> [nyx cs du edu mimsy umd edu cs umd edu] ==> \n",
    "[nyx edu mimsy umd edu umd edu]\n",
    "\n",
    "<font color='blue'><b>2.</b></font> Replace all the emails by space in the original text. \n",
    "</pre>"
   ]
  },
  {
   "cell_type": "code",
   "execution_count": null,
   "metadata": {
    "execution": {
     "iopub.execute_input": "2022-08-07T09:33:43.039987Z",
     "iopub.status.busy": "2022-08-07T09:33:43.039572Z",
     "iopub.status.idle": "2022-08-07T09:33:46.109271Z",
     "shell.execute_reply": "2022-08-07T09:33:46.108547Z",
     "shell.execute_reply.started": "2022-08-07T09:33:43.039961Z"
    },
    "id": "qWp3YsLCShnF",
    "tags": []
   },
   "outputs": [],
   "source": [
    "preprocessed_email = []\n",
    "for i in range(len(x)):\n",
    "    a = re.findall(\"[0-9a-zA-z_+\\-.]+@[0-9a-zA-z_.\\-+]+\", x[i])\n",
    "    for j in range(len(a)):\n",
    "        a[j]=re.sub('.*@','',a[j])\n",
    "    u=(\" \".join(re.split(\"[@.]\", \".\".join(a))))\n",
    "    preprocessed_email.append(re.sub('(?i)\\scom\\s|^com\\s|\\scom$',' ',' '.join(re.findall('[^\\s][^\\s][^\\s][^\\s]*',u)))) #removing com and below 2 or less characters\n",
    "    x[i]=re.sub(\"[0-9a-zA-z_+\\-.]+@[0-9a-zA-z_.\\-+]+\", \"\",x[i]) # deleting mails from the original data"
   ]
  },
  {
   "cell_type": "code",
   "execution_count": null,
   "metadata": {
    "execution": {
     "iopub.execute_input": "2022-08-07T09:33:46.110778Z",
     "iopub.status.busy": "2022-08-07T09:33:46.110301Z",
     "iopub.status.idle": "2022-08-07T09:33:46.116403Z",
     "shell.execute_reply": "2022-08-07T09:33:46.115153Z",
     "shell.execute_reply.started": "2022-08-07T09:33:46.110750Z"
    },
    "id": "KavKDD9FYv0p",
    "outputId": "0b87ab7b-46df-4995-eaca-4f5831ad223e",
    "tags": []
   },
   "outputs": [
    {
     "data": {
      "text/plain": [
       "['mantis netcom mantis',\n",
       " 'mantis mantis mantis',\n",
       " 'dbstu1 tu-bs mimsy umd edu umd edu',\n",
       " 'mantis kepler unh edu',\n",
       " 'Watson Ibm harder ccr-p ida org harder ccr-p ida org watson ibm ',\n",
       " 'dbstu1 tu-bs batman bmd trw batman bmd trw ',\n",
       " 'cco caltech edu jyusenkyou jhu edu',\n",
       " 'dbstu1 tu-bs edu buphy edu',\n",
       " 'cco caltech edu solntze wpd sgi ',\n",
       " 'cco caltech edu CWRU edu']"
      ]
     },
     "execution_count": 9,
     "metadata": {},
     "output_type": "execute_result"
    }
   ],
   "source": [
    "# we have collected all emails and preprocessed them, this is sample output\n",
    "preprocessed_email[:10]"
   ]
  },
  {
   "cell_type": "code",
   "execution_count": null,
   "metadata": {
    "execution": {
     "iopub.execute_input": "2022-08-07T09:33:46.118544Z",
     "iopub.status.busy": "2022-08-07T09:33:46.118366Z",
     "iopub.status.idle": "2022-08-07T09:33:46.125073Z",
     "shell.execute_reply": "2022-08-07T09:33:46.124433Z",
     "shell.execute_reply.started": "2022-08-07T09:33:46.118522Z"
    },
    "id": "obReqs55Yv0v",
    "outputId": "10770414-9be0-4d63-9587-5363a8c10c4d",
    "tags": []
   },
   "outputs": [
    {
     "data": {
      "text/plain": [
       "18828"
      ]
     },
     "execution_count": 10,
     "metadata": {},
     "output_type": "execute_result"
    }
   ],
   "source": [
    "len(preprocessed_email)"
   ]
  },
  {
   "cell_type": "markdown",
   "metadata": {
    "id": "zIovFDQzYv03"
   },
   "source": [
    "<pre>\n",
    "<font color='blue'><b>3.</b></font> Get subject of the text i.e. get the total lines where \"Subject:\" occur and remove \n",
    "the word which are before the \":\" remove the newlines, tabs, punctuations, any special chars.\n",
    "<b>Eg: if we have sentance like \"Subject: Re: Gospel Dating @ \\r\\r\\n\" --> You have to get \"Gospel Dating\"</b> \n",
    "Save all this data into another list/array. \n",
    "\n",
    "<font color='blue'><b>4.</b></font> After you store it in the list, Replace those sentances in original text by space.\n",
    "\n",
    "<font color='blue'><b>5.</b></font> Delete all the sentances where sentence starts with <b>\"Write to:\"</b> or <b>\"From:\"</b>.\n",
    "> In the above sample document check the 2nd line, we should remove that\n",
    "\n",
    "<font color='blue'><b>6.</b></font> Delete all the tags like \"< anyword >\"\n",
    "> In the above sample document check the 4nd line, we should remove that \"< 65882@mimsy.umd.edu >\"\n",
    "\n",
    "\n",
    "<font color='blue'><b>7.</b></font> Delete all the data which are present in the brackets. \n",
    "In many text data, we observed that, they maintained the explanation of sentence \n",
    "or translation of sentence to another language in brackets so remove all those.\n",
    "<b>Eg: \"AAIC-The course that gets you HIRED(AAIC - Der Kurs, der Sie anstellt)\" --> \"AAIC-The course that gets you HIRED\"</b>\n",
    "\n",
    "> In the above sample document check the 4nd line, we should remove that \"(Charley Wingate)\"\n",
    "\n",
    "\n",
    "<font color='blue'><b>8.</b></font> Remove all the newlines('\\n'), tabs('\\t'), \"-\", \"\\\".\n",
    "\n",
    "<font color='blue'><b>9.</b></font> Remove all the words which ends with <b>\":\"</b>.\n",
    "<b>Eg: \"Anyword:\"</b>\n",
    "> In the above sample document check the 4nd line, we should remove that \"writes:\"\n",
    "\n",
    "\n",
    "<font color='blue'><b>10.</b></font> Decontractions, replace words like below to full words. \n",
    "please check the donors choose preprocessing for this \n",
    "<b>Eg: can't -> can not, 's -> is, i've -> i have, i'm -> i am, you're -> you are, i'll --> i will </b>\n",
    "\n",
    "<b> There is no order to do point 6 to 10. but you have to get final output correctly</b>\n",
    "\n",
    "<font color='blue'><b>11.</b></font> Do chunking on the text you have after above preprocessing. \n",
    "Text chunking, also referred to as shallow parsing, is a task that \n",
    "follows Part-Of-Speech Tagging and that adds more structure to the sentence.\n",
    "So it combines the some phrases, named entities into single word.\n",
    "So after that combine all those phrases/named entities by separating <b>\"_\"</b>. \n",
    "And remove the phrases/named entities if that is a \"Person\". \n",
    "You can use <b>nltk.ne_chunk</b> to get these. \n",
    "Below we have given one example. please go through it. \n",
    "\n",
    "useful links: \n",
    "<a href='https://www.nltk.org/book/ch07.html'>https://www.nltk.org/book/ch07.html</a>\n",
    "<a href='https://stackoverflow.com/a/31837224/4084039'>https://stackoverflow.com/a/31837224/4084039</a>\n",
    "<a href='http://www.nltk.org/howto/tree.html'>http://www.nltk.org/howto/tree.html</a>\n",
    "<a href='https://stackoverflow.com/a/44294377/4084039'>https://stackoverflow.com/a/44294377/4084039</a>\n",
    "</pre>"
   ]
  },
  {
   "cell_type": "code",
   "execution_count": null,
   "metadata": {
    "execution": {
     "iopub.execute_input": "2022-08-07T09:33:46.126177Z",
     "iopub.status.busy": "2022-08-07T09:33:46.126008Z",
     "iopub.status.idle": "2022-08-07T09:33:46.131234Z",
     "shell.execute_reply": "2022-08-07T09:33:46.130582Z",
     "shell.execute_reply.started": "2022-08-07T09:33:46.126156Z"
    },
    "id": "-ZWIuVqUShnI",
    "tags": []
   },
   "outputs": [],
   "source": [
    "def decontracted(phrase):\n",
    "    # specific\n",
    "    phrase = re.sub(r\"won't\", \"will not\", phrase)\n",
    "    phrase = re.sub(r\"can\\'t\", \"can not\", phrase)\n",
    "\n",
    "    # general\n",
    "    phrase = re.sub(r\"n\\'t\", \" not\", phrase)\n",
    "    phrase = re.sub(r\"\\'re\", \" are\", phrase)\n",
    "    phrase = re.sub(r\"\\'s\", \" is\", phrase)\n",
    "    phrase = re.sub(r\"\\'d\", \" would\", phrase)\n",
    "    phrase = re.sub(r\"\\'ll\", \" will\", phrase)\n",
    "    phrase = re.sub(r\"\\'t\", \" not\", phrase)\n",
    "    phrase = re.sub(r\"\\'ve\", \" have\", phrase)\n",
    "    phrase = re.sub(r\"\\'m\", \" am\", phrase)\n",
    "    return phrase"
   ]
  },
  {
   "cell_type": "code",
   "execution_count": null,
   "metadata": {
    "execution": {
     "iopub.execute_input": "2022-08-07T09:33:46.132258Z",
     "iopub.status.busy": "2022-08-07T09:33:46.132092Z",
     "iopub.status.idle": "2022-08-07T09:33:52.292102Z",
     "shell.execute_reply": "2022-08-07T09:33:52.291361Z",
     "shell.execute_reply.started": "2022-08-07T09:33:46.132239Z"
    },
    "id": "tYHC5Z1fShnI",
    "tags": []
   },
   "outputs": [],
   "source": [
    "subject=[]\n",
    "for i in range(len(x)):\n",
    "    c=re.findall('Subject:.*|Subject: Re:.*',x[i])\n",
    "    if len(c)>=1:  #if there is subject in that document \n",
    "        c=c[0].split(':')[-1]\n",
    "    else: #if there is no subject in that document \n",
    "        c=\"\"\n",
    "    subject.append(re.sub('[!\"#$%&\\'()*+,-./:;<=>?@[\\\\]^_`{|}~]','',c).strip())\n",
    "    x[i]=(re.sub('Subject:.*|Subject: Re:.*',' ',x[i]))  #removing subject from original document\n",
    "    x[i]=(re.sub('Write to:.*|From:.*','',x[i],flags=re.IGNORECASE)) #remove to and from address from original document\n",
    "    x[i]=re.sub(\"<.*\\n*.*>\",'',x[i]) #remove all b/w <.....> bracket\n",
    "    x[i]=re.sub(\"\\(.*\\n*.*\\)\",'',x[i]) #removing all b/w (.....) bracket\n",
    "    x[i]=re.sub(r\"[\\n\\t\\-]\",'',x[i]).replace(\"\\\\\",'') #removing ('\\n'), \"-\", \"\\\"\n",
    "    x[i]=re.sub(r'\\s+',' ',x[i]).strip() #removing extra tabs \n",
    "    x[i]=re.sub(r'[\\w]*:(\\s+|$)','',x[i]) #removing words which ends with :\n",
    "    x[i]=decontracted(x[i])"
   ]
  },
  {
   "cell_type": "markdown",
   "metadata": {
    "id": "XV8gzLUjYv0-"
   },
   "source": [
    "<pre>We did chunking for above two lines and then We got one list where each word is mapped to a \n",
    "POS(parts of speech) and also if you see \"New York\" and \"Srikanth Varma\", \n",
    "they got combined and represented as a tree and \"New York\" was referred as \"GPE\" and \"Srikanth Varma\" was referred as \"PERSON\". \n",
    "so now you have to Combine the \"New York\" with <b>\"_\"</b> i.e \"New_York\"\n",
    "and remove the \"Srikanth Varma\" from the above sentence because it is a person.</pre>"
   ]
  },
  {
   "cell_type": "code",
   "execution_count": null,
   "metadata": {
    "colab": {
     "referenced_widgets": [
      "aef84b1deacb41a1a8b829620bb54b6e"
     ]
    },
    "execution": {
     "iopub.execute_input": "2022-08-07T09:33:52.293562Z",
     "iopub.status.busy": "2022-08-07T09:33:52.293134Z",
     "iopub.status.idle": "2022-08-07T09:57:40.619325Z",
     "shell.execute_reply": "2022-08-07T09:57:40.618453Z",
     "shell.execute_reply.started": "2022-08-07T09:33:52.293507Z"
    },
    "id": "8EWF-glXShnK",
    "outputId": "8208004a-16ee-4096-f9b7-caad048b29b1",
    "tags": []
   },
   "outputs": [
    {
     "data": {
      "application/vnd.jupyter.widget-view+json": {
       "model_id": "aef84b1deacb41a1a8b829620bb54b6e",
       "version_major": 2,
       "version_minor": 0
      },
      "text/plain": [
       "  0%|          | 0/18828 [00:00<?, ?it/s]"
      ]
     },
     "metadata": {},
     "output_type": "display_data"
    }
   ],
   "source": [
    "for document_id in tqdm(range(len(x))):\n",
    "    chunks=[]\n",
    "    chunks=list(nltk.ne_chunk(nltk.pos_tag(nltk.word_tokenize(x[document_id]))))\n",
    "    for i in chunks:\n",
    "        if type(i)==nltk.Tree:\n",
    "            if i.label() == \"GPE\":\n",
    "                words_to_merge = i.leaves()\n",
    "                if len(words_to_merge)>1:   \n",
    "                    word_after_merged = \"_\".join([word1 for word1,word_tree in words_to_merge])\n",
    "                    x[document_id] = re.sub(rf'{words_to_merge[1][0]}',word_after_merged,x[document_id], flags=re.MULTILINE) #replacing new with new_york\n",
    "                    x[document_id] = re.sub(rf'\\b{words_to_merge[0][0]}\\b',\"\",x[document_id], flags=re.MULTILINE)       #deleting \"new\" word\n",
    "            if i.label()==\"PERSON\":           # deleting person names  \n",
    "                for term,pog in i.leaves():\n",
    "                    x[document_id] = re.sub(re.escape(term),\"\",x[document_id], flags=re.MULTILINE)"
   ]
  },
  {
   "cell_type": "code",
   "execution_count": null,
   "metadata": {
    "colab": {
     "referenced_widgets": [
      "84fa758515c148cca4cf7887f51ed190"
     ]
    },
    "execution": {
     "iopub.execute_input": "2022-08-07T09:57:40.623413Z",
     "iopub.status.busy": "2022-08-07T09:57:40.623009Z",
     "iopub.status.idle": "2022-08-07T09:57:53.587996Z",
     "shell.execute_reply": "2022-08-07T09:57:53.587340Z",
     "shell.execute_reply.started": "2022-08-07T09:57:40.623386Z"
    },
    "id": "2L-GjxkMShnK",
    "outputId": "b2889db2-c9f1-43d6-fc8c-cdeb3d237e81",
    "tags": []
   },
   "outputs": [
    {
     "data": {
      "application/vnd.jupyter.widget-view+json": {
       "model_id": "84fa758515c148cca4cf7887f51ed190",
       "version_major": 2,
       "version_minor": 0
      },
      "text/plain": [
       "  0%|          | 0/18828 [00:00<?, ?it/s]"
      ]
     },
     "metadata": {},
     "output_type": "display_data"
    }
   ],
   "source": [
    "for document_id in tqdm(range(len(x))):\n",
    "    x[document_id] = re.sub(r\"\\b_([a-zA-z]+)_\\b\",r\"\\1\",x[document_id]) #replace _word_ to word \n",
    "    x[document_id] = re.sub(r\"\\b_([a-zA-z]+)\\b\",r\"\\1\",x[document_id]) #replace_word to word\n",
    "    x[document_id] = re.sub(r\"\\b([a-zA-z]+)_\\b\",r\"\\1\",x[document_id]) #replace word_ to word\n",
    "    x[document_id]=re.sub(r'\\b[\\w]{1,2}_([\\w]*)',r'\\1',x[document_id]) #remove sr from sr_srikar\n",
    "    x[document_id]=re.sub(r'([\\w]*)_[\\w]{1,2}\\b',r'\\1',x[document_id]) #remove sr from srikar_sr\n",
    "    x[document_id]=x[document_id].lower()\n",
    "    x[document_id]=re.sub('[\\w]{15,}','',x[document_id]) #remove words which are more than 15 \n",
    "    x[document_id]=re.sub(r\"\\b[\\w]{1,2}\\b\",'',x[document_id]) #removing words which are less than 3\n",
    "    x[document_id]=re.sub(r'[^a-zA-Z_]',' ',x[document_id]) # replace all the words except \"A-Za-z_\" with space\n",
    "    x[document_id]=re.sub(r'\\s+',' ',x[document_id]).strip() #remove extra tabs in the text"
   ]
  },
  {
   "cell_type": "code",
   "execution_count": null,
   "metadata": {
    "id": "VAytwYGUShnL",
    "tags": []
   },
   "outputs": [],
   "source": []
  },
  {
   "cell_type": "markdown",
   "metadata": {
    "id": "VpaC-KF3Yv1A"
   },
   "source": [
    "<pre>\n",
    "<font color='blue'><b>13.</b></font> Replace all the digits with space i.e delete all the digits. \n",
    "> In the above sample document, the 6th line have digit 100, so we have to remove that.\n",
    "\n",
    "<font color='blue'><b>14.</b></font> After doing above points, we observed there might be few word's like\n",
    " <b> \"_word_\" (i.e starting and ending with the _), \"_word\" (i.e starting with the _),\n",
    "  \"word_\" (i.e ending with the _)</b> remove the <b>_</b> from these type of words. \n",
    "\n",
    "<font color='blue'><b>15.</b></font>  We also observed some words like <b> \"OneLetter_word\"- eg: d_berlin, \n",
    "\"TwoLetters_word\" - eg: dr_berlin </b>, in these words we remove the \"OneLetter_\" (d_berlin ==> berlin) and \n",
    "\"TwoLetters_\" (de_berlin ==> berlin). i.e remove the words \n",
    "which are length less than or equal to 2 after spliiting those words by \"_\". \n",
    "\n",
    "<font color='blue'><b>16.</b></font> Convert all the words into lower case and lowe case \n",
    "and remove the words which are greater than or equal to 15 or less than or equal to 2.\n",
    "\n",
    "<font color='blue'><b>17.</b></font> replace all the words except \"A-Za-z_\" with space. \n",
    "\n",
    "<font color='blue'><b>18.</b></font> Now You got Preprocessed Text, email, subject. create a dataframe with those. \n",
    "Below are the columns of the df. \n",
    "</pre>"
   ]
  },
  {
   "cell_type": "code",
   "execution_count": null,
   "metadata": {
    "execution": {
     "iopub.execute_input": "2022-08-07T09:57:53.589112Z",
     "iopub.status.busy": "2022-08-07T09:57:53.588928Z",
     "iopub.status.idle": "2022-08-07T09:57:53.599914Z",
     "shell.execute_reply": "2022-08-07T09:57:53.599173Z",
     "shell.execute_reply.started": "2022-08-07T09:57:53.589090Z"
    },
    "id": "_vDYaErpShnM",
    "tags": []
   },
   "outputs": [],
   "source": [
    "data=pd.DataFrame({'email':preprocessed_email,'subject':subject,\"text\":x,\"class\":y})"
   ]
  },
  {
   "cell_type": "code",
   "execution_count": null,
   "metadata": {
    "execution": {
     "iopub.execute_input": "2022-08-07T09:57:53.601308Z",
     "iopub.status.busy": "2022-08-07T09:57:53.600854Z",
     "iopub.status.idle": "2022-08-07T09:57:53.613775Z",
     "shell.execute_reply": "2022-08-07T09:57:53.613128Z",
     "shell.execute_reply.started": "2022-08-07T09:57:53.601282Z"
    },
    "id": "ynPdQK5wShnM",
    "outputId": "2dcf3197-957a-4aef-f576-e86f910d85ad",
    "tags": []
   },
   "outputs": [
    {
     "data": {
      "text/html": [
       "<div>\n",
       "<style scoped>\n",
       "    .dataframe tbody tr th:only-of-type {\n",
       "        vertical-align: middle;\n",
       "    }\n",
       "\n",
       "    .dataframe tbody tr th {\n",
       "        vertical-align: top;\n",
       "    }\n",
       "\n",
       "    .dataframe thead th {\n",
       "        text-align: right;\n",
       "    }\n",
       "</style>\n",
       "<table border=\"1\" class=\"dataframe\">\n",
       "  <thead>\n",
       "    <tr style=\"text-align: right;\">\n",
       "      <th></th>\n",
       "      <th>email</th>\n",
       "      <th>subject</th>\n",
       "      <th>text</th>\n",
       "      <th>class</th>\n",
       "    </tr>\n",
       "  </thead>\n",
       "  <tbody>\n",
       "    <tr>\n",
       "      <th>0</th>\n",
       "      <td>mantis netcom mantis</td>\n",
       "      <td>Atheist Resources</td>\n",
       "      <td>atheism december atheist resources addresses a...</td>\n",
       "      <td>alt.atheism</td>\n",
       "    </tr>\n",
       "    <tr>\n",
       "      <th>1</th>\n",
       "      <td>mantis mantis mantis</td>\n",
       "      <td>Introduction to Atheism</td>\n",
       "      <td>atheism april egin pgp signed message introduc...</td>\n",
       "      <td>alt.atheism</td>\n",
       "    </tr>\n",
       "    <tr>\n",
       "      <th>2</th>\n",
       "      <td>dbstu1 tu-bs mimsy umd edu umd edu</td>\n",
       "      <td>Gospel Dating</td>\n",
       "      <td>article well has quite different not necessari...</td>\n",
       "      <td>alt.atheism</td>\n",
       "    </tr>\n",
       "    <tr>\n",
       "      <th>3</th>\n",
       "      <td>mantis kepler unh edu</td>\n",
       "      <td>university violating separation of churchstate</td>\n",
       "      <td>writes recently ras have been ordered post rel...</td>\n",
       "      <td>alt.atheism</td>\n",
       "    </tr>\n",
       "    <tr>\n",
       "      <th>4</th>\n",
       "      <td>Watson Ibm harder ccr-p ida org harder ccr-p i...</td>\n",
       "      <td>socmotss et al Princeton axes matching funds f...</td>\n",
       "      <td>article however hate economic terrorism and po...</td>\n",
       "      <td>alt.atheism</td>\n",
       "    </tr>\n",
       "    <tr>\n",
       "      <th>...</th>\n",
       "      <td>...</td>\n",
       "      <td>...</td>\n",
       "      <td>...</td>\n",
       "      <td>...</td>\n",
       "    </tr>\n",
       "    <tr>\n",
       "      <th>18823</th>\n",
       "      <td>fraser sfu magnus acs ohio-state edu</td>\n",
       "      <td>Religion and marriage</td>\n",
       "      <td>writes was not sure this was the right newsgro...</td>\n",
       "      <td>talk.religion.misc</td>\n",
       "    </tr>\n",
       "    <tr>\n",
       "      <th>18824</th>\n",
       "      <td>gtephx UUCP ifi uio ifi uio ncratl AtlantaGA N...</td>\n",
       "      <td>How do you know what happened</td>\n",
       "      <td>article writes probably not but then not pack ...</td>\n",
       "      <td>talk.religion.misc</td>\n",
       "    </tr>\n",
       "    <tr>\n",
       "      <th>18825</th>\n",
       "      <td>quack kfu emx utexas edu emx utexas edu</td>\n",
       "      <td>Why did they behave as they did Wacoreading su...</td>\n",
       "      <td>article writes you would like understand bette...</td>\n",
       "      <td>talk.religion.misc</td>\n",
       "    </tr>\n",
       "    <tr>\n",
       "      <th>18826</th>\n",
       "      <td>CUNYVM BITNET digi lonestar org digi lonestar org</td>\n",
       "      <td>Info about New Age</td>\n",
       "      <td>article the danger anticult groups that while ...</td>\n",
       "      <td>talk.religion.misc</td>\n",
       "    </tr>\n",
       "    <tr>\n",
       "      <th>18827</th>\n",
       "      <td>quack kfu darkside osrhe uoknor edu okcforum o...</td>\n",
       "      <td>After 2000 years etc</td>\n",
       "      <td>article wrote mand now mdeep thoughts mby mif ...</td>\n",
       "      <td>talk.religion.misc</td>\n",
       "    </tr>\n",
       "  </tbody>\n",
       "</table>\n",
       "<p>18828 rows × 4 columns</p>\n",
       "</div>"
      ],
      "text/plain": [
       "                                                   email  \\\n",
       "0                                   mantis netcom mantis   \n",
       "1                                   mantis mantis mantis   \n",
       "2                     dbstu1 tu-bs mimsy umd edu umd edu   \n",
       "3                                  mantis kepler unh edu   \n",
       "4      Watson Ibm harder ccr-p ida org harder ccr-p i...   \n",
       "...                                                  ...   \n",
       "18823               fraser sfu magnus acs ohio-state edu   \n",
       "18824  gtephx UUCP ifi uio ifi uio ncratl AtlantaGA N...   \n",
       "18825            quack kfu emx utexas edu emx utexas edu   \n",
       "18826  CUNYVM BITNET digi lonestar org digi lonestar org   \n",
       "18827  quack kfu darkside osrhe uoknor edu okcforum o...   \n",
       "\n",
       "                                                 subject  \\\n",
       "0                                      Atheist Resources   \n",
       "1                                Introduction to Atheism   \n",
       "2                                          Gospel Dating   \n",
       "3         university violating separation of churchstate   \n",
       "4      socmotss et al Princeton axes matching funds f...   \n",
       "...                                                  ...   \n",
       "18823                              Religion and marriage   \n",
       "18824                      How do you know what happened   \n",
       "18825  Why did they behave as they did Wacoreading su...   \n",
       "18826                                 Info about New Age   \n",
       "18827                               After 2000 years etc   \n",
       "\n",
       "                                                    text               class  \n",
       "0      atheism december atheist resources addresses a...         alt.atheism  \n",
       "1      atheism april egin pgp signed message introduc...         alt.atheism  \n",
       "2      article well has quite different not necessari...         alt.atheism  \n",
       "3      writes recently ras have been ordered post rel...         alt.atheism  \n",
       "4      article however hate economic terrorism and po...         alt.atheism  \n",
       "...                                                  ...                 ...  \n",
       "18823  writes was not sure this was the right newsgro...  talk.religion.misc  \n",
       "18824  article writes probably not but then not pack ...  talk.religion.misc  \n",
       "18825  article writes you would like understand bette...  talk.religion.misc  \n",
       "18826  article the danger anticult groups that while ...  talk.religion.misc  \n",
       "18827  article wrote mand now mdeep thoughts mby mif ...  talk.religion.misc  \n",
       "\n",
       "[18828 rows x 4 columns]"
      ]
     },
     "execution_count": 16,
     "metadata": {},
     "output_type": "execute_result"
    }
   ],
   "source": [
    "data"
   ]
  },
  {
   "cell_type": "code",
   "execution_count": null,
   "metadata": {
    "execution": {
     "iopub.execute_input": "2022-08-07T09:57:53.614892Z",
     "iopub.status.busy": "2022-08-07T09:57:53.614650Z",
     "iopub.status.idle": "2022-08-07T09:57:53.620290Z",
     "shell.execute_reply": "2022-08-07T09:57:53.618865Z",
     "shell.execute_reply.started": "2022-08-07T09:57:53.614868Z"
    },
    "id": "hB43OGEfYv1C",
    "outputId": "945bc8a4-1f99-4410-94c8-c776a405b5f0",
    "tags": []
   },
   "outputs": [
    {
     "data": {
      "text/plain": [
       "Index(['email', 'subject', 'text', 'class'], dtype='object')"
      ]
     },
     "execution_count": 17,
     "metadata": {},
     "output_type": "execute_result"
    }
   ],
   "source": [
    "data.columns"
   ]
  },
  {
   "cell_type": "code",
   "execution_count": null,
   "metadata": {
    "execution": {
     "iopub.execute_input": "2022-08-07T09:57:53.621526Z",
     "iopub.status.busy": "2022-08-07T09:57:53.621269Z",
     "iopub.status.idle": "2022-08-07T09:57:53.627608Z",
     "shell.execute_reply": "2022-08-07T09:57:53.626939Z",
     "shell.execute_reply.started": "2022-08-07T09:57:53.621504Z"
    },
    "id": "AM6A19xFYv1I",
    "outputId": "9de13fa8-6604-49a2-8013-6b22f0a256a8",
    "tags": []
   },
   "outputs": [
    {
     "data": {
      "text/plain": [
       "email      dsinc darkside osrhe uoknor edu okcforum osrhe...\n",
       "subject                                        Biblical Rape\n",
       "text       this response originally fell into bit bucket ...\n",
       "class                                            alt.atheism\n",
       "Name: 400, dtype: object"
      ]
     },
     "execution_count": 18,
     "metadata": {},
     "output_type": "execute_result"
    }
   ],
   "source": [
    "data.iloc[400]"
   ]
  },
  {
   "cell_type": "code",
   "execution_count": null,
   "metadata": {
    "id": "p1yrv0PMShnO",
    "tags": []
   },
   "outputs": [],
   "source": []
  },
  {
   "cell_type": "markdown",
   "metadata": {
    "id": "rfWUeIN1Yv1N"
   },
   "source": [
    "### Writing  total Preprocessing steps in One Function Named Preprocess  below. "
   ]
  },
  {
   "cell_type": "code",
   "execution_count": null,
   "metadata": {
    "execution": {
     "iopub.execute_input": "2022-08-07T09:57:53.629084Z",
     "iopub.status.busy": "2022-08-07T09:57:53.628918Z",
     "iopub.status.idle": "2022-08-07T09:57:53.644937Z",
     "shell.execute_reply": "2022-08-07T09:57:53.643976Z",
     "shell.execute_reply.started": "2022-08-07T09:57:53.629064Z"
    },
    "id": "uEGEHTNQYv1N",
    "tags": []
   },
   "outputs": [],
   "source": [
    "def preprocess(Input_Text):\n",
    "    \"\"\"Do all the Preprocessing as shown above and\n",
    "    return a tuple contain preprocess_email,preprocess_subject,preprocess_text for that Text_data\"\"\"\n",
    "    preprocessed_email = []\n",
    "    subject=[]\n",
    "    chunks=[]\n",
    "    x=Input_Text\n",
    "    for document_id in tqdm(range(len(x))):\n",
    "        a = re.findall(\"[0-9a-zA-z_+\\-.]+@[0-9a-zA-z_.\\-+]+\", x[document_id])\n",
    "        for j in range(len(a)):\n",
    "            a[j]=re.sub('.*@','',a[j])\n",
    "        u=(\" \".join(re.split(\"[@.]\", \".\".join(a))))\n",
    "        preprocessed_email.append(re.sub('(?i)\\scom\\s|^com\\s|\\scom$',' ',' '.join(re.findall('[^\\s][^\\s][^\\s][^\\s]*',u)))) #removing com and below 2 or less characters\n",
    "        x[document_id]=re.sub(\"[0-9a-zA-z_+\\-.]+@[0-9a-zA-z_.\\-+]+\", \"\",x[document_id]) # deleting mails from the original data\n",
    "\n",
    "        c=re.findall('Subject:.*|Subject: Re:.*',x[document_id])\n",
    "        if len(c)>=1:  #if there is subject in that document \n",
    "            c=c[0].split(':')[-1]\n",
    "        else: #if there is no subject in that document \n",
    "            c=\"\"\n",
    "        subject.append(re.sub('[!\"#$%&\\'()*+,-./:;<=>?@[\\\\]^_`{|}~]','',c).strip())\n",
    "        x[document_id]=(re.sub('Subject:.*|Subject: Re:.*',' ',x[document_id]))  #removing subject from original document\n",
    "        x[document_id]=(re.sub('Write to:.*|From:.*','',x[document_id],flags=re.IGNORECASE)) #remove to and from address from original document\n",
    "        x[document_id]=re.sub(\"<.*\\n*.*>\",'',x[document_id]) #remove all b/w <.....> bracket\n",
    "        x[document_id]=re.sub(\"\\(.*\\n*.*\\)\",'',x[document_id]) #removing all b/w (.....) bracket\n",
    "        x[document_id]=re.sub(r\"[\\n\\t\\-]\",'',x[document_id]).replace(\"\\\\\",'') #removing ('\\n'), \"-\", \"\\\"\n",
    "        x[document_id]=re.sub(r'\\s+',' ',x[document_id]).strip() #removing extra tabs \n",
    "        x[document_id]=re.sub(r'[\\w]*:(\\s+|$)','',x[document_id]) #removing words which ends with :\n",
    "        x[document_id]=decontracted(x[document_id])\n",
    "\n",
    "        chunks=list(nltk.ne_chunk(nltk.pos_tag(nltk.word_tokenize(x[document_id]))))\n",
    "        for p in chunks:\n",
    "            if type(p)==nltk.Tree:\n",
    "                if p.label() == \"GPE\":\n",
    "                    words_to_merge = p.leaves()\n",
    "                    if len(words_to_merge)>1:   \n",
    "                        word_after_merged = \"_\".join([word1 for word1,word_tree in words_to_merge])\n",
    "                        x[document_id] = re.sub(rf'{words_to_merge[1][0]}',word_after_merged,x[document_id], flags=re.MULTILINE)              #replacing new with new_york\n",
    "                        x[document_id] = re.sub(rf'\\b{words_to_merge[0][0]}\\b',\"\",x[document_id], flags=re.MULTILINE)       #deleting \"new\" word\n",
    "                if p.label()==\"PERSON\":           # deleting person names  \n",
    "                    for term,pog in p.leaves():\n",
    "                        x[document_id] = re.sub(re.escape(term),\"\",x[document_id], flags=re.MULTILINE)\n",
    "        x[document_id] = re.sub(r\"\\b_([a-zA-z]+)_\\b\",r\"\\1\",x[document_id]) #replace _word_ to word \n",
    "        x[document_id] = re.sub(r\"\\b_([a-zA-z]+)\\b\",r\"\\1\",x[document_id]) #replace_word to word\n",
    "        x[document_id] = re.sub(r\"\\b([a-zA-z]+)_\\b\",r\"\\1\",x[document_id]) #replace word_ to word\n",
    "        x[document_id]=re.sub(r'\\b[\\w]{1,2}_([\\w]*)',r'\\1',x[document_id]) #remove sr from sr_srikar\n",
    "        x[document_id]=re.sub(r'([\\w]*)_[\\w]{1,2}\\b',r'\\1',x[document_id]) #remove sr from srikar_sr\n",
    "        x[document_id]=x[document_id].lower()\n",
    "        x[document_id]=re.sub('[\\w]{15,}','',x[document_id]) #remove words which are more than 15 \n",
    "        x[document_id]=re.sub(r\"\\b[\\w]{1,2}\\b\",'',x[document_id]) #removing words which are less than 3\n",
    "        x[document_id]=re.sub(r'[^a-zA-Z_]',' ',x[document_id]) # replace all the words except \"A-Za-z_\" with space \n",
    "        x[document_id]=re.sub(r'\\s+',' ',x[document_id]).strip() #removing tabs spaces\n",
    "    text=x\n",
    "    subject=subject\n",
    "    list_of_preproessed_emails=preprocessed_email\n",
    "    return (list_of_preproessed_emails, subject, text)"
   ]
  },
  {
   "cell_type": "code",
   "execution_count": null,
   "metadata": {
    "colab": {
     "referenced_widgets": [
      "4143cc5724ee477e90a288c705996120"
     ]
    },
    "execution": {
     "iopub.execute_input": "2022-08-07T09:57:53.646307Z",
     "iopub.status.busy": "2022-08-07T09:57:53.646107Z",
     "iopub.status.idle": "2022-08-07T09:57:54.121431Z",
     "shell.execute_reply": "2022-08-07T09:57:54.120706Z",
     "shell.execute_reply.started": "2022-08-07T09:57:53.646287Z"
    },
    "id": "m8j6KTCKShnP",
    "outputId": "2a547691-b27c-4907-d27b-c3373bf45dda",
    "tags": []
   },
   "outputs": [
    {
     "data": {
      "application/vnd.jupyter.widget-view+json": {
       "model_id": "4143cc5724ee477e90a288c705996120",
       "version_major": 2,
       "version_minor": 0
      },
      "text/plain": [
       "  0%|          | 0/1 [00:00<?, ?it/s]"
      ]
     },
     "metadata": {},
     "output_type": "display_data"
    },
    {
     "data": {
      "text/plain": [
       "(['mantis netcom mantis'],\n",
       " ['Atheist Resources'],\n",
       " ['atheism december atheist resources addresses atheist organizations usafreedom from religion foundation fish bumper stickers and assorted other atheist paraphernalia areavailable from the freedom from religion foundation the signsevolution designs sell the fish fish symbol like the oness stick their cars but with feet and the word writteninside the deluxe moulded plastic fish postpaid the people the san francisco bay area can get from try mailing for net people who directly theprice per fish american atheist pressaap publish various atheist books critiques the bible lists ofbiblical contradictions and one such book the bible handbook and american atheist isbn nd edition bible contradictions absurdities atrocities immoralities contains the itself aap based the king version the bible austin bookssell books including holy horrors alternate address prometheus for humanisman organization promoting black secular humanism and uncovering the history ofblack freethought they publish quarterly newsletter aah examiner association national secular society street holloway london ew london n nl british humanist association south place ethical society lamb halllondon wc r rh red lion square london wc r rlfax the national secular society publish the freethinker monthly germanyibka bund der und germany ibka publish journal miz mizvertrieb postfach germany for atheist books ibdk ucherdienst der germany disch the claus compromise short story the ultimate proof that exists all characters and events are fictitious any similarity living dead gods well walter miller canticle for leibowitz one gem this post atomic doomsday novel the monks who spent their livescopying blueprints from saint leibowitz filling the sheets paper withink and leaving white lines and letters edgar pangborn post atomic doomsday novel set clerical states the church for example forbids that anyone produce describe use any substance containing atoms philip dickphilip wrote many philosophical and short stories and novels his stories are bizarre times but very approachable wrote mainly but wrote about people truth and religion rather thantechnology although often believed that had met some sort heremained sceptical amongst his novels the following are some relevance fallible alien deity summons group craftsmen and women aremote planet raise giant cathedral from beneath the oceans when thedeity begins demand faith from the earthers pothealer isunable comply polished ironic and amusing novel maze death noteworthy for its description religion valis the schizophrenic hero searches for the hidden mysteries gnosticity after reality fired into his brain pink laser beam ofunknown but possibly divine origin accompanied his dogmatic atheist friend and assorted other odd characters the divine invasion invades making young woman pregnant she returns fromanother star system unfortunately she terminally ill and must beassisted dead man whose brain wired hour easy listening music margaret atwood the handmaid story based the premise that the congress and quickly take charge the nation set right again the book the diary woman life she tries liveunder the new theocracy women right own property revoked and their bank accounts are closed sinful luxuries are outlawed and theradio only used for readings from the bible crimes are doctors who performed legal abortions the old world arehunted down and hanged writing style difficult get used toat first but the tale grows more and more chilling goes various authors the bible this somewhat dull and rambling work has often been criticized however itis probably worth reading only that you will know what all the fuss isabout exists many different versions make sure you get the onetrue version rosa vicars christ although seems even catholic this veryenlighting history papal immoralities adulteries fallacies etc michael martin philosophical justification philadelphia usa detailed and scholarly justification atheism contains defining terminology and usage this argues both for negative atheism and also for positive atheism includes great refutations the arguments for god particular attention paid theists such and swinburne pages isbn the case against ity comprehensive critique ity which considersthe best contemporary defences ity and demonstrates that they are unsupportable and incoherent pages isbn turner the johns hopkins baltimore usasubtitled the origins unbelief america examines the way whichunbelief became mainstream focusses the period and while considering franceand britain the emphasis american and particularly neither religious history secularization atheism rather the intellectual history the fateof single idea the belief that exists pages isbn the great thoughts antine new_york usaa dictionary quotations different kind concentrating statementsand writings which explicitly implicitly present the person philosophyand worldview includes obscure opinions from manypeople for some popular observations traces the way which variouspeople expressed and twisted the idea over the centuries quite number ofthe quotations are derived from cardiff what religion and views religion pages isbn x richard swinburne the existence oxfordthis book the second volume trilogy that began with the coherence oftheism thiswork swinburne attempts construct series inductive arguments for theexistence his arguments which are somewhat tendentious and relyupon the imputation late th century western values andaesthetics which supposedly simple can conceived weredecisively rejected mackie the miracle theism the revisededition the existence swinburne includes appendix which hemakes somewhat incoherent attempt rebut mackie mackie the miracle theism oxfordthis volume contains comprehensive review the for and against the existence ranges from the positions descartes anselm throughthe moral arguments newman kant and the recent restatementsof the classical theses and swinburne also addresses thosepositions which push the concept beyond the realm the rational such those kierkegaard and well replacements for such axiarchism the book delight read and better written than works and refreshingly directwhen compared with the handwaving swinburne james haught holy illustrated history religious murder and madness prometheus looks religious persecution from ancient times the present day andnot only library congress catalog card number norm allen african american anthology see the listing for african americans for humanism above gordon stein anthology atheism and rationalism prometheus anthology covering wide range subjects including the devil and the history freethought comprehensive bibliography edmund cohen the mind the biblebeliever prometheus study why people become and what effect ithas them small mailbased archive server mantis which old alt atheism moderated articles and assorted other files formore information send mail saying help send atheism indexand will mail back reply mathew'])"
      ]
     },
     "execution_count": 20,
     "metadata": {},
     "output_type": "execute_result"
    }
   ],
   "source": [
    "hello=open('alt.atheism_49960.txt','r',errors=\"ignore\").read()\n",
    "preprocess([hello])"
   ]
  },
  {
   "cell_type": "code",
   "execution_count": null,
   "metadata": {
    "execution": {
     "iopub.execute_input": "2022-08-07T09:57:54.122770Z",
     "iopub.status.busy": "2022-08-07T09:57:54.122484Z",
     "iopub.status.idle": "2022-08-07T09:57:54.581309Z",
     "shell.execute_reply": "2022-08-07T09:57:54.580598Z",
     "shell.execute_reply.started": "2022-08-07T09:57:54.122747Z"
    },
    "id": "T5ggipLSShnR",
    "tags": []
   },
   "outputs": [],
   "source": [
    "files=os.listdir()\n",
    "files.sort()\n",
    "x=[]\n",
    "y=[]\n",
    "for i in files:\n",
    "    x.append(open(i,'r',errors=\"ignore\").read())   #fetching data in the document\n",
    "    y.append(i.split(\"_\")[0])                      #fetching y label"
   ]
  },
  {
   "cell_type": "code",
   "execution_count": null,
   "metadata": {
    "colab": {
     "referenced_widgets": [
      "467271a0fce54bdd9285506e855d88d1"
     ]
    },
    "execution": {
     "iopub.execute_input": "2022-08-07T09:57:54.583096Z",
     "iopub.status.busy": "2022-08-07T09:57:54.582368Z",
     "iopub.status.idle": "2022-08-07T10:22:07.625922Z",
     "shell.execute_reply": "2022-08-07T10:22:07.625133Z",
     "shell.execute_reply.started": "2022-08-07T09:57:54.583063Z"
    },
    "id": "GTKM64bIShnR",
    "outputId": "55d32e92-91bf-4243-d72d-ebaa572a3136",
    "tags": []
   },
   "outputs": [
    {
     "data": {
      "application/vnd.jupyter.widget-view+json": {
       "model_id": "467271a0fce54bdd9285506e855d88d1",
       "version_major": 2,
       "version_minor": 0
      },
      "text/plain": [
       "  0%|          | 0/18828 [00:00<?, ?it/s]"
      ]
     },
     "metadata": {},
     "output_type": "display_data"
    }
   ],
   "source": [
    "emails, subject, text=preprocess(x)"
   ]
  },
  {
   "cell_type": "code",
   "execution_count": null,
   "metadata": {
    "execution": {
     "iopub.execute_input": "2022-08-07T10:22:07.628133Z",
     "iopub.status.busy": "2022-08-07T10:22:07.627558Z",
     "iopub.status.idle": "2022-08-07T10:22:16.061681Z",
     "shell.execute_reply": "2022-08-07T10:22:16.060867Z",
     "shell.execute_reply.started": "2022-08-07T10:22:07.628101Z"
    },
    "id": "SdMPH9RkShnR",
    "tags": []
   },
   "outputs": [],
   "source": [
    "data=pd.DataFrame(np.array([emails,subject,text,y]).T,columns=['email','subject','text','class'])"
   ]
  },
  {
   "cell_type": "code",
   "execution_count": null,
   "metadata": {
    "execution": {
     "iopub.execute_input": "2022-08-07T10:22:16.063211Z",
     "iopub.status.busy": "2022-08-07T10:22:16.062940Z",
     "iopub.status.idle": "2022-08-07T10:22:16.067219Z",
     "shell.execute_reply": "2022-08-07T10:22:16.066426Z",
     "shell.execute_reply.started": "2022-08-07T10:22:16.063187Z"
    },
    "id": "yBCgqRCtShnS",
    "tags": []
   },
   "outputs": [],
   "source": [
    "os.chdir('..')"
   ]
  },
  {
   "cell_type": "code",
   "execution_count": null,
   "metadata": {
    "execution": {
     "iopub.execute_input": "2022-08-07T10:22:16.068693Z",
     "iopub.status.busy": "2022-08-07T10:22:16.068248Z",
     "iopub.status.idle": "2022-08-07T10:22:16.072605Z",
     "shell.execute_reply": "2022-08-07T10:22:16.071911Z",
     "shell.execute_reply.started": "2022-08-07T10:22:16.068668Z"
    },
    "id": "rOcwPE53ShnS",
    "tags": []
   },
   "outputs": [],
   "source": [
    "#data.to_csv('preprocessed_cnn_data.csv')   #after doing above steps , dataset is stored in a csv file"
   ]
  },
  {
   "cell_type": "code",
   "execution_count": null,
   "metadata": {
    "execution": {
     "iopub.execute_input": "2022-08-07T10:22:16.073733Z",
     "iopub.status.busy": "2022-08-07T10:22:16.073548Z",
     "iopub.status.idle": "2022-08-07T10:22:16.077701Z",
     "shell.execute_reply": "2022-08-07T10:22:16.077019Z",
     "shell.execute_reply.started": "2022-08-07T10:22:16.073713Z"
    },
    "id": "CX0Mh7WCShnS",
    "tags": []
   },
   "outputs": [],
   "source": [
    "#above data set is stored in the following CSV file \n",
    "#data=pd.read_csv('preprocessed_cnn_data.csv')\n",
    "#data=data.fillna('')\n",
    "#data=data.drop('Unnamed: 0',axis=1)"
   ]
  },
  {
   "cell_type": "code",
   "execution_count": null,
   "metadata": {
    "id": "7FARluOrShnT",
    "tags": []
   },
   "outputs": [],
   "source": []
  },
  {
   "cell_type": "code",
   "execution_count": null,
   "metadata": {
    "execution": {
     "iopub.execute_input": "2022-08-07T10:22:16.078619Z",
     "iopub.status.busy": "2022-08-07T10:22:16.078458Z",
     "iopub.status.idle": "2022-08-07T10:22:16.104579Z",
     "shell.execute_reply": "2022-08-07T10:22:16.103821Z",
     "shell.execute_reply.started": "2022-08-07T10:22:16.078599Z"
    },
    "id": "l2VICjT_ShnT",
    "tags": []
   },
   "outputs": [],
   "source": [
    "all_columns_merged=(data['email']+' '+data['subject']+' '+data['text'])"
   ]
  },
  {
   "cell_type": "code",
   "execution_count": null,
   "metadata": {
    "execution": {
     "iopub.execute_input": "2022-08-07T10:22:16.106385Z",
     "iopub.status.busy": "2022-08-07T10:22:16.105644Z",
     "iopub.status.idle": "2022-08-07T10:22:16.109590Z",
     "shell.execute_reply": "2022-08-07T10:22:16.108969Z",
     "shell.execute_reply.started": "2022-08-07T10:22:16.106352Z"
    },
    "id": "zOdtkjK9ShnU",
    "tags": []
   },
   "outputs": [],
   "source": [
    "all_columns_merged=all_columns_merged.to_numpy()"
   ]
  },
  {
   "cell_type": "code",
   "execution_count": null,
   "metadata": {
    "execution": {
     "iopub.execute_input": "2022-08-07T10:22:16.110573Z",
     "iopub.status.busy": "2022-08-07T10:22:16.110412Z",
     "iopub.status.idle": "2022-08-07T10:22:16.133668Z",
     "shell.execute_reply": "2022-08-07T10:22:16.133007Z",
     "shell.execute_reply.started": "2022-08-07T10:22:16.110553Z"
    },
    "id": "fsDf8RzXShnU",
    "tags": []
   },
   "outputs": [],
   "source": [
    " x_train, x_test, y_train, y_test = train_test_split(all_columns_merged, y, test_size=0.25, stratify=y,random_state=99)"
   ]
  },
  {
   "cell_type": "code",
   "execution_count": null,
   "metadata": {
    "execution": {
     "iopub.execute_input": "2022-08-07T10:22:16.135387Z",
     "iopub.status.busy": "2022-08-07T10:22:16.134927Z",
     "iopub.status.idle": "2022-08-07T10:22:16.271557Z",
     "shell.execute_reply": "2022-08-07T10:22:16.270823Z",
     "shell.execute_reply.started": "2022-08-07T10:22:16.135360Z"
    },
    "id": "gFTyTi14ShnU",
    "tags": []
   },
   "outputs": [],
   "source": [
    "length=[]\n",
    "for i in  x_train:\n",
    "    length.append(len(i.split()))"
   ]
  },
  {
   "cell_type": "code",
   "execution_count": null,
   "metadata": {
    "execution": {
     "iopub.execute_input": "2022-08-07T10:22:16.272940Z",
     "iopub.status.busy": "2022-08-07T10:22:16.272513Z",
     "iopub.status.idle": "2022-08-07T10:22:16.387654Z",
     "shell.execute_reply": "2022-08-07T10:22:16.386928Z",
     "shell.execute_reply.started": "2022-08-07T10:22:16.272916Z"
    },
    "id": "Nw-45WkyShnU",
    "outputId": "a5ea9e3c-f4fc-489d-eb09-83a40cc6811d",
    "tags": []
   },
   "outputs": [
    {
     "data": {
      "image/png": "[encoded data removed]",
      "text/plain": [
       "<Figure size 432x288 with 1 Axes>"
      ]
     },
     "metadata": {
      "needs_background": "light"
     },
     "output_type": "display_data"
    }
   ],
   "source": [
    "sns.ecdfplot(x=length)\n",
    "plt.xlabel('length of words')\n",
    "plt.grid()"
   ]
  },
  {
   "cell_type": "code",
   "execution_count": null,
   "metadata": {
    "execution": {
     "iopub.execute_input": "2022-08-07T10:22:16.388790Z",
     "iopub.status.busy": "2022-08-07T10:22:16.388611Z",
     "iopub.status.idle": "2022-08-07T10:22:16.516372Z",
     "shell.execute_reply": "2022-08-07T10:22:16.515627Z",
     "shell.execute_reply.started": "2022-08-07T10:22:16.388766Z"
    },
    "id": "ZHCYKjDuShnV",
    "outputId": "ffcf7c1f-0a69-45ac-83c0-ea8515cc4283",
    "tags": []
   },
   "outputs": [
    {
     "data": {
      "text/plain": [
       "(0.0, 800.0)"
      ]
     },
     "execution_count": 32,
     "metadata": {},
     "output_type": "execute_result"
    },
    {
     "data": {
      "image/png": "[encoded data removed]",
      "text/plain": [
       "<Figure size 432x288 with 1 Axes>"
      ]
     },
     "metadata": {
      "needs_background": "light"
     },
     "output_type": "display_data"
    }
   ],
   "source": [
    "#Zooming in a little bit of above plot\n",
    "sns.ecdfplot(x=length)\n",
    "plt.xlabel('length of words')\n",
    "plt.grid()\n",
    "plt.xlim(0,800)"
   ]
  },
  {
   "cell_type": "code",
   "execution_count": null,
   "metadata": {
    "execution": {
     "iopub.execute_input": "2022-08-07T10:22:16.517778Z",
     "iopub.status.busy": "2022-08-07T10:22:16.517285Z",
     "iopub.status.idle": "2022-08-07T10:22:16.531509Z",
     "shell.execute_reply": "2022-08-07T10:22:16.530634Z",
     "shell.execute_reply.started": "2022-08-07T10:22:16.517751Z"
    },
    "id": "hZPSQc-NShnV",
    "outputId": "8e3155b5-6c43-4d6c-e3d0-4cf45d540fa5",
    "tags": []
   },
   "outputs": [
    {
     "name": "stdout",
     "output_type": "stream",
     "text": [
      "\u001b[33mThe maximum length of the sentence in our dataset is 8486, 95% of points are less than the length 501 so i take 501 as threshold and strip the documents which has more than the length 501 . I am doing this because if we include remaining 5% points then our dataset dimensions will be 8486\n"
     ]
    }
   ],
   "source": [
    "print(Fore.YELLOW+f\"The maximum length of the sentence in our dataset is {int(np.percentile(length,100))}, 95% of points are less than the length {int(np.percentile(length,95))} so i take {int(np.percentile(length,95))} as threshold and strip the documents which has more than the length {int(np.percentile(length,95))} . I am doing this because if we include remaining 5% points then our dataset dimensions will be {int(np.percentile(length,100))}\")"
   ]
  },
  {
   "cell_type": "code",
   "execution_count": null,
   "metadata": {
    "execution": {
     "iopub.execute_input": "2022-08-07T10:22:16.532559Z",
     "iopub.status.busy": "2022-08-07T10:22:16.532389Z",
     "iopub.status.idle": "2022-08-07T10:22:19.995684Z",
     "shell.execute_reply": "2022-08-07T10:22:19.994875Z",
     "shell.execute_reply.started": "2022-08-07T10:22:16.532537Z"
    },
    "id": "nAT4XwpHShnV",
    "tags": []
   },
   "outputs": [],
   "source": [
    "token=Tokenizer()\n",
    "token.fit_on_texts(x_train)\n",
    "x_train_token=token.texts_to_sequences(x_train)\n",
    "x_test_token=token.texts_to_sequences(x_test)"
   ]
  },
  {
   "cell_type": "code",
   "execution_count": null,
   "metadata": {
    "execution": {
     "iopub.execute_input": "2022-08-07T10:22:19.997299Z",
     "iopub.status.busy": "2022-08-07T10:22:19.996767Z",
     "iopub.status.idle": "2022-08-07T10:22:20.031272Z",
     "shell.execute_reply": "2022-08-07T10:22:20.030586Z",
     "shell.execute_reply.started": "2022-08-07T10:22:19.997268Z"
    },
    "id": "LtndAVSyShnW",
    "tags": []
   },
   "outputs": [],
   "source": [
    "one=OneHotEncoder()\n",
    "y_train_final=one.fit_transform(np.array(y_train).reshape(-1,1))\n",
    "y_test_final=one.transform(np.array(y_test).reshape(-1,1))"
   ]
  },
  {
   "cell_type": "code",
   "execution_count": null,
   "metadata": {
    "execution": {
     "iopub.execute_input": "2022-08-07T10:22:20.032367Z",
     "iopub.status.busy": "2022-08-07T10:22:20.032196Z",
     "iopub.status.idle": "2022-08-07T10:22:20.260675Z",
     "shell.execute_reply": "2022-08-07T10:22:20.259747Z",
     "shell.execute_reply.started": "2022-08-07T10:22:20.032345Z"
    },
    "id": "p6P9kAA-ShnW",
    "outputId": "a8219b60-24d9-4ff1-e2cf-908f2ec4fe3a",
    "tags": []
   },
   "outputs": [
    {
     "name": "stdout",
     "output_type": "stream",
     "text": [
      "setting max length of document is 501\n"
     ]
    }
   ],
   "source": [
    "print(f\"setting max length of document is {int(np.percentile(length,95))}\")\n",
    "x_train_final=pad_sequences(x_train_token,padding='post',truncating='post',maxlen=int(np.percentile(length,95)))\n",
    "x_test_final=pad_sequences(x_test_token,padding='post',truncating='post',maxlen=int(np.percentile(length,95)))"
   ]
  },
  {
   "cell_type": "code",
   "execution_count": null,
   "metadata": {
    "execution": {
     "iopub.execute_input": "2022-08-07T10:22:20.262166Z",
     "iopub.status.busy": "2022-08-07T10:22:20.261740Z",
     "iopub.status.idle": "2022-08-07T10:22:20.265266Z",
     "shell.execute_reply": "2022-08-07T10:22:20.264368Z",
     "shell.execute_reply.started": "2022-08-07T10:22:20.262139Z"
    },
    "id": "YOHW8tfDShnW",
    "tags": []
   },
   "outputs": [],
   "source": [
    "#!wget http://nlp.stanford.edu/data/glove.6B.zip\n",
    "#!unzip 'glove.6B.zip'"
   ]
  },
  {
   "cell_type": "code",
   "execution_count": null,
   "metadata": {
    "colab": {
     "referenced_widgets": [
      "61c697ae96f6424b8afd30e4714c5a1b"
     ]
    },
    "execution": {
     "iopub.execute_input": "2022-08-07T10:22:20.266721Z",
     "iopub.status.busy": "2022-08-07T10:22:20.266216Z",
     "iopub.status.idle": "2022-08-07T10:22:43.873700Z",
     "shell.execute_reply": "2022-08-07T10:22:43.872967Z",
     "shell.execute_reply.started": "2022-08-07T10:22:20.266676Z"
    },
    "id": "eNl5wiMmShnX",
    "outputId": "18cb6028-a769-45fc-d691-1df1134f4fa6",
    "tags": []
   },
   "outputs": [
    {
     "data": {
      "application/vnd.jupyter.widget-view+json": {
       "model_id": "61c697ae96f6424b8afd30e4714c5a1b",
       "version_major": 2,
       "version_minor": 0
      },
      "text/plain": [
       "0it [00:00, ?it/s]"
      ]
     },
     "metadata": {},
     "output_type": "display_data"
    }
   ],
   "source": [
    "glove = {}\n",
    "f = open('glove.6B/glove.6B.300d.txt')\n",
    "for line in tqdm(f):\n",
    "    values = line.split()\n",
    "    word = values[0]\n",
    "    glove[word] = np.asarray(values[1:], dtype='float32')\n",
    "f.close()"
   ]
  },
  {
   "cell_type": "code",
   "execution_count": null,
   "metadata": {
    "execution": {
     "iopub.execute_input": "2022-08-07T10:22:43.875436Z",
     "iopub.status.busy": "2022-08-07T10:22:43.874937Z",
     "iopub.status.idle": "2022-08-07T10:22:44.338777Z",
     "shell.execute_reply": "2022-08-07T10:22:44.338019Z",
     "shell.execute_reply.started": "2022-08-07T10:22:43.875406Z"
    },
    "id": "MSsuSFwdShnX",
    "tags": []
   },
   "outputs": [],
   "source": [
    "embidding_matrix=[]\n",
    "count=0\n",
    "ind=token.word_index\n",
    "embidding_matrix.append(np.zeros((300)))\n",
    "for i in ind:\n",
    "    try:\n",
    "        embidding_matrix.append(glove[i])\n",
    "    except Exception:\n",
    "        embidding_matrix.append(np.zeros((300)))\n",
    "embidding_matrix=np.array(embidding_matrix)"
   ]
  },
  {
   "cell_type": "code",
   "execution_count": null,
   "metadata": {
    "execution": {
     "iopub.execute_input": "2022-08-07T10:22:44.341710Z",
     "iopub.status.busy": "2022-08-07T10:22:44.341371Z",
     "iopub.status.idle": "2022-08-07T10:22:44.350080Z",
     "shell.execute_reply": "2022-08-07T10:22:44.348971Z",
     "shell.execute_reply.started": "2022-08-07T10:22:44.341684Z"
    },
    "id": "wVQD37hwShnX",
    "tags": []
   },
   "outputs": [],
   "source": [
    "#custom micro f1 score \n",
    "from keras import backend as K\n",
    "def recall_m(y_true, y_pred):\n",
    "    true_positives = K.sum(K.round(K.clip(y_true * y_pred, 0, 1)))\n",
    "    possible_positives = K.sum(K.round(K.clip(y_true, 0, 1)))\n",
    "    recall = true_positives / (possible_positives + K.epsilon())\n",
    "    return recall\n",
    "\n",
    "def precision_m(y_true, y_pred):\n",
    "    true_positives = K.sum(K.round(K.clip(y_true * y_pred, 0, 1)))\n",
    "    predicted_positives = K.sum(K.round(K.clip(y_pred, 0, 1)))\n",
    "    precision = true_positives / (predicted_positives + K.epsilon())\n",
    "    return precision\n",
    "def micro_f1(y_true, y_pred):\n",
    "    precision = precision_m(y_true, y_pred)\n",
    "    recall = recall_m(y_true, y_pred)\n",
    "    return 2*((precision*recall)/(precision+recall+K.epsilon()))\n"
   ]
  },
  {
   "cell_type": "code",
   "execution_count": null,
   "metadata": {
    "execution": {
     "iopub.execute_input": "2022-08-07T10:22:44.361045Z",
     "iopub.status.busy": "2022-08-07T10:22:44.360669Z",
     "iopub.status.idle": "2022-08-07T10:22:44.365501Z",
     "shell.execute_reply": "2022-08-07T10:22:44.364812Z",
     "shell.execute_reply.started": "2022-08-07T10:22:44.361022Z"
    },
    "id": "MRKGHHqmShnY",
    "outputId": "30658ed9-0009-4d64-ad96-19a1285e7d6f",
    "tags": []
   },
   "outputs": [
    {
     "name": "stdout",
     "output_type": "stream",
     "text": [
      "storing Logs for tensorboard in following directory :  /home/ubuntu/aaic/CNN_with_textdata\n"
     ]
    }
   ],
   "source": [
    "tensorboard=tf.keras.callbacks.TensorBoard(\n",
    "    log_dir=\"logs\",\n",
    "    histogram_freq=1,\n",
    "    write_graph=True,\n",
    "    write_images=False,\n",
    "    write_steps_per_second=False,\n",
    "    update_freq=\"epoch\",\n",
    ")\n",
    "print('storing Logs for tensorboard in following directory : ',os.getcwd())"
   ]
  },
  {
   "cell_type": "code",
   "execution_count": null,
   "metadata": {
    "execution": {
     "iopub.execute_input": "2022-08-07T10:22:44.366509Z",
     "iopub.status.busy": "2022-08-07T10:22:44.366347Z",
     "iopub.status.idle": "2022-08-07T10:22:44.371833Z",
     "shell.execute_reply": "2022-08-07T10:22:44.370746Z",
     "shell.execute_reply.started": "2022-08-07T10:22:44.366489Z"
    },
    "id": "10yA3NimShnY",
    "outputId": "979d92b6-2daa-42bf-d165-021f37068e44",
    "tags": []
   },
   "outputs": [
    {
     "name": "stdout",
     "output_type": "stream",
     "text": [
      "storing best model in following directory :  /home/ubuntu/aaic/CNN_with_textdata\n"
     ]
    }
   ],
   "source": [
    "checkpoint=tf.keras.callbacks.ModelCheckpoint(\n",
    "    'best_model_L.h5',\n",
    "    monitor=\"val_loss\",\n",
    "    verbose=0,\n",
    "    save_best_only=True,\n",
    "    save_weights_only=False,\n",
    "    mode=\"auto\",\n",
    "    save_freq=\"epoch\",\n",
    "    options=None,\n",
    "    initial_value_threshold=None\n",
    ")\n",
    "print('storing best model in following directory : ',os.getcwd())"
   ]
  },
  {
   "cell_type": "code",
   "execution_count": null,
   "metadata": {
    "execution": {
     "iopub.execute_input": "2022-08-07T10:22:44.372896Z",
     "iopub.status.busy": "2022-08-07T10:22:44.372738Z",
     "iopub.status.idle": "2022-08-07T10:22:44.378705Z",
     "shell.execute_reply": "2022-08-07T10:22:44.377676Z",
     "shell.execute_reply.started": "2022-08-07T10:22:44.372875Z"
    },
    "id": "jZF5zDAkShnY",
    "tags": []
   },
   "outputs": [],
   "source": [
    "early_stopping=tf.keras.callbacks.EarlyStopping(\n",
    "    monitor=\"val_accuracy\",\n",
    "    min_delta=0,\n",
    "    patience=3,\n",
    "    verbose=0,\n",
    "    mode=\"auto\",\n",
    "    baseline=None,\n",
    "    restore_best_weights=True,\n",
    ")"
   ]
  },
  {
   "cell_type": "code",
   "execution_count": null,
   "metadata": {
    "execution": {
     "iopub.execute_input": "2022-08-07T10:22:44.379796Z",
     "iopub.status.busy": "2022-08-07T10:22:44.379631Z",
     "iopub.status.idle": "2022-08-07T10:22:44.400389Z",
     "shell.execute_reply": "2022-08-07T10:22:44.398993Z",
     "shell.execute_reply.started": "2022-08-07T10:22:44.379776Z"
    },
    "id": "NL_tp_fuShnZ"
   },
   "outputs": [],
   "source": [
    "#This callback checks if the train accuracy and validation accuracy differs more , if we have 0.95 train accuracy and 0.7 validation accuracy \n",
    "#then early stopping stores model with validation 0.7 , it won't see the difference b/w validation accuracy and training accuracy, so this metric sees \n",
    "#difference also and you can monitor it using this metric\n",
    "from math import sqrt,exp\n",
    "class overfit_metric(tf.keras.callbacks.Callback):\n",
    "    \"\"\"This callback checks if the train accuracy and validation accuracy differs more , if we have 0.95 train accuracy and 0.7 validation accuracy \n",
    "       then early stopping stores model with validation 0.7 , it won't see the difference b/w validation accuracy and training accuracy, so this metric sees \n",
    "       difference also and you can monitor it using this metric, This is caluclated with harmonic mean of (1/diff) and validation accuracy , where diff is difference\n",
    "       of accuracy between train accuracy and validation accuracy \"\"\"\n",
    "    def on_epoch_end(self,epoch,log=None):\n",
    "        val=log['val_accuracy']\n",
    "        acc=log['accuracy']\n",
    "        diff=abs(log['accuracy']-val)\n",
    "        log['overfit_paramater']=2*(1/exp(diff))*val/((1/exp(diff)+val))"
   ]
  },
  {
   "cell_type": "code",
   "execution_count": null,
   "metadata": {
    "execution": {
     "iopub.execute_input": "2022-08-07T10:22:44.402524Z",
     "iopub.status.busy": "2022-08-07T10:22:44.402097Z",
     "iopub.status.idle": "2022-08-07T10:22:44.407398Z",
     "shell.execute_reply": "2022-08-07T10:22:44.406328Z",
     "shell.execute_reply.started": "2022-08-07T10:22:44.402498Z"
    },
    "id": "6izW-EGJShnZ",
    "tags": []
   },
   "outputs": [],
   "source": [
    "###### hyperparamaters ######\n",
    "first_layer_filters=16\n",
    "m=5\n",
    "n=3\n",
    "o=1\n",
    "second_layer_filter=16\n",
    "i=5\n",
    "j=3\n",
    "k=1\n",
    "third_layer_filter=16\n",
    "third_layer_kernel_size=5\n",
    "dropout=0.2\n",
    "dense=256\n",
    "activate='relu'\n",
    "pad='same'\n",
    "regularizer=\"l2\""
   ]
  },
  {
   "cell_type": "code",
   "execution_count": null,
   "metadata": {
    "execution": {
     "iopub.execute_input": "2022-08-07T10:22:44.408385Z",
     "iopub.status.busy": "2022-08-07T10:22:44.408205Z",
     "iopub.status.idle": "2022-08-07T10:22:44.825964Z",
     "shell.execute_reply": "2022-08-07T10:22:44.825240Z",
     "shell.execute_reply.started": "2022-08-07T10:22:44.408357Z"
    },
    "id": "4-oFjBXMShnZ",
    "outputId": "1e818add-d3ae-4a2d-cfa2-adee1b2d020d",
    "tags": []
   },
   "outputs": [
    {
     "name": "stdout",
     "output_type": "stream",
     "text": [
      "Model: \"model\"\n",
      "__________________________________________________________________________________________________\n",
      " Layer (type)                   Output Shape         Param #     Connected to                     \n",
      "==================================================================================================\n",
      " input_1 (InputLayer)           [(None, 501)]        0           []                               \n",
      "                                                                                                  \n",
      " embedding (Embedding)          (None, 501, 300)     38809800    ['input_1[0][0]']                \n",
      "                                                                                                  \n",
      " conv1d (Conv1D)                (None, 501, 16)      24016       ['embedding[0][0]']              \n",
      "                                                                                                  \n",
      " conv1d_1 (Conv1D)              (None, 501, 16)      14416       ['embedding[0][0]']              \n",
      "                                                                                                  \n",
      " conv1d_2 (Conv1D)              (None, 501, 16)      4816        ['embedding[0][0]']              \n",
      "                                                                                                  \n",
      " concatenate (Concatenate)      (None, 501, 48)      0           ['conv1d[0][0]',                 \n",
      "                                                                  'conv1d_1[0][0]',               \n",
      "                                                                  'conv1d_2[0][0]']               \n",
      "                                                                                                  \n",
      " max_pooling1d (MaxPooling1D)   (None, 250, 48)      0           ['concatenate[0][0]']            \n",
      "                                                                                                  \n",
      " conv1d_3 (Conv1D)              (None, 250, 16)      3856        ['max_pooling1d[0][0]']          \n",
      "                                                                                                  \n",
      " conv1d_4 (Conv1D)              (None, 250, 16)      2320        ['max_pooling1d[0][0]']          \n",
      "                                                                                                  \n",
      " conv1d_5 (Conv1D)              (None, 250, 16)      784         ['max_pooling1d[0][0]']          \n",
      "                                                                                                  \n",
      " concatenate_1 (Concatenate)    (None, 250, 48)      0           ['conv1d_3[0][0]',               \n",
      "                                                                  'conv1d_4[0][0]',               \n",
      "                                                                  'conv1d_5[0][0]']               \n",
      "                                                                                                  \n",
      " max_pooling1d_1 (MaxPooling1D)  (None, 125, 48)     0           ['concatenate_1[0][0]']          \n",
      "                                                                                                  \n",
      " conv1d_6 (Conv1D)              (None, 121, 16)      3856        ['max_pooling1d_1[0][0]']        \n",
      "                                                                                                  \n",
      " flatten (Flatten)              (None, 1936)         0           ['conv1d_6[0][0]']               \n",
      "                                                                                                  \n",
      " dropout (Dropout)              (None, 1936)         0           ['flatten[0][0]']                \n",
      "                                                                                                  \n",
      " dense (Dense)                  (None, 256)          495872      ['dropout[0][0]']                \n",
      "                                                                                                  \n",
      " dense_1 (Dense)                (None, 20)           5140        ['dense[0][0]']                  \n",
      "                                                                                                  \n",
      "==================================================================================================\n",
      "Total params: 39,364,876\n",
      "Trainable params: 555,076\n",
      "Non-trainable params: 38,809,800\n",
      "__________________________________________________________________________________________________\n",
      "You must install pydot (`pip install pydot`) and install graphviz (see instructions at https://graphviz.gitlab.io/download/) for plot_model/model_to_dot to work.\n"
     ]
    }
   ],
   "source": [
    "model_input=Input(shape=(x_train_final.shape[1]))\n",
    "model=Embedding(embidding_matrix.shape[0],embidding_matrix.shape[1],trainable=False,weights=[embidding_matrix])(model_input)\n",
    "l1=Conv1D(filters=first_layer_filters,kernel_size=m,activation=activate,padding=pad,kernel_regularizer=regularizer)(model)\n",
    "l2=Conv1D(filters=first_layer_filters,kernel_size=n,activation=activate,padding=pad,kernel_regularizer=regularizer)(model)\n",
    "l3=Conv1D(filters=first_layer_filters,kernel_size=o,activation=activate,padding=pad,kernel_regularizer=regularizer)(model)\n",
    "model=Concatenate()([l1,l2,l3])\n",
    "model=MaxPool1D()(model)\n",
    "l1=Conv1D(filters=second_layer_filter,kernel_size=i,activation=activate,padding=pad,kernel_regularizer=regularizer)(model)\n",
    "l2=Conv1D(filters=second_layer_filter,kernel_size=j,activation=activate,padding=pad,kernel_regularizer=regularizer)(model)\n",
    "l3=Conv1D(filters=second_layer_filter,kernel_size=k,activation=activate,padding=pad,kernel_regularizer=regularizer)(model)\n",
    "model=Concatenate()([l1,l2,l3])\n",
    "model=MaxPool1D()(model)\n",
    "model=Conv1D(filters=third_layer_filter,kernel_size=third_layer_kernel_size,activation=activate,kernel_regularizer=regularizer)(model)\n",
    "model=Flatten()(model)\n",
    "model=Dropout(dropout)(model)\n",
    "model=Dense(dense,activation=activate,kernel_regularizer=regularizer)(model)\n",
    "model=Dense(20,activation='softmax')(model)\n",
    "model=Model(inputs=[model_input],outputs=[model])\n",
    "model.compile(optimizer='adam',loss='categorical_crossentropy',metrics=['accuracy',micro_f1])\n",
    "model.summary()\n",
    "tf.keras.utils.plot_model(\n",
    "    model,\n",
    "    to_file='model.png',\n",
    "    show_shapes=True,\n",
    "    show_dtype=False,\n",
    "    show_layer_names=True,\n",
    "    rankdir='TB',\n",
    "    expand_nested=False,\n",
    "    dpi=96,\n",
    "    layer_range=None,\n",
    "    show_layer_activations=False\n",
    ")"
   ]
  },
  {
   "cell_type": "code",
   "execution_count": null,
   "metadata": {
    "id": "6sPHWCE8Shna"
   },
   "outputs": [],
   "source": []
  },
  {
   "cell_type": "code",
   "execution_count": null,
   "metadata": {
    "execution": {
     "iopub.execute_input": "2022-08-07T10:22:44.827657Z",
     "iopub.status.busy": "2022-08-07T10:22:44.827045Z",
     "iopub.status.idle": "2022-08-07T10:22:44.831071Z",
     "shell.execute_reply": "2022-08-07T10:22:44.829898Z",
     "shell.execute_reply.started": "2022-08-07T10:22:44.827628Z"
    },
    "id": "Hy1Dlt8cShna",
    "tags": []
   },
   "outputs": [],
   "source": [
    "#Max batch size= available GPU memory bytes / 4 / (size of tensors + trainable parameters)"
   ]
  },
  {
   "cell_type": "code",
   "execution_count": null,
   "metadata": {
    "execution": {
     "iopub.execute_input": "2022-08-07T10:22:44.832780Z",
     "iopub.status.busy": "2022-08-07T10:22:44.832478Z",
     "iopub.status.idle": "2022-08-07T10:22:44.836279Z",
     "shell.execute_reply": "2022-08-07T10:22:44.835612Z",
     "shell.execute_reply.started": "2022-08-07T10:22:44.832757Z"
    },
    "id": "TwfYAZ3eShna",
    "tags": []
   },
   "outputs": [],
   "source": [
    "#from tensorflow.keras.models import load_model\n",
    "#model=load_model('best_model_L.h5',compile=False)    #To load already trained and saved model\n",
    "#model.compile(optimizer='adam',loss='categorical_crossentropy',metrics=['accuracy',micro_f1])"
   ]
  },
  {
   "cell_type": "code",
   "execution_count": null,
   "metadata": {
    "execution": {
     "iopub.execute_input": "2022-08-07T10:22:44.837491Z",
     "iopub.status.busy": "2022-08-07T10:22:44.837214Z",
     "iopub.status.idle": "2022-08-07T10:22:48.037822Z",
     "shell.execute_reply": "2022-08-07T10:22:48.036658Z",
     "shell.execute_reply.started": "2022-08-07T10:22:44.837466Z"
    },
    "id": "s6ir2BbEShnb",
    "outputId": "a4679548-f24a-4add-8d16-7b17659fd241",
    "tags": []
   },
   "outputs": [
    {
     "data": {
      "text/html": [
       "\n",
       "      <iframe id=\"tensorboard-frame-e648ea73a1cb6db5\" width=\"100%\" height=\"800\" frameborder=\"0\">\n",
       "      </iframe>\n",
       "      <script>\n",
       "        (function() {\n",
       "          const frame = document.getElementById(\"tensorboard-frame-e648ea73a1cb6db5\");\n",
       "          const url = new URL(\"/\", window.location);\n",
       "          const port = 6006;\n",
       "          if (port) {\n",
       "            url.port = port;\n",
       "          }\n",
       "          frame.src = url;\n",
       "        })();\n",
       "      </script>\n",
       "    "
      ],
      "text/plain": [
       "<IPython.core.display.HTML object>"
      ]
     },
     "metadata": {},
     "output_type": "display_data"
    }
   ],
   "source": [
    "%load_ext tensorboard\n",
    "!rm -rf ./logs/ \n",
    "%tensorboard --logdir './logs' --host \"0.0.0.0\" --port 6006"
   ]
  },
  {
   "cell_type": "code",
   "execution_count": null,
   "metadata": {
    "execution": {
     "iopub.execute_input": "2022-08-07T10:22:48.039366Z",
     "iopub.status.busy": "2022-08-07T10:22:48.039163Z",
     "iopub.status.idle": "2022-08-07T10:33:05.704312Z",
     "shell.execute_reply": "2022-08-07T10:33:05.703550Z",
     "shell.execute_reply.started": "2022-08-07T10:22:48.039338Z"
    },
    "id": "dd7juBfzShnb",
    "outputId": "7d83140a-097b-438a-c474-cba57f158170",
    "scrolled": true,
    "tags": []
   },
   "outputs": [
    {
     "name": "stdout",
     "output_type": "stream",
     "text": [
      "Epoch 1/4000\n",
      "353/353 [==============================] - ETA: 0s - loss: 3.2875 - accuracy: 0.2376 - micro_f1: 0.0822"
     ]
    },
    {
     "name": "stderr",
     "output_type": "stream",
     "text": [
      "2022-08-07 15:53:21.923668: W tensorflow/core/framework/cpu_allocator_impl.cc:82] Allocation of 9314352000 exceeds 10% of free system memory.\n"
     ]
    },
    {
     "name": "stdout",
     "output_type": "stream",
     "text": [
      "353/353 [==============================] - 37s 98ms/step - loss: 3.2875 - accuracy: 0.2376 - micro_f1: 0.0822 - val_loss: 2.1707 - val_accuracy: 0.3724 - val_micro_f1: 0.2165 - overfit_paramater: 0.5222\n",
      "Epoch 2/4000\n",
      "353/353 [==============================] - ETA: 0s - loss: 1.9247 - accuracy: 0.4718 - micro_f1: 0.3536"
     ]
    },
    {
     "name": "stderr",
     "output_type": "stream",
     "text": [
      "2022-08-07 15:53:56.632921: W tensorflow/core/framework/cpu_allocator_impl.cc:82] Allocation of 9314352000 exceeds 10% of free system memory.\n"
     ]
    },
    {
     "name": "stdout",
     "output_type": "stream",
     "text": [
      "353/353 [==============================] - 35s 98ms/step - loss: 1.9247 - accuracy: 0.4718 - micro_f1: 0.3536 - val_loss: 1.8062 - val_accuracy: 0.5165 - val_micro_f1: 0.3524 - overfit_paramater: 0.6707\n",
      "Epoch 3/4000\n",
      "353/353 [==============================] - ETA: 0s - loss: 1.6746 - accuracy: 0.5728 - micro_f1: 0.4893"
     ]
    },
    {
     "name": "stderr",
     "output_type": "stream",
     "text": [
      "2022-08-07 15:54:31.044370: W tensorflow/core/framework/cpu_allocator_impl.cc:82] Allocation of 9314352000 exceeds 10% of free system memory.\n"
     ]
    },
    {
     "name": "stdout",
     "output_type": "stream",
     "text": [
      "353/353 [==============================] - 34s 98ms/step - loss: 1.6746 - accuracy: 0.5728 - micro_f1: 0.4893 - val_loss: 1.5856 - val_accuracy: 0.6088 - val_micro_f1: 0.5526 - overfit_paramater: 0.7465\n",
      "Epoch 4/4000\n",
      "353/353 [==============================] - ETA: 0s - loss: 1.5507 - accuracy: 0.6295 - micro_f1: 0.5784"
     ]
    },
    {
     "name": "stderr",
     "output_type": "stream",
     "text": [
      "2022-08-07 15:55:05.747819: W tensorflow/core/framework/cpu_allocator_impl.cc:82] Allocation of 9314352000 exceeds 10% of free system memory.\n"
     ]
    },
    {
     "name": "stdout",
     "output_type": "stream",
     "text": [
      "353/353 [==============================] - 35s 98ms/step - loss: 1.5507 - accuracy: 0.6295 - micro_f1: 0.5784 - val_loss: 1.5685 - val_accuracy: 0.6234 - val_micro_f1: 0.5781 - overfit_paramater: 0.7662\n",
      "Epoch 5/4000\n",
      "353/353 [==============================] - ETA: 0s - loss: 1.4831 - accuracy: 0.6610 - micro_f1: 0.6110"
     ]
    },
    {
     "name": "stderr",
     "output_type": "stream",
     "text": [
      "2022-08-07 15:55:40.083976: W tensorflow/core/framework/cpu_allocator_impl.cc:82] Allocation of 9314352000 exceeds 10% of free system memory.\n"
     ]
    },
    {
     "name": "stdout",
     "output_type": "stream",
     "text": [
      "353/353 [==============================] - 34s 97ms/step - loss: 1.4831 - accuracy: 0.6610 - micro_f1: 0.6110 - val_loss: 1.4719 - val_accuracy: 0.6676 - val_micro_f1: 0.6313 - overfit_paramater: 0.7986\n",
      "Epoch 6/4000\n",
      "353/353 [==============================] - 34s 96ms/step - loss: 1.4273 - accuracy: 0.6800 - micro_f1: 0.6405 - val_loss: 1.5003 - val_accuracy: 0.6552 - val_micro_f1: 0.6175 - overfit_paramater: 0.7839\n",
      "Epoch 7/4000\n",
      "353/353 [==============================] - 35s 100ms/step - loss: 1.3883 - accuracy: 0.7014 - micro_f1: 0.6611 - val_loss: 1.4205 - val_accuracy: 0.6924 - val_micro_f1: 0.6604 - overfit_paramater: 0.8152\n",
      "Epoch 8/4000\n",
      "353/353 [==============================] - 34s 97ms/step - loss: 1.3443 - accuracy: 0.7203 - micro_f1: 0.6900 - val_loss: 1.4074 - val_accuracy: 0.7058 - val_micro_f1: 0.6895 - overfit_paramater: 0.8226\n",
      "Epoch 9/4000\n",
      "353/353 [==============================] - 34s 96ms/step - loss: 1.2990 - accuracy: 0.7373 - micro_f1: 0.7132 - val_loss: 1.4187 - val_accuracy: 0.6970 - val_micro_f1: 0.6838 - overfit_paramater: 0.8078\n",
      "Epoch 10/4000\n",
      "353/353 [==============================] - 34s 95ms/step - loss: 1.2812 - accuracy: 0.7499 - micro_f1: 0.7273 - val_loss: 1.4636 - val_accuracy: 0.7009 - val_micro_f1: 0.6852 - overfit_paramater: 0.8074\n",
      "Epoch 11/4000\n",
      "353/353 [==============================] - 34s 96ms/step - loss: 1.2524 - accuracy: 0.7635 - micro_f1: 0.7416 - val_loss: 1.4085 - val_accuracy: 0.7119 - val_micro_f1: 0.6960 - overfit_paramater: 0.8138\n",
      "Epoch 12/4000\n",
      "353/353 [==============================] - 34s 97ms/step - loss: 1.2355 - accuracy: 0.7666 - micro_f1: 0.7522 - val_loss: 1.4008 - val_accuracy: 0.7179 - val_micro_f1: 0.7189 - overfit_paramater: 0.8187\n",
      "Epoch 13/4000\n",
      "353/353 [==============================] - 34s 95ms/step - loss: 1.2209 - accuracy: 0.7781 - micro_f1: 0.7602 - val_loss: 1.4650 - val_accuracy: 0.7041 - val_micro_f1: 0.7073 - overfit_paramater: 0.8009\n",
      "Epoch 14/4000\n",
      "353/353 [==============================] - 34s 95ms/step - loss: 1.2037 - accuracy: 0.7836 - micro_f1: 0.7671 - val_loss: 1.4129 - val_accuracy: 0.7246 - val_micro_f1: 0.7224 - overfit_paramater: 0.8194\n",
      "Epoch 15/4000\n",
      "353/353 [==============================] - 34s 98ms/step - loss: 1.1817 - accuracy: 0.7951 - micro_f1: 0.7784 - val_loss: 1.3698 - val_accuracy: 0.7356 - val_micro_f1: 0.7282 - overfit_paramater: 0.8262\n",
      "Epoch 16/4000\n",
      "353/353 [==============================] - 34s 96ms/step - loss: 1.1457 - accuracy: 0.8020 - micro_f1: 0.7884 - val_loss: 1.4018 - val_accuracy: 0.7352 - val_micro_f1: 0.7204 - overfit_paramater: 0.8233\n",
      "Epoch 17/4000\n",
      "353/353 [==============================] - 34s 96ms/step - loss: 1.1655 - accuracy: 0.8003 - micro_f1: 0.7872 - val_loss: 1.3767 - val_accuracy: 0.7257 - val_micro_f1: 0.7207 - overfit_paramater: 0.8145\n",
      "Epoch 18/4000\n",
      "353/353 [==============================] - 34s 96ms/step - loss: 1.1278 - accuracy: 0.8086 - micro_f1: 0.7975 - val_loss: 1.4464 - val_accuracy: 0.7094 - val_micro_f1: 0.7055 - overfit_paramater: 0.7955\n"
     ]
    },
    {
     "data": {
      "text/plain": [
       "<keras.callbacks.History at 0xffff3b2c8640>"
      ]
     },
     "execution_count": 50,
     "metadata": {},
     "output_type": "execute_result"
    }
   ],
   "source": [
    "model.fit(x_train_final,y_train_final.toarray(),validation_split=0.2,\n",
    "          callbacks=[tensorboard,checkpoint,early_stopping,overfit_metric()]\n",
    "          ,epochs=4000)"
   ]
  },
  {
   "cell_type": "code",
   "execution_count": null,
   "metadata": {
    "execution": {
     "iopub.execute_input": "2022-08-07T10:33:05.705771Z",
     "iopub.status.busy": "2022-08-07T10:33:05.705567Z",
     "iopub.status.idle": "2022-08-07T10:33:05.710913Z",
     "shell.execute_reply": "2022-08-07T10:33:05.709281Z",
     "shell.execute_reply.started": "2022-08-07T10:33:05.705747Z"
    },
    "id": "PF2c3TraShnb"
   },
   "outputs": [],
   "source": [
    "model_1=model"
   ]
  },
  {
   "cell_type": "markdown",
   "metadata": {
    "id": "UfjuSlDdShnc",
    "tags": []
   },
   "source": [
    "### Testing model performance on Test data"
   ]
  },
  {
   "cell_type": "code",
   "execution_count": null,
   "metadata": {
    "execution": {
     "iopub.execute_input": "2022-08-07T10:33:05.712589Z",
     "iopub.status.busy": "2022-08-07T10:33:05.712324Z",
     "iopub.status.idle": "2022-08-07T10:33:09.167606Z",
     "shell.execute_reply": "2022-08-07T10:33:09.166885Z",
     "shell.execute_reply.started": "2022-08-07T10:33:05.712564Z"
    },
    "id": "392BCR64Shnc",
    "outputId": "1ddf0d66-caab-45ef-ffe0-676edc0e6425",
    "tags": []
   },
   "outputs": [
    {
     "name": "stdout",
     "output_type": "stream",
     "text": [
      "148/148 [==============================] - 3s 21ms/step\n"
     ]
    }
   ],
   "source": [
    "evaluate=model.predict(x_test_final)"
   ]
  },
  {
   "cell_type": "code",
   "execution_count": null,
   "metadata": {
    "execution": {
     "iopub.execute_input": "2022-08-07T15:42:39.031990Z",
     "iopub.status.busy": "2022-08-07T15:42:39.031426Z",
     "iopub.status.idle": "2022-08-07T15:42:39.036283Z",
     "shell.execute_reply": "2022-08-07T15:42:39.035577Z",
     "shell.execute_reply.started": "2022-08-07T15:42:39.031959Z"
    },
    "id": "37hte8z-Shnc"
   },
   "outputs": [],
   "source": []
  },
  {
   "cell_type": "code",
   "execution_count": null,
   "metadata": {
    "execution": {
     "iopub.execute_input": "2022-08-07T15:42:42.871106Z",
     "iopub.status.busy": "2022-08-07T15:42:42.870390Z",
     "iopub.status.idle": "2022-08-07T15:42:42.947852Z",
     "shell.execute_reply": "2022-08-07T15:42:42.947090Z",
     "shell.execute_reply.started": "2022-08-07T15:42:42.871069Z"
    },
    "id": "CU37BGDIShnc",
    "outputId": "22963438-8506-4338-9fde-43ae8358486c",
    "tags": []
   },
   "outputs": [
    {
     "name": "stdout",
     "output_type": "stream",
     "text": [
      "              precision    recall  f1-score   support\n",
      "\n",
      "           0       0.67      0.76      0.71       200\n",
      "           1       0.60      0.65      0.63       243\n",
      "           2       0.67      0.71      0.69       246\n",
      "           3       0.49      0.72      0.58       246\n",
      "           4       0.80      0.45      0.58       240\n",
      "           5       0.54      0.68      0.60       245\n",
      "           6       0.68      0.68      0.68       243\n",
      "           7       0.73      0.90      0.80       248\n",
      "           8       0.96      0.71      0.82       249\n",
      "           9       0.96      0.88      0.92       248\n",
      "          10       0.93      0.92      0.93       250\n",
      "          11       0.88      0.86      0.87       248\n",
      "          12       0.63      0.66      0.65       245\n",
      "          13       0.93      0.83      0.88       247\n",
      "          14       0.92      0.81      0.86       247\n",
      "          15       0.67      0.87      0.76       249\n",
      "          16       0.84      0.65      0.73       227\n",
      "          17       0.77      0.92      0.84       235\n",
      "          18       0.72      0.73      0.72       194\n",
      "          19       0.47      0.11      0.18       157\n",
      "\n",
      "    accuracy                           0.74      4707\n",
      "   macro avg       0.74      0.72      0.72      4707\n",
      "weighted avg       0.75      0.74      0.73      4707\n",
      "\n"
     ]
    }
   ],
   "source": [
    "print(classification_report(np.argmax(y_test_final,axis=1),np.argmax(evaluate,axis=1)))"
   ]
  },
  {
   "cell_type": "code",
   "execution_count": null,
   "metadata": {
    "execution": {
     "iopub.execute_input": "2022-08-07T15:43:11.230884Z",
     "iopub.status.busy": "2022-08-07T15:43:11.230374Z",
     "iopub.status.idle": "2022-08-07T15:43:11.297807Z",
     "shell.execute_reply": "2022-08-07T15:43:11.296971Z",
     "shell.execute_reply.started": "2022-08-07T15:43:11.230854Z"
    },
    "id": "R7HlqIveShnd",
    "outputId": "6dec50b7-3608-45f0-c1cb-2e11e9c2de37",
    "tags": []
   },
   "outputs": [
    {
     "name": "stdout",
     "output_type": "stream",
     "text": [
      "Micro F1 score on Test data is : 0.7365625663904822\n"
     ]
    }
   ],
   "source": [
    "print(f'Micro F1 score on Test data is : {f1_score(np.argmax(y_test_final,axis=1),np.argmax(evaluate,axis=1),average=\"micro\")}')"
   ]
  },
  {
   "cell_type": "code",
   "execution_count": null,
   "metadata": {
    "execution": {
     "iopub.execute_input": "2022-08-07T15:43:12.890169Z",
     "iopub.status.busy": "2022-08-07T15:43:12.889591Z",
     "iopub.status.idle": "2022-08-07T15:43:12.955578Z",
     "shell.execute_reply": "2022-08-07T15:43:12.954835Z",
     "shell.execute_reply.started": "2022-08-07T15:43:12.890138Z"
    },
    "id": "7wxeiHq8Shnd",
    "outputId": "224b39bf-eec6-4454-a31a-75561defaf84",
    "tags": []
   },
   "outputs": [
    {
     "name": "stdout",
     "output_type": "stream",
     "text": [
      "Accuracy on Test data is : 0.7365625663904822\n"
     ]
    }
   ],
   "source": [
    "print(f\"Accuracy on Test data is : {accuracy_score(np.argmax(y_test_final,axis=1),np.argmax(evaluate,axis=1))}\")"
   ]
  },
  {
   "cell_type": "code",
   "execution_count": null,
   "metadata": {
    "execution": {
     "iopub.execute_input": "2022-08-07T15:43:26.170593Z",
     "iopub.status.busy": "2022-08-07T15:43:26.170091Z",
     "iopub.status.idle": "2022-08-07T15:43:27.500617Z",
     "shell.execute_reply": "2022-08-07T15:43:27.499919Z",
     "shell.execute_reply.started": "2022-08-07T15:43:26.170564Z"
    },
    "id": "CpqPLkiEShnd",
    "outputId": "d17097f1-5224-4b61-8d34-942beb6a90db",
    "tags": []
   },
   "outputs": [
    {
     "data": {
      "text/plain": [
       "Text(159.0, 0.5, 'Original Class')"
      ]
     },
     "execution_count": 58,
     "metadata": {},
     "output_type": "execute_result"
    },
    {
     "data": {
      "image/png": "[encoded data removed]",
      "text/plain": [
       "<Figure size 1440x720 with 2 Axes>"
      ]
     },
     "metadata": {
      "needs_background": "light"
     },
     "output_type": "display_data"
    }
   ],
   "source": [
    "plt.figure(figsize=(20,10))\n",
    "sns.heatmap(confusion_matrix(np.argmax(y_test_final,axis=1),np.argmax(evaluate,axis=1)),annot=True,cmap=\"YlGnBu\")\n",
    "plt.xlabel('Predicted Class ')\n",
    "plt.ylabel('Original Class')"
   ]
  },
  {
   "cell_type": "markdown",
   "metadata": {
    "id": "IHaL4woIShne"
   },
   "source": [
    "### Hyperparamater Tuning "
   ]
  },
  {
   "cell_type": "code",
   "execution_count": null,
   "metadata": {
    "execution": {
     "iopub.execute_input": "2022-08-07T15:43:33.818513Z",
     "iopub.status.busy": "2022-08-07T15:43:33.817845Z",
     "iopub.status.idle": "2022-08-07T15:43:33.824129Z",
     "shell.execute_reply": "2022-08-07T15:43:33.823329Z",
     "shell.execute_reply.started": "2022-08-07T15:43:33.818484Z"
    },
    "id": "3mbXqzjaShne",
    "tags": []
   },
   "outputs": [],
   "source": [
    "#splitting training and validation data , taking 20% as validation data\n",
    "train=x_train_token[:int(0.8*len(x_train_token))] \n",
    "cv=x_train_token[int(0.8*len(x_train_token)):]\n",
    "y_train=y_train_final[:int(0.8*len(x_train_token))]\n",
    "y_cv_train=y_train_final[int(0.8*len(x_train_token)):]"
   ]
  },
  {
   "cell_type": "code",
   "execution_count": null,
   "metadata": {
    "execution": {
     "iopub.execute_input": "2022-08-07T15:43:34.015223Z",
     "iopub.status.busy": "2022-08-07T15:43:34.014491Z",
     "iopub.status.idle": "2022-08-07T15:43:34.032744Z",
     "shell.execute_reply": "2022-08-07T15:43:34.031365Z",
     "shell.execute_reply.started": "2022-08-07T15:43:34.015192Z"
    },
    "id": "cKZyue7jShne",
    "tags": []
   },
   "outputs": [],
   "source": [
    "def create_model(hp):\n",
    "    \n",
    "    global train\n",
    "    global cv\n",
    "    global tr\n",
    "    global te\n",
    "    aa=hp.Int('Max length of document in percentile',min_value=50,max_value=98,step=10)   # Treating max length of the document as a hyper paramater\n",
    "    tr=pad_sequences(train,padding='post',maxlen=int(np.percentile(length,aa))) \n",
    "    te=pad_sequences(cv,padding='post',maxlen=int(np.percentile(length,aa)))\n",
    "    \n",
    "    ####################################### hyperparamaters ##############################################################\n",
    "    \n",
    "    first_layer_filters=hp.Int(\"no of filters\",min_value=1,max_value=20,step=5) #first convolution set filter \n",
    "    m=hp.Choice(\"kernel\",values=[7,5])  #first convolution set kernel size\n",
    "    n=3  #first convolution set kernel size\n",
    "    o=1  #first convolution set kernel size\n",
    "    second_layer_filter=hp.Int(\"no of filters_1\",min_value=1,max_value=20,step=5) #second convolution set filter \n",
    "    i=1  #second convolution set kernel size\n",
    "    j=3  #second convolution set kernel size\n",
    "    k=hp.Choice(\"kernel1\",values=[7,5])  #second convolution set kernel size\n",
    "    third_layer_filter=hp.Int(\"no of filters_2\",min_value=1,max_value=30,step=5) #third convolution set filter \n",
    "    third_layer_kernel_size=hp.Choice(\"kernel3\",values=[7,5])  #third convolution set kernel size\n",
    "    dropout=hp.Float(\"Drop out\",min_value=0,max_value=0.8,step=0.2)\n",
    "    dense=hp.Choice(\"Dense\",values=[256,512,1024,2048])\n",
    "    activate=hp.Choice(\"activation function\",values=['relu','elu','selu','tanh'])\n",
    "    pad='same'\n",
    "    regularizer=hp.Choice('Regularization',values=['l1','l2'])\n",
    "    \n",
    "    ############################################ Model Building ###########################################################\n",
    "    \n",
    "    model_input=Input(shape=(hp.Fixed('shape',tr.shape[1]))) \n",
    "    model=Embedding(embidding_matrix.shape[0],embidding_matrix.shape[1],trainable=False,weights=[embidding_matrix])(model_input)\n",
    "    model=BatchNormalization()(model)\n",
    "    l1=Conv1D(filters=first_layer_filters,kernel_size=m,padding=pad,kernel_regularizer=regularizer)(model)\n",
    "    l1=BatchNormalization()(l1)\n",
    "    l1=Activation(activate)(l1)\n",
    "    l2=Conv1D(filters=first_layer_filters,kernel_size=n,padding=pad,kernel_regularizer=regularizer)(model)\n",
    "    l2=BatchNormalization()(l2)\n",
    "    l2=Activation(activate)(l2)\n",
    "    l3=Conv1D(filters=first_layer_filters,kernel_size=o,padding=pad,kernel_regularizer=regularizer)(model)\n",
    "    l3=BatchNormalization()(l3)    \n",
    "    l3=Activation(activate)(l3)\n",
    "    model=Concatenate()([l1,l2,l3])\n",
    "    model=MaxPool1D()(model)\n",
    "    l1=Conv1D(filters=second_layer_filter,kernel_size=i,padding=pad,kernel_regularizer=regularizer)(model)\n",
    "    l1=BatchNormalization()(l1)  \n",
    "    l1=Activation(activate)(l1)\n",
    "    l2=Conv1D(filters=second_layer_filter,kernel_size=j,padding=pad,kernel_regularizer=regularizer)(model)\n",
    "    l2=BatchNormalization()(l2)    \n",
    "    l2=Activation(activate)(l2)\n",
    "    l3=Conv1D(filters=second_layer_filter,kernel_size=k,padding=pad,kernel_regularizer=regularizer)(model)\n",
    "    l3=BatchNormalization()(l3)        \n",
    "    l3=Activation(activate)(l3)\n",
    "    model=Concatenate()([l1,l2,l3])\n",
    "    model=MaxPool1D()(model)\n",
    "    model=Conv1D(filters=third_layer_filter,kernel_size=third_layer_kernel_size,activation=activate,kernel_regularizer=regularizer)(model)\n",
    "    model=Flatten()(model)\n",
    "    model=BatchNormalization()(model)\n",
    "    model=Dropout(dropout)(model)\n",
    "    model=Dense(dense,activation=activate,kernel_regularizer=regularizer)(model)\n",
    "    model=BatchNormalization()(model)\n",
    "    model=Dense(20,activation='softmax')(model)\n",
    "    model=Model(inputs=[model_input],outputs=[model])\n",
    "    model.compile(optimizer='adam',loss='categorical_crossentropy',metrics=['accuracy',micro_f1])\n",
    "    \n",
    "    return model"
   ]
  },
  {
   "cell_type": "code",
   "execution_count": null,
   "metadata": {
    "execution": {
     "iopub.execute_input": "2022-08-07T15:43:34.193269Z",
     "iopub.status.busy": "2022-08-07T15:43:34.192674Z",
     "iopub.status.idle": "2022-08-07T15:43:34.197047Z",
     "shell.execute_reply": "2022-08-07T15:43:34.196282Z",
     "shell.execute_reply.started": "2022-08-07T15:43:34.193242Z"
    },
    "id": "Rgxx8x3TShnf",
    "tags": []
   },
   "outputs": [],
   "source": [
    "early_stopping=tf.keras.callbacks.EarlyStopping(\n",
    "    monitor=\"val_accuracy\",\n",
    "    min_delta=0,\n",
    "    patience=3,\n",
    "    verbose=0,\n",
    "    mode=\"auto\",\n",
    "    baseline=None,\n",
    "    restore_best_weights=False, # if True, keras tuner taking up full hard disk , anyway i will train again with best hyper paramaters again\n",
    ")"
   ]
  },
  {
   "cell_type": "code",
   "execution_count": null,
   "metadata": {
    "execution": {
     "iopub.execute_input": "2022-08-07T15:43:34.379358Z",
     "iopub.status.busy": "2022-08-07T15:43:34.378878Z",
     "iopub.status.idle": "2022-08-07T15:43:34.384148Z",
     "shell.execute_reply": "2022-08-07T15:43:34.383475Z",
     "shell.execute_reply.started": "2022-08-07T15:43:34.379331Z"
    },
    "id": "vM5iPhZwShnf",
    "outputId": "0e75aa41-8a17-4424-e73c-60145359677a",
    "tags": []
   },
   "outputs": [
    {
     "name": "stdout",
     "output_type": "stream",
     "text": [
      "storing Logs for tensorboard in following directory :  /home/ubuntu/aaic/CNN_with_textdata\n"
     ]
    }
   ],
   "source": [
    "tensorboard=tf.keras.callbacks.TensorBoard(\n",
    "    log_dir=\"logs100\",\n",
    "    histogram_freq=1,\n",
    "    write_graph=True,\n",
    "    write_images=False,\n",
    "    write_steps_per_second=False,\n",
    "    update_freq=\"epoch\",\n",
    ")\n",
    "print('storing Logs for tensorboard in following directory : ',os.getcwd())"
   ]
  },
  {
   "cell_type": "code",
   "execution_count": null,
   "metadata": {
    "execution": {
     "iopub.execute_input": "2022-08-07T15:43:34.578716Z",
     "iopub.status.busy": "2022-08-07T15:43:34.578230Z",
     "iopub.status.idle": "2022-08-07T15:43:34.584316Z",
     "shell.execute_reply": "2022-08-07T15:43:34.583496Z",
     "shell.execute_reply.started": "2022-08-07T15:43:34.578672Z"
    },
    "id": "4iO57mUiShnf",
    "tags": []
   },
   "outputs": [],
   "source": [
    "#This callback checks if the train accuracy and validation accuracy differs more , if we have 0.95 train accuracy and 0.7 validation accuracy \n",
    "#then early stopping stores model with validation 0.7 , it won't see the difference b/w validation accuracy and training accuracy, so this metric sees \n",
    "#difference also and you can monitor it using this metric\n",
    "from math import sqrt,exp\n",
    "class overfit_metric(tf.keras.callbacks.Callback):\n",
    "    \"\"\"This callback checks if the train accuracy and validation accuracy differs more , if we have 0.95 train accuracy and 0.7 validation accuracy \n",
    "       then early stopping stores model with validation 0.7 , it won't see the difference b/w validation accuracy and training accuracy, so this metric sees \n",
    "       difference also and you can monitor it using this metric, This is caluclated with harmonic mean of (1/diff) and validation accuracy , where diff is difference\n",
    "       of accuracy between train accuracy and validation accuracy \"\"\"\n",
    "    def on_epoch_end(self,epoch,log=None):\n",
    "        val=log['val_accuracy']\n",
    "        acc=log['accuracy']\n",
    "        diff=abs(log['accuracy']-val)\n",
    "        log['overfit_paramater']=2*(1/exp(diff))*val/((1/exp(diff)+val))"
   ]
  },
  {
   "cell_type": "code",
   "execution_count": null,
   "metadata": {
    "execution": {
     "iopub.execute_input": "2022-08-07T15:43:34.763126Z",
     "iopub.status.busy": "2022-08-07T15:43:34.762574Z",
     "iopub.status.idle": "2022-08-07T15:43:34.768587Z",
     "shell.execute_reply": "2022-08-07T15:43:34.767395Z",
     "shell.execute_reply.started": "2022-08-07T15:43:34.763099Z"
    },
    "id": "aTo5Sq8fShng",
    "tags": []
   },
   "outputs": [],
   "source": [
    "#even single epoch taking days for some hyperparparamaters , so limitting any model training to 40 min for every half in hyper band\n",
    "import time\n",
    "class mycallback(tf.keras.callbacks.Callback):   # if training time takes more than 40 min , then training will stop\n",
    "    def on_train_begin(self, logs=None):\n",
    "        self.started_time=time.time()\n",
    "    def on_train_batch_end(self, batch, logs=None):\n",
    "        if (time.time()-self.started_time)>60*40 : #40 minutes\n",
    "            self.model.stop_training = True"
   ]
  },
  {
   "cell_type": "code",
   "execution_count": null,
   "metadata": {
    "execution": {
     "iopub.execute_input": "2022-08-07T15:43:34.936993Z",
     "iopub.status.busy": "2022-08-07T15:43:34.936580Z",
     "iopub.status.idle": "2022-08-07T15:43:35.112099Z",
     "shell.execute_reply": "2022-08-07T15:43:35.110960Z",
     "shell.execute_reply.started": "2022-08-07T15:43:34.936966Z"
    },
    "id": "H77kM5HxShng",
    "tags": []
   },
   "outputs": [],
   "source": [
    "!rm -r first_model\n",
    "os.mkdir('first_model')"
   ]
  },
  {
   "cell_type": "code",
   "execution_count": null,
   "metadata": {
    "execution": {
     "iopub.execute_input": "2022-08-07T15:43:35.119972Z",
     "iopub.status.busy": "2022-08-07T15:43:35.119461Z",
     "iopub.status.idle": "2022-08-07T15:43:35.131007Z",
     "shell.execute_reply": "2022-08-07T15:43:35.130164Z",
     "shell.execute_reply.started": "2022-08-07T15:43:35.119947Z"
    },
    "id": "oRTQ2T59Shng",
    "outputId": "c237eecd-3853-47d8-8692-c2f1dcb24056",
    "tags": []
   },
   "outputs": [
    {
     "data": {
      "text/plain": [
       "<Future at 0xffff1492ccd0 state=running>"
      ]
     },
     "execution_count": 66,
     "metadata": {},
     "output_type": "execute_result"
    }
   ],
   "source": [
    "# tuner.search() is saving model checkpoints in hard disk for all models which is building up to very large space in Hard disk so i delete them\n",
    "# manually for every 10 minutes in background\n",
    "@background.task\n",
    "def remove_checkpoints():\n",
    "    while True:     \n",
    "        dirr='first_model'\n",
    "        files=os.listdir(dirr)\n",
    "        for i in files:\n",
    "            try:\n",
    "                for j in (os.listdir(dirr+'/'+i)):\n",
    "                    if 'checkpoint' in j:\n",
    "                        os.remove(dirr+'/'+i+'/'+j)\n",
    "            except Exception as error:\n",
    "                pass\n",
    "        sleep(10*60)\n",
    "\n",
    "remove_checkpoints()"
   ]
  },
  {
   "cell_type": "code",
   "execution_count": null,
   "metadata": {
    "execution": {
     "iopub.execute_input": "2022-08-07T15:43:35.292575Z",
     "iopub.status.busy": "2022-08-07T15:43:35.292116Z",
     "iopub.status.idle": "2022-08-07T15:43:36.006440Z",
     "shell.execute_reply": "2022-08-07T15:43:36.005669Z",
     "shell.execute_reply.started": "2022-08-07T15:43:35.292547Z"
    },
    "id": "1pja-cQIShnh",
    "tags": []
   },
   "outputs": [],
   "source": [
    "tun=keras_tuner.BayesianOptimization(create_model,'val_accuracy',max_trials=40,num_initial_points=10,project_name='first_model',overwrite=True)"
   ]
  },
  {
   "cell_type": "code",
   "execution_count": null,
   "metadata": {
    "execution": {
     "iopub.execute_input": "2022-08-07T15:43:36.022987Z",
     "iopub.status.busy": "2022-08-07T15:43:36.022749Z",
     "iopub.status.idle": "2022-08-07T15:43:39.213025Z",
     "shell.execute_reply": "2022-08-07T15:43:39.211825Z",
     "shell.execute_reply.started": "2022-08-07T15:43:36.022965Z"
    },
    "id": "QZS3gvYoShnh",
    "outputId": "4d842adb-2e5f-4c6f-dd6d-ad2f1b421333",
    "tags": []
   },
   "outputs": [
    {
     "name": "stdout",
     "output_type": "stream",
     "text": [
      "The tensorboard extension is already loaded. To reload it, use:\n",
      "  %reload_ext tensorboard\n"
     ]
    },
    {
     "data": {
      "text/html": [
       "\n",
       "      <iframe id=\"tensorboard-frame-6d7be543f5156db0\" width=\"100%\" height=\"800\" frameborder=\"0\">\n",
       "      </iframe>\n",
       "      <script>\n",
       "        (function() {\n",
       "          const frame = document.getElementById(\"tensorboard-frame-6d7be543f5156db0\");\n",
       "          const url = new URL(\"/\", window.location);\n",
       "          const port = 6017;\n",
       "          if (port) {\n",
       "            url.port = port;\n",
       "          }\n",
       "          frame.src = url;\n",
       "        })();\n",
       "      </script>\n",
       "    "
      ],
      "text/plain": [
       "<IPython.core.display.HTML object>"
      ]
     },
     "metadata": {},
     "output_type": "display_data"
    }
   ],
   "source": [
    "%load_ext tensorboard\n",
    "!rm -rf ./logs100/ \n",
    "%tensorboard --logdir './logs100' --host \"0.0.0.0\" --port 6017"
   ]
  },
  {
   "cell_type": "code",
   "execution_count": null,
   "metadata": {
    "execution": {
     "iopub.execute_input": "2022-08-07T15:43:39.215611Z",
     "iopub.status.busy": "2022-08-07T15:43:39.215135Z",
     "iopub.status.idle": "2022-08-07T18:20:18.685561Z",
     "shell.execute_reply": "2022-08-07T18:20:18.684746Z",
     "shell.execute_reply.started": "2022-08-07T15:43:39.215569Z"
    },
    "id": "CuaFi7meShnh",
    "outputId": "911d4efd-209c-4386-fd99-a2f280e7b934",
    "tags": []
   },
   "outputs": [
    {
     "name": "stdout",
     "output_type": "stream",
     "text": [
      "Trial 40 Complete [00h 04m 03s]\n",
      "val_accuracy: 0.6736283302307129\n",
      "\n",
      "Best val_accuracy So Far: 0.7015929222106934\n",
      "Total elapsed time: 02h 36m 39s\n",
      "INFO:tensorflow:Oracle triggered exit\n"
     ]
    }
   ],
   "source": [
    "tun.search(tr,y_train.toarray(),callbacks=[early_stopping,tensorboard,overfit_metric(),mycallback()],validation_data=(te,y_cv_train.toarray()),epochs=30)"
   ]
  },
  {
   "cell_type": "code",
   "execution_count": null,
   "metadata": {
    "execution": {
     "iopub.execute_input": "2022-08-07T18:20:18.687143Z",
     "iopub.status.busy": "2022-08-07T18:20:18.686899Z",
     "iopub.status.idle": "2022-08-07T18:20:18.720678Z",
     "shell.execute_reply": "2022-08-07T18:20:18.720061Z",
     "shell.execute_reply.started": "2022-08-07T18:20:18.687118Z"
    },
    "id": "Gq9q4NoWShni",
    "outputId": "8e7ad66a-523b-4410-ad73-4f1624fcba01",
    "tags": []
   },
   "outputs": [
    {
     "name": "stdout",
     "output_type": "stream",
     "text": [
      "Results summary\n",
      "Results in ./first_model\n",
      "Showing 10 best trials\n",
      "<keras_tuner.engine.objective.Objective object at 0xffff148bf9d0>\n",
      "Trial summary\n",
      "Hyperparameters:\n",
      "Max length of document in percentile: 50\n",
      "no of filters: 16\n",
      "kernel: 7\n",
      "no of filters_1: 16\n",
      "kernel1: 5\n",
      "no of filters_2: 26\n",
      "kernel3: 5\n",
      "Drop out: 0.8\n",
      "Dense: 256\n",
      "activation function: relu\n",
      "Regularization: l2\n",
      "shape: 107\n",
      "Score: 0.7015929222106934\n",
      "Trial summary\n",
      "Hyperparameters:\n",
      "Max length of document in percentile: 50\n",
      "no of filters: 16\n",
      "kernel: 7\n",
      "no of filters_1: 16\n",
      "kernel1: 5\n",
      "no of filters_2: 26\n",
      "kernel3: 5\n",
      "Drop out: 0.8\n",
      "Dense: 256\n",
      "activation function: relu\n",
      "Regularization: l2\n",
      "shape: 107\n",
      "Score: 0.695929229259491\n",
      "Trial summary\n",
      "Hyperparameters:\n",
      "Max length of document in percentile: 50\n",
      "no of filters: 16\n",
      "kernel: 7\n",
      "no of filters_1: 16\n",
      "kernel1: 5\n",
      "no of filters_2: 26\n",
      "kernel3: 7\n",
      "Drop out: 0.8\n",
      "Dense: 256\n",
      "activation function: relu\n",
      "Regularization: l2\n",
      "shape: 107\n",
      "Score: 0.6821238994598389\n",
      "Trial summary\n",
      "Hyperparameters:\n",
      "Max length of document in percentile: 50\n",
      "no of filters: 16\n",
      "kernel: 7\n",
      "no of filters_1: 16\n",
      "kernel1: 5\n",
      "no of filters_2: 26\n",
      "kernel3: 5\n",
      "Drop out: 0.8\n",
      "Dense: 256\n",
      "activation function: relu\n",
      "Regularization: l2\n",
      "shape: 107\n",
      "Score: 0.6792920231819153\n",
      "Trial summary\n",
      "Hyperparameters:\n",
      "Max length of document in percentile: 50\n",
      "no of filters: 6\n",
      "kernel: 7\n",
      "no of filters_1: 16\n",
      "kernel1: 5\n",
      "no of filters_2: 26\n",
      "kernel3: 5\n",
      "Drop out: 0.8\n",
      "Dense: 256\n",
      "activation function: relu\n",
      "Regularization: l2\n",
      "shape: 107\n",
      "Score: 0.6736283302307129\n",
      "Trial summary\n",
      "Hyperparameters:\n",
      "Max length of document in percentile: 50\n",
      "no of filters: 16\n",
      "kernel: 5\n",
      "no of filters_1: 16\n",
      "kernel1: 5\n",
      "no of filters_2: 26\n",
      "kernel3: 7\n",
      "Drop out: 0.8\n",
      "Dense: 256\n",
      "activation function: relu\n",
      "Regularization: l2\n",
      "shape: 107\n",
      "Score: 0.669734537601471\n",
      "Trial summary\n",
      "Hyperparameters:\n",
      "Max length of document in percentile: 50\n",
      "no of filters: 16\n",
      "kernel: 7\n",
      "no of filters_1: 16\n",
      "kernel1: 5\n",
      "no of filters_2: 26\n",
      "kernel3: 5\n",
      "Drop out: 0.6000000000000001\n",
      "Dense: 256\n",
      "activation function: relu\n",
      "Regularization: l2\n",
      "shape: 107\n",
      "Score: 0.669734537601471\n",
      "Trial summary\n",
      "Hyperparameters:\n",
      "Max length of document in percentile: 80\n",
      "no of filters: 16\n",
      "kernel: 5\n",
      "no of filters_1: 16\n",
      "kernel1: 5\n",
      "no of filters_2: 26\n",
      "kernel3: 7\n",
      "Drop out: 0.2\n",
      "Dense: 2048\n",
      "activation function: relu\n",
      "Regularization: l2\n",
      "shape: 107\n",
      "Score: 0.6683185696601868\n",
      "Trial summary\n",
      "Hyperparameters:\n",
      "Max length of document in percentile: 50\n",
      "no of filters: 16\n",
      "kernel: 5\n",
      "no of filters_1: 16\n",
      "kernel1: 5\n",
      "no of filters_2: 16\n",
      "kernel3: 7\n",
      "Drop out: 0.4\n",
      "Dense: 2048\n",
      "activation function: relu\n",
      "Regularization: l2\n",
      "shape: 107\n",
      "Score: 0.6669026613235474\n",
      "Trial summary\n",
      "Hyperparameters:\n",
      "Max length of document in percentile: 50\n",
      "no of filters: 11\n",
      "kernel: 7\n",
      "no of filters_1: 11\n",
      "kernel1: 5\n",
      "no of filters_2: 26\n",
      "kernel3: 7\n",
      "Drop out: 0.2\n",
      "Dense: 2048\n",
      "activation function: relu\n",
      "Regularization: l2\n",
      "shape: 107\n",
      "Score: 0.6623008847236633\n"
     ]
    }
   ],
   "source": [
    "tun.results_summary()"
   ]
  },
  {
   "cell_type": "markdown",
   "metadata": {
    "execution": {
     "iopub.execute_input": "2022-07-17T10:16:27.439887Z",
     "iopub.status.busy": "2022-07-17T10:16:27.439327Z",
     "iopub.status.idle": "2022-07-17T10:16:27.443261Z",
     "shell.execute_reply": "2022-07-17T10:16:27.442458Z",
     "shell.execute_reply.started": "2022-07-17T10:16:27.439862Z"
    },
    "id": "b-8bw0IsShni",
    "tags": []
   },
   "source": [
    "### Traning on best hyparamaters given by bayesian optimization "
   ]
  },
  {
   "cell_type": "code",
   "execution_count": null,
   "metadata": {
    "execution": {
     "iopub.execute_input": "2022-08-07T18:20:18.750603Z",
     "iopub.status.busy": "2022-08-07T18:20:18.750334Z",
     "iopub.status.idle": "2022-08-07T18:20:19.365640Z",
     "shell.execute_reply": "2022-08-07T18:20:19.364908Z",
     "shell.execute_reply.started": "2022-08-07T18:20:18.750582Z"
    },
    "id": "pTl5NCwOShni",
    "tags": []
   },
   "outputs": [],
   "source": [
    "best_hps = tun.get_best_hyperparameters(1)[0]\n",
    "model=create_model(best_hps)"
   ]
  },
  {
   "cell_type": "code",
   "execution_count": null,
   "metadata": {
    "execution": {
     "iopub.execute_input": "2022-08-07T18:20:19.366917Z",
     "iopub.status.busy": "2022-08-07T18:20:19.366654Z",
     "iopub.status.idle": "2022-08-07T18:20:19.547968Z",
     "shell.execute_reply": "2022-08-07T18:20:19.547128Z",
     "shell.execute_reply.started": "2022-08-07T18:20:19.366892Z"
    },
    "id": "ZuJgY5BjShnj",
    "tags": []
   },
   "outputs": [],
   "source": [
    "x_train_final=pad_sequences(x_train_token,padding='post',truncating='post',maxlen=model.input_shape[1]) #changing the document length \n",
    "x_test_final=pad_sequences(x_test_token,padding='post',truncating='post',maxlen=model.input_shape[1]) #changing the document length "
   ]
  },
  {
   "cell_type": "code",
   "execution_count": null,
   "metadata": {
    "execution": {
     "iopub.execute_input": "2022-08-07T18:20:19.551675Z",
     "iopub.status.busy": "2022-08-07T18:20:19.551201Z",
     "iopub.status.idle": "2022-08-07T18:20:19.557352Z",
     "shell.execute_reply": "2022-08-07T18:20:19.556132Z",
     "shell.execute_reply.started": "2022-08-07T18:20:19.551646Z"
    },
    "id": "SSW87cKiShnj",
    "outputId": "020ee112-ece3-4389-b580-0c707ad2e495",
    "tags": []
   },
   "outputs": [
    {
     "name": "stdout",
     "output_type": "stream",
     "text": [
      "storing Logs for tensorboard in following directory :  /home/ubuntu/aaic/CNN_with_textdata\n"
     ]
    }
   ],
   "source": [
    "tensorboard=tf.keras.callbacks.TensorBoard(\n",
    "    log_dir=\"logs2\",\n",
    "    histogram_freq=1,\n",
    "    write_graph=True,\n",
    "    write_images=False,\n",
    "    write_steps_per_second=False,\n",
    "    update_freq=\"epoch\",\n",
    ")\n",
    "print('storing Logs for tensorboard in following directory : ',os.getcwd())"
   ]
  },
  {
   "cell_type": "code",
   "execution_count": null,
   "metadata": {
    "execution": {
     "iopub.execute_input": "2022-08-07T18:20:19.559522Z",
     "iopub.status.busy": "2022-08-07T18:20:19.559045Z",
     "iopub.status.idle": "2022-08-07T18:20:19.564631Z",
     "shell.execute_reply": "2022-08-07T18:20:19.563500Z",
     "shell.execute_reply.started": "2022-08-07T18:20:19.559498Z"
    },
    "id": "QqMM858VShnj",
    "outputId": "cc64f458-c82c-4f24-f3da-7a6fa7b0fb82",
    "tags": []
   },
   "outputs": [
    {
     "name": "stdout",
     "output_type": "stream",
     "text": [
      "storing best model in following directory :  /home/ubuntu/aaic/CNN_with_textdata\n"
     ]
    }
   ],
   "source": [
    "checkpoint=tf.keras.callbacks.ModelCheckpoint(\n",
    "    'best_model_L.h5',\n",
    "    monitor=\"val_loss\",\n",
    "    verbose=0,\n",
    "    save_best_only=True,\n",
    "    save_weights_only=False,\n",
    "    mode=\"auto\",\n",
    "    save_freq=\"epoch\",\n",
    "    options=None,\n",
    "    initial_value_threshold=None\n",
    ")\n",
    "print('storing best model in following directory : ',os.getcwd())"
   ]
  },
  {
   "cell_type": "code",
   "execution_count": null,
   "metadata": {
    "execution": {
     "iopub.execute_input": "2022-08-07T18:20:19.566595Z",
     "iopub.status.busy": "2022-08-07T18:20:19.566422Z",
     "iopub.status.idle": "2022-08-07T18:20:19.571447Z",
     "shell.execute_reply": "2022-08-07T18:20:19.570234Z",
     "shell.execute_reply.started": "2022-08-07T18:20:19.566574Z"
    },
    "id": "JAUq-L87Shnk",
    "tags": []
   },
   "outputs": [],
   "source": [
    "early_stopping=tf.keras.callbacks.EarlyStopping(\n",
    "    monitor=\"val_accuracy\",\n",
    "    min_delta=0,\n",
    "    patience=3,\n",
    "    verbose=0,\n",
    "    mode=\"auto\",\n",
    "    baseline=None,\n",
    "    restore_best_weights=True,\n",
    ")"
   ]
  },
  {
   "cell_type": "code",
   "execution_count": null,
   "metadata": {
    "execution": {
     "iopub.execute_input": "2022-08-07T18:20:19.573163Z",
     "iopub.status.busy": "2022-08-07T18:20:19.572981Z",
     "iopub.status.idle": "2022-08-07T18:20:19.579144Z",
     "shell.execute_reply": "2022-08-07T18:20:19.577843Z",
     "shell.execute_reply.started": "2022-08-07T18:20:19.573141Z"
    },
    "id": "f_ba0qD7Shnk",
    "tags": []
   },
   "outputs": [],
   "source": [
    "#This callback checks if the train accuracy and validation accuracy differs more , if we have 0.95 train accuracy and 0.7 validation accuracy \n",
    "#then early stopping stores model with validation 0.7 , it won't see the difference b/w validation accuracy and training accuracy, so this metric sees \n",
    "#difference also and you can monitor it using this metric\n",
    "from math import sqrt,exp\n",
    "class overfit_metric(tf.keras.callbacks.Callback):\n",
    "    \"\"\"This callback checks if the train accuracy and validation accuracy differs more , if we have 0.95 train accuracy and 0.7 validation accuracy \n",
    "       then early stopping stores model with validation 0.7 , it won't see the difference b/w validation accuracy and training accuracy, so this metric sees \n",
    "       difference also and you can monitor it using this metric, This is caluclated with harmonic mean of (1/diff) and validation accuracy , where diff is difference\n",
    "       of accuracy between train accuracy and validation accuracy \"\"\"\n",
    "    def on_epoch_end(self,epoch,log=None):\n",
    "        val=log['val_accuracy']\n",
    "        acc=log['accuracy']\n",
    "        diff=abs(log['accuracy']-val)\n",
    "        log['overfit_paramater']=2*(1/exp(diff))*val/((1/exp(diff)+val))"
   ]
  },
  {
   "cell_type": "code",
   "execution_count": null,
   "metadata": {
    "execution": {
     "iopub.execute_input": "2022-08-07T18:20:19.580595Z",
     "iopub.status.busy": "2022-08-07T18:20:19.580069Z",
     "iopub.status.idle": "2022-08-07T18:20:22.792484Z",
     "shell.execute_reply": "2022-08-07T18:20:22.791463Z",
     "shell.execute_reply.started": "2022-08-07T18:20:19.580573Z"
    },
    "id": "ynAhRuw0Shnk",
    "outputId": "f2e5b724-4c5b-4730-f381-0dfaa9a4246d",
    "tags": []
   },
   "outputs": [
    {
     "name": "stdout",
     "output_type": "stream",
     "text": [
      "The tensorboard extension is already loaded. To reload it, use:\n",
      "  %reload_ext tensorboard\n"
     ]
    },
    {
     "data": {
      "text/html": [
       "\n",
       "      <iframe id=\"tensorboard-frame-a7a0878f6ba816f4\" width=\"100%\" height=\"800\" frameborder=\"0\">\n",
       "      </iframe>\n",
       "      <script>\n",
       "        (function() {\n",
       "          const frame = document.getElementById(\"tensorboard-frame-a7a0878f6ba816f4\");\n",
       "          const url = new URL(\"/\", window.location);\n",
       "          const port = 6008;\n",
       "          if (port) {\n",
       "            url.port = port;\n",
       "          }\n",
       "          frame.src = url;\n",
       "        })();\n",
       "      </script>\n",
       "    "
      ],
      "text/plain": [
       "<IPython.core.display.HTML object>"
      ]
     },
     "metadata": {},
     "output_type": "display_data"
    }
   ],
   "source": [
    "%load_ext tensorboard\n",
    "!rm -rf ./logs2/ \n",
    "%tensorboard --logdir './logs2' --host \"0.0.0.0\" --port 6008"
   ]
  },
  {
   "cell_type": "code",
   "execution_count": null,
   "metadata": {
    "execution": {
     "iopub.execute_input": "2022-08-07T18:20:22.794502Z",
     "iopub.status.busy": "2022-08-07T18:20:22.794167Z",
     "iopub.status.idle": "2022-08-07T18:24:22.907006Z",
     "shell.execute_reply": "2022-08-07T18:24:22.906269Z",
     "shell.execute_reply.started": "2022-08-07T18:20:22.794461Z"
    },
    "id": "rGoQyH7aShnl",
    "outputId": "20dacc5c-79b5-4a42-8556-cd313024502c",
    "tags": []
   },
   "outputs": [
    {
     "name": "stdout",
     "output_type": "stream",
     "text": [
      "Epoch 1/4000\n",
      "353/353 [==============================] - 21s 50ms/step - loss: 6.9141 - accuracy: 0.1825 - micro_f1: 0.1022 - val_loss: 4.9145 - val_accuracy: 0.3664 - val_micro_f1: 0.2000 - overfit_paramater: 0.5087\n",
      "Epoch 2/4000\n",
      "353/353 [==============================] - 17s 49ms/step - loss: 4.0713 - accuracy: 0.4191 - micro_f1: 0.3567 - val_loss: 3.1261 - val_accuracy: 0.5384 - val_micro_f1: 0.4738 - overfit_paramater: 0.6702\n",
      "Epoch 3/4000\n",
      "353/353 [==============================] - 17s 48ms/step - loss: 2.8277 - accuracy: 0.5366 - micro_f1: 0.4950 - val_loss: 2.2951 - val_accuracy: 0.6290 - val_micro_f1: 0.5626 - overfit_paramater: 0.7444\n",
      "Epoch 4/4000\n",
      "353/353 [==============================] - 17s 48ms/step - loss: 2.1872 - accuracy: 0.6018 - micro_f1: 0.5725 - val_loss: 1.9645 - val_accuracy: 0.6198 - val_micro_f1: 0.5921 - overfit_paramater: 0.7600\n",
      "Epoch 5/4000\n",
      "353/353 [==============================] - 17s 49ms/step - loss: 1.9087 - accuracy: 0.6290 - micro_f1: 0.6117 - val_loss: 1.7412 - val_accuracy: 0.6796 - val_micro_f1: 0.6493 - overfit_paramater: 0.7926\n",
      "Epoch 6/4000\n",
      "353/353 [==============================] - 17s 48ms/step - loss: 1.7721 - accuracy: 0.6526 - micro_f1: 0.6374 - val_loss: 1.5944 - val_accuracy: 0.7069 - val_micro_f1: 0.6872 - overfit_paramater: 0.8096\n",
      "Epoch 7/4000\n",
      "353/353 [==============================] - 17s 48ms/step - loss: 1.6577 - accuracy: 0.6793 - micro_f1: 0.6651 - val_loss: 1.4940 - val_accuracy: 0.7235 - val_micro_f1: 0.7151 - overfit_paramater: 0.8239\n",
      "Epoch 8/4000\n",
      "353/353 [==============================] - 16s 46ms/step - loss: 1.5902 - accuracy: 0.6898 - micro_f1: 0.6795 - val_loss: 1.5512 - val_accuracy: 0.7083 - val_micro_f1: 0.6982 - overfit_paramater: 0.8229\n",
      "Epoch 9/4000\n",
      "353/353 [==============================] - 17s 47ms/step - loss: 1.5575 - accuracy: 0.7028 - micro_f1: 0.6938 - val_loss: 1.6602 - val_accuracy: 0.6899 - val_micro_f1: 0.6896 - overfit_paramater: 0.8122\n",
      "Epoch 10/4000\n",
      "353/353 [==============================] - 17s 48ms/step - loss: 1.5424 - accuracy: 0.7115 - micro_f1: 0.7040 - val_loss: 1.4836 - val_accuracy: 0.7260 - val_micro_f1: 0.7194 - overfit_paramater: 0.8361\n",
      "Epoch 11/4000\n",
      "353/353 [==============================] - 17s 48ms/step - loss: 1.5011 - accuracy: 0.7226 - micro_f1: 0.7142 - val_loss: 1.4081 - val_accuracy: 0.7628 - val_micro_f1: 0.7525 - overfit_paramater: 0.8503\n",
      "Epoch 12/4000\n",
      "353/353 [==============================] - 17s 48ms/step - loss: 1.4819 - accuracy: 0.7303 - micro_f1: 0.7249 - val_loss: 1.4073 - val_accuracy: 0.7611 - val_micro_f1: 0.7570 - overfit_paramater: 0.8528\n",
      "Epoch 13/4000\n",
      "353/353 [==============================] - 16s 47ms/step - loss: 1.4528 - accuracy: 0.7382 - micro_f1: 0.7294 - val_loss: 1.4467 - val_accuracy: 0.7561 - val_micro_f1: 0.7527 - overfit_paramater: 0.8545\n",
      "Epoch 14/4000\n",
      "353/353 [==============================] - 16s 47ms/step - loss: 1.4447 - accuracy: 0.7474 - micro_f1: 0.7406 - val_loss: 1.5443 - val_accuracy: 0.7225 - val_micro_f1: 0.7255 - overfit_paramater: 0.8301\n"
     ]
    },
    {
     "data": {
      "text/plain": [
       "<keras.callbacks.History at 0xffff7f87bc10>"
      ]
     },
     "execution_count": 78,
     "metadata": {},
     "output_type": "execute_result"
    }
   ],
   "source": [
    "model.fit(x_train_final,y_train_final.toarray(),validation_split=0.2,\n",
    "          callbacks=[tensorboard,checkpoint,early_stopping,overfit_metric()]\n",
    "          ,epochs=4000)"
   ]
  },
  {
   "cell_type": "code",
   "execution_count": null,
   "metadata": {
    "execution": {
     "iopub.execute_input": "2022-08-07T18:24:22.908336Z",
     "iopub.status.busy": "2022-08-07T18:24:22.908139Z",
     "iopub.status.idle": "2022-08-07T18:24:22.912144Z",
     "shell.execute_reply": "2022-08-07T18:24:22.911315Z",
     "shell.execute_reply.started": "2022-08-07T18:24:22.908312Z"
    },
    "id": "kcEb1bk_Shnl",
    "tags": []
   },
   "outputs": [],
   "source": [
    "model_2=model"
   ]
  },
  {
   "cell_type": "markdown",
   "metadata": {
    "id": "gVag8oElShnl",
    "tags": []
   },
   "source": [
    "### Testing model performance on Test data"
   ]
  },
  {
   "cell_type": "code",
   "execution_count": null,
   "metadata": {
    "execution": {
     "iopub.execute_input": "2022-08-07T18:24:22.922897Z",
     "iopub.status.busy": "2022-08-07T18:24:22.922734Z",
     "iopub.status.idle": "2022-08-07T18:24:24.764454Z",
     "shell.execute_reply": "2022-08-07T18:24:24.763718Z",
     "shell.execute_reply.started": "2022-08-07T18:24:22.922876Z"
    },
    "id": "IrpmAWRlShnl",
    "outputId": "f34b7ad4-7c38-4613-c2d7-fbd50376c84e",
    "tags": []
   },
   "outputs": [
    {
     "name": "stdout",
     "output_type": "stream",
     "text": [
      "148/148 [==============================] - 2s 9ms/step\n"
     ]
    }
   ],
   "source": [
    "evaluate=model.predict(x_test_final)"
   ]
  },
  {
   "cell_type": "code",
   "execution_count": null,
   "metadata": {
    "execution": {
     "iopub.execute_input": "2022-08-07T18:24:24.765916Z",
     "iopub.status.busy": "2022-08-07T18:24:24.765696Z",
     "iopub.status.idle": "2022-08-07T18:24:24.841407Z",
     "shell.execute_reply": "2022-08-07T18:24:24.840788Z",
     "shell.execute_reply.started": "2022-08-07T18:24:24.765892Z"
    },
    "id": "Hgi8X1iiShnm",
    "outputId": "f916b913-6e8d-4186-8d54-c1cf9bd99443",
    "tags": []
   },
   "outputs": [
    {
     "name": "stdout",
     "output_type": "stream",
     "text": [
      "              precision    recall  f1-score   support\n",
      "\n",
      "           0       0.85      0.61      0.72       200\n",
      "           1       0.62      0.71      0.66       243\n",
      "           2       0.70      0.59      0.64       246\n",
      "           3       0.53      0.66      0.59       246\n",
      "           4       0.82      0.62      0.71       240\n",
      "           5       0.64      0.65      0.65       245\n",
      "           6       0.80      0.66      0.73       243\n",
      "           7       0.83      0.84      0.83       248\n",
      "           8       0.99      0.67      0.80       249\n",
      "           9       0.94      0.88      0.91       248\n",
      "          10       0.94      0.94      0.94       250\n",
      "          11       0.80      0.93      0.86       248\n",
      "          12       0.63      0.79      0.70       245\n",
      "          13       0.83      0.91      0.87       247\n",
      "          14       0.90      0.85      0.87       247\n",
      "          15       0.73      0.84      0.78       249\n",
      "          16       0.67      0.76      0.71       227\n",
      "          17       0.80      0.94      0.87       235\n",
      "          18       0.67      0.72      0.69       194\n",
      "          19       0.51      0.36      0.42       157\n",
      "\n",
      "    accuracy                           0.76      4707\n",
      "   macro avg       0.76      0.75      0.75      4707\n",
      "weighted avg       0.77      0.76      0.75      4707\n",
      "\n"
     ]
    }
   ],
   "source": [
    "print(classification_report(np.argmax(y_test_final,axis=1),np.argmax(evaluate,axis=1)))"
   ]
  },
  {
   "cell_type": "code",
   "execution_count": null,
   "metadata": {
    "execution": {
     "iopub.execute_input": "2022-08-07T18:24:24.842468Z",
     "iopub.status.busy": "2022-08-07T18:24:24.842295Z",
     "iopub.status.idle": "2022-08-07T18:24:24.909196Z",
     "shell.execute_reply": "2022-08-07T18:24:24.908514Z",
     "shell.execute_reply.started": "2022-08-07T18:24:24.842446Z"
    },
    "id": "WFWB6rcoShnm",
    "outputId": "24e1054f-76d7-4cc6-c583-e290f10b5431",
    "tags": []
   },
   "outputs": [
    {
     "name": "stdout",
     "output_type": "stream",
     "text": [
      "Micro F1 score on Test data is : 0.7554705757382622\n"
     ]
    }
   ],
   "source": [
    "print(f'Micro F1 score on Test data is : {f1_score(np.argmax(y_test_final,axis=1),np.argmax(evaluate,axis=1),average=\"micro\")}')"
   ]
  },
  {
   "cell_type": "code",
   "execution_count": null,
   "metadata": {
    "execution": {
     "iopub.execute_input": "2022-08-07T18:24:24.910748Z",
     "iopub.status.busy": "2022-08-07T18:24:24.910372Z",
     "iopub.status.idle": "2022-08-07T18:24:24.975144Z",
     "shell.execute_reply": "2022-08-07T18:24:24.973352Z",
     "shell.execute_reply.started": "2022-08-07T18:24:24.910725Z"
    },
    "id": "h3PzWnBnShnn",
    "outputId": "68b76fe4-4076-44d7-e0bc-d7f5298db47d",
    "tags": []
   },
   "outputs": [
    {
     "name": "stdout",
     "output_type": "stream",
     "text": [
      "Accuracy on Test data is : 0.7554705757382622\n"
     ]
    }
   ],
   "source": [
    "print(f\"Accuracy on Test data is : {accuracy_score(np.argmax(y_test_final,axis=1),np.argmax(evaluate,axis=1))}\")"
   ]
  },
  {
   "cell_type": "code",
   "execution_count": null,
   "metadata": {
    "execution": {
     "iopub.execute_input": "2022-08-07T18:24:24.976173Z",
     "iopub.status.busy": "2022-08-07T18:24:24.976010Z",
     "iopub.status.idle": "2022-08-07T18:24:26.284046Z",
     "shell.execute_reply": "2022-08-07T18:24:26.283313Z",
     "shell.execute_reply.started": "2022-08-07T18:24:24.976153Z"
    },
    "id": "YEB1qJVbShno",
    "outputId": "66ee40fa-94ce-4239-e721-b0d250c581f0",
    "tags": []
   },
   "outputs": [
    {
     "data": {
      "text/plain": [
       "Text(159.0, 0.5, 'Original Class')"
      ]
     },
     "execution_count": 84,
     "metadata": {},
     "output_type": "execute_result"
    },
    {
     "data": {
      "image/png": "[encoded data removed]",
      "text/plain": [
       "<Figure size 1440x720 with 2 Axes>"
      ]
     },
     "metadata": {
      "needs_background": "light"
     },
     "output_type": "display_data"
    }
   ],
   "source": [
    "plt.figure(figsize=(20,10))\n",
    "sns.heatmap(confusion_matrix(np.argmax(y_test_final,axis=1),np.argmax(evaluate,axis=1)),annot=True,cmap=\"YlGnBu\")\n",
    "plt.xlabel('Predicted Class ')\n",
    "plt.ylabel('Original Class')"
   ]
  },
  {
   "cell_type": "markdown",
   "metadata": {
    "id": "7LHU0CFpShnp",
    "tags": []
   },
   "source": [
    "## Instead using word embidding , trying character level embidding and checking if it increases model performance"
   ]
  },
  {
   "cell_type": "markdown",
   "metadata": {
    "id": "9cg4L1V4Yv1d"
   },
   "source": [
    "### Model-2 : Using 1D convolutions with character embedding"
   ]
  },
  {
   "cell_type": "markdown",
   "metadata": {
    "id": "2Djg4YVA3oQx"
   },
   "source": [
    "<pre>\n",
    "<pre><img src=\"https://i.ytimg.com/vi/CNY8VjJt-iQ/maxresdefault.jpg\" width=\"70%\">\n",
    "Here are the some papers based on Char-CNN\n",
    " 1. Xiang Zhang, Junbo Zhao, Yann LeCun. <a href=\"http://arxiv.org/abs/1509.01626\">Character-level Convolutional Networks for Text Classification</a>.NIPS 2015\n",
    " 2. Yoon Kim, Yacine Jernite, David Sontag, Alexander M. Rush. <a href=\"https://arxiv.org/abs/1508.06615\">Character-Aware Neural Language Models</a>. AAAI 2016\n",
    " 3. Shaojie Bai, J. Zico Kolter, Vladlen Koltun. <a href=\"https://arxiv.org/pdf/1803.01271.pdf\">An Empirical Evaluation of Generic Convolutional and Recurrent Networks for Sequence Modeling</a>\n",
    " 4. Use the pratrained char embeddings <a href='https://github.com/minimaxir/char-embeddings/blob/master/glove.840B.300d-char.txt'>https://github.com/minimaxir/char-embeddings/blob/master/glove.840B.300d-char.txt</a>\n",
    "</pre>"
   ]
  },
  {
   "cell_type": "code",
   "execution_count": null,
   "metadata": {
    "execution": {
     "iopub.execute_input": "2022-08-07T18:24:26.379081Z",
     "iopub.status.busy": "2022-08-07T18:24:26.378831Z",
     "iopub.status.idle": "2022-08-07T18:24:26.382307Z",
     "shell.execute_reply": "2022-08-07T18:24:26.381421Z",
     "shell.execute_reply.started": "2022-08-07T18:24:26.379058Z"
    },
    "id": "b9lPvny6Shnr",
    "tags": []
   },
   "outputs": [],
   "source": [
    "#!wget https://raw.githubusercontent.com/minimaxir/char-embeddings/master/glove.840B.300d-char.txt"
   ]
  },
  {
   "cell_type": "code",
   "execution_count": null,
   "metadata": {
    "execution": {
     "iopub.execute_input": "2022-08-07T18:24:26.384071Z",
     "iopub.status.busy": "2022-08-07T18:24:26.383893Z",
     "iopub.status.idle": "2022-08-07T18:24:33.043724Z",
     "shell.execute_reply": "2022-08-07T18:24:33.042809Z",
     "shell.execute_reply.started": "2022-08-07T18:24:26.384050Z"
    },
    "id": "lcK3CoqGShnr",
    "tags": []
   },
   "outputs": [],
   "source": [
    "token=Tokenizer(char_level=True)\n",
    "token.fit_on_texts(x_train)\n",
    "x_train_token=token.texts_to_sequences(x_train)\n",
    "x_test_token=token.texts_to_sequences(x_test)"
   ]
  },
  {
   "cell_type": "code",
   "execution_count": null,
   "metadata": {
    "execution": {
     "iopub.execute_input": "2022-08-07T18:24:33.045396Z",
     "iopub.status.busy": "2022-08-07T18:24:33.044755Z",
     "iopub.status.idle": "2022-08-07T18:24:33.052214Z",
     "shell.execute_reply": "2022-08-07T18:24:33.051239Z",
     "shell.execute_reply.started": "2022-08-07T18:24:33.045368Z"
    },
    "id": "IQJIGdK1Shnr",
    "tags": []
   },
   "outputs": [],
   "source": [
    "length=[]\n",
    "for i in x_train_token:\n",
    "    length.append(len(i))"
   ]
  },
  {
   "cell_type": "code",
   "execution_count": null,
   "metadata": {
    "execution": {
     "iopub.execute_input": "2022-08-07T18:24:33.054190Z",
     "iopub.status.busy": "2022-08-07T18:24:33.053998Z",
     "iopub.status.idle": "2022-08-07T18:24:33.208525Z",
     "shell.execute_reply": "2022-08-07T18:24:33.207385Z",
     "shell.execute_reply.started": "2022-08-07T18:24:33.054167Z"
    },
    "id": "ehNv7N0WShns",
    "outputId": "46bf40ed-8dc2-4141-95f3-d4830dd8da3c",
    "tags": []
   },
   "outputs": [
    {
     "data": {
      "image/png": "[encoded data removed]",
      "text/plain": [
       "<Figure size 432x288 with 1 Axes>"
      ]
     },
     "metadata": {
      "needs_background": "light"
     },
     "output_type": "display_data"
    }
   ],
   "source": [
    "sns.ecdfplot(x=length)\n",
    "plt.xlabel('length of characters')\n",
    "plt.grid()"
   ]
  },
  {
   "cell_type": "code",
   "execution_count": null,
   "metadata": {
    "execution": {
     "iopub.execute_input": "2022-08-07T18:24:33.210032Z",
     "iopub.status.busy": "2022-08-07T18:24:33.209634Z",
     "iopub.status.idle": "2022-08-07T18:24:33.332798Z",
     "shell.execute_reply": "2022-08-07T18:24:33.331926Z",
     "shell.execute_reply.started": "2022-08-07T18:24:33.210007Z"
    },
    "id": "3eAKOkzZShns",
    "outputId": "bed20301-e938-4e33-85b7-0611db85faf0",
    "tags": []
   },
   "outputs": [
    {
     "data": {
      "text/plain": [
       "(0.0, 3000.0)"
      ]
     },
     "execution_count": 89,
     "metadata": {},
     "output_type": "execute_result"
    },
    {
     "data": {
      "image/png": "[encoded data removed]",
      "text/plain": [
       "<Figure size 432x288 with 1 Axes>"
      ]
     },
     "metadata": {
      "needs_background": "light"
     },
     "output_type": "display_data"
    }
   ],
   "source": [
    "#Zooming in a little bit of above plot\n",
    "sns.ecdfplot(x=length)\n",
    "plt.xlabel('length of words')\n",
    "plt.grid()\n",
    "plt.xlim(0,3000)"
   ]
  },
  {
   "cell_type": "code",
   "execution_count": null,
   "metadata": {
    "execution": {
     "iopub.execute_input": "2022-08-07T18:24:33.334137Z",
     "iopub.status.busy": "2022-08-07T18:24:33.333859Z",
     "iopub.status.idle": "2022-08-07T18:24:33.347748Z",
     "shell.execute_reply": "2022-08-07T18:24:33.347049Z",
     "shell.execute_reply.started": "2022-08-07T18:24:33.334112Z"
    },
    "id": "7GbKXwYeShns",
    "outputId": "48efeaee-c3ee-461e-bb3a-8a64ec390aed",
    "tags": []
   },
   "outputs": [
    {
     "name": "stdout",
     "output_type": "stream",
     "text": [
      "\u001b[33mThe maximum length of the sentence in our dataset is 52213, 95% of points are less than the length 3212 so i take 3212 as threshold and strip the documents which has more than the length 3212 . I am doing this because if we include remaining 5% points then our dataset dimensions will be 52213\n"
     ]
    }
   ],
   "source": [
    "from colorama import Fore, Back, Style\n",
    "print(Fore.YELLOW+f\"The maximum length of the sentence in our dataset is {int(np.percentile(length,100))}, 95% of points are less than the length {int(np.percentile(length,95))} so i take {int(np.percentile(length,95))} as threshold and strip the documents which has more than the length {int(np.percentile(length,95))} . I am doing this because if we include remaining 5% points then our dataset dimensions will be {int(np.percentile(length,100))}\")"
   ]
  },
  {
   "cell_type": "code",
   "execution_count": null,
   "metadata": {
    "execution": {
     "iopub.execute_input": "2022-08-07T18:24:33.351093Z",
     "iopub.status.busy": "2022-08-07T18:24:33.350718Z",
     "iopub.status.idle": "2022-08-07T18:24:34.325039Z",
     "shell.execute_reply": "2022-08-07T18:24:34.324328Z",
     "shell.execute_reply.started": "2022-08-07T18:24:33.351068Z"
    },
    "id": "2hLffdVFShnt",
    "outputId": "36175e97-7a50-46a8-f6bb-00f9891221f4",
    "tags": []
   },
   "outputs": [
    {
     "name": "stdout",
     "output_type": "stream",
     "text": [
      "setting max length of document is 3212\n"
     ]
    }
   ],
   "source": [
    "print(f\"setting max length of document is {int(np.percentile(length,95))}\")\n",
    "x_train_final=pad_sequences(x_train_token,padding='post',truncating='post',maxlen=int(np.percentile(length,95)))\n",
    "x_test_final=pad_sequences(x_test_token,padding='post',truncating='post',maxlen=int(np.percentile(length,95)))"
   ]
  },
  {
   "cell_type": "code",
   "execution_count": null,
   "metadata": {
    "colab": {
     "referenced_widgets": [
      "817db215c7a348768ed633fb0cd98f56"
     ]
    },
    "execution": {
     "iopub.execute_input": "2022-08-07T18:24:34.327027Z",
     "iopub.status.busy": "2022-08-07T18:24:34.326071Z",
     "iopub.status.idle": "2022-08-07T18:24:34.794777Z",
     "shell.execute_reply": "2022-08-07T18:24:34.794005Z",
     "shell.execute_reply.started": "2022-08-07T18:24:34.326994Z"
    },
    "id": "MR2DBlAOShnt",
    "outputId": "ec4b1d5b-35f7-4e0a-d8df-442bdc2fd919",
    "tags": []
   },
   "outputs": [
    {
     "data": {
      "application/vnd.jupyter.widget-view+json": {
       "model_id": "817db215c7a348768ed633fb0cd98f56",
       "version_major": 2,
       "version_minor": 0
      },
      "text/plain": [
       "0it [00:00, ?it/s]"
      ]
     },
     "metadata": {},
     "output_type": "display_data"
    }
   ],
   "source": [
    "glove = {}\n",
    "f = open('glove.840B.300d-char.txt.1')\n",
    "for line in tqdm(f):\n",
    "    values = line.split()\n",
    "    word = values[0]\n",
    "    glove[word] = np.asarray(values[1:], dtype='float32')\n",
    "f.close()"
   ]
  },
  {
   "cell_type": "code",
   "execution_count": null,
   "metadata": {
    "execution": {
     "iopub.execute_input": "2022-08-07T18:24:34.796078Z",
     "iopub.status.busy": "2022-08-07T18:24:34.795890Z",
     "iopub.status.idle": "2022-08-07T18:24:34.808920Z",
     "shell.execute_reply": "2022-08-07T18:24:34.808134Z",
     "shell.execute_reply.started": "2022-08-07T18:24:34.796056Z"
    },
    "id": "icwKwc5CShnt",
    "tags": []
   },
   "outputs": [],
   "source": [
    "embidding_matrix=[]\n",
    "count=0\n",
    "ind=token.word_index\n",
    "embidding_matrix.append(np.zeros((300)))\n",
    "for i in ind:\n",
    "    try:\n",
    "        embidding_matrix.append(glove[i])\n",
    "    except Exception:\n",
    "        embidding_matrix.append(np.zeros((300)))\n",
    "embidding_matrix=np.array(embidding_matrix)"
   ]
  },
  {
   "cell_type": "code",
   "execution_count": null,
   "metadata": {
    "id": "nm5qPXKpShnu",
    "tags": []
   },
   "outputs": [],
   "source": []
  },
  {
   "cell_type": "code",
   "execution_count": null,
   "metadata": {
    "execution": {
     "iopub.execute_input": "2022-08-07T18:24:34.820665Z",
     "iopub.status.busy": "2022-08-07T18:24:34.820330Z",
     "iopub.status.idle": "2022-08-07T18:24:34.825362Z",
     "shell.execute_reply": "2022-08-07T18:24:34.824695Z",
     "shell.execute_reply.started": "2022-08-07T18:24:34.820638Z"
    },
    "id": "KbNIPxEVShnu",
    "tags": []
   },
   "outputs": [],
   "source": [
    "first_kernel=3\n",
    "second_kernel=3\n",
    "third_kernel=3\n",
    "fourth_kernel=3\n",
    "n=16 #first convolution filters\n",
    "m=16 #second convolution filters\n",
    "k=16 #third convolution filters\n",
    "t=16 #fourth convolution filters\n",
    "act='relu'\n",
    "drop=0.2\n",
    "dense=256\n",
    "batchnormal=False"
   ]
  },
  {
   "cell_type": "code",
   "execution_count": null,
   "metadata": {
    "execution": {
     "iopub.execute_input": "2022-08-07T18:24:34.826530Z",
     "iopub.status.busy": "2022-08-07T18:24:34.826348Z",
     "iopub.status.idle": "2022-08-07T18:24:34.988691Z",
     "shell.execute_reply": "2022-08-07T18:24:34.987937Z",
     "shell.execute_reply.started": "2022-08-07T18:24:34.826509Z"
    },
    "id": "lsDbf6RzShnu",
    "outputId": "bae5eac7-ebbb-409c-9bd3-7a25e0f3b111",
    "tags": []
   },
   "outputs": [
    {
     "name": "stdout",
     "output_type": "stream",
     "text": [
      "Model: \"model_2\"\n",
      "_________________________________________________________________\n",
      " Layer (type)                Output Shape              Param #   \n",
      "=================================================================\n",
      " input_3 (InputLayer)        [(None, 3212)]            0         \n",
      "                                                                 \n",
      " embedding_2 (Embedding)     (None, 3212, 300)         14400     \n",
      "                                                                 \n",
      " conv1d_14 (Conv1D)          (None, 3210, 16)          14416     \n",
      "                                                                 \n",
      " activation_12 (Activation)  (None, 3210, 16)          0         \n",
      "                                                                 \n",
      " conv1d_15 (Conv1D)          (None, 3208, 16)          784       \n",
      "                                                                 \n",
      " activation_13 (Activation)  (None, 3208, 16)          0         \n",
      "                                                                 \n",
      " max_pooling1d_4 (MaxPooling  (None, 1604, 16)         0         \n",
      " 1D)                                                             \n",
      "                                                                 \n",
      " conv1d_16 (Conv1D)          (None, 1602, 16)          784       \n",
      "                                                                 \n",
      " activation_14 (Activation)  (None, 1602, 16)          0         \n",
      "                                                                 \n",
      " conv1d_17 (Conv1D)          (None, 1600, 16)          784       \n",
      "                                                                 \n",
      " activation_15 (Activation)  (None, 1600, 16)          0         \n",
      "                                                                 \n",
      " max_pooling1d_5 (MaxPooling  (None, 800, 16)          0         \n",
      " 1D)                                                             \n",
      "                                                                 \n",
      " flatten_2 (Flatten)         (None, 12800)             0         \n",
      "                                                                 \n",
      " dropout_2 (Dropout)         (None, 12800)             0         \n",
      "                                                                 \n",
      " dense_4 (Dense)             (None, 256)               3277056   \n",
      "                                                                 \n",
      " dense_5 (Dense)             (None, 20)                5140      \n",
      "                                                                 \n",
      "=================================================================\n",
      "Total params: 3,313,364\n",
      "Trainable params: 3,298,964\n",
      "Non-trainable params: 14,400\n",
      "_________________________________________________________________\n",
      "You must install pydot (`pip install pydot`) and install graphviz (see instructions at https://graphviz.gitlab.io/download/) for plot_model/model_to_dot to work.\n"
     ]
    }
   ],
   "source": [
    "model_input=Input(shape=(x_train_final.shape[1]))\n",
    "model=Embedding(embidding_matrix.shape[0],embidding_matrix.shape[1],trainable=False,weights=[embidding_matrix])(model_input)\n",
    "\n",
    "model=Conv1D(filters=n,kernel_size=first_kernel)(model)\n",
    "if batchnormal:\n",
    "    model=BatchNormalization()(model)\n",
    "model=Activation(act)(model)\n",
    "\n",
    "model=Conv1D(filters=m,kernel_size=second_kernel)(model)\n",
    "if batchnormal:\n",
    "    model=BatchNormalization()(model)\n",
    "model=Activation(act)(model)\n",
    "\n",
    "model=MaxPool1D()(model)\n",
    "\n",
    "model=Conv1D(filters=k,kernel_size=third_kernel)(model)\n",
    "if batchnormal:\n",
    "    model=BatchNormalization()(model)\n",
    "model=Activation(act)(model)\n",
    "\n",
    "model=Conv1D(filters=t,kernel_size=fourth_kernel)(model)\n",
    "if batchnormal:\n",
    "    model=BatchNormalization()(model)\n",
    "model=Activation(act)(model)\n",
    "\n",
    "model=MaxPool1D()(model)\n",
    "\n",
    "model=Flatten()(model)\n",
    "if batchnormal:\n",
    "    model=BatchNormalization()(model)\n",
    "model=Dropout(drop)(model)\n",
    "\n",
    "model=Dense(dense)(model)\n",
    "\n",
    "model=Dense(20,activation='softmax')(model)\n",
    "\n",
    "model=Model(inputs=[model_input],outputs=[model])\n",
    "\n",
    "model.compile(optimizer='adam',loss='categorical_crossentropy',metrics=['accuracy',micro_f1])\n",
    "\n",
    "model.summary()\n",
    "tf.keras.utils.plot_model(\n",
    "    model,\n",
    "    to_file='model.png',\n",
    "    show_shapes=True,\n",
    "    show_dtype=False,\n",
    "    show_layer_names=True,\n",
    "    rankdir='TB',\n",
    "    expand_nested=False,\n",
    "    dpi=96,\n",
    "    layer_range=None,\n",
    "    show_layer_activations=False\n",
    ")"
   ]
  },
  {
   "cell_type": "code",
   "execution_count": null,
   "metadata": {
    "execution": {
     "iopub.execute_input": "2022-08-07T18:24:34.990191Z",
     "iopub.status.busy": "2022-08-07T18:24:34.989725Z",
     "iopub.status.idle": "2022-08-07T18:24:34.994242Z",
     "shell.execute_reply": "2022-08-07T18:24:34.993484Z",
     "shell.execute_reply.started": "2022-08-07T18:24:34.990165Z"
    },
    "id": "UNZgqPP9Shnv",
    "tags": []
   },
   "outputs": [],
   "source": [
    "early_stopping=tf.keras.callbacks.EarlyStopping(\n",
    "    monitor=\"val_accuracy\",\n",
    "    min_delta=0,\n",
    "    patience=3,\n",
    "    verbose=0,\n",
    "    mode=\"auto\",\n",
    "    baseline=None,\n",
    "    restore_best_weights=True\n",
    ")"
   ]
  },
  {
   "cell_type": "code",
   "execution_count": null,
   "metadata": {
    "execution": {
     "iopub.execute_input": "2022-08-07T18:24:34.996078Z",
     "iopub.status.busy": "2022-08-07T18:24:34.995408Z",
     "iopub.status.idle": "2022-08-07T18:24:35.001051Z",
     "shell.execute_reply": "2022-08-07T18:24:35.000357Z",
     "shell.execute_reply.started": "2022-08-07T18:24:34.996047Z"
    },
    "id": "NoOMJdmUShnv",
    "outputId": "c6cff258-f3a6-4c69-a53a-eb1656aff6d8",
    "tags": []
   },
   "outputs": [
    {
     "name": "stdout",
     "output_type": "stream",
     "text": [
      "storing Logs for tensorboard in following directory :  /home/ubuntu/aaic/CNN_with_textdata\n"
     ]
    }
   ],
   "source": [
    "tensorboard=tf.keras.callbacks.TensorBoard(\n",
    "    log_dir=\"logs5\",\n",
    "    histogram_freq=1,\n",
    "    write_graph=True,\n",
    "    write_images=False,\n",
    "    write_steps_per_second=False,\n",
    "    update_freq=\"epoch\",\n",
    ")\n",
    "print('storing Logs for tensorboard in following directory : ',os.getcwd())"
   ]
  },
  {
   "cell_type": "code",
   "execution_count": null,
   "metadata": {
    "execution": {
     "iopub.execute_input": "2022-08-07T18:24:35.002528Z",
     "iopub.status.busy": "2022-08-07T18:24:35.002193Z",
     "iopub.status.idle": "2022-08-07T18:24:35.007837Z",
     "shell.execute_reply": "2022-08-07T18:24:35.007144Z",
     "shell.execute_reply.started": "2022-08-07T18:24:35.002504Z"
    },
    "id": "5PIKiKFaShnv",
    "tags": []
   },
   "outputs": [],
   "source": [
    "#This callback checks if the train accuracy and validation accuracy differs more , if we have 0.95 train accuracy and 0.7 validation accuracy \n",
    "#then early stopping stores model with validation 0.7 , it won't see the difference b/w validation accuracy and training accuracy, so this metric sees \n",
    "#difference also and you can monitor it using this metric\n",
    "from math import sqrt,exp\n",
    "class overfit_metric(tf.keras.callbacks.Callback):\n",
    "    \"\"\"This callback checks if the train accuracy and validation accuracy differs more , if we have 0.95 train accuracy and 0.7 validation accuracy \n",
    "       then early stopping stores model with validation 0.7 , it won't see the difference b/w validation accuracy and training accuracy, so this metric sees \n",
    "       difference also and you can monitor it using this metric, This is caluclated with harmonic mean of (1/diff) and validation accuracy , where diff is difference\n",
    "       of accuracy between train accuracy and validation accuracy \"\"\"\n",
    "    def on_epoch_end(self,epoch,log=None):\n",
    "        val=log['val_accuracy']\n",
    "        acc=log['accuracy']\n",
    "        diff=abs(log['accuracy']-val)\n",
    "        log['overfit_paramater']=2*(1/exp(diff))*val/((1/exp(diff)+val))"
   ]
  },
  {
   "cell_type": "code",
   "execution_count": null,
   "metadata": {
    "execution": {
     "iopub.execute_input": "2022-08-07T18:24:35.009120Z",
     "iopub.status.busy": "2022-08-07T18:24:35.008935Z",
     "iopub.status.idle": "2022-08-07T18:24:38.226840Z",
     "shell.execute_reply": "2022-08-07T18:24:38.225764Z",
     "shell.execute_reply.started": "2022-08-07T18:24:35.009099Z"
    },
    "id": "-cEgr0qMShnw",
    "outputId": "86827198-77c8-4306-ae4f-b74abecf1140",
    "tags": []
   },
   "outputs": [
    {
     "name": "stdout",
     "output_type": "stream",
     "text": [
      "The tensorboard extension is already loaded. To reload it, use:\n",
      "  %reload_ext tensorboard\n"
     ]
    },
    {
     "data": {
      "text/html": [
       "\n",
       "      <iframe id=\"tensorboard-frame-437ac54fe12e1f9d\" width=\"100%\" height=\"800\" frameborder=\"0\">\n",
       "      </iframe>\n",
       "      <script>\n",
       "        (function() {\n",
       "          const frame = document.getElementById(\"tensorboard-frame-437ac54fe12e1f9d\");\n",
       "          const url = new URL(\"/\", window.location);\n",
       "          const port = 6009;\n",
       "          if (port) {\n",
       "            url.port = port;\n",
       "          }\n",
       "          frame.src = url;\n",
       "        })();\n",
       "      </script>\n",
       "    "
      ],
      "text/plain": [
       "<IPython.core.display.HTML object>"
      ]
     },
     "metadata": {},
     "output_type": "display_data"
    }
   ],
   "source": [
    "%load_ext tensorboard\n",
    "!rm -rf ./logs5/ \n",
    "%tensorboard --logdir './logs5' --host \"0.0.0.0\" --port 6009"
   ]
  },
  {
   "cell_type": "code",
   "execution_count": null,
   "metadata": {
    "execution": {
     "iopub.execute_input": "2022-08-07T18:24:38.228854Z",
     "iopub.status.busy": "2022-08-07T18:24:38.228237Z",
     "iopub.status.idle": "2022-08-07T18:33:11.638546Z",
     "shell.execute_reply": "2022-08-07T18:33:11.637793Z",
     "shell.execute_reply.started": "2022-08-07T18:24:38.228812Z"
    },
    "id": "zxsLy70CShnw",
    "outputId": "b4bbe989-5a4e-4cb5-a4bc-069f87bf5bfe",
    "tags": []
   },
   "outputs": [
    {
     "name": "stdout",
     "output_type": "stream",
     "text": [
      "Epoch 1/4000\n",
      "353/353 [==============================] - 84s 236ms/step - loss: 2.9403 - accuracy: 0.0780 - micro_f1: 6.7245e-04 - val_loss: 2.9372 - val_accuracy: 0.0800 - val_micro_f1: 0.0000e+00 - overfit_paramater: 0.1481\n",
      "Epoch 2/4000\n",
      "353/353 [==============================] - 83s 236ms/step - loss: 2.8967 - accuracy: 0.0963 - micro_f1: 0.0024 - val_loss: 2.8876 - val_accuracy: 0.0931 - val_micro_f1: 6.8097e-04 - overfit_paramater: 0.1703\n",
      "Epoch 3/4000\n",
      "353/353 [==============================] - 83s 235ms/step - loss: 2.8429 - accuracy: 0.1154 - micro_f1: 0.0075 - val_loss: 2.9117 - val_accuracy: 0.1012 - val_micro_f1: 0.0082 - overfit_paramater: 0.1836\n",
      "Epoch 4/4000\n",
      "353/353 [==============================] - 86s 244ms/step - loss: 2.6594 - accuracy: 0.1743 - micro_f1: 0.0377 - val_loss: 2.9883 - val_accuracy: 0.0984 - val_micro_f1: 0.0106 - overfit_paramater: 0.1779\n",
      "Epoch 5/4000\n",
      "353/353 [==============================] - 89s 253ms/step - loss: 2.4318 - accuracy: 0.2327 - micro_f1: 0.1155 - val_loss: 3.1402 - val_accuracy: 0.0818 - val_micro_f1: 0.0124 - overfit_paramater: 0.1493\n",
      "Epoch 6/4000\n",
      "353/353 [==============================] - 87s 247ms/step - loss: 2.2219 - accuracy: 0.2908 - micro_f1: 0.1929 - val_loss: 3.3759 - val_accuracy: 0.0821 - val_micro_f1: 0.0269 - overfit_paramater: 0.1492\n"
     ]
    },
    {
     "data": {
      "text/plain": [
       "<keras.callbacks.History at 0xffff42af41c0>"
      ]
     },
     "execution_count": 100,
     "metadata": {},
     "output_type": "execute_result"
    }
   ],
   "source": [
    "model.fit(x_train_final,y_train_final.toarray(),validation_split=0.2,\n",
    "          callbacks=[tensorboard,checkpoint,early_stopping,mycallback(),overfit_metric()]\n",
    "          ,epochs=4000)"
   ]
  },
  {
   "cell_type": "code",
   "execution_count": null,
   "metadata": {
    "execution": {
     "iopub.execute_input": "2022-08-07T18:33:11.639709Z",
     "iopub.status.busy": "2022-08-07T18:33:11.639540Z",
     "iopub.status.idle": "2022-08-07T18:33:11.645475Z",
     "shell.execute_reply": "2022-08-07T18:33:11.644195Z",
     "shell.execute_reply.started": "2022-08-07T18:33:11.639687Z"
    },
    "id": "pXggwSWTShnw",
    "tags": []
   },
   "outputs": [],
   "source": [
    "model_3=model"
   ]
  },
  {
   "cell_type": "markdown",
   "metadata": {
    "id": "3hjsP8RtShnx",
    "tags": []
   },
   "source": [
    "### Testing model performance on Test data"
   ]
  },
  {
   "cell_type": "code",
   "execution_count": null,
   "metadata": {
    "execution": {
     "iopub.execute_input": "2022-08-07T18:33:11.657654Z",
     "iopub.status.busy": "2022-08-07T18:33:11.657081Z",
     "iopub.status.idle": "2022-08-07T18:33:22.425138Z",
     "shell.execute_reply": "2022-08-07T18:33:22.424383Z",
     "shell.execute_reply.started": "2022-08-07T18:33:11.657627Z"
    },
    "id": "Qx9-u5qrShnx",
    "outputId": "8a98eebb-e4a7-416f-a4ec-6ad552fe0623",
    "tags": []
   },
   "outputs": [
    {
     "name": "stdout",
     "output_type": "stream",
     "text": [
      "148/148 [==============================] - 11s 71ms/step\n"
     ]
    }
   ],
   "source": [
    "evaluate=model.predict(x_test_final)"
   ]
  },
  {
   "cell_type": "code",
   "execution_count": null,
   "metadata": {
    "execution": {
     "iopub.execute_input": "2022-08-07T18:33:22.427210Z",
     "iopub.status.busy": "2022-08-07T18:33:22.426803Z",
     "iopub.status.idle": "2022-08-07T18:33:22.505079Z",
     "shell.execute_reply": "2022-08-07T18:33:22.504370Z",
     "shell.execute_reply.started": "2022-08-07T18:33:22.427182Z"
    },
    "id": "LnIxa8cLShnx",
    "outputId": "36c57c51-7499-4025-d79e-7b9a6bd35f69",
    "tags": []
   },
   "outputs": [
    {
     "name": "stdout",
     "output_type": "stream",
     "text": [
      "              precision    recall  f1-score   support\n",
      "\n",
      "           0       0.28      0.04      0.06       200\n",
      "           1       0.08      0.13      0.10       243\n",
      "           2       0.05      0.03      0.04       246\n",
      "           3       0.09      0.06      0.07       246\n",
      "           4       0.11      0.10      0.11       240\n",
      "           5       0.11      0.07      0.08       245\n",
      "           6       0.15      0.28      0.20       243\n",
      "           7       0.04      0.01      0.01       248\n",
      "           8       0.04      0.03      0.03       249\n",
      "           9       0.05      0.11      0.07       248\n",
      "          10       0.08      0.17      0.11       250\n",
      "          11       0.06      0.12      0.08       248\n",
      "          12       0.09      0.02      0.04       245\n",
      "          13       0.08      0.09      0.08       247\n",
      "          14       0.12      0.09      0.10       247\n",
      "          15       0.13      0.21      0.16       249\n",
      "          16       0.10      0.03      0.05       227\n",
      "          17       0.15      0.18      0.16       235\n",
      "          18       0.13      0.05      0.07       194\n",
      "          19       0.18      0.01      0.02       157\n",
      "\n",
      "    accuracy                           0.09      4707\n",
      "   macro avg       0.11      0.09      0.08      4707\n",
      "weighted avg       0.10      0.09      0.08      4707\n",
      "\n"
     ]
    }
   ],
   "source": [
    "print(classification_report(np.argmax(y_test_final,axis=1),np.argmax(evaluate,axis=1)))"
   ]
  },
  {
   "cell_type": "code",
   "execution_count": null,
   "metadata": {
    "execution": {
     "iopub.execute_input": "2022-08-07T18:33:22.506569Z",
     "iopub.status.busy": "2022-08-07T18:33:22.506100Z",
     "iopub.status.idle": "2022-08-07T18:33:22.572813Z",
     "shell.execute_reply": "2022-08-07T18:33:22.572078Z",
     "shell.execute_reply.started": "2022-08-07T18:33:22.506541Z"
    },
    "id": "HIf4FkbrShny",
    "outputId": "6a1d539c-ff35-40af-af58-df69a04f17d7",
    "tags": []
   },
   "outputs": [
    {
     "name": "stdout",
     "output_type": "stream",
     "text": [
      "Micro F1 score on Test data is : 0.09411514765243255\n"
     ]
    }
   ],
   "source": [
    "print(f'Micro F1 score on Test data is : {f1_score(np.argmax(y_test_final,axis=1),np.argmax(evaluate,axis=1),average=\"micro\")}')"
   ]
  },
  {
   "cell_type": "code",
   "execution_count": null,
   "metadata": {
    "execution": {
     "iopub.execute_input": "2022-08-07T18:33:22.573965Z",
     "iopub.status.busy": "2022-08-07T18:33:22.573779Z",
     "iopub.status.idle": "2022-08-07T18:33:22.638399Z",
     "shell.execute_reply": "2022-08-07T18:33:22.637563Z",
     "shell.execute_reply.started": "2022-08-07T18:33:22.573943Z"
    },
    "id": "KTBrhJFTShny",
    "outputId": "712d60c7-b08a-4fab-a2a3-1f6f17d3cbb8",
    "tags": []
   },
   "outputs": [
    {
     "name": "stdout",
     "output_type": "stream",
     "text": [
      "Accuracy on Test data is : 0.09411514765243255\n"
     ]
    }
   ],
   "source": [
    "print(f\"Accuracy on Test data is : {accuracy_score(np.argmax(y_test_final,axis=1),np.argmax(evaluate,axis=1))}\")"
   ]
  },
  {
   "cell_type": "code",
   "execution_count": null,
   "metadata": {
    "execution": {
     "iopub.execute_input": "2022-08-07T18:33:22.642118Z",
     "iopub.status.busy": "2022-08-07T18:33:22.641765Z",
     "iopub.status.idle": "2022-08-07T18:33:24.879065Z",
     "shell.execute_reply": "2022-08-07T18:33:24.878384Z",
     "shell.execute_reply.started": "2022-08-07T18:33:22.642091Z"
    },
    "id": "Qf4qrBe1Shny",
    "outputId": "bb41fe28-9498-44c0-ffac-a7ea9bb8dac9",
    "tags": []
   },
   "outputs": [
    {
     "data": {
      "text/plain": [
       "Text(159.0, 0.5, 'Original Class')"
      ]
     },
     "execution_count": 106,
     "metadata": {},
     "output_type": "execute_result"
    },
    {
     "data": {
      "image/png": "[encoded data removed]",
      "text/plain": [
       "<Figure size 1440x720 with 2 Axes>"
      ]
     },
     "metadata": {
      "needs_background": "light"
     },
     "output_type": "display_data"
    }
   ],
   "source": [
    "plt.figure(figsize=(20,10))\n",
    "sns.heatmap(confusion_matrix(np.argmax(y_test_final,axis=1),np.argmax(evaluate,axis=1)),annot=True,cmap=\"YlGnBu\")\n",
    "plt.xlabel('Predicted Class ')\n",
    "plt.ylabel('Original Class')"
   ]
  },
  {
   "cell_type": "markdown",
   "metadata": {
    "id": "7jM8gqoWShnz"
   },
   "source": [
    "### Hyper paramater Tuning"
   ]
  },
  {
   "cell_type": "code",
   "execution_count": null,
   "metadata": {
    "execution": {
     "iopub.execute_input": "2022-08-07T18:33:24.890915Z",
     "iopub.status.busy": "2022-08-07T18:33:24.890738Z",
     "iopub.status.idle": "2022-08-07T18:33:24.924059Z",
     "shell.execute_reply": "2022-08-07T18:33:24.923199Z",
     "shell.execute_reply.started": "2022-08-07T18:33:24.890893Z"
    },
    "id": "M4BiztVkShnz",
    "tags": []
   },
   "outputs": [],
   "source": [
    "#splitting training and cross validation data , taking 20% as cross validation data\n",
    "train=x_train_token[:int(0.8*len(x_train_token))] \n",
    "cv=x_train_token[int(0.8*len(x_train_token)):]\n",
    "y_train=y_train_final[:int(0.8*len(x_train_token))]\n",
    "y_cv_train=y_train_final[int(0.8*len(x_train_token)):]"
   ]
  },
  {
   "cell_type": "code",
   "execution_count": null,
   "metadata": {
    "execution": {
     "iopub.execute_input": "2022-08-07T18:33:24.925228Z",
     "iopub.status.busy": "2022-08-07T18:33:24.925047Z",
     "iopub.status.idle": "2022-08-07T18:33:24.930269Z",
     "shell.execute_reply": "2022-08-07T18:33:24.929518Z",
     "shell.execute_reply.started": "2022-08-07T18:33:24.925207Z"
    },
    "id": "NXtsXFknShnz",
    "tags": []
   },
   "outputs": [],
   "source": [
    "try: \n",
    "    del tr\n",
    "    del te\n",
    "    del aa\n",
    "    del train\n",
    "    del cv\n",
    "except:\n",
    "    pass"
   ]
  },
  {
   "cell_type": "code",
   "execution_count": null,
   "metadata": {
    "execution": {
     "iopub.execute_input": "2022-08-07T18:33:24.931517Z",
     "iopub.status.busy": "2022-08-07T18:33:24.931211Z",
     "iopub.status.idle": "2022-08-07T18:33:24.946140Z",
     "shell.execute_reply": "2022-08-07T18:33:24.945427Z",
     "shell.execute_reply.started": "2022-08-07T18:33:24.931495Z"
    },
    "id": "l9IxT7XbShnz",
    "tags": []
   },
   "outputs": [],
   "source": [
    "def create_model(hp):\n",
    "    global train\n",
    "    global cv\n",
    "    global tr\n",
    "    global te\n",
    "    aa=hp.Int('Max length of document in percentile',min_value=50,max_value=95,step=8)   # Treating max length of the document as a hyper paramater\n",
    "    tr=pad_sequences(train,padding='post',maxlen=int(np.percentile(length,aa))) \n",
    "    te=pad_sequences(cv,padding='post',maxlen=int(np.percentile(length,aa)))\n",
    "    ################################ hyperparamaters ##############################################################\n",
    "    \n",
    "    first_kernel=hp.Choice(\"kernel\",values=[1,3,7]) \n",
    "    second_kernel=hp.Choice(\"kernel_1\",values=[1,3,7]) \n",
    "    third_kernel=hp.Choice(\"kernel_2\",values=[1,3,7]) \n",
    "    fourth_kernel=hp.Choice(\"kernel_3\",values=[1,3,7]) \n",
    "    n= hp.Int(\"filters\",min_value=1,max_value=50,step=5)#first convolution filters\n",
    "    m=hp.Int(\"filters_1\",min_value=1,max_value=50,step=5) #second convolution filters\n",
    "    k=hp.Int(\"filters_2\",min_value=1,max_value=50,step=5) #third convolution filters\n",
    "    t=hp.Int(\"filters_3\",min_value=1,max_value=50,step=5)#fourth convolution filters\n",
    "    regularizer=hp.Choice('Regularization',values=['l1','l2'])\n",
    "    drop=hp.Float(\"Drop out\",min_value=0,max_value=0.8,step=0.2)\n",
    "    dense=hp.Choice(\"Dense\",values=[256,512,1024,2048])\n",
    "    act=hp.Choice(\"activation function\",values=['relu','elu','selu','tanh','sigmoid'])\n",
    "    pad='same'\n",
    "    batchnormal=hp.Boolean(\"batchnormalization\")\n",
    "    ######################################## Model Building ##########################################################\n",
    "    model_input=Input(shape=(hp.Fixed('shape',tr.shape[1]))) \n",
    "    model=Embedding(embidding_matrix.shape[0],embidding_matrix.shape[1],trainable=False,weights=[embidding_matrix])(model_input)\n",
    "\n",
    "    model=Conv1D(filters=n,kernel_size=first_kernel,kernel_regularizer=regularizer)(model)\n",
    "    if batchnormal:\n",
    "        model=BatchNormalization()(model)\n",
    "    model=Activation(act)(model)\n",
    "\n",
    "    model=Conv1D(filters=m,kernel_size=second_kernel,kernel_regularizer=regularizer)(model)\n",
    "    if batchnormal:\n",
    "        model=BatchNormalization()(model)\n",
    "    model=Activation(act)(model)\n",
    "\n",
    "    model=MaxPool1D()(model)\n",
    "\n",
    "    model=Conv1D(filters=k,kernel_size=third_kernel,kernel_regularizer=regularizer)(model)\n",
    "    if batchnormal:\n",
    "        model=BatchNormalization()(model)\n",
    "    model=Activation(act)(model)\n",
    "\n",
    "    model=Conv1D(filters=t,kernel_size=fourth_kernel,kernel_regularizer=regularizer)(model)\n",
    "    if batchnormal:\n",
    "        model=BatchNormalization()(model)\n",
    "    model=Activation(act)(model)\n",
    "\n",
    "    model=MaxPool1D()(model)\n",
    "\n",
    "    model=Flatten()(model)\n",
    "    if batchnormal:\n",
    "        model=BatchNormalization()(model)\n",
    "    model=Dropout(drop)(model)\n",
    "\n",
    "    model=Dense(dense,kernel_regularizer=regularizer)(model)\n",
    "\n",
    "    model=Dense(20,activation='softmax')(model)\n",
    "\n",
    "    model=Model(inputs=[model_input],outputs=[model])\n",
    "\n",
    "    model.compile(optimizer='adam',loss='categorical_crossentropy',metrics=['accuracy',micro_f1])  \n",
    "    return model"
   ]
  },
  {
   "cell_type": "code",
   "execution_count": null,
   "metadata": {
    "execution": {
     "iopub.execute_input": "2022-08-07T18:33:24.947313Z",
     "iopub.status.busy": "2022-08-07T18:33:24.946999Z",
     "iopub.status.idle": "2022-08-07T18:33:24.953328Z",
     "shell.execute_reply": "2022-08-07T18:33:24.952625Z",
     "shell.execute_reply.started": "2022-08-07T18:33:24.947292Z"
    },
    "id": "Aj8O6v0LShn5",
    "tags": []
   },
   "outputs": [],
   "source": [
    "early_stopping=tf.keras.callbacks.EarlyStopping(\n",
    "    monitor=\"val_accuracy\",\n",
    "    min_delta=0,\n",
    "    patience=3,\n",
    "    verbose=0,\n",
    "    mode=\"auto\",\n",
    "    baseline=None,\n",
    "    restore_best_weights=False, #  anyway i will train again with best hyper paramaters again\n",
    ")"
   ]
  },
  {
   "cell_type": "code",
   "execution_count": null,
   "metadata": {
    "execution": {
     "iopub.execute_input": "2022-08-07T18:33:24.954624Z",
     "iopub.status.busy": "2022-08-07T18:33:24.954329Z",
     "iopub.status.idle": "2022-08-07T18:33:24.959741Z",
     "shell.execute_reply": "2022-08-07T18:33:24.959032Z",
     "shell.execute_reply.started": "2022-08-07T18:33:24.954602Z"
    },
    "id": "zd5PjMblShn5",
    "tags": []
   },
   "outputs": [],
   "source": [
    "#This callback checks if the train accuracy and validation accuracy differs more , if we have 0.95 train accuracy and 0.7 validation accuracy \n",
    "#then early stopping stores model with validation 0.7 , it won't see the difference b/w validation accuracy and training accuracy, so this metric sees \n",
    "#difference also and you can monitor it using this metric\n",
    "from math import sqrt,exp\n",
    "class overfit_metric(tf.keras.callbacks.Callback):\n",
    "    \"\"\"This callback checks if the train accuracy and validation accuracy differs more , if we have 0.95 train accuracy and 0.7 validation accuracy \n",
    "       then early stopping stores model with validation 0.7 , it won't see the difference b/w validation accuracy and training accuracy, so this metric sees \n",
    "       difference also and you can monitor it using this metric, This is caluclated with harmonic mean of (1/diff) and validation accuracy , where diff is difference\n",
    "       of accuracy between train accuracy and validation accuracy \"\"\"\n",
    "    def on_epoch_end(self,epoch,log=None):\n",
    "        val=log['val_accuracy']\n",
    "        acc=log['accuracy']\n",
    "        diff=abs(log['accuracy']-val)\n",
    "        log['overfit_paramater']=2*(1/exp(diff))*val/((1/exp(diff)+val))"
   ]
  },
  {
   "cell_type": "code",
   "execution_count": null,
   "metadata": {
    "execution": {
     "iopub.execute_input": "2022-08-07T18:33:24.960791Z",
     "iopub.status.busy": "2022-08-07T18:33:24.960632Z",
     "iopub.status.idle": "2022-08-07T18:33:24.967716Z",
     "shell.execute_reply": "2022-08-07T18:33:24.967094Z",
     "shell.execute_reply.started": "2022-08-07T18:33:24.960772Z"
    },
    "id": "vp4c9EuZShn5",
    "tags": []
   },
   "outputs": [],
   "source": [
    "#even single epoch taking days for some hyperparparamaters , so limitting any model training to 20 min for every half in hyper band\n",
    "import time\n",
    "class mycallback(tf.keras.callbacks.Callback):   # if training time takes more than 40 min , then training will stop\n",
    "    def on_train_begin(self, logs=None):\n",
    "        self.started_time=time.time()\n",
    "    def on_train_batch_end(self, batch, logs=None):\n",
    "        if (time.time()-self.started_time)>60*40 : #40 minutes\n",
    "            self.model.stop_training = True"
   ]
  },
  {
   "cell_type": "code",
   "execution_count": null,
   "metadata": {
    "execution": {
     "iopub.execute_input": "2022-08-07T18:33:24.969329Z",
     "iopub.status.busy": "2022-08-07T18:33:24.968634Z",
     "iopub.status.idle": "2022-08-07T18:33:24.974163Z",
     "shell.execute_reply": "2022-08-07T18:33:24.973472Z",
     "shell.execute_reply.started": "2022-08-07T18:33:24.969302Z"
    },
    "id": "CwrlmF16Shn6",
    "outputId": "02cbd42c-b880-475d-da67-b2e10b698791",
    "tags": []
   },
   "outputs": [
    {
     "name": "stdout",
     "output_type": "stream",
     "text": [
      "storing Logs for tensorboard in following directory :  /home/ubuntu/aaic/CNN_with_textdata\n"
     ]
    }
   ],
   "source": [
    "tensorboard=tf.keras.callbacks.TensorBoard(\n",
    "    log_dir=\"logs7\",\n",
    "    histogram_freq=1,\n",
    "    write_graph=True,\n",
    "    write_images=False,\n",
    "    write_steps_per_second=False,\n",
    "    update_freq=\"epoch\",\n",
    ")\n",
    "print('storing Logs for tensorboard in following directory : ',os.getcwd())"
   ]
  },
  {
   "cell_type": "code",
   "execution_count": null,
   "metadata": {
    "execution": {
     "iopub.execute_input": "2022-08-07T18:33:24.975542Z",
     "iopub.status.busy": "2022-08-07T18:33:24.975365Z",
     "iopub.status.idle": "2022-08-07T18:33:25.165997Z",
     "shell.execute_reply": "2022-08-07T18:33:25.165042Z",
     "shell.execute_reply.started": "2022-08-07T18:33:24.975521Z"
    },
    "id": "fc4gMgIZShn6",
    "outputId": "2083e6d2-4412-4649-cae4-e81d4c3af554",
    "tags": []
   },
   "outputs": [
    {
     "name": "stdout",
     "output_type": "stream",
     "text": [
      "rm: cannot remove 'second_model': No such file or directory\n"
     ]
    }
   ],
   "source": [
    "!rm -r second_model\n",
    "os.mkdir('second_model')"
   ]
  },
  {
   "cell_type": "code",
   "execution_count": null,
   "metadata": {
    "execution": {
     "iopub.execute_input": "2022-08-07T18:33:25.168011Z",
     "iopub.status.busy": "2022-08-07T18:33:25.167683Z",
     "iopub.status.idle": "2022-08-07T18:33:25.177777Z",
     "shell.execute_reply": "2022-08-07T18:33:25.177060Z",
     "shell.execute_reply.started": "2022-08-07T18:33:25.167971Z"
    },
    "id": "I_dbtHHuShn7",
    "outputId": "a71bd3e4-499a-44bc-f476-6f71067561e4",
    "tags": []
   },
   "outputs": [
    {
     "data": {
      "text/plain": [
       "<Future at 0xffff41452c20 state=running>"
      ]
     },
     "execution_count": 115,
     "metadata": {},
     "output_type": "execute_result"
    }
   ],
   "source": [
    "# tuner.search() is saving model checkpoints in hard disk for all models which is building up to very large space in Hard disk so i delete them\n",
    "# manually for every 10 minutes in background\n",
    "@background.task\n",
    "def remove_checkpoints():\n",
    "    while True:     \n",
    "        dirr='second_model'\n",
    "        files=os.listdir(dirr)\n",
    "        for i in files:\n",
    "            try:\n",
    "                for j in (os.listdir(dirr+'/'+i)):\n",
    "                    if 'checkpoint' in j:\n",
    "                        os.remove(dirr+'/'+i+'/'+j)\n",
    "            except Exception as error:\n",
    "                pass\n",
    "        sleep(10*60)\n",
    "\n",
    "remove_checkpoints()"
   ]
  },
  {
   "cell_type": "code",
   "execution_count": null,
   "metadata": {
    "execution": {
     "iopub.execute_input": "2022-08-07T18:33:25.179214Z",
     "iopub.status.busy": "2022-08-07T18:33:25.178834Z",
     "iopub.status.idle": "2022-08-07T18:33:25.773469Z",
     "shell.execute_reply": "2022-08-07T18:33:25.772708Z",
     "shell.execute_reply.started": "2022-08-07T18:33:25.179189Z"
    },
    "id": "rXmynZIiShn7",
    "tags": []
   },
   "outputs": [],
   "source": [
    "tun=keras_tuner.BayesianOptimization(create_model,'val_accuracy',max_trials=40,num_initial_points=10,project_name='second_model',overwrite=True)"
   ]
  },
  {
   "cell_type": "code",
   "execution_count": null,
   "metadata": {
    "execution": {
     "iopub.execute_input": "2022-08-07T18:33:25.774769Z",
     "iopub.status.busy": "2022-08-07T18:33:25.774562Z",
     "iopub.status.idle": "2022-08-07T18:33:28.982261Z",
     "shell.execute_reply": "2022-08-07T18:33:28.981195Z",
     "shell.execute_reply.started": "2022-08-07T18:33:25.774744Z"
    },
    "id": "dJgWnR-TShn7",
    "outputId": "9145e69a-33ea-4be3-c1ae-776e4d9b3b44",
    "tags": []
   },
   "outputs": [
    {
     "name": "stdout",
     "output_type": "stream",
     "text": [
      "The tensorboard extension is already loaded. To reload it, use:\n",
      "  %reload_ext tensorboard\n"
     ]
    },
    {
     "data": {
      "text/html": [
       "\n",
       "      <iframe id=\"tensorboard-frame-4803b361f774b39a\" width=\"100%\" height=\"800\" frameborder=\"0\">\n",
       "      </iframe>\n",
       "      <script>\n",
       "        (function() {\n",
       "          const frame = document.getElementById(\"tensorboard-frame-4803b361f774b39a\");\n",
       "          const url = new URL(\"/\", window.location);\n",
       "          const port = 6004;\n",
       "          if (port) {\n",
       "            url.port = port;\n",
       "          }\n",
       "          frame.src = url;\n",
       "        })();\n",
       "      </script>\n",
       "    "
      ],
      "text/plain": [
       "<IPython.core.display.HTML object>"
      ]
     },
     "metadata": {},
     "output_type": "display_data"
    }
   ],
   "source": [
    "%load_ext tensorboard\n",
    "!rm -rf ./logs7/ \n",
    "%tensorboard --logdir './logs7' --host \"0.0.0.0\" --port 6004"
   ]
  },
  {
   "cell_type": "code",
   "execution_count": null,
   "metadata": {
    "id": "vTuqWvplShn8"
   },
   "outputs": [],
   "source": []
  },
  {
   "cell_type": "code",
   "execution_count": null,
   "metadata": {
    "execution": {
     "iopub.execute_input": "2022-08-07T18:33:28.994724Z",
     "iopub.status.busy": "2022-08-07T18:33:28.994540Z",
     "iopub.status.idle": "2022-08-07T20:25:06.659983Z",
     "shell.execute_reply": "2022-08-07T20:25:06.659249Z",
     "shell.execute_reply.started": "2022-08-07T18:33:28.994702Z"
    },
    "id": "jR3m1CTQShn8",
    "outputId": "2f92b9d5-7c47-4d10-dcde-0604a5e14c5f",
    "tags": []
   },
   "outputs": [
    {
     "name": "stdout",
     "output_type": "stream",
     "text": [
      "Trial 40 Complete [00h 02m 55s]\n",
      "val_accuracy: 0.08212389051914215\n",
      "\n",
      "Best val_accuracy So Far: 0.11398229748010635\n",
      "Total elapsed time: 01h 51m 38s\n",
      "INFO:tensorflow:Oracle triggered exit\n"
     ]
    }
   ],
   "source": [
    "tun.search(tr,y_train.toarray(),callbacks=[early_stopping,tensorboard,mycallback(),overfit_metric()],\n",
    "           validation_data=(te,y_cv_train.toarray()),epochs=40)"
   ]
  },
  {
   "cell_type": "code",
   "execution_count": null,
   "metadata": {
    "execution": {
     "iopub.execute_input": "2022-08-07T20:25:06.662772Z",
     "iopub.status.busy": "2022-08-07T20:25:06.662460Z",
     "iopub.status.idle": "2022-08-07T20:25:06.703561Z",
     "shell.execute_reply": "2022-08-07T20:25:06.702851Z",
     "shell.execute_reply.started": "2022-08-07T20:25:06.662745Z"
    },
    "id": "jmxTmoapShn9",
    "outputId": "a1c09c4f-5c65-4216-d36b-02a1f57ad617",
    "tags": []
   },
   "outputs": [
    {
     "name": "stdout",
     "output_type": "stream",
     "text": [
      "Results summary\n",
      "Results in ./second_model\n",
      "Showing 10 best trials\n",
      "<keras_tuner.engine.objective.Objective object at 0xffff41452830>\n",
      "Trial summary\n",
      "Hyperparameters:\n",
      "Max length of document in percentile: 90\n",
      "kernel: 1\n",
      "kernel_1: 1\n",
      "kernel_2: 7\n",
      "kernel_3: 1\n",
      "filters: 1\n",
      "filters_1: 46\n",
      "filters_2: 46\n",
      "filters_3: 31\n",
      "Regularization: l2\n",
      "Drop out: 0.6000000000000001\n",
      "Dense: 256\n",
      "activation function: relu\n",
      "batchnormalization: True\n",
      "shape: 659\n",
      "Score: 0.11398229748010635\n",
      "Trial summary\n",
      "Hyperparameters:\n",
      "Max length of document in percentile: 90\n",
      "kernel: 1\n",
      "kernel_1: 1\n",
      "kernel_2: 7\n",
      "kernel_3: 1\n",
      "filters: 1\n",
      "filters_1: 46\n",
      "filters_2: 46\n",
      "filters_3: 31\n",
      "Regularization: l2\n",
      "Drop out: 0.4\n",
      "Dense: 1024\n",
      "activation function: relu\n",
      "batchnormalization: True\n",
      "shape: 659\n",
      "Score: 0.10796460509300232\n",
      "Trial summary\n",
      "Hyperparameters:\n",
      "Max length of document in percentile: 90\n",
      "kernel: 1\n",
      "kernel_1: 1\n",
      "kernel_2: 7\n",
      "kernel_3: 1\n",
      "filters: 1\n",
      "filters_1: 46\n",
      "filters_2: 46\n",
      "filters_3: 46\n",
      "Regularization: l2\n",
      "Drop out: 0.6000000000000001\n",
      "Dense: 256\n",
      "activation function: relu\n",
      "batchnormalization: True\n",
      "shape: 659\n",
      "Score: 0.10194690525531769\n",
      "Trial summary\n",
      "Hyperparameters:\n",
      "Max length of document in percentile: 90\n",
      "kernel: 1\n",
      "kernel_1: 1\n",
      "kernel_2: 7\n",
      "kernel_3: 1\n",
      "filters: 11\n",
      "filters_1: 46\n",
      "filters_2: 46\n",
      "filters_3: 11\n",
      "Regularization: l2\n",
      "Drop out: 0.8\n",
      "Dense: 2048\n",
      "activation function: relu\n",
      "batchnormalization: True\n",
      "shape: 659\n",
      "Score: 0.09876105934381485\n",
      "Trial summary\n",
      "Hyperparameters:\n",
      "Max length of document in percentile: 90\n",
      "kernel: 1\n",
      "kernel_1: 1\n",
      "kernel_2: 7\n",
      "kernel_3: 1\n",
      "filters: 1\n",
      "filters_1: 41\n",
      "filters_2: 46\n",
      "filters_3: 16\n",
      "Regularization: l2\n",
      "Drop out: 0.6000000000000001\n",
      "Dense: 1024\n",
      "activation function: selu\n",
      "batchnormalization: True\n",
      "shape: 659\n",
      "Score: 0.09805309772491455\n",
      "Trial summary\n",
      "Hyperparameters:\n",
      "Max length of document in percentile: 90\n",
      "kernel: 1\n",
      "kernel_1: 1\n",
      "kernel_2: 7\n",
      "kernel_3: 1\n",
      "filters: 1\n",
      "filters_1: 46\n",
      "filters_2: 46\n",
      "filters_3: 11\n",
      "Regularization: l2\n",
      "Drop out: 0.4\n",
      "Dense: 512\n",
      "activation function: relu\n",
      "batchnormalization: True\n",
      "shape: 659\n",
      "Score: 0.09805309772491455\n",
      "Trial summary\n",
      "Hyperparameters:\n",
      "Max length of document in percentile: 90\n",
      "kernel: 1\n",
      "kernel_1: 1\n",
      "kernel_2: 7\n",
      "kernel_3: 1\n",
      "filters: 1\n",
      "filters_1: 46\n",
      "filters_2: 46\n",
      "filters_3: 1\n",
      "Regularization: l2\n",
      "Drop out: 0.8\n",
      "Dense: 1024\n",
      "activation function: relu\n",
      "batchnormalization: True\n",
      "shape: 659\n",
      "Score: 0.0976991131901741\n",
      "Trial summary\n",
      "Hyperparameters:\n",
      "Max length of document in percentile: 66\n",
      "kernel: 1\n",
      "kernel_1: 3\n",
      "kernel_2: 1\n",
      "kernel_3: 7\n",
      "filters: 46\n",
      "filters_1: 11\n",
      "filters_2: 16\n",
      "filters_3: 11\n",
      "Regularization: l2\n",
      "Drop out: 0.6000000000000001\n",
      "Dense: 1024\n",
      "activation function: sigmoid\n",
      "batchnormalization: True\n",
      "shape: 659\n",
      "Score: 0.09663716703653336\n",
      "Trial summary\n",
      "Hyperparameters:\n",
      "Max length of document in percentile: 90\n",
      "kernel: 1\n",
      "kernel_1: 1\n",
      "kernel_2: 7\n",
      "kernel_3: 1\n",
      "filters: 1\n",
      "filters_1: 46\n",
      "filters_2: 46\n",
      "filters_3: 41\n",
      "Regularization: l2\n",
      "Drop out: 0.8\n",
      "Dense: 512\n",
      "activation function: tanh\n",
      "batchnormalization: True\n",
      "shape: 659\n",
      "Score: 0.09628318250179291\n",
      "Trial summary\n",
      "Hyperparameters:\n",
      "Max length of document in percentile: 90\n",
      "kernel: 1\n",
      "kernel_1: 1\n",
      "kernel_2: 7\n",
      "kernel_3: 1\n",
      "filters: 1\n",
      "filters_1: 46\n",
      "filters_2: 46\n",
      "filters_3: 6\n",
      "Regularization: l2\n",
      "Drop out: 0.8\n",
      "Dense: 256\n",
      "activation function: relu\n",
      "batchnormalization: True\n",
      "shape: 659\n",
      "Score: 0.09522123634815216\n"
     ]
    }
   ],
   "source": [
    "tun.results_summary()"
   ]
  },
  {
   "cell_type": "markdown",
   "metadata": {
    "execution": {
     "iopub.execute_input": "2022-07-17T10:16:27.439887Z",
     "iopub.status.busy": "2022-07-17T10:16:27.439327Z",
     "iopub.status.idle": "2022-07-17T10:16:27.443261Z",
     "shell.execute_reply": "2022-07-17T10:16:27.442458Z",
     "shell.execute_reply.started": "2022-07-17T10:16:27.439862Z"
    },
    "id": "LwtsAjXOShn-",
    "tags": []
   },
   "source": [
    "### Traning on best hyparamaters given by bayesian optimization "
   ]
  },
  {
   "cell_type": "code",
   "execution_count": null,
   "metadata": {
    "execution": {
     "iopub.execute_input": "2022-08-08T03:24:56.973947Z",
     "iopub.status.busy": "2022-08-08T03:24:56.973262Z",
     "iopub.status.idle": "2022-08-08T03:24:57.836480Z",
     "shell.execute_reply": "2022-08-08T03:24:57.835566Z",
     "shell.execute_reply.started": "2022-08-08T03:24:56.973916Z"
    },
    "id": "b2UGJNQFShn-",
    "tags": []
   },
   "outputs": [],
   "source": [
    "best_hps = tun.get_best_hyperparameters(1)[0]\n",
    "model=create_model(best_hps)"
   ]
  },
  {
   "cell_type": "code",
   "execution_count": null,
   "metadata": {
    "execution": {
     "iopub.execute_input": "2022-08-07T20:25:07.600539Z",
     "iopub.status.busy": "2022-08-07T20:25:07.600150Z",
     "iopub.status.idle": "2022-08-07T20:25:08.157952Z",
     "shell.execute_reply": "2022-08-07T20:25:08.157230Z",
     "shell.execute_reply.started": "2022-08-07T20:25:07.600512Z"
    },
    "id": "UkBP2hmtShn-",
    "tags": []
   },
   "outputs": [],
   "source": [
    "x_train_final=pad_sequences(x_train_token,padding='post',truncating='post',maxlen=model.input_shape[1]) #changing the document length \n",
    "x_test_final=pad_sequences(x_test_token,padding='post',truncating='post',maxlen=model.input_shape[1]) #changing the document length "
   ]
  },
  {
   "cell_type": "code",
   "execution_count": null,
   "metadata": {
    "execution": {
     "iopub.execute_input": "2022-08-08T03:21:41.209875Z",
     "iopub.status.busy": "2022-08-08T03:21:41.209470Z",
     "iopub.status.idle": "2022-08-08T03:21:41.228344Z",
     "shell.execute_reply": "2022-08-08T03:21:41.227569Z",
     "shell.execute_reply.started": "2022-08-08T03:21:41.209838Z"
    },
    "id": "XJ_iTyCaShn_",
    "outputId": "762c7153-aeb8-4675-80a5-c5b53f98654a",
    "tags": []
   },
   "outputs": [
    {
     "name": "stdout",
     "output_type": "stream",
     "text": [
      "storing Logs for tensorboard in following directory :  /home/ubuntu/aaic/CNN_with_textdata\n"
     ]
    }
   ],
   "source": [
    "tensorboard=tf.keras.callbacks.TensorBoard(\n",
    "    log_dir=\"logs111\",\n",
    "    histogram_freq=1,\n",
    "    write_graph=True,\n",
    "    write_images=False,\n",
    "    write_steps_per_second=False,\n",
    "    update_freq=\"epoch\",\n",
    ")\n",
    "print('storing Logs for tensorboard in following directory : ',os.getcwd())"
   ]
  },
  {
   "cell_type": "code",
   "execution_count": null,
   "metadata": {
    "execution": {
     "iopub.execute_input": "2022-08-07T20:25:08.167940Z",
     "iopub.status.busy": "2022-08-07T20:25:08.167415Z",
     "iopub.status.idle": "2022-08-07T20:25:08.172030Z",
     "shell.execute_reply": "2022-08-07T20:25:08.171317Z",
     "shell.execute_reply.started": "2022-08-07T20:25:08.167915Z"
    },
    "id": "EYCXo6tGShn_",
    "outputId": "6f9096ae-fb0b-4a16-a04d-6989f538afda",
    "tags": []
   },
   "outputs": [
    {
     "name": "stdout",
     "output_type": "stream",
     "text": [
      "storing best model in following directory :  /home/ubuntu/aaic/CNN_with_textdata\n"
     ]
    }
   ],
   "source": [
    "checkpoint=tf.keras.callbacks.ModelCheckpoint(\n",
    "    'best_model_L.h5',\n",
    "    monitor=\"val_loss\",\n",
    "    verbose=0,\n",
    "    save_best_only=True,\n",
    "    save_weights_only=False,\n",
    "    mode=\"auto\",\n",
    "    save_freq=\"epoch\",\n",
    "    options=None,\n",
    "    initial_value_threshold=None\n",
    ")\n",
    "print('storing best model in following directory : ',os.getcwd())"
   ]
  },
  {
   "cell_type": "code",
   "execution_count": null,
   "metadata": {
    "execution": {
     "iopub.execute_input": "2022-08-07T20:25:08.173511Z",
     "iopub.status.busy": "2022-08-07T20:25:08.172991Z",
     "iopub.status.idle": "2022-08-07T20:25:08.179043Z",
     "shell.execute_reply": "2022-08-07T20:25:08.178356Z",
     "shell.execute_reply.started": "2022-08-07T20:25:08.173482Z"
    },
    "id": "Y_gq9Ug_Shn_",
    "tags": []
   },
   "outputs": [],
   "source": [
    "early_stopping=tf.keras.callbacks.EarlyStopping(\n",
    "    monitor=\"val_accuracy\",\n",
    "    min_delta=0,\n",
    "    patience=3,\n",
    "    verbose=0,\n",
    "    mode=\"auto\",\n",
    "    baseline=None,\n",
    "    restore_best_weights=True,\n",
    ")"
   ]
  },
  {
   "cell_type": "code",
   "execution_count": null,
   "metadata": {
    "execution": {
     "iopub.execute_input": "2022-08-07T20:25:08.180487Z",
     "iopub.status.busy": "2022-08-07T20:25:08.179921Z",
     "iopub.status.idle": "2022-08-07T20:25:08.185663Z",
     "shell.execute_reply": "2022-08-07T20:25:08.184929Z",
     "shell.execute_reply.started": "2022-08-07T20:25:08.180462Z"
    },
    "id": "Q0cO6WBPShoA",
    "tags": []
   },
   "outputs": [],
   "source": [
    "#This callback checks if the train accuracy and validation accuracy differs more , if we have 0.95 train accuracy and 0.7 validation accuracy \n",
    "#then early stopping stores model with validation 0.7 , it won't see the difference b/w validation accuracy and training accuracy, so this metric sees \n",
    "#difference also and you can monitor it using this metric\n",
    "from math import sqrt,exp\n",
    "class overfit_metric(tf.keras.callbacks.Callback):\n",
    "    \"\"\"This callback checks if the train accuracy and validation accuracy differs more , if we have 0.95 train accuracy and 0.7 validation accuracy \n",
    "       then early stopping stores model with validation 0.7 , it won't see the difference b/w validation accuracy and training accuracy, so this metric sees \n",
    "       difference also and you can monitor it using this metric, This is caluclated with harmonic mean of (1/diff) and validation accuracy , where diff is difference\n",
    "       of accuracy between train accuracy and validation accuracy \"\"\"\n",
    "    def on_epoch_end(self,epoch,log=None):\n",
    "        val=log['val_accuracy']\n",
    "        acc=log['accuracy']\n",
    "        diff=abs(log['accuracy']-val)\n",
    "        log['overfit_paramater']=2*(1/exp(diff))*val/((1/exp(diff)+val))"
   ]
  },
  {
   "cell_type": "code",
   "execution_count": null,
   "metadata": {
    "execution": {
     "iopub.execute_input": "2022-08-08T03:25:29.902955Z",
     "iopub.status.busy": "2022-08-08T03:25:29.902460Z",
     "iopub.status.idle": "2022-08-08T03:25:33.119731Z",
     "shell.execute_reply": "2022-08-08T03:25:33.118814Z",
     "shell.execute_reply.started": "2022-08-08T03:25:29.902924Z"
    },
    "id": "e46FP6rIShoA",
    "outputId": "79c92ed2-6b65-432e-fb5d-a0890c830ecc",
    "tags": []
   },
   "outputs": [
    {
     "name": "stdout",
     "output_type": "stream",
     "text": [
      "The tensorboard extension is already loaded. To reload it, use:\n",
      "  %reload_ext tensorboard\n"
     ]
    },
    {
     "data": {
      "text/html": [
       "\n",
       "      <iframe id=\"tensorboard-frame-f4c3af3051d0f34c\" width=\"100%\" height=\"800\" frameborder=\"0\">\n",
       "      </iframe>\n",
       "      <script>\n",
       "        (function() {\n",
       "          const frame = document.getElementById(\"tensorboard-frame-f4c3af3051d0f34c\");\n",
       "          const url = new URL(\"/\", window.location);\n",
       "          const port = 6001;\n",
       "          if (port) {\n",
       "            url.port = port;\n",
       "          }\n",
       "          frame.src = url;\n",
       "        })();\n",
       "      </script>\n",
       "    "
      ],
      "text/plain": [
       "<IPython.core.display.HTML object>"
      ]
     },
     "metadata": {},
     "output_type": "display_data"
    }
   ],
   "source": [
    "%load_ext tensorboard\n",
    "!rm -rf ./logs111/ \n",
    "%tensorboard --logdir './logs111' --host \"0.0.0.0\" --port 6001"
   ]
  },
  {
   "cell_type": "code",
   "execution_count": null,
   "metadata": {
    "execution": {
     "iopub.execute_input": "2022-08-08T03:25:39.338629Z",
     "iopub.status.busy": "2022-08-08T03:25:39.338086Z",
     "iopub.status.idle": "2022-08-08T03:27:54.952730Z",
     "shell.execute_reply": "2022-08-08T03:27:54.951970Z",
     "shell.execute_reply.started": "2022-08-08T03:25:39.338599Z"
    },
    "id": "QTlpJ1BgShoA",
    "outputId": "70ed04b7-e09b-4945-bc30-8518caca4aee",
    "tags": []
   },
   "outputs": [
    {
     "name": "stdout",
     "output_type": "stream",
     "text": [
      "Epoch 1/4000\n",
      "353/353 [==============================] - 21s 58ms/step - loss: 8.3041 - accuracy: 0.0876 - micro_f1: 0.0364 - val_loss: 7.2454 - val_accuracy: 0.0687 - val_micro_f1: 0.0000e+00 - overfit_paramater: 0.1284\n",
      "Epoch 2/4000\n",
      "353/353 [==============================] - 19s 54ms/step - loss: 4.9351 - accuracy: 0.1252 - micro_f1: 5.1507e-04 - val_loss: 4.3692 - val_accuracy: 0.0938 - val_micro_f1: 0.0000e+00 - overfit_paramater: 0.1711\n",
      "Epoch 3/4000\n",
      "353/353 [==============================] - 20s 55ms/step - loss: 3.8831 - accuracy: 0.1411 - micro_f1: 3.4338e-04 - val_loss: 3.7683 - val_accuracy: 0.0959 - val_micro_f1: 0.0000e+00 - overfit_paramater: 0.1744\n",
      "Epoch 4/4000\n",
      "353/353 [==============================] - 19s 54ms/step - loss: 3.5505 - accuracy: 0.1338 - micro_f1: 1.7169e-04 - val_loss: 3.5327 - val_accuracy: 0.1044 - val_micro_f1: 0.0000e+00 - overfit_paramater: 0.1886\n",
      "Epoch 5/4000\n",
      "353/353 [==============================] - 19s 54ms/step - loss: 3.4224 - accuracy: 0.1301 - micro_f1: 5.1507e-04 - val_loss: 3.8739 - val_accuracy: 0.0704 - val_micro_f1: 0.0053 - overfit_paramater: 0.1311\n",
      "Epoch 6/4000\n",
      "353/353 [==============================] - 19s 54ms/step - loss: 3.3623 - accuracy: 0.1302 - micro_f1: 0.0000e+00 - val_loss: 3.5260 - val_accuracy: 0.0754 - val_micro_f1: 0.0000e+00 - overfit_paramater: 0.1397\n",
      "Epoch 7/4000\n",
      "353/353 [==============================] - 19s 54ms/step - loss: 3.3123 - accuracy: 0.1259 - micro_f1: 1.7169e-04 - val_loss: 3.3721 - val_accuracy: 0.0920 - val_micro_f1: 0.0000e+00 - overfit_paramater: 0.1681\n"
     ]
    },
    {
     "data": {
      "text/plain": [
       "<keras.callbacks.History at 0xffff43088910>"
      ]
     },
     "execution_count": 141,
     "metadata": {},
     "output_type": "execute_result"
    }
   ],
   "source": [
    "model.fit(x_train_final,y_train_final.toarray(),validation_split=0.2,\n",
    "          callbacks=[tensorboard,checkpoint,early_stopping,overfit_metric()]\n",
    "          ,epochs=4000)"
   ]
  },
  {
   "cell_type": "code",
   "execution_count": null,
   "metadata": {
    "execution": {
     "iopub.execute_input": "2022-08-08T03:28:03.876624Z",
     "iopub.status.busy": "2022-08-08T03:28:03.876120Z",
     "iopub.status.idle": "2022-08-08T03:28:03.880457Z",
     "shell.execute_reply": "2022-08-08T03:28:03.879582Z",
     "shell.execute_reply.started": "2022-08-08T03:28:03.876593Z"
    },
    "id": "ENW4exm1ShoB",
    "tags": []
   },
   "outputs": [],
   "source": [
    "model_4=model"
   ]
  },
  {
   "cell_type": "markdown",
   "metadata": {
    "id": "RDxxlDPRShoB",
    "tags": []
   },
   "source": [
    "### Testing model performance on Test data"
   ]
  },
  {
   "cell_type": "code",
   "execution_count": null,
   "metadata": {
    "execution": {
     "iopub.execute_input": "2022-08-08T03:28:05.181618Z",
     "iopub.status.busy": "2022-08-08T03:28:05.181056Z",
     "iopub.status.idle": "2022-08-08T03:28:07.917097Z",
     "shell.execute_reply": "2022-08-08T03:28:07.916393Z",
     "shell.execute_reply.started": "2022-08-08T03:28:05.181589Z"
    },
    "id": "q8tAk04TShoB",
    "outputId": "5d6a5c9c-47d2-4b60-acf0-91f09f1cf17f",
    "tags": []
   },
   "outputs": [
    {
     "name": "stdout",
     "output_type": "stream",
     "text": [
      "148/148 [==============================] - 3s 16ms/step\n"
     ]
    }
   ],
   "source": [
    "evaluate=model.predict(x_test_final)"
   ]
  },
  {
   "cell_type": "code",
   "execution_count": null,
   "metadata": {
    "execution": {
     "iopub.execute_input": "2022-08-08T03:28:07.919223Z",
     "iopub.status.busy": "2022-08-08T03:28:07.919036Z",
     "iopub.status.idle": "2022-08-08T03:28:07.995414Z",
     "shell.execute_reply": "2022-08-08T03:28:07.994703Z",
     "shell.execute_reply.started": "2022-08-08T03:28:07.919199Z"
    },
    "id": "ji86GP-0ShoC",
    "outputId": "5f95ac92-015f-4b79-b94f-18c6aba6134f",
    "tags": []
   },
   "outputs": [
    {
     "name": "stdout",
     "output_type": "stream",
     "text": [
      "              precision    recall  f1-score   support\n",
      "\n",
      "           0       0.14      0.07      0.09       200\n",
      "           1       0.11      0.02      0.03       243\n",
      "           2       0.07      0.05      0.06       246\n",
      "           3       0.10      0.03      0.05       246\n",
      "           4       0.12      0.01      0.02       240\n",
      "           5       0.08      0.09      0.09       245\n",
      "           6       0.14      0.47      0.21       243\n",
      "           7       0.11      0.03      0.05       248\n",
      "           8       0.14      0.08      0.10       249\n",
      "           9       0.10      0.06      0.08       248\n",
      "          10       0.11      0.18      0.14       250\n",
      "          11       0.11      0.11      0.11       248\n",
      "          12       0.02      0.00      0.01       245\n",
      "          13       0.07      0.02      0.03       247\n",
      "          14       0.06      0.06      0.06       247\n",
      "          15       0.09      0.41      0.15       249\n",
      "          16       0.09      0.13      0.11       227\n",
      "          17       0.14      0.19      0.16       235\n",
      "          18       0.04      0.01      0.01       194\n",
      "          19       0.00      0.00      0.00       157\n",
      "\n",
      "    accuracy                           0.10      4707\n",
      "   macro avg       0.09      0.10      0.08      4707\n",
      "weighted avg       0.09      0.10      0.08      4707\n",
      "\n"
     ]
    }
   ],
   "source": [
    "print(classification_report(np.argmax(y_test_final,axis=1),np.argmax(evaluate,axis=1)))"
   ]
  },
  {
   "cell_type": "code",
   "execution_count": null,
   "metadata": {
    "execution": {
     "iopub.execute_input": "2022-08-08T03:28:07.996643Z",
     "iopub.status.busy": "2022-08-08T03:28:07.996395Z",
     "iopub.status.idle": "2022-08-08T03:28:08.062994Z",
     "shell.execute_reply": "2022-08-08T03:28:08.062197Z",
     "shell.execute_reply.started": "2022-08-08T03:28:07.996618Z"
    },
    "id": "f1SU58GpShoC",
    "outputId": "f66280e7-2dee-4f2b-a8d9-37958273978e",
    "tags": []
   },
   "outputs": [
    {
     "name": "stdout",
     "output_type": "stream",
     "text": [
      "Micro F1 score on Test data is : 0.10346292755470576\n"
     ]
    }
   ],
   "source": [
    "print(f'Micro F1 score on Test data is : {f1_score(np.argmax(y_test_final,axis=1),np.argmax(evaluate,axis=1),average=\"micro\")}')"
   ]
  },
  {
   "cell_type": "code",
   "execution_count": null,
   "metadata": {
    "execution": {
     "iopub.execute_input": "2022-08-08T03:28:08.064965Z",
     "iopub.status.busy": "2022-08-08T03:28:08.064611Z",
     "iopub.status.idle": "2022-08-08T03:28:08.128739Z",
     "shell.execute_reply": "2022-08-08T03:28:08.127926Z",
     "shell.execute_reply.started": "2022-08-08T03:28:08.064937Z"
    },
    "id": "lkFqx1HgShoD",
    "outputId": "1857981d-0768-4a8e-cccd-79615dd510b1",
    "tags": []
   },
   "outputs": [
    {
     "name": "stdout",
     "output_type": "stream",
     "text": [
      "Accuracy on Test data is : 0.10346292755470576\n"
     ]
    }
   ],
   "source": [
    "print(f\"Accuracy on Test data is : {accuracy_score(np.argmax(y_test_final,axis=1),np.argmax(evaluate,axis=1))}\")"
   ]
  },
  {
   "cell_type": "code",
   "execution_count": null,
   "metadata": {
    "execution": {
     "iopub.execute_input": "2022-08-08T03:28:08.130059Z",
     "iopub.status.busy": "2022-08-08T03:28:08.129715Z",
     "iopub.status.idle": "2022-08-08T03:28:09.472544Z",
     "shell.execute_reply": "2022-08-08T03:28:09.471663Z",
     "shell.execute_reply.started": "2022-08-08T03:28:08.130035Z"
    },
    "id": "XvBxJEegShoD",
    "outputId": "0cfd9534-dde6-4ce8-bab9-1ab23f87b13e",
    "tags": []
   },
   "outputs": [
    {
     "data": {
      "text/plain": [
       "Text(159.0, 0.5, 'Original Class')"
      ]
     },
     "execution_count": 147,
     "metadata": {},
     "output_type": "execute_result"
    },
    {
     "data": {
      "image/png": "[encoded data removed]",
      "text/plain": [
       "<Figure size 1440x720 with 2 Axes>"
      ]
     },
     "metadata": {
      "needs_background": "light"
     },
     "output_type": "display_data"
    }
   ],
   "source": [
    "plt.figure(figsize=(20,10))\n",
    "sns.heatmap(confusion_matrix(np.argmax(y_test_final,axis=1),np.argmax(evaluate,axis=1)),annot=True,cmap=\"YlGnBu\")\n",
    "plt.xlabel('Predicted Class ')\n",
    "plt.ylabel('Original Class')"
   ]
  },
  {
   "cell_type": "code",
   "execution_count": null,
   "metadata": {
    "id": "SQ8dbSfoShoE"
   },
   "outputs": [],
   "source": []
  },
  {
   "cell_type": "code",
   "execution_count": null,
   "metadata": {
    "id": "gH9oWKVmShoE"
   },
   "outputs": [],
   "source": []
  },
  {
   "cell_type": "code",
   "execution_count": null,
   "metadata": {
    "id": "p0IHrRLEShoF"
   },
   "outputs": [],
   "source": []
  },
  {
   "cell_type": "code",
   "execution_count": null,
   "metadata": {
    "id": "plz-zoS1ShoF"
   },
   "outputs": [],
   "source": []
  },
  {
   "cell_type": "code",
   "execution_count": null,
   "metadata": {
    "id": "_F_QfgSwShoF"
   },
   "outputs": [],
   "source": []
  },
  {
   "cell_type": "code",
   "execution_count": null,
   "metadata": {
    "id": "XUj7q8JiShoF"
   },
   "outputs": [],
   "source": []
  },
  {
   "cell_type": "code",
   "execution_count": null,
   "metadata": {
    "id": "kfunFVCzShoG"
   },
   "outputs": [],
   "source": []
  }
 ],
 "metadata": {
  "colab": {
   "collapsed_sections": [],
   "provenance": []
  },
  "kernelspec": {
   "display_name": "Python 3 (ipykernel)",
   "language": "python",
   "name": "python3"
  },
  "language_info": {
   "codemirror_mode": {
    "name": "ipython",
    "version": 3
   },
   "file_extension": ".py",
   "mimetype": "text/x-python",
   "name": "python",
   "nbconvert_exporter": "python",
   "pygments_lexer": "ipython3",
   "version": "3.10.4"
  },
  "widgets": {
   "application/vnd.jupyter.widget-state+json": {}
  }
 },
 "nbformat": 4,
 "nbformat_minor": 1
}

